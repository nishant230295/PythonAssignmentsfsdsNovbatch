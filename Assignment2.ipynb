{
 "cells": [
  {
   "cell_type": "markdown",
   "id": "29072452",
   "metadata": {},
   "source": [
    "Sol 1  Two values of boolean data types are True and False        "
   ]
  },
  {
   "cell_type": "code",
   "execution_count": 1,
   "id": "990f5fa0",
   "metadata": {},
   "outputs": [
    {
     "data": {
      "text/plain": [
       "False"
      ]
     },
     "execution_count": 1,
     "metadata": {},
     "output_type": "execute_result"
    }
   ],
   "source": [
    "# They are written as follows \n",
    "True \n",
    "False "
   ]
  },
  {
   "cell_type": "markdown",
   "id": "8978aab3",
   "metadata": {},
   "source": [
    "Sol 2 The three type of boolean operators are and or not\n",
    "      They are used to return True or False based on values neccesarily the values that are compared are Boolean \n",
    "       \n",
    "      True and False     True of False     Not True \n",
    "     "
   ]
  },
  {
   "cell_type": "markdown",
   "id": "cf6c33b4",
   "metadata": {},
   "source": [
    "Sol 3   Truth table for and operator"
   ]
  },
  {
   "cell_type": "code",
   "execution_count": 1,
   "id": "ef54d745",
   "metadata": {},
   "outputs": [
    {
     "name": "stdout",
     "output_type": "stream",
     "text": [
      "False\n",
      "False\n",
      "False\n",
      "True\n"
     ]
    }
   ],
   "source": [
    "print(False and False)\n",
    "print(False and True)\n",
    "print(True and False)\n",
    "print(True and True)"
   ]
  },
  {
   "cell_type": "markdown",
   "id": "218b65e0",
   "metadata": {},
   "source": [
    " Sol 3 Truth table for or operator"
   ]
  },
  {
   "cell_type": "code",
   "execution_count": 2,
   "id": "da527be1",
   "metadata": {},
   "outputs": [
    {
     "name": "stdout",
     "output_type": "stream",
     "text": [
      "False\n",
      "True\n",
      "True\n",
      "True\n"
     ]
    }
   ],
   "source": [
    "print(False or False)\n",
    "print(False or True)\n",
    "print(True or False)\n",
    "print(True or True)"
   ]
  },
  {
   "cell_type": "markdown",
   "id": "aff2190c",
   "metadata": {},
   "source": [
    "Sol 3 Truth table for not operator"
   ]
  },
  {
   "cell_type": "code",
   "execution_count": 4,
   "id": "38143411",
   "metadata": {},
   "outputs": [
    {
     "name": "stdout",
     "output_type": "stream",
     "text": [
      "True\n",
      "False\n"
     ]
    }
   ],
   "source": [
    "print( not False)\n",
    "print( not True)"
   ]
  },
  {
   "cell_type": "markdown",
   "id": "3b0f456f",
   "metadata": {},
   "source": [
    "Sol 4 (5>4) and (3==5) will reduce to (True) and (False)  will give False \n",
    "       not(5>4) will reduce to not True will give False \n",
    "       (5>4) or (3==5) will reduce to (True) or (False) will give True\n",
    "       not (5>4) or (3==5) will reduce to not True will give False\n",
    "       (True and True) and ( True== False) will reduce to (True) and (False) will give False\n",
    "       (not False) or (not True) will reduce to True or False which will give True\n",
    "       "
   ]
  },
  {
   "cell_type": "markdown",
   "id": "9a125699",
   "metadata": {},
   "source": [
    "Sol 5 The six comparision operators are ==,!=,>,<,>=,<="
   ]
  },
  {
   "cell_type": "markdown",
   "id": "b5aa23c8",
   "metadata": {},
   "source": [
    "Sol 6 the difference between equal to (==) and assignment operator (=) is that equal to is a relational operator used to check\n",
    "      the condition and always return True or False whereas = operator is a part of statement to store a value in variable \n",
    "       \n",
    "      Working example : if i want to assign a value say 10 to a then i will write a=10 and 5 to b we write b=5\n",
    "                        \n",
    "                        if i want to compare a ,b we write a==b this will return false"
   ]
  },
  {
   "cell_type": "markdown",
   "id": "5e38ada0",
   "metadata": {},
   "source": [
    "Sol 7  Block 1 if spam==10:\n",
    "               print('eggs')\n",
    "        \n",
    "       Block 2 if spam>5:\n",
    "               print('bacon')\n",
    "               \n",
    "       Block 3 else:\n",
    "               print('ham')\n",
    "               \n",
    "               print('spam')\n",
    "               print('spam')\n",
    "               "
   ]
  },
  {
   "cell_type": "code",
   "execution_count": 5,
   "id": "328d58ec",
   "metadata": {},
   "outputs": [
    {
     "name": "stdout",
     "output_type": "stream",
     "text": [
      "enter the value5\n",
      "Greetings\n"
     ]
    }
   ],
   "source": [
    "# Code Sol 8\n",
    "spam=int(input('enter the value'))\n",
    "\n",
    "if spam==1:\n",
    "    print('Hello')\n",
    "    \n",
    "elif spam==2:\n",
    "    print('Howdy')\n",
    "    \n",
    "else:\n",
    "    print('Greetings')"
   ]
  },
  {
   "cell_type": "markdown",
   "id": "586adac7",
   "metadata": {},
   "source": [
    "Sol 9 We will press CTRL+C to breakout of that loop"
   ]
  },
  {
   "cell_type": "markdown",
   "id": "a2163f30",
   "metadata": {},
   "source": [
    "Sol 10 The difference between break and continue is that break terminates out of the loop and execution is stopped immediatedly \n",
    "       in the loop whereas continue statement terminates ongoing iteration and again starts from next iteration \n",
    "       \n",
    "       Eg suppose a for loop is executing 99 iterations and it is currently on 39 iteration if it encounters break it will not\n",
    "       proceed any further but if it encounters continue statement it will not execute any staTement after continue but will \n",
    "       proceed for 40 th iteration"
   ]
  },
  {
   "cell_type": "markdown",
   "id": "01747f3a",
   "metadata": {},
   "source": [
    "Sol 11 No difference they all are same statements only way of representation is different range(start,end,stepsize) \n",
    "       in range (10) start point is default zero and step size 1 default\n",
    "       in range (0,10) default step size"
   ]
  },
  {
   "cell_type": "code",
   "execution_count": 8,
   "id": "cc814b51",
   "metadata": {},
   "outputs": [
    {
     "name": "stdout",
     "output_type": "stream",
     "text": [
      "1\n",
      "2\n",
      "3\n",
      "4\n",
      "5\n",
      "6\n",
      "7\n",
      "8\n",
      "9\n",
      "10\n"
     ]
    }
   ],
   "source": [
    "# Sol 12\n",
    "for i in range(1,11):\n",
    "    print(i)"
   ]
  },
  {
   "cell_type": "code",
   "execution_count": 9,
   "id": "311ed157",
   "metadata": {},
   "outputs": [
    {
     "name": "stdout",
     "output_type": "stream",
     "text": [
      "1\n",
      "2\n",
      "3\n",
      "4\n",
      "5\n",
      "6\n",
      "7\n",
      "8\n",
      "9\n",
      "10\n"
     ]
    }
   ],
   "source": [
    "# Sol 12\n",
    "i =1;\n",
    "while i<11:\n",
    "    print(i)\n",
    "    i+=1"
   ]
  },
  {
   "cell_type": "markdown",
   "id": "533b6149",
   "metadata": {},
   "source": [
    "Sol 13 This can be done using the command \n",
    "       spam.bacon() will call the function bacon from spam module"
   ]
  },
  {
   "cell_type": "code",
   "execution_count": null,
   "id": "8623d67a",
   "metadata": {},
   "outputs": [],
   "source": []
  }
 ],
 "metadata": {
  "kernelspec": {
   "display_name": "Python 3 (ipykernel)",
   "language": "python",
   "name": "python3"
  },
  "language_info": {
   "codemirror_mode": {
    "name": "ipython",
    "version": 3
   },
   "file_extension": ".py",
   "mimetype": "text/x-python",
   "name": "python",
   "nbconvert_exporter": "python",
   "pygments_lexer": "ipython3",
   "version": "3.7.4"
  }
 },
 "nbformat": 4,
 "nbformat_minor": 5
}
