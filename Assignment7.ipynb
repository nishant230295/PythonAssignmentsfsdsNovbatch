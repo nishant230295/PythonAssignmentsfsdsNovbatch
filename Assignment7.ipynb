{
 "cells": [
  {
   "cell_type": "markdown",
   "id": "7033e97e",
   "metadata": {},
   "source": [
    "##Sol 1\n",
    "\n",
    "re.complie is the feathure responsible"
   ]
  },
  {
   "cell_type": "code",
   "execution_count": 2,
   "id": "84839661",
   "metadata": {},
   "outputs": [
    {
     "name": "stdout",
     "output_type": "stream",
     "text": [
      "<class 're.Pattern'>\n",
      "re.compile('pattern')\n"
     ]
    }
   ],
   "source": [
    "import re\n",
    "x = re.compile(\"pattern\")\n",
    "print(type(x))\n",
    "print(x)"
   ]
  },
  {
   "cell_type": "markdown",
   "id": "228c61fe",
   "metadata": {},
   "source": [
    "##Sol 2\n",
    "Regular expressions use the backslash character ('\\') to indicate special forms (Metacharacters) or to allow special characters (speical sequences) to be used without invoking their special meaning. This collides with Python’s usage of the same character for the same purpose in string literals. Hence, Raw strings are used (e.g. r\"\\n\") so that backslashes do not have to be escaped."
   ]
  },
  {
   "cell_type": "markdown",
   "id": "6eee0af4",
   "metadata": {},
   "source": [
    "##Sol 3\n",
    "re,.search object will return a object if the pattern is observed in the string otherwise it will return NONE"
   ]
  },
  {
   "cell_type": "markdown",
   "id": "7fe312c0",
   "metadata": {},
   "source": [
    "##sOL 4\n",
    "using group method we can get the actual strings that match the pattern"
   ]
  },
  {
   "cell_type": "code",
   "execution_count": 3,
   "id": "415d1645",
   "metadata": {},
   "outputs": [
    {
     "name": "stdout",
     "output_type": "stream",
     "text": [
      "Output: fsds\n"
     ]
    }
   ],
   "source": [
    "import re\n",
    "match = re.search('fsds','This is fsds program', flags=re.IGNORECASE)\n",
    "print('Output:',match.group())"
   ]
  },
  {
   "cell_type": "markdown",
   "id": "65e0e3fc",
   "metadata": {},
   "source": [
    "##Sol 5\n",
    "\n",
    " In the Regex r'(\\d\\d\\d)-(\\d\\d\\d-\\d\\d\\d\\d)' the zero group covers the entire pattern match where as the first group cover (\\d\\d\\d) and the second group cover (\\d\\d\\d-\\d\\d\\d\\d)"
   ]
  },
  {
   "cell_type": "markdown",
   "id": "f107ffce",
   "metadata": {},
   "source": [
    "##Sol 6\n",
    "The \\. \\( and \\) escape characters in the raw string passed to re.compile() will match actual parenthesis characters.\n"
   ]
  },
  {
   "cell_type": "markdown",
   "id": "b2f30627",
   "metadata": {},
   "source": [
    "##Sol 7\n",
    "If the regex pattern has no groups, a list of strings matched is returned. if the regex pattern has groups, a list of tuple of strings is returned."
   ]
  },
  {
   "cell_type": "markdown",
   "id": "57c41bd7",
   "metadata": {},
   "source": [
    "##Sol 8 \n",
    "In Standard Expressions | means OR operator."
   ]
  },
  {
   "cell_type": "markdown",
   "id": "58ec14e0",
   "metadata": {},
   "source": [
    "##Sol 9 \n",
    "? represents zero or one matching group"
   ]
  },
  {
   "cell_type": "markdown",
   "id": "e2cc8e3b",
   "metadata": {},
   "source": [
    "##Sol 10\n",
    "In Regular Expressions, * Represents Zero ore more occurances of the preceeding group, whereas + represents one or more occurances of the preceeding group."
   ]
  },
  {
   "cell_type": "markdown",
   "id": "674c825c",
   "metadata": {},
   "source": [
    "##Sol 11 \n",
    "{4} meants exact 4 matches while {4,5} means upperlimit of 5 matches or 4 no of lowerlimit matches"
   ]
  },
  {
   "cell_type": "markdown",
   "id": "dd73e71a",
   "metadata": {},
   "source": [
    "##Sol 12 \n",
    "d, \\w and \\s are special sequences in regular expresssions in python:\n",
    "\n",
    "\\w – Matches a word character equivalent to [a-zA-Z0-9_]\n",
    "\n",
    "\\d – Matches digit character equivalent to [0-9]\n",
    "\n",
    "\\s – Matches whitespace character (space, tab, newline, etc.)"
   ]
  },
  {
   "cell_type": "markdown",
   "id": "aa522eca",
   "metadata": {},
   "source": [
    "##Sol 13\n",
    "\n",
    "\\D, \\W and \\S are special sequences in regular expresssions in python:\n",
    "\n",
    "\\W – Matches any non-alphanumeric character equivalent to [^a-zA-Z0-9_]\n",
    "\n",
    "\\D – Matches any non-digit character, this is equivalent to the set class [^0-9]\n",
    "\n",
    "\\S – Matches any non-whitespace character"
   ]
  },
  {
   "cell_type": "markdown",
   "id": "4aa6e302",
   "metadata": {},
   "source": [
    "##Sol 14\n",
    "\n",
    ".* is a Greedy mode, which returns the longest string that meets the condition. Whereas .*? is a non greedy mode which returns the shortest string that meets the condition."
   ]
  },
  {
   "cell_type": "markdown",
   "id": "c96ffafa",
   "metadata": {},
   "source": [
    "##Sol 15 \n",
    "\n",
    "Any one of the following will do [0-9a-z] or [a-z0-9]"
   ]
  },
  {
   "cell_type": "markdown",
   "id": "7f5f8cb2",
   "metadata": {},
   "source": [
    "##Sol 16 \n",
    "We can pass re.IGNORECASE as a flag to make a noraml expression case insensitive"
   ]
  },
  {
   "cell_type": "markdown",
   "id": "b878e975",
   "metadata": {},
   "source": [
    "##Sol 17 \n",
    "Dot . character matches everything in input except newline character .. By passing re.DOTALL as a flag to re.compile(), you can make the dot character match all characters, including the newline character."
   ]
  },
  {
   "cell_type": "markdown",
   "id": "f8210572",
   "metadata": {},
   "source": [
    "##Sol 18 \n",
    "The Ouput will be 'X drummers, X pipers, five rings, X hen'"
   ]
  },
  {
   "cell_type": "markdown",
   "id": "59c963e3",
   "metadata": {},
   "source": [
    "##Sol 19 \n",
    "re.VERBOSE will allow to add whitespace and comments to string passed to re.compile()."
   ]
  },
  {
   "cell_type": "code",
   "execution_count": 4,
   "id": "c2a4e28f",
   "metadata": {},
   "outputs": [
    {
     "name": "stdout",
     "output_type": "stream",
     "text": [
      "Output: 42 -> <re.Match object; span=(0, 2), match='42'>\n",
      "Output: 1,234 -> <re.Match object; span=(0, 5), match='1,234'>\n",
      "Output: 6,368,745 -> <re.Match object; span=(0, 9), match='6,368,745'>\n",
      "Output: 12,34,567 -> None\n",
      "Output: 1234 -> None\n"
     ]
    }
   ],
   "source": [
    "##Sol 20\n",
    "import re\n",
    "pattern = r'^\\d{1,3}(,\\d{3})*$'\n",
    "pagex = re.compile(pattern)\n",
    "for ele in ['42','1,234', '6,368,745','12,34,567','1234']:\n",
    "    print('Output:',ele, '->', pagex.search(ele))"
   ]
  },
  {
   "cell_type": "code",
   "execution_count": 5,
   "id": "ee6d10e6",
   "metadata": {},
   "outputs": [
    {
     "name": "stdout",
     "output_type": "stream",
     "text": [
      "Output:  Haruto Watanabe -> <re.Match object; span=(0, 15), match='Haruto Watanabe'>\n",
      "Output:  Alice Watanabe -> <re.Match object; span=(0, 14), match='Alice Watanabe'>\n",
      "Output:  RoboCop Watanabe -> <re.Match object; span=(4, 16), match='Cop Watanabe'>\n",
      "Output:  haruto Watanabe -> None\n",
      "Output:  Mr. Watanabe -> None\n",
      "Output:  Watanabe -> None\n",
      "Output:  Haruto watanabe -> None\n"
     ]
    }
   ],
   "source": [
    "##Sol 21\n",
    "import re\n",
    "pattern = r'[A-Z]{1}[a-z]*\\sWatanabe'\n",
    "namex = re.compile(pattern)\n",
    "for name in ['Haruto Watanabe','Alice Watanabe','RoboCop Watanabe','haruto Watanabe','Mr. Watanabe','Watanabe','Haruto watanabe']:\n",
    "    print('Output: ',name,'->',namex.search(name))"
   ]
  },
  {
   "cell_type": "code",
   "execution_count": 6,
   "id": "f59d683a",
   "metadata": {},
   "outputs": [
    {
     "name": "stdout",
     "output_type": "stream",
     "text": [
      "Output:  Alice eats apples. -> <re.Match object; span=(0, 18), match='Alice eats apples.'>\n",
      "Output:  Bob pets cats. -> <re.Match object; span=(0, 14), match='Bob pets cats.'>\n",
      "Output:  Carol throws baseballs. -> <re.Match object; span=(0, 23), match='Carol throws baseballs.'>\n",
      "Output:  Alice throws Apples. -> <re.Match object; span=(0, 20), match='Alice throws Apples.'>\n",
      "Output:  BOB EATS CATS. -> <re.Match object; span=(0, 14), match='BOB EATS CATS.'>\n",
      "Output:  RoboCop eats apples. -> None\n",
      "Output:  ALICE THROWS FOOTBALLS. -> None\n",
      "Output:  Carol eats 7 cats. -> None\n"
     ]
    }
   ],
   "source": [
    "##Sol 22\n",
    "import re\n",
    "pattern = r'(Alice|Bob|Carol)\\s(eats|pets|throws)\\s(apples|cats|baseballs)\\.'\n",
    "casex = re.compile(pattern,re.IGNORECASE)\n",
    "for i in ['Alice eats apples.','Bob pets cats.','Carol throws baseballs.','Alice throws Apples.','BOB EATS CATS.','RoboCop eats apples.'\n",
    ",'ALICE THROWS FOOTBALLS.','Carol eats 7 cats.']:\n",
    "    print('Output: ',i,'->',casex.search(i))"
   ]
  },
  {
   "cell_type": "code",
   "execution_count": null,
   "id": "399b45a4",
   "metadata": {},
   "outputs": [],
   "source": []
  }
 ],
 "metadata": {
  "kernelspec": {
   "display_name": "Python 3 (ipykernel)",
   "language": "python",
   "name": "python3"
  },
  "language_info": {
   "codemirror_mode": {
    "name": "ipython",
    "version": 3
   },
   "file_extension": ".py",
   "mimetype": "text/x-python",
   "name": "python",
   "nbconvert_exporter": "python",
   "pygments_lexer": "ipython3",
   "version": "3.7.4"
  }
 },
 "nbformat": 4,
 "nbformat_minor": 5
}
