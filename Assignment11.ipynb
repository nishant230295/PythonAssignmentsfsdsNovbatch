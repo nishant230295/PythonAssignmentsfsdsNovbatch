{
 "cells": [
  {
   "cell_type": "code",
   "execution_count": 3,
   "id": "c9776743",
   "metadata": {},
   "outputs": [
    {
     "ename": "AssertionError",
     "evalue": "The spam variable is less than 0.",
     "output_type": "error",
     "traceback": [
      "\u001b[1;31m---------------------------------------------------------------------------\u001b[0m",
      "\u001b[1;31mAssertionError\u001b[0m                            Traceback (most recent call last)",
      "\u001b[1;32m~\\AppData\\Local\\Temp/ipykernel_25316/4292620595.py\u001b[0m in \u001b[0;36m<module>\u001b[1;34m\u001b[0m\n\u001b[0;32m      1\u001b[0m \u001b[0mspam\u001b[0m\u001b[1;33m=\u001b[0m\u001b[1;33m-\u001b[0m\u001b[1;36m1\u001b[0m\u001b[1;33m\u001b[0m\u001b[1;33m\u001b[0m\u001b[0m\n\u001b[1;32m----> 2\u001b[1;33m \u001b[1;32massert\u001b[0m \u001b[0mspam\u001b[0m \u001b[1;33m>=\u001b[0m \u001b[1;36m0\u001b[0m\u001b[1;33m,\u001b[0m \u001b[1;34m'The spam variable is less than 0.'\u001b[0m\u001b[1;33m\u001b[0m\u001b[1;33m\u001b[0m\u001b[0m\n\u001b[0m",
      "\u001b[1;31mAssertionError\u001b[0m: The spam variable is less than 0."
     ]
    }
   ],
   "source": [
    "## SOL 1\n",
    "\n",
    "spam=-1\n",
    "assert spam >= 0, 'The spam variable is less than 0.'"
   ]
  },
  {
   "cell_type": "code",
   "execution_count": 5,
   "id": "a11447f9",
   "metadata": {},
   "outputs": [
    {
     "name": "stdout",
     "output_type": "stream",
     "text": [
      "Enter the egg stringhello\n",
      "Enter the bacon stringHello\n"
     ]
    },
    {
     "ename": "AssertionError",
     "evalue": "same variables are entered!!!",
     "output_type": "error",
     "traceback": [
      "\u001b[1;31m---------------------------------------------------------------------------\u001b[0m",
      "\u001b[1;31mAssertionError\u001b[0m                            Traceback (most recent call last)",
      "\u001b[1;32m~\\AppData\\Local\\Temp/ipykernel_25316/1544244091.py\u001b[0m in \u001b[0;36m<module>\u001b[1;34m\u001b[0m\n\u001b[0;32m      3\u001b[0m \u001b[0mbacon\u001b[0m\u001b[1;33m=\u001b[0m\u001b[0minput\u001b[0m\u001b[1;33m(\u001b[0m\u001b[1;34m'Enter the bacon string'\u001b[0m\u001b[1;33m)\u001b[0m\u001b[1;33m\u001b[0m\u001b[1;33m\u001b[0m\u001b[0m\n\u001b[0;32m      4\u001b[0m \u001b[1;33m\u001b[0m\u001b[0m\n\u001b[1;32m----> 5\u001b[1;33m \u001b[1;32massert\u001b[0m \u001b[0meggs\u001b[0m\u001b[1;33m.\u001b[0m\u001b[0mlower\u001b[0m\u001b[1;33m(\u001b[0m\u001b[1;33m)\u001b[0m\u001b[1;33m!=\u001b[0m\u001b[0mbacon\u001b[0m\u001b[1;33m.\u001b[0m\u001b[0mlower\u001b[0m\u001b[1;33m(\u001b[0m\u001b[1;33m)\u001b[0m \u001b[1;33m,\u001b[0m \u001b[1;34m'same variables are entered!!!'\u001b[0m\u001b[1;33m\u001b[0m\u001b[1;33m\u001b[0m\u001b[0m\n\u001b[0m",
      "\u001b[1;31mAssertionError\u001b[0m: same variables are entered!!!"
     ]
    }
   ],
   "source": [
    "## SOL 2\n",
    "eggs=input('Enter the egg string')\n",
    "bacon=input('Enter the bacon string')\n",
    "\n",
    "assert eggs.lower()!=bacon.lower() , 'same variables are entered!!!'"
   ]
  },
  {
   "cell_type": "code",
   "execution_count": 1,
   "id": "fd8067a4",
   "metadata": {},
   "outputs": [
    {
     "name": "stdout",
     "output_type": "stream",
     "text": [
      "Enter the egg stringgoodbye\n",
      "Enter the bacon stringGoodbye\n"
     ]
    },
    {
     "ename": "AssertionError",
     "evalue": "same variables are entered!!!",
     "output_type": "error",
     "traceback": [
      "\u001b[1;31m---------------------------------------------------------------------------\u001b[0m",
      "\u001b[1;31mAssertionError\u001b[0m                            Traceback (most recent call last)",
      "\u001b[1;32m~\\AppData\\Local\\Temp/ipykernel_35780/1544244091.py\u001b[0m in \u001b[0;36m<module>\u001b[1;34m\u001b[0m\n\u001b[0;32m      3\u001b[0m \u001b[0mbacon\u001b[0m\u001b[1;33m=\u001b[0m\u001b[0minput\u001b[0m\u001b[1;33m(\u001b[0m\u001b[1;34m'Enter the bacon string'\u001b[0m\u001b[1;33m)\u001b[0m\u001b[1;33m\u001b[0m\u001b[1;33m\u001b[0m\u001b[0m\n\u001b[0;32m      4\u001b[0m \u001b[1;33m\u001b[0m\u001b[0m\n\u001b[1;32m----> 5\u001b[1;33m \u001b[1;32massert\u001b[0m \u001b[0meggs\u001b[0m\u001b[1;33m.\u001b[0m\u001b[0mlower\u001b[0m\u001b[1;33m(\u001b[0m\u001b[1;33m)\u001b[0m\u001b[1;33m!=\u001b[0m\u001b[0mbacon\u001b[0m\u001b[1;33m.\u001b[0m\u001b[0mlower\u001b[0m\u001b[1;33m(\u001b[0m\u001b[1;33m)\u001b[0m \u001b[1;33m,\u001b[0m \u001b[1;34m'same variables are entered!!!'\u001b[0m\u001b[1;33m\u001b[0m\u001b[1;33m\u001b[0m\u001b[0m\n\u001b[0m",
      "\u001b[1;31mAssertionError\u001b[0m: same variables are entered!!!"
     ]
    }
   ],
   "source": [
    "## SOL 2\n",
    "eggs=input('Enter the egg string')\n",
    "bacon=input('Enter the bacon string')\n",
    "\n",
    "assert eggs.lower()!=bacon.lower() , 'same variables are entered!!!'"
   ]
  },
  {
   "cell_type": "code",
   "execution_count": 2,
   "id": "a4642999",
   "metadata": {},
   "outputs": [
    {
     "ename": "AssertionError",
     "evalue": "This will always return assertion error!!!!",
     "output_type": "error",
     "traceback": [
      "\u001b[1;31m---------------------------------------------------------------------------\u001b[0m",
      "\u001b[1;31mAssertionError\u001b[0m                            Traceback (most recent call last)",
      "\u001b[1;32m~\\AppData\\Local\\Temp/ipykernel_35780/3164833936.py\u001b[0m in \u001b[0;36m<module>\u001b[1;34m\u001b[0m\n\u001b[0;32m      1\u001b[0m \u001b[1;31m## SOL 3\u001b[0m\u001b[1;33m\u001b[0m\u001b[1;33m\u001b[0m\u001b[1;33m\u001b[0m\u001b[0m\n\u001b[1;32m----> 2\u001b[1;33m \u001b[1;32massert\u001b[0m \u001b[1;32mFalse\u001b[0m \u001b[1;33m>\u001b[0m \u001b[1;32mTrue\u001b[0m\u001b[1;33m,\u001b[0m \u001b[1;34m'This will always return assertion error!!!!'\u001b[0m\u001b[1;33m\u001b[0m\u001b[1;33m\u001b[0m\u001b[0m\n\u001b[0m",
      "\u001b[1;31mAssertionError\u001b[0m: This will always return assertion error!!!!"
     ]
    }
   ],
   "source": [
    "## SOL 3 \n",
    "assert False > True, 'This will always return assertion error!!!!'"
   ]
  },
  {
   "cell_type": "raw",
   "id": "fbd2131e",
   "metadata": {},
   "source": [
    "Sol 4 the below two lines should be present before calling logging.debug()\n",
    "import logging\n",
    "logging.basicConfig(level=logging.DEBUG, format=' %(asctime)s - %(levelname)s - %(message)s')"
   ]
  },
  {
   "cell_type": "raw",
   "id": "5614860c",
   "metadata": {},
   "source": [
    "Sol 5 import logging\n",
    "logging.basicConfig(filename='programLog.txt',level=logging.DEBUG, format=' %(asctime)s - %(levelname)s - %(message)s')"
   ]
  },
  {
   "cell_type": "raw",
   "id": "0b4e1a2d",
   "metadata": {},
   "source": [
    "Sol 6 the five levels of logging are DEBUG,WARNING,CRITICAL,ERROR and INFO"
   ]
  },
  {
   "cell_type": "raw",
   "id": "b25953ce",
   "metadata": {},
   "source": [
    "Sol 7 logging.disable(logging.CRITICAL)"
   ]
  },
  {
   "cell_type": "raw",
   "id": "7a7f9d5f",
   "metadata": {},
   "source": [
    "Sol 8 1. We can disable logging messages without deleting logging calls \n",
    "      2. It provides a timestamp so in any case of bug fixing it is possible for auditing code \n",
    "      3. logging identify the code executed by each user"
   ]
  },
  {
   "cell_type": "raw",
   "id": "7b5d8e28",
   "metadata": {},
   "source": [
    "Sol 9 The Step button will move the debugger into a function call. The Over button will quickly execute the function call\n",
    "      without stepping into it. The Out button will quickly execute the rest of the code until it steps out of the function\n",
    "      it currently is in."
   ]
  },
  {
   "cell_type": "raw",
   "id": "6d7ec45d",
   "metadata": {},
   "source": [
    "Sol 10 It will stop at the starting of next iteration(point at which program executes after continue statement"
   ]
  },
  {
   "cell_type": "raw",
   "id": "9ffe02a9",
   "metadata": {},
   "source": [
    "Sol 11 A breakpoint will pause the debugger when the program reaches the defined line"
   ]
  }
 ],
 "metadata": {
  "kernelspec": {
   "display_name": "Python 3 (ipykernel)",
   "language": "python",
   "name": "python3"
  },
  "language_info": {
   "codemirror_mode": {
    "name": "ipython",
    "version": 3
   },
   "file_extension": ".py",
   "mimetype": "text/x-python",
   "name": "python",
   "nbconvert_exporter": "python",
   "pygments_lexer": "ipython3",
   "version": "3.7.4"
  }
 },
 "nbformat": 4,
 "nbformat_minor": 5
}
