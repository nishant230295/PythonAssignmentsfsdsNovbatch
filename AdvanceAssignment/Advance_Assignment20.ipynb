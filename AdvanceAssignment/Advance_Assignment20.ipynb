{
 "cells": [
  {
   "cell_type": "markdown",
   "id": "9a63cb68",
   "metadata": {},
   "source": [
    "##Sol 1\n",
    "Both floats and decimals store numerical data in python\n",
    "\n",
    "floats are used for convenience and speed and give approximate values\n",
    "\n",
    "decimals are used for precisions but there always exists a tradeoff between floats speed and decimals accuracy"
   ]
  },
  {
   "cell_type": "markdown",
   "id": "2d262a95",
   "metadata": {},
   "source": [
    "##Sol 2\n",
    "both values are same represenattaion is different \n",
    "decimal('1.2') gives 1.2 while decimal('1.200') gives 1.200"
   ]
  },
  {
   "cell_type": "markdown",
   "id": "ec23508c",
   "metadata": {},
   "source": [
    "##Sol 3 Both values are checked to be equal , they only differ in precision."
   ]
  },
  {
   "cell_type": "markdown",
   "id": "f1888050",
   "metadata": {},
   "source": [
    "##Sol 4 Floating-point value is converted to Decimal format. Decimal can store float value with absolute precision. But when float value is given as Decimal object,it first has to be converted from floating point value which might already have rounding error.\n",
    "\n",
    "Hence it is preferable to start a Decimal object with a string."
   ]
  },
  {
   "cell_type": "markdown",
   "id": "78cfa910",
   "metadata": {},
   "source": [
    "##Sol 5 \n",
    "using Decimal()"
   ]
  },
  {
   "cell_type": "code",
   "execution_count": 4,
   "id": "819eb065",
   "metadata": {},
   "outputs": [
    {
     "data": {
      "text/plain": [
       "Decimal('5')"
      ]
     },
     "execution_count": 4,
     "metadata": {},
     "output_type": "execute_result"
    }
   ],
   "source": [
    "import decimal\n",
    "decimal.Decimal(5)"
   ]
  },
  {
   "cell_type": "markdown",
   "id": "c3b25868",
   "metadata": {},
   "source": [
    "##Sol 6\n",
    "Arithmetic operfations like Adding,subtracting or multiplying a Decimal object by a floating-point value is generates an error.\n",
    "\n",
    "To do these operations, the floating point has to be converted to a Decimal."
   ]
  },
  {
   "cell_type": "markdown",
   "id": "2ba93e89",
   "metadata": {},
   "source": [
    "##Sol 7 \n",
    "0.5 can be represented as 1/2"
   ]
  },
  {
   "cell_type": "markdown",
   "id": "7e0d3ba9",
   "metadata": {},
   "source": [
    "##Sol 8 \n",
    "0.333333 is always round in float but in decimal and fraction(1/3)"
   ]
  },
  {
   "cell_type": "markdown",
   "id": "557c6941",
   "metadata": {},
   "source": [
    "##Sol 9\n",
    "Both will be reduced to 1/2\n"
   ]
  },
  {
   "cell_type": "markdown",
   "id": "f8d96f03",
   "metadata": {},
   "source": [
    "##Sol 10 Fraction class and int class are related by container which consits of int at numerator and denominator"
   ]
  },
  {
   "cell_type": "code",
   "execution_count": null,
   "id": "c7d26642",
   "metadata": {},
   "outputs": [],
   "source": []
  }
 ],
 "metadata": {
  "kernelspec": {
   "display_name": "Python 3 (ipykernel)",
   "language": "python",
   "name": "python3"
  },
  "language_info": {
   "codemirror_mode": {
    "name": "ipython",
    "version": 3
   },
   "file_extension": ".py",
   "mimetype": "text/x-python",
   "name": "python",
   "nbconvert_exporter": "python",
   "pygments_lexer": "ipython3",
   "version": "3.7.4"
  }
 },
 "nbformat": 4,
 "nbformat_minor": 5
}
