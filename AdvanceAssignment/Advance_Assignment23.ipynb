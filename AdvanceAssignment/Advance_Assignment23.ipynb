{
 "cells": [
  {
   "cell_type": "markdown",
   "id": "8fe499e7",
   "metadata": {},
   "source": [
    "##Sol 1 \n",
    "\n",
    "using matplotlib library subplot function we can compare between different figures on same graph"
   ]
  },
  {
   "cell_type": "markdown",
   "id": "c6b866a4",
   "metadata": {},
   "source": [
    "##Sol 2\n",
    "Compound interest makes a sum of money grow at a faster rate than simple interest,because in addition to earning returns on the money you invest, you also earn returns on those returns at the end of every compounding period, which could be daily, monthly, quarterly or annually."
   ]
  },
  {
   "cell_type": "markdown",
   "id": "be0710ea",
   "metadata": {},
   "source": [
    "##Sol 3\n",
    "histogram is  a plot using to show the count of one continuos variable over another variable\n",
    "numpy.histogram() is the builtin function"
   ]
  },
  {
   "cell_type": "markdown",
   "id": "1b64390c",
   "metadata": {},
   "source": [
    "##Sol 4\n",
    "We can use figure(figsize=(20,10)) function inside the matplot.pyplot library which we scale down or up the graph."
   ]
  },
  {
   "cell_type": "markdown",
   "id": "5a1077e2",
   "metadata": {},
   "source": [
    "##Sol 5 \n",
    "multipication refers to multipication between two elements at same index \n",
    "\n",
    "In dot product there is row wise multiplication, row of one array with column of second array and so on. \n",
    "\n",
    "In outer multiplication every element of first array a1 will be multiply by every element of other array a2 such such the number of columns will be equal to the number of element in another array a2."
   ]
  },
  {
   "cell_type": "markdown",
   "id": "846416a1",
   "metadata": {},
   "source": [
    "##Sol 6 \n",
    "np.pmt(rate, nper, pv) function we will be using in order to calculate monthly mortgage payment before you purchase a house.\n",
    "\n",
    "rate - periodic interest rate\n",
    "nper-number of payment periods\n",
    "pv-total value of mortarage loan"
   ]
  },
  {
   "cell_type": "markdown",
   "id": "dc80536e",
   "metadata": {},
   "source": [
    "##Sol 7 \n",
    "Yes, an array can store the string only limitation is the lengt sof string should be kept in mind because of upper limit"
   ]
  },
  {
   "cell_type": "code",
   "execution_count": null,
   "id": "173bd1e3",
   "metadata": {},
   "outputs": [],
   "source": []
  }
 ],
 "metadata": {
  "kernelspec": {
   "display_name": "Python 3 (ipykernel)",
   "language": "python",
   "name": "python3"
  },
  "language_info": {
   "codemirror_mode": {
    "name": "ipython",
    "version": 3
   },
   "file_extension": ".py",
   "mimetype": "text/x-python",
   "name": "python",
   "nbconvert_exporter": "python",
   "pygments_lexer": "ipython3",
   "version": "3.7.4"
  }
 },
 "nbformat": 4,
 "nbformat_minor": 5
}
