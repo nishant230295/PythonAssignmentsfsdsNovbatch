{
 "cells": [
  {
   "cell_type": "markdown",
   "id": "2dd068ff",
   "metadata": {},
   "source": [
    "##Sol 1\n",
    "Inheritance is a concept by which when we define a subclass we need not to write repeatable code we can inherit their properties\n",
    "If a subclass inherit its properties from from than one class it is aclled multiple inheritance"
   ]
  },
  {
   "cell_type": "code",
   "execution_count": 1,
   "id": "57976708",
   "metadata": {},
   "outputs": [],
   "source": [
    "class GATE:\n",
    "    pass\n",
    "\n",
    "class JEE:\n",
    "    pass\n",
    "\n",
    "class IIT(JEE,GATE):\n",
    "    pass\n",
    "\n",
    "# Here class IIT inherit properties from GATE AND JEE CLASS"
   ]
  },
  {
   "cell_type": "markdown",
   "id": "ad8c304d",
   "metadata": {},
   "source": [
    "##sOL 2\n",
    "Delegation is a concept which comes into picture when we gant to give limited acces through an instance object \n",
    "and using that object for limited resources "
   ]
  },
  {
   "cell_type": "code",
   "execution_count": 2,
   "id": "f59ca755",
   "metadata": {},
   "outputs": [
    {
     "name": "stdout",
     "output_type": "stream",
     "text": [
      "Hey iam back\n",
      "Hey iam back\n",
      "Hey iam back\n",
      "Iam the main class\n"
     ]
    }
   ],
   "source": [
    "class Myclass:\n",
    "    def sayHi(self):\n",
    "        print('Hey iam back')\n",
    "    def whoAmI(self):\n",
    "        print('Iam the main class')\n",
    "class NewClass:\n",
    "    def __init__(self,obj):\n",
    "        self.main = obj\n",
    "    def welcome(self):\n",
    "        self.main.sayHi()\n",
    "\n",
    "m = Myclass()        \n",
    "n = NewClass(m)\n",
    "m.sayHi()\n",
    "n.main.sayHi()\n",
    "n.welcome()\n",
    "n.main.whoAmI()"
   ]
  },
  {
   "cell_type": "markdown",
   "id": "28da0a66",
   "metadata": {},
   "source": [
    "##Sol 3\n",
    "What happens in inheritance all the properties are inherited in the base class but if we want to refer one or more classes\n",
    "but do not inherit all their methods but specific methods we use composition\n"
   ]
  },
  {
   "cell_type": "code",
   "execution_count": 5,
   "id": "b4ee0855",
   "metadata": {},
   "outputs": [
    {
     "name": "stdout",
     "output_type": "stream",
     "text": [
      "Rank : 9600\n"
     ]
    }
   ],
   "source": [
    "class Score:\n",
    "    def __init__(self,scores):\n",
    "        self.scores=scores\n",
    "    def get_total(self):\n",
    "        return self.scores*12\n",
    "    \n",
    "class Ranker:\n",
    "    def __init__(self,scores,correction):\n",
    "        self.scores = scores\n",
    "        self.correction = correction\n",
    "        self.obj_scores = Score(self.scores)\n",
    "    def rank(self):\n",
    "        return f'Rank : {str(self.obj_scores.get_total())}'\n",
    "\n",
    "obj_sc= Ranker(800,500)\n",
    "print(obj_sc.rank())    "
   ]
  },
  {
   "cell_type": "markdown",
   "id": "7b771af1",
   "metadata": {},
   "source": [
    "##Sol 4\n",
    "A bound method is one which is accesed by an instance and generally have a self keyword \n",
    "The name instance methods refers to the dependencies of instances"
   ]
  },
  {
   "cell_type": "code",
   "execution_count": 6,
   "id": "60dc588a",
   "metadata": {},
   "outputs": [],
   "source": [
    "class Test:\n",
    "    def method_one(self): # bound method\n",
    "        print(\"Called method_one\")\n",
    "    @classmethod\n",
    "    def method_two(cls): # unbound method\n",
    "        print(\"Called method_two\")\n",
    "    @staticmethod\n",
    "    def method_three(): # static method\n",
    "        print(\"Called method_three\")"
   ]
  },
  {
   "cell_type": "markdown",
   "id": "b5417ff1",
   "metadata": {},
   "source": [
    "##Sol 5\n",
    "Pseudoprivate attributes are also useful in larger frameworks or tools, both to avoid introducing new method names that might accidentally hide definitions elsewhere in the class tree and to reduce the chance of internal methods being replaced by names defined lower in the tree. If a method is intended for use only within a class that may be mixed into other classes, the double underscore prefix ensures that the method won't interfere with other names in the tree, especially in multiple-inheritance scenarios"
   ]
  },
  {
   "cell_type": "code",
   "execution_count": null,
   "id": "57cef2de",
   "metadata": {},
   "outputs": [],
   "source": []
  }
 ],
 "metadata": {
  "kernelspec": {
   "display_name": "Python 3 (ipykernel)",
   "language": "python",
   "name": "python3"
  },
  "language_info": {
   "codemirror_mode": {
    "name": "ipython",
    "version": 3
   },
   "file_extension": ".py",
   "mimetype": "text/x-python",
   "name": "python",
   "nbconvert_exporter": "python",
   "pygments_lexer": "ipython3",
   "version": "3.7.4"
  }
 },
 "nbformat": 4,
 "nbformat_minor": 5
}
