{
 "cells": [
  {
   "cell_type": "code",
   "execution_count": null,
   "id": "50395fe3",
   "metadata": {},
   "outputs": [],
   "source": [
    "##Sol 1\n",
    "\n",
    "'''\n",
    "Some of the names and functions of methods of string data types \n",
    "\n",
    "we represent string as <s>\n",
    "\n",
    "1. <s>.isupper(): checkabout all the indexes in uppercase return boolean\n",
    "2. <s>.islower(): checkabout all the indexes in lowercase return boolean\n",
    "3. <s>.lower() converts string to lowercase\n",
    "4. <s>.upper() converts string to uppercase\n",
    "5. <s>.capitabize() converts first substring into Capital\n",
    "6. <s>.split() method stakes a delimeter default is \" \" \n",
    "7. max(<s>) returns the highest value as per ASCII value\n",
    "8. min(<s>) returns the lowest value as per ASCII value\n",
    "9. <s>.replace(sub1,sub2) replace a substring sub1 with sub2\n",
    "10. <s>.find(sub) find a sub string in <s> \n",
    "    \n",
    "    \n",
    "There are many other methods as well\n",
    "\n",
    "'''"
   ]
  },
  {
   "cell_type": "markdown",
   "id": "81c319cd",
   "metadata": {},
   "source": [
    "##Sol 2\n",
    "In Python3 default format of strings is Unicode Whereas in Pyton2 we need to explicitly mention Unicode value using u."
   ]
  },
  {
   "cell_type": "markdown",
   "id": "6ced2cfd",
   "metadata": {},
   "source": [
    "##Sol 3 \n",
    "\n",
    "We can use unicodemethod to put non-ASCII Unicode characters in a string\n"
   ]
  },
  {
   "cell_type": "markdown",
   "id": "4995ab9d",
   "metadata": {},
   "source": [
    "##Sol 4\n",
    "\n",
    "The major difference between these two is that a text file contains textual information in the form of alphabets, digits and special characters or symbols. On the other hand, a binary file contains bytes or a compiled version of a text file.\n",
    "\n",
    "When file is opened in text mode its data is automatically encoded in str\n",
    "\n",
    "While when file is opened in binary mode by adding'b' in the argument of file.read() mode it returns the content as it is stored as a bytes object\n"
   ]
  },
  {
   "cell_type": "markdown",
   "id": "dc7bc722",
   "metadata": {},
   "source": [
    "##Sol 5\n",
    "By using encode() and decode() function we can interpret a Unicode text file containing text encoded in a different encoding than our platform's default"
   ]
  },
  {
   "cell_type": "markdown",
   "id": "ae81646e",
   "metadata": {},
   "source": [
    "##Sol 6\n",
    "Using str.encode()  and file.write()  to make a Unicode text file in a particular encoding format, default encoding format is UTF8\n",
    "\n",
    "1. call str.encode function with utf8 argument\n",
    "2. call open file in wb mode which opens file in binary writing mode and preserves utf8 format\n",
    "3. file.write to write and close\n"
   ]
  },
  {
   "cell_type": "markdown",
   "id": "cb32f374",
   "metadata": {},
   "source": [
    "##Sol 7\n",
    "Unicode represents most written languages in the world. ASCII has its equivalent in Unicode. The difference between ASCII and Unicode is that ASCII represents lowercase letters (a-z), uppercase letters (A-Z), digits (0–9) and symbols such as punctuation marks while Unicode represents letters of English, Arabic, Greek etc. mathematical symbols, historical scripts, emoji covering a wide range of characters than ASCII."
   ]
  },
  {
   "cell_type": "markdown",
   "id": "f8eaacd2",
   "metadata": {},
   "source": [
    "##Sol 8 \n",
    "Python 3 stores strings as Unicode by default whereas Python 2 requires you to mark a string with a u if you want to store it as Unicode. Unicode strings are more versatile than ASCII strings, which are the Python 3.X default, as they can store letters from foreign languages as well as emoji and the standard Roman letters and numerals."
   ]
  },
  {
   "cell_type": "code",
   "execution_count": null,
   "id": "2f66b278",
   "metadata": {},
   "outputs": [],
   "source": []
  }
 ],
 "metadata": {
  "kernelspec": {
   "display_name": "Python 3 (ipykernel)",
   "language": "python",
   "name": "python3"
  },
  "language_info": {
   "codemirror_mode": {
    "name": "ipython",
    "version": 3
   },
   "file_extension": ".py",
   "mimetype": "text/x-python",
   "name": "python",
   "nbconvert_exporter": "python",
   "pygments_lexer": "ipython3",
   "version": "3.7.4"
  }
 },
 "nbformat": 4,
 "nbformat_minor": 5
}
