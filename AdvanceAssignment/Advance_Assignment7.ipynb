{
 "cells": [
  {
   "cell_type": "markdown",
   "id": "2d041d81",
   "metadata": {},
   "source": [
    "##Sol 1\n",
    "whenever we ahve even 0.00001% doubt in mind about whether our written code will be exceuted or not it is neccesary to use try block because it ensures any abnormal closing of program to prevent abnormal termination \n",
    "it can also be used to manipulate exceptions according to our requirement and multiple excepts blocks can be used"
   ]
  },
  {
   "cell_type": "markdown",
   "id": "ff1e4895",
   "metadata": {},
   "source": [
    "##Sol 2 try except   if try is excecuted except will not be exceuted and vice versa\n",
    "\n",
    "        try except else if try is excuted succesfully then else will be excuted also otherwise except is executed \n",
    "        \n",
    "        try except else finally finally will be excuted irrespective of waht happens in try except and else "
   ]
  },
  {
   "cell_type": "markdown",
   "id": "9f89fbb5",
   "metadata": {},
   "source": [
    "##Sol 3\n",
    "When we want to expicitly raise a particular exception we use raise method baised on particular condition \n",
    "\n",
    "below its implemenatation is shown"
   ]
  },
  {
   "cell_type": "code",
   "execution_count": 1,
   "id": "3a701ca0",
   "metadata": {},
   "outputs": [
    {
     "name": "stdout",
     "output_type": "stream",
     "text": [
      "enter num less than 3  8\n"
     ]
    },
    {
     "ename": "Exception",
     "evalue": "value entered is not less than 3 \"8\"",
     "output_type": "error",
     "traceback": [
      "\u001b[1;31m---------------------------------------------------------------------------\u001b[0m",
      "\u001b[1;31mException\u001b[0m                                 Traceback (most recent call last)",
      "\u001b[1;32m~\\AppData\\Local\\Temp/ipykernel_17336/1889871823.py\u001b[0m in \u001b[0;36m<module>\u001b[1;34m\u001b[0m\n\u001b[0;32m      1\u001b[0m \u001b[0mx\u001b[0m\u001b[1;33m=\u001b[0m\u001b[0mint\u001b[0m\u001b[1;33m(\u001b[0m\u001b[0minput\u001b[0m\u001b[1;33m(\u001b[0m\u001b[1;34m'enter num less than 3  '\u001b[0m\u001b[1;33m)\u001b[0m\u001b[1;33m)\u001b[0m\u001b[1;33m\u001b[0m\u001b[1;33m\u001b[0m\u001b[0m\n\u001b[0;32m      2\u001b[0m \u001b[1;32mif\u001b[0m \u001b[0mx\u001b[0m\u001b[1;33m>=\u001b[0m\u001b[1;36m3\u001b[0m\u001b[1;33m:\u001b[0m\u001b[1;33m\u001b[0m\u001b[1;33m\u001b[0m\u001b[0m\n\u001b[1;32m----> 3\u001b[1;33m     \u001b[1;32mraise\u001b[0m \u001b[0mException\u001b[0m\u001b[1;33m(\u001b[0m\u001b[1;34mf'value entered is not less than 3 \"{x}\"'\u001b[0m\u001b[1;33m)\u001b[0m\u001b[1;33m\u001b[0m\u001b[1;33m\u001b[0m\u001b[0m\n\u001b[0m\u001b[0;32m      4\u001b[0m \u001b[1;32melse\u001b[0m\u001b[1;33m:\u001b[0m\u001b[1;33m\u001b[0m\u001b[1;33m\u001b[0m\u001b[0m\n\u001b[0;32m      5\u001b[0m     \u001b[0mprint\u001b[0m\u001b[1;33m(\u001b[0m\u001b[0mx\u001b[0m\u001b[1;33m)\u001b[0m\u001b[1;33m\u001b[0m\u001b[1;33m\u001b[0m\u001b[0m\n",
      "\u001b[1;31mException\u001b[0m: value entered is not less than 3 \"8\""
     ]
    }
   ],
   "source": [
    "x=int(input('enter num less than 3  '))\n",
    "if x>=3:\n",
    "    raise Exception(f'value entered is not less than 3 \"{x}\"')\n",
    "else:\n",
    "    print(x)"
   ]
  },
  {
   "cell_type": "markdown",
   "id": "303b6414",
   "metadata": {},
   "source": [
    "##Sol 4\n",
    "Some conditions we want to be true irrespective of other things we use an assert statement here \n",
    "It takes a boolean condition which if true further program is executed otherwise assertion error is raised "
   ]
  },
  {
   "cell_type": "code",
   "execution_count": 2,
   "id": "58a1aef9",
   "metadata": {},
   "outputs": [
    {
     "ename": "AssertionError",
     "evalue": "Number not equal",
     "output_type": "error",
     "traceback": [
      "\u001b[1;31m---------------------------------------------------------------------------\u001b[0m",
      "\u001b[1;31mAssertionError\u001b[0m                            Traceback (most recent call last)",
      "\u001b[1;32m~\\AppData\\Local\\Temp/ipykernel_17336/3961050719.py\u001b[0m in \u001b[0;36m<module>\u001b[1;34m\u001b[0m\n\u001b[0;32m      1\u001b[0m \u001b[1;32massert\u001b[0m \u001b[1;36m6\u001b[0m\u001b[1;33m==\u001b[0m\u001b[1;36m6\u001b[0m \u001b[1;33m,\u001b[0m\u001b[1;34m'Number not equal'\u001b[0m\u001b[1;33m\u001b[0m\u001b[1;33m\u001b[0m\u001b[0m\n\u001b[0;32m      2\u001b[0m \u001b[1;33m\u001b[0m\u001b[0m\n\u001b[1;32m----> 3\u001b[1;33m \u001b[1;32massert\u001b[0m \u001b[1;36m2\u001b[0m\u001b[1;33m==\u001b[0m\u001b[1;36m4\u001b[0m \u001b[1;33m,\u001b[0m\u001b[1;34m'Number not equal'\u001b[0m\u001b[1;33m\u001b[0m\u001b[1;33m\u001b[0m\u001b[0m\n\u001b[0m",
      "\u001b[1;31mAssertionError\u001b[0m: Number not equal"
     ]
    }
   ],
   "source": [
    "assert 6==6 ,'Number not equal'\n",
    "\n",
    "assert 2==4 ,'Number not equal'"
   ]
  },
  {
   "cell_type": "code",
   "execution_count": null,
   "id": "9e63d889",
   "metadata": {},
   "outputs": [],
   "source": [
    "##Sol 5\n",
    "'''\n",
    "with as argument is used to simply file handling files (eg txt,pickles and other) etc this argument\n",
    "ensures we need not exciptly  close the file as there is always a slight chance of file left opening \n",
    "(file.close()) which can introduce bugs \n",
    "\n",
    "with open('file1.txt','a') as f:\n",
    "     f.write('Hello Team')\n",
    "'''"
   ]
  },
  {
   "cell_type": "code",
   "execution_count": null,
   "id": "ba4975e9",
   "metadata": {},
   "outputs": [],
   "source": []
  }
 ],
 "metadata": {
  "kernelspec": {
   "display_name": "Python 3 (ipykernel)",
   "language": "python",
   "name": "python3"
  },
  "language_info": {
   "codemirror_mode": {
    "name": "ipython",
    "version": 3
   },
   "file_extension": ".py",
   "mimetype": "text/x-python",
   "name": "python",
   "nbconvert_exporter": "python",
   "pygments_lexer": "ipython3",
   "version": "3.7.4"
  }
 },
 "nbformat": 4,
 "nbformat_minor": 5
}
