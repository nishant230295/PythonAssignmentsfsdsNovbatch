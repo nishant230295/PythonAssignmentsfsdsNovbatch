{
 "cells": [
  {
   "cell_type": "markdown",
   "id": "d19b6d3e",
   "metadata": {},
   "source": [
    "##Sol 1 \n",
    "__iter__ and __next__ are the operloading methods which suppport iteration in classes \n",
    "\n",
    "their implementation is shown below"
   ]
  },
  {
   "cell_type": "code",
   "execution_count": 1,
   "id": "397fcab1",
   "metadata": {},
   "outputs": [
    {
     "name": "stdout",
     "output_type": "stream",
     "text": [
      "5 6 7 8 9 10 11 12 13 14 15 "
     ]
    }
   ],
   "source": [
    "class Counter:\n",
    "    def __init__(self,low,high):\n",
    "        self.recent = low\n",
    "        self.high = high\n",
    "    def __iter__(self):\n",
    "        return self\n",
    "    def __next__(self):\n",
    "        if self.recent > self.high:\n",
    "            raise StopIteration\n",
    "        else:\n",
    "            self.recent += 1\n",
    "            return self.recent - 1\n",
    "for i in Counter(5,15):\n",
    "    print(i, end=\" \")"
   ]
  },
  {
   "cell_type": "markdown",
   "id": "c4fc1766",
   "metadata": {},
   "source": [
    "##Sol 2 \n",
    "__str__ and __repr__ are the two operator overloading objects that manage printing whereas str gives human readable while repr methods gives amachinereadable form \n"
   ]
  },
  {
   "cell_type": "code",
   "execution_count": 2,
   "id": "3a935b82",
   "metadata": {},
   "outputs": [
    {
     "name": "stdout",
     "output_type": "stream",
     "text": [
      "[1, 7, True]\n"
     ]
    }
   ],
   "source": [
    "##Sol 3\n",
    "'''using slice method of __getitem__ we can achieve this it takes start stop and step just like range function \n",
    "'''\n",
    "        \n",
    "res=[1,2,7,'sudh',True].__getitem__(slice(0,5,2))\n",
    "print(res)"
   ]
  },
  {
   "cell_type": "code",
   "execution_count": 5,
   "id": "db210d9e",
   "metadata": {},
   "outputs": [
    {
     "name": "stdout",
     "output_type": "stream",
     "text": [
      "90\n"
     ]
    }
   ],
   "source": [
    "##Sol 4\n",
    "'''\n",
    "a+b is normal adition while a+=b is in place addition we will use __iadd()__ method to perform this task\n",
    "'''\n",
    "\n",
    "class packet:\n",
    "    def __init__(self,chips):\n",
    "        self.chips=chips\n",
    "    def __iadd__(self,other):\n",
    "        self.chips+=other.chips \n",
    "        return self.chips\n",
    "        \n",
    "c1=packet(25)\n",
    "c2=packet(65)\n",
    "c1+=c2\n",
    "print(c1)"
   ]
  },
  {
   "cell_type": "markdown",
   "id": "c9eb9b6f",
   "metadata": {},
   "source": [
    "##Sol 5\n",
    "When we want to have different meaning for same operator in that context we use operator overloading"
   ]
  },
  {
   "cell_type": "code",
   "execution_count": 6,
   "id": "c946502c",
   "metadata": {},
   "outputs": [
    {
     "name": "stdout",
     "output_type": "stream",
     "text": [
      "Sum -> 3\n",
      "String Concatenation -> Nishant Gupta\n"
     ]
    }
   ],
   "source": [
    "class Opload:\n",
    "    def __init__(self,a):\n",
    "        self.a = a\n",
    "    def __add__(self,oth):\n",
    "        return self.a+oth.a\n",
    "obj1 = Opload(1)\n",
    "obj2 = Opload(2)\n",
    "obj3 = Opload('Nishant')\n",
    "obj4 = Opload(' Gupta')\n",
    "print(f'Sum -> {obj1+obj2}')\n",
    "print(f'String Concatenation -> {obj3+obj4}')"
   ]
  },
  {
   "cell_type": "code",
   "execution_count": null,
   "id": "c9e6deda",
   "metadata": {},
   "outputs": [],
   "source": []
  }
 ],
 "metadata": {
  "kernelspec": {
   "display_name": "Python 3 (ipykernel)",
   "language": "python",
   "name": "python3"
  },
  "language_info": {
   "codemirror_mode": {
    "name": "ipython",
    "version": 3
   },
   "file_extension": ".py",
   "mimetype": "text/x-python",
   "name": "python",
   "nbconvert_exporter": "python",
   "pygments_lexer": "ipython3",
   "version": "3.7.4"
  }
 },
 "nbformat": 4,
 "nbformat_minor": 5
}
