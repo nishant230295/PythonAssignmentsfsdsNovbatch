{
 "cells": [
  {
   "cell_type": "markdown",
   "id": "fa181a1a",
   "metadata": {},
   "source": [
    "##Sol 1 \n",
    "The differences between Text Files and Binary Files are:\n",
    "\n",
    "Text files are special subset of binary files that are used to store human readable characters as a rich text document or plain text document. Text files also store data in sequential bytes but bits in text file represents characters.\n",
    "\n",
    "Binary files are those typical files that store data in the form of sequence of bytes grouped into eight bits or sometimes sixteen bits. These bits represent custom data and such files can store multiple types of data (images, audio, text, etc) under a single file."
   ]
  },
  {
   "cell_type": "markdown",
   "id": "cd2ec70d",
   "metadata": {},
   "source": [
    "##Sol 2 \n",
    "Text files are less prone to get corrupted as any undesired change may just show up once the file is opened and then can easily be removed. Whereas Use binary files instead of text files for image data."
   ]
  },
  {
   "cell_type": "markdown",
   "id": "564fa8ea",
   "metadata": {},
   "source": [
    "##Sol 3\n",
    "When we read or write a python integer using binary operations\n",
    "\n",
    "Binary operations deal with raw data and one needs to identify how many bytes one would read or write."
   ]
  },
  {
   "cell_type": "markdown",
   "id": "8f14c64f",
   "metadata": {},
   "source": [
    "##Sol 4 We need not to explictly close the file with as statement takes care of it"
   ]
  },
  {
   "cell_type": "markdown",
   "id": "45933b82",
   "metadata": {},
   "source": [
    "##Sol 5\n",
    "Yes, Python have the trailing newline while reading a line of text. When we write a newline has to be provided in python excpicitly."
   ]
  },
  {
   "cell_type": "markdown",
   "id": "e7f9f6b1",
   "metadata": {},
   "source": [
    "##Sol 6\n",
    "seek() and tell()"
   ]
  },
  {
   "cell_type": "markdown",
   "id": "7805a848",
   "metadata": {},
   "source": [
    "##Sol 7 \n",
    "The struct package is mostly used while converting a common python types into C language types"
   ]
  },
  {
   "cell_type": "markdown",
   "id": "703913fa",
   "metadata": {},
   "source": [
    "##Sol 8 pickling is used for creating new biunary file using python"
   ]
  },
  {
   "cell_type": "markdown",
   "id": "8024b262",
   "metadata": {},
   "source": [
    "##Sol 9 \n",
    "Shelve package is used to pickle data but treats the entire file as dictionary"
   ]
  },
  {
   "cell_type": "markdown",
   "id": "f2869cf2",
   "metadata": {},
   "source": [
    "##Sol 10 Only string data type can be used as key in this special dictionary object, whereas any picklable Python object can be used as value."
   ]
  },
  {
   "cell_type": "code",
   "execution_count": null,
   "id": "81daa241",
   "metadata": {},
   "outputs": [],
   "source": []
  }
 ],
 "metadata": {
  "kernelspec": {
   "display_name": "Python 3 (ipykernel)",
   "language": "python",
   "name": "python3"
  },
  "language_info": {
   "codemirror_mode": {
    "name": "ipython",
    "version": 3
   },
   "file_extension": ".py",
   "mimetype": "text/x-python",
   "name": "python",
   "nbconvert_exporter": "python",
   "pygments_lexer": "ipython3",
   "version": "3.7.4"
  }
 },
 "nbformat": 4,
 "nbformat_minor": 5
}
