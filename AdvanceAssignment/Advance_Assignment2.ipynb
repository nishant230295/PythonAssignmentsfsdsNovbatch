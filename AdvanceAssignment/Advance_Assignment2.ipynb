{
 "cells": [
  {
   "cell_type": "markdown",
   "id": "b13a15d4",
   "metadata": {},
   "source": [
    "##Sol 1\n",
    "A Python class is like an outlinefor creating a new object. An object is anything that we can  manipulate or change while working through the code. Every time a class object is instated, which is when we declare a variable, a new object is initiated from scratch\n",
    "\n",
    "Whereas in Python, Modules are simply files with the . py extension containing Python code that can be imported inside another Python Program. In simple terms, we can consider a module to be the same as a code library or a file that contains a set of functions/Classes that you want to include in your application.\n",
    "\n"
   ]
  },
  {
   "cell_type": "code",
   "execution_count": 1,
   "id": "afc79ce0",
   "metadata": {},
   "outputs": [],
   "source": [
    "##Sol 2\n",
    "class parent: \n",
    "    def __init__(self,role): \n",
    "        self.role=role\n",
    "        \n",
    "c=parent('wholes')\n",
    "\n",
    "##here c is instance and wholes is attribute class name is parent"
   ]
  },
  {
   "cell_type": "markdown",
   "id": "15822440",
   "metadata": {},
   "source": [
    "##Sol 3 Class attributes or Class level Attributes belong to the class itself. these attributes will be shared by all the instances of the class they are declared outside of class methods \n",
    "\n",
    "class parent: \n",
    "    cash=500\n",
    "    def __init__(self,role): \n",
    "        self.role=role\n",
    "        \n",
    "In above class cash is class level attribute and will be called by self.cash"
   ]
  },
  {
   "cell_type": "markdown",
   "id": "5326952a",
   "metadata": {},
   "source": [
    "##Sol 4\n",
    "instance attributes are created at the time of object creation  Unlike class attributes, instance attributes are not shared by all objects of the classs. instead each object maintains its own copy of instance attributes at object level. whereas incase of class attributes all instances of class refer to a single copy. Usually instance attributes are defined within the __init__ method of class"
   ]
  },
  {
   "cell_type": "markdown",
   "id": "0fe7a8f1",
   "metadata": {},
   "source": [
    "##Sol 5 \n",
    "self represents the instance of the class (it represents the object itself). By using the “self” keyword we can access the attributes and methods of the class with in the class in python. It binds the attributes with the given arguments."
   ]
  },
  {
   "cell_type": "code",
   "execution_count": 4,
   "id": "eeedfd48",
   "metadata": {},
   "outputs": [
    {
     "name": "stdout",
     "output_type": "stream",
     "text": [
      "The total number of pages in 2 books is 900\n"
     ]
    }
   ],
   "source": [
    "'''\n",
    "Sol 6 Python handles operator overloading by using magic methods they end and begin with __ \n",
    "        Some of the methods are __str(self)__ __repr(self)__ __add(self,other)__ __abs(self)__\n",
    "\n",
    "'''\n",
    "class Book:\n",
    "    def __init__(self,pages):\n",
    "        self.pages = pages\n",
    "    def __add__(self,other):\n",
    "        return self.pages + other.pages\n",
    "b1 = Book(600)\n",
    "b2 = Book(300)\n",
    "print(f'The total number of pages in 2 books is {b1+b2}')\n"
   ]
  },
  {
   "cell_type": "markdown",
   "id": "cc1b9fa8",
   "metadata": {},
   "source": [
    "##Sol 7\n",
    "When we want to have different meaning for same operator in that context we use operator overloading\n"
   ]
  },
  {
   "cell_type": "code",
   "execution_count": 5,
   "id": "dfee35e4",
   "metadata": {},
   "outputs": [
    {
     "name": "stdout",
     "output_type": "stream",
     "text": [
      "Sum -> 3\n",
      "String Concatenation -> Nishant Gupta\n"
     ]
    }
   ],
   "source": [
    "##Sol 8 The most popular form of operator overloading is by magic methods \n",
    "class Opload:\n",
    "    def __init__(self,a):\n",
    "        self.a = a\n",
    "    def __add__(self,oth):\n",
    "        return self.a+oth.a\n",
    "obj1 = Opload(1)\n",
    "obj2 = Opload(2)\n",
    "obj3 = Opload('Nishant')\n",
    "obj4 = Opload(' Gupta')\n",
    "print(f'Sum -> {obj1+obj2}')\n",
    "print(f'String Concatenation -> {obj3+obj4}')"
   ]
  },
  {
   "cell_type": "markdown",
   "id": "0eee40b4",
   "metadata": {},
   "source": [
    "##Sol 9 \n",
    "Two most important concepts that I feel that will help me in implementing OOP are\n",
    "1. Inheritance \n",
    "2. Abstraction \n",
    "\n",
    "Apart from these Encapsulation and public private and protected variables are important"
   ]
  },
  {
   "cell_type": "code",
   "execution_count": null,
   "id": "72bf7226",
   "metadata": {},
   "outputs": [],
   "source": []
  }
 ],
 "metadata": {
  "kernelspec": {
   "display_name": "Python 3 (ipykernel)",
   "language": "python",
   "name": "python3"
  },
  "language_info": {
   "codemirror_mode": {
    "name": "ipython",
    "version": 3
   },
   "file_extension": ".py",
   "mimetype": "text/x-python",
   "name": "python",
   "nbconvert_exporter": "python",
   "pygments_lexer": "ipython3",
   "version": "3.7.4"
  }
 },
 "nbformat": 4,
 "nbformat_minor": 5
}
