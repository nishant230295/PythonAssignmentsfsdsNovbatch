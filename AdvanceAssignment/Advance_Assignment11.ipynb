{
 "cells": [
  {
   "cell_type": "markdown",
   "id": "489e8423",
   "metadata": {},
   "source": [
    "##Sol 1\n",
    "A metaclass is a class of class that defines how a class behaves or a class is a instance of metaclass \n",
    "\n",
    "Eg E.g. Type of of int, str, float, list, tuple and many more is of metaclass type."
   ]
  },
  {
   "cell_type": "markdown",
   "id": "d83bcd1c",
   "metadata": {},
   "source": [
    "##Sol 2 \n",
    "metaclass is declared by using metaclass keyword beloww implementation is shown"
   ]
  },
  {
   "cell_type": "code",
   "execution_count": 1,
   "id": "d96e16c2",
   "metadata": {},
   "outputs": [
    {
     "name": "stdout",
     "output_type": "stream",
     "text": [
      "<class 'type'>\n",
      "<class '__main__.meta'>\n"
     ]
    }
   ],
   "source": [
    "class meta(type):\n",
    "    pass\n",
    "class class_meta(metaclass=meta):\n",
    "    pass\n",
    "print(type(meta))\n",
    "print(type(class_meta))"
   ]
  },
  {
   "cell_type": "markdown",
   "id": "a004ebe1",
   "metadata": {},
   "source": [
    "##Sol 3 \n",
    "Anything we do with a class decorator, of course can be done with a custom metaclasses (just by  applying the functionality of the \"decorator function\", i.e., the one that takes a class object and modifies it, in the course of the metaclass's __new__ or __init__ that make the class object! "
   ]
  },
  {
   "cell_type": "markdown",
   "id": "e5f9f261",
   "metadata": {},
   "source": [
    "##Sol 4 same just like classes like instances by  applying the functionality of the \"decorator function\", i.e., the one that takes a class object and modifies it in the course of the metaclass's __new__ or __init__ that make the class object! "
   ]
  },
  {
   "cell_type": "code",
   "execution_count": null,
   "id": "a6e1cfe0",
   "metadata": {},
   "outputs": [],
   "source": []
  }
 ],
 "metadata": {
  "kernelspec": {
   "display_name": "Python 3 (ipykernel)",
   "language": "python",
   "name": "python3"
  },
  "language_info": {
   "codemirror_mode": {
    "name": "ipython",
    "version": 3
   },
   "file_extension": ".py",
   "mimetype": "text/x-python",
   "name": "python",
   "nbconvert_exporter": "python",
   "pygments_lexer": "ipython3",
   "version": "3.7.4"
  }
 },
 "nbformat": 4,
 "nbformat_minor": 5
}
