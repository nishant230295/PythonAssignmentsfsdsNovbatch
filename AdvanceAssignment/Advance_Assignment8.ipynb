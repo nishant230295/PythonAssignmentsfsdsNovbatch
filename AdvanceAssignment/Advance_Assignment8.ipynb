{
 "cells": [
  {
   "cell_type": "markdown",
   "id": "ed551257",
   "metadata": {},
   "source": [
    "##Sol 1\n",
    "assert and raise are the two latest user defined exception constarints in 3.X"
   ]
  },
  {
   "cell_type": "code",
   "execution_count": 2,
   "id": "7268a37e",
   "metadata": {},
   "outputs": [
    {
     "ename": "followonmargin",
     "evalue": "the follow on cannot be given",
     "output_type": "error",
     "traceback": [
      "\u001b[1;31m---------------------------------------------------------------------------\u001b[0m",
      "\u001b[1;31mfollowonmargin\u001b[0m                            Traceback (most recent call last)",
      "\u001b[1;32m~\\AppData\\Local\\Temp/ipykernel_7900/3427614885.py\u001b[0m in \u001b[0;36m<module>\u001b[1;34m\u001b[0m\n\u001b[0;32m      6\u001b[0m \u001b[0mdeflict\u001b[0m\u001b[1;33m=\u001b[0m\u001b[1;36m125\u001b[0m\u001b[1;33m\u001b[0m\u001b[1;33m\u001b[0m\u001b[0m\n\u001b[0;32m      7\u001b[0m \u001b[1;33m\u001b[0m\u001b[0m\n\u001b[1;32m----> 8\u001b[1;33m \u001b[1;32mif\u001b[0m \u001b[0mdeflict\u001b[0m\u001b[1;33m<\u001b[0m\u001b[1;36m199\u001b[0m\u001b[1;33m:\u001b[0m \u001b[1;32mraise\u001b[0m \u001b[0mfollowonmargin\u001b[0m\u001b[1;33m(\u001b[0m\u001b[1;34m'the follow on cannot be given'\u001b[0m\u001b[1;33m)\u001b[0m\u001b[1;33m\u001b[0m\u001b[1;33m\u001b[0m\u001b[0m\n\u001b[0m",
      "\u001b[1;31mfollowonmargin\u001b[0m: the follow on cannot be given"
     ]
    }
   ],
   "source": [
    "##Sol 2\n",
    "class followonmargin(Exception):\n",
    "    def __init__(self,msg):\n",
    "        self.msg=msg\n",
    "        \n",
    "deflict=125\n",
    "\n",
    "if deflict<199: raise followonmargin('the follow on cannot be given')"
   ]
  },
  {
   "cell_type": "markdown",
   "id": "55f6ba67",
   "metadata": {},
   "source": [
    "##Sol 3\n",
    "The process() method of LoggerAdapter is where the contextual information is added to the logging output. its passes the message and keyword arguments of the logging call, and it passes back modified versions of these to use in the call to the underlying logger.\n",
    "\n",
    "Other method that can be used is exception(), Logs a messgae with level ERROR on this logger. "
   ]
  },
  {
   "cell_type": "markdown",
   "id": "4075fcd1",
   "metadata": {},
   "source": [
    "##Sol 4 raise and assert are the two methods for specifying the text of an exception object's error message.\n",
    "        raise is used to introduce exception exception based on custom condition\n",
    "        \n",
    "        assertion is used when we want a condition to be true then only the program can move forward\n",
    "\n"
   ]
  },
  {
   "cell_type": "markdown",
   "id": "af27dc87",
   "metadata": {},
   "source": [
    "##Sol 5 \n",
    "String-based Exceptions doesn't inherit from Exceptions. so plain exceptions catch all exceptions and not only system."
   ]
  },
  {
   "cell_type": "code",
   "execution_count": null,
   "id": "f3ab5d26",
   "metadata": {},
   "outputs": [],
   "source": []
  }
 ],
 "metadata": {
  "kernelspec": {
   "display_name": "Python 3 (ipykernel)",
   "language": "python",
   "name": "python3"
  },
  "language_info": {
   "codemirror_mode": {
    "name": "ipython",
    "version": 3
   },
   "file_extension": ".py",
   "mimetype": "text/x-python",
   "name": "python",
   "nbconvert_exporter": "python",
   "pygments_lexer": "ipython3",
   "version": "3.7.4"
  }
 },
 "nbformat": 4,
 "nbformat_minor": 5
}
