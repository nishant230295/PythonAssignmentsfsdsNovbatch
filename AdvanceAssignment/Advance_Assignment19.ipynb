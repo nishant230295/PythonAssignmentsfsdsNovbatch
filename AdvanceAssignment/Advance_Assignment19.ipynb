{
 "cells": [
  {
   "cell_type": "markdown",
   "id": "fec9da02",
   "metadata": {},
   "source": [
    "##Sol 1 \n",
    "Relationship between a class and its instances is a one to many partnership."
   ]
  },
  {
   "cell_type": "markdown",
   "id": "4767849f",
   "metadata": {},
   "source": [
    "##Sol 2 Instance objects contains the Instance variables which are specific to that specific Instance object."
   ]
  },
  {
   "cell_type": "markdown",
   "id": "7bbddc1a",
   "metadata": {},
   "source": [
    "##Sol 3 \n",
    "A class act as blueprint which consists of data members and functions Instance objects contains the Instance variables which are specific to that specific Instance object."
   ]
  },
  {
   "cell_type": "markdown",
   "id": "d4c22e44",
   "metadata": {},
   "source": [
    "##Sol 4 \n",
    "The methods with a class can be used to access the insatnce variables of its instance. So,the object's state can be modified by its method. Function can't access the attributes of an instance of a class or can't modify the state of the object."
   ]
  },
  {
   "cell_type": "markdown",
   "id": "28fb5c3f",
   "metadata": {},
   "source": [
    "##Sol 5 \n",
    "Yes python supports inheritance like multiple inheritance and multilevel inheritance "
   ]
  },
  {
   "cell_type": "code",
   "execution_count": 1,
   "id": "2a3b27a2",
   "metadata": {},
   "outputs": [],
   "source": [
    "class A:\n",
    "    pass\n",
    "\n",
    "class B(A):\n",
    "    pass\n",
    "\n",
    "#Here class B will inherit from A"
   ]
  },
  {
   "cell_type": "markdown",
   "id": "81ff6b73",
   "metadata": {},
   "source": [
    "##Sol 6 \n",
    "Encapsulation describes the idea of wrapping data and the methods that work on data within one unit. This puts restrictions on accessing variables and methods directly and can prevent the accidental modification of data. To prevent accidental change, an objects variable can only be changed by an objects method."
   ]
  },
  {
   "cell_type": "markdown",
   "id": "483edfec",
   "metadata": {},
   "source": [
    "##Sol 7\n",
    "The Class Attribute is available to all the instance objects of that class. whereas Instance Attributes are accessible only to the object or Instance of that class."
   ]
  },
  {
   "cell_type": "markdown",
   "id": "2f93fe3e",
   "metadata": {},
   "source": [
    "##Sol 8\n",
    "Yes, self can included in class method definations to access the instance variables inside class methods."
   ]
  },
  {
   "cell_type": "markdown",
   "id": "1c6a3d4e",
   "metadata": {},
   "source": [
    "##Sol 9\n",
    "Entering __radd__ Python will first try __add__(), and if that returns Not Implemented Python will check if the right-hand operand implements __radd__, and if it does, it will call __radd__() rather than raising a TypeError"
   ]
  },
  {
   "cell_type": "markdown",
   "id": "43c1f2ec",
   "metadata": {},
   "source": [
    "##Sol 10\n",
    " Reflection method we often encounter the requirement that a method in the executing object, or a variable in the calling object, or a field of the object should be assigned, while the method name or field name can not be determined when encoding the code, and need to be input in the form of passing strings through parameters."
   ]
  },
  {
   "cell_type": "markdown",
   "id": "41cfcb2a",
   "metadata": {},
   "source": [
    "##Sol 11\n",
    "_ _iadd_ _ method is used to implement a+=b like operation"
   ]
  },
  {
   "cell_type": "markdown",
   "id": "7dc78fac",
   "metadata": {},
   "source": [
    "##Sol 12 Yes __init__method is inherited by subclasses to overide it we can use super method"
   ]
  },
  {
   "cell_type": "code",
   "execution_count": 18,
   "id": "b1101405",
   "metadata": {},
   "outputs": [
    {
     "data": {
      "text/plain": [
       "'C:\\\\Users\\\\friez'"
      ]
     },
     "execution_count": 18,
     "metadata": {},
     "output_type": "execute_result"
    }
   ],
   "source": [
    "import os \n",
    "os.getcwd()"
   ]
  },
  {
   "cell_type": "code",
   "execution_count": null,
   "id": "ef131515",
   "metadata": {},
   "outputs": [],
   "source": [
    "open()"
   ]
  }
 ],
 "metadata": {
  "kernelspec": {
   "display_name": "Python 3 (ipykernel)",
   "language": "python",
   "name": "python3"
  },
  "language_info": {
   "codemirror_mode": {
    "name": "ipython",
    "version": 3
   },
   "file_extension": ".py",
   "mimetype": "text/x-python",
   "name": "python",
   "nbconvert_exporter": "python",
   "pygments_lexer": "ipython3",
   "version": "3.7.4"
  }
 },
 "nbformat": 4,
 "nbformat_minor": 5
}
