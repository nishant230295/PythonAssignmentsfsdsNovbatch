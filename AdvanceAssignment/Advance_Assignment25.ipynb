{
 "cells": [
  {
   "cell_type": "markdown",
   "id": "7da13de6",
   "metadata": {},
   "source": [
    "##Sol 1\n",
    "\n",
    "Numpy Ndarray provides a lot of convenient and optimized methods for performing several mathematical operations on vectors.\n",
    "\n",
    "Pandas Dataframe is an in-memory 2-dimensional tabular representation of data. In simpler words, it can be seen as a spreadsheet having rows and columns. \n",
    "\n",
    "using pd.DataFrame we can convert a suitable data into dataframe"
   ]
  },
  {
   "cell_type": "markdown",
   "id": "65b18f9f",
   "metadata": {},
   "source": [
    "##sol 3\n",
    "Bar Chart and Line chart cdan be used for plotting"
   ]
  },
  {
   "cell_type": "markdown",
   "id": "759cea0f",
   "metadata": {},
   "source": [
    "##sol 4 \n",
    "\n",
    "Legend will help comparison between different stocks, so will be essential on a stock market chart\n"
   ]
  },
  {
   "cell_type": "markdown",
   "id": "45600c10",
   "metadata": {},
   "source": [
    "##Sol 5\n",
    "\n",
    "we can use start and end parameters with suitable dates"
   ]
  },
  {
   "cell_type": "markdown",
   "id": "c2ac2993",
   "metadata": {},
   "source": [
    "##Sol 6\n",
    "The 180-day moving average is represented as a line on charts and represents the average price over the past 180 days. The moving average can give traders a sense regarding whether the trend is up or down, while also identifying potential support or resistance areas.\n"
   ]
  },
  {
   "cell_type": "code",
   "execution_count": null,
   "id": "c2f0eb0b",
   "metadata": {},
   "outputs": [],
   "source": []
  }
 ],
 "metadata": {
  "kernelspec": {
   "display_name": "Python 3 (ipykernel)",
   "language": "python",
   "name": "python3"
  },
  "language_info": {
   "codemirror_mode": {
    "name": "ipython",
    "version": 3
   },
   "file_extension": ".py",
   "mimetype": "text/x-python",
   "name": "python",
   "nbconvert_exporter": "python",
   "pygments_lexer": "ipython3",
   "version": "3.7.4"
  }
 },
 "nbformat": 4,
 "nbformat_minor": 5
}
