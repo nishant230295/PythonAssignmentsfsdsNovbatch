{
 "cells": [
  {
   "cell_type": "markdown",
   "id": "c7953d9b",
   "metadata": {},
   "source": [
    "##Sol 1\n",
    "Arrays represent multiple data items of the same type using a single name. In arrays, the elements can be accessed randomly by using the index number. Arrays allocate memory in contiguous memory locations for all its elements. Hence there is no chance of extra memory being allocated in case of arrays. This avoids memory overflow or shortage of memory in arrays."
   ]
  },
  {
   "cell_type": "markdown",
   "id": "c126b68a",
   "metadata": {},
   "source": [
    "##Sol 2 \n",
    "Some of the disadvantages of built in array package:\n",
    "\n",
    "1. The Number of elements to be stored to be well known in advance also it is static structure and its size cannot be increased or decreased \n",
    "2. Insertion and deletion are quite difficult in an array as the elements are stored in consecutive memory locations and the shifting operation is costly.\n"
   ]
  },
  {
   "cell_type": "markdown",
   "id": "e9a75375",
   "metadata": {},
   "source": [
    "##Sol 3 \n",
    "The array package doesn't provide any help with numerical calculation with the items insdie it in number form while NumPy give you a wide variety of numerical operations.\n",
    "\n",
    "An array is a single dimensional entity which hold the numerical data, while numpy can have more than 1 dimension.\n",
    "\n",
    "In case of array, item can be accessed by its index position and it is easy task while in numpy item is accessed by its column and row index, which makes it slightly time taking. Same goes with appending operation.\n",
    "\n",
    "In case of array we do not form a tabular structure, while in numpy it forms a tabular structure"
   ]
  },
  {
   "cell_type": "markdown",
   "id": "cb6a4525",
   "metadata": {},
   "source": [
    "##Sol 4\n",
    "An empty function doesnot considts of anything inside it \n",
    "\n",
    "in ones each element is 1\n",
    "\n",
    "in zeros eacxh element is 0"
   ]
  },
  {
   "cell_type": "markdown",
   "id": "76095100",
   "metadata": {},
   "source": [
    "##Sol 5\n",
    "ts function is to execute the function over each coordinate and the resulting array. The function is called with N parameters, where N is the rank of shape. Each parameter represents the coordinates of the array varying along a specific axis."
   ]
  },
  {
   "cell_type": "markdown",
   "id": "58b94eba",
   "metadata": {},
   "source": [
    "##Sol 6 \n",
    "Each element in numpy array will be added by n"
   ]
  },
  {
   "cell_type": "markdown",
   "id": "e5539490",
   "metadata": {},
   "source": [
    "##Sol 7\n",
    "It will carry out provided operation on all elements of array."
   ]
  },
  {
   "cell_type": "markdown",
   "id": "8deefb9a",
   "metadata": {},
   "source": [
    "##Sol 8 \n",
    "Yes, it is possible that we can include a string of fixed length in numpy array. The dtype of any numpy array containing string values is the maximum length of any string present in the array.Once set, it will only be able to store new string having length not more than the maximum length at the time of the creation. If we try to reassign some another string value having length greater than the maximum length of the existing elements, it simply discards all the values beyond the maximum length accept upto those values which are under the limit."
   ]
  },
  {
   "cell_type": "markdown",
   "id": "26a54316",
   "metadata": {},
   "source": [
    "##Sol 9 \n",
    "it will add or multiply at same position"
   ]
  },
  {
   "cell_type": "markdown",
   "id": "a3fa390d",
   "metadata": {},
   "source": [
    "##Sol 10\n",
    "using masked_where of numpy package"
   ]
  },
  {
   "cell_type": "markdown",
   "id": "03761610",
   "metadata": {},
   "source": [
    "##Sol 11 using np.std,scipy.stats.std and using math package to specifically calculate from sample by custom code\n",
    "         obviously the first two are faster"
   ]
  },
  {
   "cell_type": "markdown",
   "id": "538ac7c5",
   "metadata": {},
   "source": [
    "##Sol 12 same dimensionality as input array\n"
   ]
  },
  {
   "cell_type": "code",
   "execution_count": null,
   "id": "2a07302a",
   "metadata": {},
   "outputs": [],
   "source": []
  }
 ],
 "metadata": {
  "kernelspec": {
   "display_name": "Python 3 (ipykernel)",
   "language": "python",
   "name": "python3"
  },
  "language_info": {
   "codemirror_mode": {
    "name": "ipython",
    "version": 3
   },
   "file_extension": ".py",
   "mimetype": "text/x-python",
   "name": "python",
   "nbconvert_exporter": "python",
   "pygments_lexer": "ipython3",
   "version": "3.7.4"
  }
 },
 "nbformat": 4,
 "nbformat_minor": 5
}
