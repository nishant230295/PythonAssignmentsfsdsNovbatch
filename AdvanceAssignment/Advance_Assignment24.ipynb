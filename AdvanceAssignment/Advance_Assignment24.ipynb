{
 "cells": [
  {
   "cell_type": "markdown",
   "id": "d3861326",
   "metadata": {},
   "source": [
    "##Sol 1\n",
    "\n",
    "Yes it is possible infact it is donw when we use several function s from same module"
   ]
  },
  {
   "cell_type": "markdown",
   "id": "81c44a9d",
   "metadata": {},
   "source": [
    "##Sol 2\n",
    "following are some of module charcteristics\n",
    "\n",
    "__doc__ : returns the docstring in string module\n",
    "__name__: name of the modulw"
   ]
  },
  {
   "cell_type": "markdown",
   "id": "57873773",
   "metadata": {},
   "source": [
    "##Sol 3\n",
    "Circular importing means importing the two modules in each other. If suppose we are wokring in MOD1.py file and it is importing some function say F2() from some other module say MOD2.PY file or we can do vice-versa. What will happen is: This will give an import error.\n",
    "\n",
    "This is because when we import F2() function from module MOD2.py, then this will execute MOD2.py file. And in MOD2.py file there is an another statement of importing MOD1.py module.\n",
    "\n",
    "This will result in endless loop. To avoid this error just do one thingWe can use if __name__ == '__main__'"
   ]
  },
  {
   "cell_type": "markdown",
   "id": "ed313259",
   "metadata": {},
   "source": [
    "##Sol 4 \n",
    "It provides list of all modules present in a library."
   ]
  },
  {
   "cell_type": "markdown",
   "id": "50b6d4ae",
   "metadata": {},
   "source": [
    "##Sol 5\n",
    "During the time of execution of the code if we want to refer the module in which we are working on then we uses name attribute. In that case it will return the module in which we are working on.  The current module in which we are working is refer to the string __main __"
   ]
  },
  {
   "cell_type": "markdown",
   "id": "49e6b874",
   "metadata": {},
   "source": [
    "##Sol 6\n",
    "RPN stands for reverse polish notation in which operators follow operands like (3+4)X5 are 3 4 + 5 x \n",
    "this saves both time and keystrokes also we can see inter calculations instead of final answer suppose we want \n",
    "to see some inter calculations in complex equation"
   ]
  },
  {
   "cell_type": "markdown",
   "id": "fd3afd15",
   "metadata": {},
   "source": [
    "##Sol 7\n",
    " Three operations"
   ]
  },
  {
   "cell_type": "code",
   "execution_count": null,
   "id": "dcee72e9",
   "metadata": {},
   "outputs": [],
   "source": []
  }
 ],
 "metadata": {
  "kernelspec": {
   "display_name": "Python 3 (ipykernel)",
   "language": "python",
   "name": "python3"
  },
  "language_info": {
   "codemirror_mode": {
    "name": "ipython",
    "version": 3
   },
   "file_extension": ".py",
   "mimetype": "text/x-python",
   "name": "python",
   "nbconvert_exporter": "python",
   "pygments_lexer": "ipython3",
   "version": "3.7.4"
  }
 },
 "nbformat": 4,
 "nbformat_minor": 5
}
