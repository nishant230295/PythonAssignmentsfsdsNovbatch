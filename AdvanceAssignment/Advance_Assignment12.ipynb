{
 "cells": [
  {
   "cell_type": "markdown",
   "id": "7e8034bb",
   "metadata": {},
   "source": [
    "##Sol 1\n",
    "String’s indexed character cannot to be assigned a New value , as Strings are immutable."
   ]
  },
  {
   "cell_type": "code",
   "execution_count": 1,
   "id": "a1ef7f6c",
   "metadata": {},
   "outputs": [
    {
     "ename": "TypeError",
     "evalue": "'str' object does not support item assignment",
     "output_type": "error",
     "traceback": [
      "\u001b[1;31m---------------------------------------------------------------------------\u001b[0m",
      "\u001b[1;31mTypeError\u001b[0m                                 Traceback (most recent call last)",
      "\u001b[1;32m~\\AppData\\Local\\Temp/ipykernel_16480/161005615.py\u001b[0m in \u001b[0;36m<module>\u001b[1;34m\u001b[0m\n\u001b[0;32m      1\u001b[0m \u001b[0mx\u001b[0m\u001b[1;33m=\u001b[0m\u001b[1;34m'dfgsj'\u001b[0m\u001b[1;33m\u001b[0m\u001b[1;33m\u001b[0m\u001b[0m\n\u001b[1;32m----> 2\u001b[1;33m \u001b[0mx\u001b[0m\u001b[1;33m[\u001b[0m\u001b[1;36m0\u001b[0m\u001b[1;33m]\u001b[0m\u001b[1;33m=\u001b[0m\u001b[1;34m'h'\u001b[0m\u001b[1;33m\u001b[0m\u001b[1;33m\u001b[0m\u001b[0m\n\u001b[0m",
      "\u001b[1;31mTypeError\u001b[0m: 'str' object does not support item assignment"
     ]
    }
   ],
   "source": [
    "x='dfgsj'\n",
    "x[0]='h'"
   ]
  },
  {
   "cell_type": "markdown",
   "id": "159dc4ae",
   "metadata": {},
   "source": [
    "##Sol 2 \n",
    "No += operator doesnot violate string immutability although it is apprantely shown they are stored in same variable but their id are different as shown below"
   ]
  },
  {
   "cell_type": "code",
   "execution_count": 2,
   "id": "79c5faeb",
   "metadata": {},
   "outputs": [
    {
     "name": "stdout",
     "output_type": "stream",
     "text": [
      "2340705201392\n",
      "2338635256368\n"
     ]
    }
   ],
   "source": [
    "str_1 = 'a'\n",
    "print(id(str_1))\n",
    "str_1 += 'b'\n",
    "print(id(str_1)) # Does not Modify existing string, Creates a New String Object"
   ]
  },
  {
   "cell_type": "markdown",
   "id": "c57539d4",
   "metadata": {},
   "source": [
    "##Sol 3\n",
    "A character or sub string can be indexed by string follwed by square bracket with index number \n",
    "\n",
    "1.by positive slicing index\n",
    "\n",
    "2. by negative slicing index "
   ]
  },
  {
   "cell_type": "code",
   "execution_count": 3,
   "id": "ae92cab6",
   "metadata": {},
   "outputs": [
    {
     "name": "stdout",
     "output_type": "stream",
     "text": [
      "j\n",
      "j\n"
     ]
    }
   ],
   "source": [
    "x='dfgsj'\n",
    "print(x[4])\n",
    "print(x[-1])"
   ]
  },
  {
   "cell_type": "markdown",
   "id": "ac71ac1b",
   "metadata": {},
   "source": [
    "##Sol 4 \n",
    "We can access elements of sequence datatypes by using slicing and indexing. \n",
    "Indexing is used to obtaining individual element while slicing for sequence of elements"
   ]
  },
  {
   "cell_type": "markdown",
   "id": "b2657f76",
   "metadata": {},
   "source": [
    "##Sol 5\n",
    "Indexed characters and sliced substrings have datatype String."
   ]
  },
  {
   "cell_type": "code",
   "execution_count": 5,
   "id": "aa0262a2",
   "metadata": {},
   "outputs": [
    {
     "name": "stdout",
     "output_type": "stream",
     "text": [
      "<class 'str'>\n",
      "<class 'str'>\n"
     ]
    }
   ],
   "source": [
    "x='dfgsj'\n",
    "print(type(x[2:4]))\n",
    "print(type(x[-1]))"
   ]
  },
  {
   "cell_type": "markdown",
   "id": "8b03e02b",
   "metadata": {},
   "source": [
    "##Sol 6 \n",
    "Object that contains sequence of character datatypes are called String. well there are no specific character but sub strings only"
   ]
  },
  {
   "cell_type": "markdown",
   "id": "8acded25",
   "metadata": {},
   "source": [
    "##Sol 7 \n",
    "\n",
    " '+' and '*' are operators \n",
    "\n",
    ".join() is the method"
   ]
  },
  {
   "cell_type": "code",
   "execution_count": 6,
   "id": "a4fe35a9",
   "metadata": {},
   "outputs": [
    {
     "name": "stdout",
     "output_type": "stream",
     "text": [
      "dfgsjneuron\n",
      "dfgsjdfgsj\n"
     ]
    },
    {
     "data": {
      "text/plain": [
       "'aieou'"
      ]
     },
     "execution_count": 6,
     "metadata": {},
     "output_type": "execute_result"
    }
   ],
   "source": [
    "y='neuron'\n",
    "print(x+y)\n",
    "print(x*2)\n",
    "\n",
    "z=['a','i','e','o','u']\n",
    "\n",
    "''.join(z)"
   ]
  },
  {
   "cell_type": "markdown",
   "id": "e6ded35f",
   "metadata": {},
   "source": [
    "##Sol 8 \n",
    "Checking the target string with in or not Operators before using the index method to find a substring just helps confirming availability of substring and thus avoid raising of ValueError."
   ]
  },
  {
   "cell_type": "markdown",
   "id": "529c52c4",
   "metadata": {},
   "source": [
    "##Sol 9 \n",
    "the following methods will produce a boolean result when implemented \n",
    "\n",
    "1.Not in\n",
    "\n",
    "2. in \n",
    "\n",
    "3. .islower()\n",
    "\n",
    "4. .isupper()\n",
    "\n",
    "5. .isnumeric()\n"
   ]
  },
  {
   "cell_type": "code",
   "execution_count": null,
   "id": "be9a041e",
   "metadata": {},
   "outputs": [],
   "source": []
  }
 ],
 "metadata": {
  "kernelspec": {
   "display_name": "Python 3 (ipykernel)",
   "language": "python",
   "name": "python3"
  },
  "language_info": {
   "codemirror_mode": {
    "name": "ipython",
    "version": 3
   },
   "file_extension": ".py",
   "mimetype": "text/x-python",
   "name": "python",
   "nbconvert_exporter": "python",
   "pygments_lexer": "ipython3",
   "version": "3.7.4"
  }
 },
 "nbformat": 4,
 "nbformat_minor": 5
}
