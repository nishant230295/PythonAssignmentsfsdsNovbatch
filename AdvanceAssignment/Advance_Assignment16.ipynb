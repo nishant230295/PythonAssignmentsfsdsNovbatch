{
 "cells": [
  {
   "cell_type": "markdown",
   "id": "c6a30204",
   "metadata": {},
   "source": [
    "##Sol 1\n",
    "\n",
    " Regular Expressions, also known as regex or regexp, are used to match strings of text such as particular characters, words, or patterns of characters. It means that we can match and extract any string pattern from the text with the help of regular expressions. it helps the programmers to Write less and cleaner code. it also avoids multiple use of if/else statements."
   ]
  },
  {
   "cell_type": "markdown",
   "id": "4dd30093",
   "metadata": {},
   "source": [
    "##Sol 2 \n",
    "Both are qualified patterns in (ab)c+ ab is group while in a(bc)+ bc is group"
   ]
  },
  {
   "cell_type": "markdown",
   "id": "b79ef450",
   "metadata": {},
   "source": [
    "##Sol 3 \n",
    "everytime before using regex module functions"
   ]
  },
  {
   "cell_type": "markdown",
   "id": "7474e415",
   "metadata": {},
   "source": [
    "##Sol 4 \n",
    " The Characters .,*,?,^,or,(), have a special signiface when used with square brackets. They need not be be explicitly escaped by \\ as in case of pattern texts in a raw string."
   ]
  },
  {
   "cell_type": "markdown",
   "id": "c48293ef",
   "metadata": {},
   "source": [
    "##Sol 5\n",
    "We can Combine a regular expression pattern into pattern Objects.Which can be used for pattern matching. it also helps to search a pattern again without rewritting it."
   ]
  },
  {
   "cell_type": "markdown",
   "id": "447dc42f",
   "metadata": {},
   "source": [
    "##Sol 6\n",
    "The re.search() and re.match() both are functions of re module in python. These functions are very efficient and fast for searching in strings. The function searches for some substring in a string and returns a match object if found, else it returns none.\n",
    "\n",
    "There is a difference between the use of both functions. Both return the first match of a substring found in the string, but re.match() searches only from the beginning of the string and return match object if found. But if a match of substring is found somewhere in the middle of the string, it returns none.\n",
    "\n",
    "While re.search() searches for the whole string even if the string contains multi-lines and tries to find a match of the substring in all the lines of string"
   ]
  },
  {
   "cell_type": "markdown",
   "id": "0c2cdd60",
   "metadata": {},
   "source": [
    "##Sol 7 \n",
    "Vertical bar is used to check OR condition whereas square brackets are used for check a specific char in the string"
   ]
  },
  {
   "cell_type": "markdown",
   "id": "a25e7be6",
   "metadata": {},
   "source": [
    "##Sol 8 Raw Strings are used in the regular-expression search patterns, so that blackslashes donot have to be escaped."
   ]
  },
  {
   "cell_type": "code",
   "execution_count": null,
   "id": "719de618",
   "metadata": {},
   "outputs": [],
   "source": []
  }
 ],
 "metadata": {
  "kernelspec": {
   "display_name": "Python 3 (ipykernel)",
   "language": "python",
   "name": "python3"
  },
  "language_info": {
   "codemirror_mode": {
    "name": "ipython",
    "version": 3
   },
   "file_extension": ".py",
   "mimetype": "text/x-python",
   "name": "python",
   "nbconvert_exporter": "python",
   "pygments_lexer": "ipython3",
   "version": "3.7.4"
  }
 },
 "nbformat": 4,
 "nbformat_minor": 5
}
