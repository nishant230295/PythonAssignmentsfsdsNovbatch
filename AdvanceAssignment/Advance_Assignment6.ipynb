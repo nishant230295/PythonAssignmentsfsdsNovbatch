{
 "cells": [
  {
   "cell_type": "markdown",
   "id": "708fa0d8",
   "metadata": {},
   "source": [
    "##Sol 1\n",
    "Exception Handling is neccesary to handle run time errors when syntatical errors are not there\n",
    "It become neccesary due to following reasons:\n",
    "\n",
    "1. Check file i/o operations in file handling\n",
    "2. Ensuring Database connections are closed appropraitely even errors are excuted in the program\n",
    "3. Check Appropriate use of input in appliactions"
   ]
  },
  {
   "cell_type": "markdown",
   "id": "e398adb0",
   "metadata": {},
   "source": [
    "##Sol 2 \n",
    "If Exceptions are not handled flow of program will be broken during the run time which might lead to a abnormal termination of the program. Inshort inability of program to handle exceptions will result in crashing of program and our whole \"program \n",
    "goes for a toss\"\n",
    "\n",
    "THe following problems are introduced\n",
    "1. Files are not appropraiately closed \n",
    "2. Established connections may not be handled"
   ]
  },
  {
   "cell_type": "markdown",
   "id": "787bbef5",
   "metadata": {},
   "source": [
    "##Sol 3\n",
    "Python provides try and except statements for recovering exceptions from script"
   ]
  },
  {
   "cell_type": "markdown",
   "id": "7534c509",
   "metadata": {},
   "source": [
    "##Sol 4\n",
    "Raise and assert statements can be used to insert exceptions in program \n",
    "Below its implementation is shown"
   ]
  },
  {
   "cell_type": "code",
   "execution_count": 3,
   "id": "54c4ee61",
   "metadata": {},
   "outputs": [
    {
     "name": "stdout",
     "output_type": "stream",
     "text": [
      "enter num less than 3  4\n"
     ]
    },
    {
     "ename": "Exception",
     "evalue": "value entered is not less than 3 \"4\"",
     "output_type": "error",
     "traceback": [
      "\u001b[1;31m---------------------------------------------------------------------------\u001b[0m",
      "\u001b[1;31mException\u001b[0m                                 Traceback (most recent call last)",
      "\u001b[1;32m~\\AppData\\Local\\Temp/ipykernel_14380/1889871823.py\u001b[0m in \u001b[0;36m<module>\u001b[1;34m\u001b[0m\n\u001b[0;32m      1\u001b[0m \u001b[0mx\u001b[0m\u001b[1;33m=\u001b[0m\u001b[0mint\u001b[0m\u001b[1;33m(\u001b[0m\u001b[0minput\u001b[0m\u001b[1;33m(\u001b[0m\u001b[1;34m'enter num less than 3  '\u001b[0m\u001b[1;33m)\u001b[0m\u001b[1;33m)\u001b[0m\u001b[1;33m\u001b[0m\u001b[1;33m\u001b[0m\u001b[0m\n\u001b[0;32m      2\u001b[0m \u001b[1;32mif\u001b[0m \u001b[0mx\u001b[0m\u001b[1;33m>=\u001b[0m\u001b[1;36m3\u001b[0m\u001b[1;33m:\u001b[0m\u001b[1;33m\u001b[0m\u001b[1;33m\u001b[0m\u001b[0m\n\u001b[1;32m----> 3\u001b[1;33m     \u001b[1;32mraise\u001b[0m \u001b[0mException\u001b[0m\u001b[1;33m(\u001b[0m\u001b[1;34mf'value entered is not less than 3 \"{x}\"'\u001b[0m\u001b[1;33m)\u001b[0m\u001b[1;33m\u001b[0m\u001b[1;33m\u001b[0m\u001b[0m\n\u001b[0m\u001b[0;32m      4\u001b[0m \u001b[1;32melse\u001b[0m\u001b[1;33m:\u001b[0m\u001b[1;33m\u001b[0m\u001b[1;33m\u001b[0m\u001b[0m\n\u001b[0;32m      5\u001b[0m     \u001b[0mprint\u001b[0m\u001b[1;33m(\u001b[0m\u001b[0mx\u001b[0m\u001b[1;33m)\u001b[0m\u001b[1;33m\u001b[0m\u001b[1;33m\u001b[0m\u001b[0m\n",
      "\u001b[1;31mException\u001b[0m: value entered is not less than 3 \"4\""
     ]
    }
   ],
   "source": [
    "x=int(input('enter num less than 3  '))\n",
    "if x>=3:\n",
    "    raise Exception(f'value entered is not less than 3 \"{x}\"')\n",
    "else:\n",
    "    print(x)"
   ]
  },
  {
   "cell_type": "code",
   "execution_count": 4,
   "id": "5e6e8319",
   "metadata": {},
   "outputs": [
    {
     "ename": "AssertionError",
     "evalue": "Number not equal",
     "output_type": "error",
     "traceback": [
      "\u001b[1;31m---------------------------------------------------------------------------\u001b[0m",
      "\u001b[1;31mAssertionError\u001b[0m                            Traceback (most recent call last)",
      "\u001b[1;32m~\\AppData\\Local\\Temp/ipykernel_14380/1826164359.py\u001b[0m in \u001b[0;36m<module>\u001b[1;34m\u001b[0m\n\u001b[0;32m      2\u001b[0m \u001b[1;32massert\u001b[0m \u001b[1;36m6\u001b[0m\u001b[1;33m==\u001b[0m\u001b[1;36m6\u001b[0m \u001b[1;33m,\u001b[0m\u001b[1;34m'Number not equal'\u001b[0m\u001b[1;33m\u001b[0m\u001b[1;33m\u001b[0m\u001b[0m\n\u001b[0;32m      3\u001b[0m \u001b[1;33m\u001b[0m\u001b[0m\n\u001b[1;32m----> 4\u001b[1;33m \u001b[1;32massert\u001b[0m \u001b[1;36m2\u001b[0m\u001b[1;33m==\u001b[0m\u001b[1;36m4\u001b[0m \u001b[1;33m,\u001b[0m\u001b[1;34m'Number not equal'\u001b[0m\u001b[1;33m\u001b[0m\u001b[1;33m\u001b[0m\u001b[0m\n\u001b[0m",
      "\u001b[1;31mAssertionError\u001b[0m: Number not equal"
     ]
    }
   ],
   "source": [
    "## if condition is true in assert it will do nothinbg otherwise return assertion error\n",
    "assert 6==6 ,'Number not equal'\n",
    "\n",
    "assert 2==4 ,'Number not equal'"
   ]
  },
  {
   "cell_type": "markdown",
   "id": "96f6003e",
   "metadata": {},
   "source": [
    "##Sol 5\n",
    "else and finally are two keywords provided in python specifying actions to be executed at termination time, regardless of whether or not an exception exists."
   ]
  },
  {
   "cell_type": "code",
   "execution_count": null,
   "id": "0513d15b",
   "metadata": {},
   "outputs": [],
   "source": []
  }
 ],
 "metadata": {
  "kernelspec": {
   "display_name": "Python 3 (ipykernel)",
   "language": "python",
   "name": "python3"
  },
  "language_info": {
   "codemirror_mode": {
    "name": "ipython",
    "version": 3
   },
   "file_extension": ".py",
   "mimetype": "text/x-python",
   "name": "python",
   "nbconvert_exporter": "python",
   "pygments_lexer": "ipython3",
   "version": "3.7.4"
  }
 },
 "nbformat": 4,
 "nbformat_minor": 5
}
