{
 "cells": [
  {
   "cell_type": "markdown",
   "id": "9af10589",
   "metadata": {},
   "source": [
    "## Sol 1\n",
    "in simple terms propbability distributions maps the likelihood of fetching a particular value of random variable based on the distribution we can prdict the chances of an event"
   ]
  },
  {
   "cell_type": "markdown",
   "id": "013bf6be",
   "metadata": {},
   "source": [
    "##Sol 2\n",
    ": True Random Numbers are true physical values while pseudo-random numbers are generated internally by a program . Latter is considered good enough as they have sort of uniform distribution."
   ]
  },
  {
   "cell_type": "markdown",
   "id": "b28646f6",
   "metadata": {},
   "source": [
    "##Sol 3\n",
    "normal probability distribution is influenced by mean and variance"
   ]
  },
  {
   "cell_type": "markdown",
   "id": "63c55796",
   "metadata": {},
   "source": [
    "##Sol 4 \n",
    "blood pressure , height, weight follow a normal distribution"
   ]
  },
  {
   "cell_type": "markdown",
   "id": "b32d349d",
   "metadata": {},
   "source": [
    "##Sol 5 \n",
    "Variance will decrease with number of trials"
   ]
  },
  {
   "cell_type": "markdown",
   "id": "5978cf5f",
   "metadata": {},
   "source": [
    "##Sol 6\n",
    "lists (list), strings (str) and tuples (tuple) objects can be shuffled by using random.shuffle."
   ]
  },
  {
   "cell_type": "markdown",
   "id": "9ad459af",
   "metadata": {},
   "source": [
    "##Sol 7 The Math package's general categories of functions are:\n",
    "\n",
    "Trigonometric functions\n",
    "Quadratic functions\n",
    "Exponential functions\n",
    "Periodic functions\n",
    "Arithmetic functions\n",
    "Logarithimic functions\n",
    "Conversions to Integer"
   ]
  },
  {
   "cell_type": "markdown",
   "id": "a6306a0e",
   "metadata": {},
   "source": [
    "##Sol 8  They are inverse of each other "
   ]
  },
  {
   "cell_type": "markdown",
   "id": "ee1f0d42",
   "metadata": {},
   "source": [
    "##Sol 9 The Three Logarithmic Functions that Python supports are:\n",
    "\n",
    "log2(x) - logarithmic value of x to base 2\n",
    "log10(x) - logarithmic value of x to base 10\n",
    "log1p(a) - This function is used to compute logarithm(1+a) ."
   ]
  },
  {
   "cell_type": "code",
   "execution_count": null,
   "id": "91ebfd3f",
   "metadata": {},
   "outputs": [],
   "source": []
  }
 ],
 "metadata": {
  "kernelspec": {
   "display_name": "Python 3 (ipykernel)",
   "language": "python",
   "name": "python3"
  },
  "language_info": {
   "codemirror_mode": {
    "name": "ipython",
    "version": 3
   },
   "file_extension": ".py",
   "mimetype": "text/x-python",
   "name": "python",
   "nbconvert_exporter": "python",
   "pygments_lexer": "ipython3",
   "version": "3.7.4"
  }
 },
 "nbformat": 4,
 "nbformat_minor": 5
}
