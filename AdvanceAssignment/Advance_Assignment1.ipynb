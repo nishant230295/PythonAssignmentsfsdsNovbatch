{
 "cells": [
  {
   "cell_type": "markdown",
   "id": "c6cbc71c",
   "metadata": {},
   "source": [
    "##Sol 1 \n",
    " Object-oriented programming is a programming habit that provides a means of structuring programs so that properties and behaviors are bundled into individual objects\n",
    "In Python, object-oriented Programming (OOPs) uses objects and classes in programming.\n",
    "The main concept of OOPs is to bind the data and the functions that work on that together as a single unit so that no other part of the code can access this data.\n",
    "\n",
    "It comes up with the following advantages:\n",
    "It helps to divide our over all program into different small segments and thus making it solving easy with the use of objects\n",
    "Helps in easy maintenance and modification of existing program\n",
    "Multiple instances of an object can be made."
   ]
  },
  {
   "cell_type": "markdown",
   "id": "b72aa262",
   "metadata": {},
   "source": [
    "##Sol 2 It looks for an upward tree of attributes first loks at its instance then from class it is inherited from then from all the super classes or (classes from where it is inherited)"
   ]
  },
  {
   "cell_type": "markdown",
   "id": "309a4c68",
   "metadata": {},
   "source": [
    "##Sol 3 Classes object are defined at the time of creating clasees whereas instance object at any time \n",
    "        Also seprate memory is allocated for each object where as for class this does not happen\n",
    "        also since no specific memory is allocated for class they cannot be manipulated while instance objectsw can be \n",
    "        manipulated"
   ]
  },
  {
   "cell_type": "code",
   "execution_count": 1,
   "id": "3a7b8671",
   "metadata": {},
   "outputs": [
    {
     "data": {
      "text/plain": [
       "\"'Sol 4 Python classes have three type of methods which are :\\n        1. Instance methods\\n        2. Class methods\\n        3. Static Methods\\n           self first argument for instance methods. which refers to the object itself\\n           cls is the first argument for class methods which refers to the class itself\\n\""
      ]
     },
     "execution_count": 1,
     "metadata": {},
     "output_type": "execute_result"
    }
   ],
   "source": [
    "''''Sol 4 Python classes have three type of methods which are :\n",
    "        1. Instance methods\n",
    "        2. Class methods\n",
    "        3. Static Methods\n",
    "           self first argument for instance methods. which refers to the object itself\n",
    "           cls is the first argument for class methods which refers to the class itself\n",
    "'''"
   ]
  },
  {
   "cell_type": "markdown",
   "id": "325a1a92",
   "metadata": {},
   "source": [
    "##Sol 5\n",
    "__init__ is the reserved method in python which serves the role of constructor and used to initialise instance object variables if they are excpected at the time of object craetiion\n",
    "\n",
    "class parent:\n",
    "      def __init__(self,role):\n",
    "          self.role=role\n",
    "          \n",
    "Here role need to be defined at object creation\n",
    "c=parent('wholes')"
   ]
  },
  {
   "cell_type": "code",
   "execution_count": 3,
   "id": "236139bc",
   "metadata": {},
   "outputs": [],
   "source": [
    "##Sol 6 \n",
    "class parent: \n",
    "    def __init__(self,role): \n",
    "        self.role=role\n",
    "        \n",
    "c=parent('wholes')\n",
    "\n",
    "##here c is instance and wholes is attribute "
   ]
  },
  {
   "cell_type": "markdown",
   "id": "5b77547e",
   "metadata": {},
   "source": [
    "##Sol 7 class keyword is used to create class"
   ]
  },
  {
   "cell_type": "markdown",
   "id": "3252eeb9",
   "metadata": {},
   "source": [
    "##Sol 8 class son(parent)  Here parent has become superclass of class son"
   ]
  },
  {
   "cell_type": "code",
   "execution_count": null,
   "id": "771889dc",
   "metadata": {},
   "outputs": [],
   "source": []
  }
 ],
 "metadata": {
  "kernelspec": {
   "display_name": "Python 3 (ipykernel)",
   "language": "python",
   "name": "python3"
  },
  "language_info": {
   "codemirror_mode": {
    "name": "ipython",
    "version": 3
   },
   "file_extension": ".py",
   "mimetype": "text/x-python",
   "name": "python",
   "nbconvert_exporter": "python",
   "pygments_lexer": "ipython3",
   "version": "3.7.4"
  }
 },
 "nbformat": 4,
 "nbformat_minor": 5
}
