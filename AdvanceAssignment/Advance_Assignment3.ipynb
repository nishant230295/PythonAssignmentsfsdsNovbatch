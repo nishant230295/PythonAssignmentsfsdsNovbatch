{
 "cells": [
  {
   "cell_type": "code",
   "execution_count": 1,
   "id": "ca92a033",
   "metadata": {},
   "outputs": [
    {
     "name": "stdout",
     "output_type": "stream",
     "text": [
      "42\n"
     ]
    },
    {
     "data": {
      "text/plain": [
       "'You cannot create an object for direct abstract class'"
      ]
     },
     "execution_count": 1,
     "metadata": {},
     "output_type": "execute_result"
    }
   ],
   "source": [
    "##Sol 1 \n",
    "'''\n",
    "Abstract superclass is provided for a neccesary condition that needs to be followed by other child classes built from abstract class \n",
    "in abstract class there exits declaration but not implementation\n",
    "'''\n",
    "from abc import ABC, abstractmethod\n",
    "\n",
    "class Shape(ABC):\n",
    "    @abstractmethod\n",
    "    def printarea(self):\n",
    "        return 0\n",
    "\n",
    "class Rectangle(Shape):\n",
    "    type = \"Rectangle\"\n",
    "    sides = 4\n",
    "    def __init__(self):\n",
    "        self.length = 6\n",
    "        self.breadth = 7\n",
    "\n",
    "    def printarea(self):\n",
    "        return self.length * self.breadth\n",
    "\n",
    "rect1 = Rectangle()\n",
    "print(rect1.printarea())\n",
    "\n",
    "'''You cannot create an object for direct abstract class'''"
   ]
  },
  {
   "cell_type": "markdown",
   "id": "be94192f",
   "metadata": {},
   "source": [
    "##Sol 2\n",
    "When a Class statement's top level contains a basic assignment statement, its usually treated as a class attribute or class level variable.\n",
    "\n",
    "\n",
    "When an instance of a class is created a single copy of class attributes is maintained and shared to all instances of class\n"
   ]
  },
  {
   "cell_type": "markdown",
   "id": "2baa2333",
   "metadata": {},
   "source": [
    "##Sol 3 \n",
    "This is due to the reason the child will not able by default will be able to access the parent __init__ attribute if it \n",
    " has already an __init__ method so we  have to manually call a parent superclass's __init__ using super() method\n",
    "needed "
   ]
  },
  {
   "cell_type": "code",
   "execution_count": 2,
   "id": "d7c378f3",
   "metadata": {},
   "outputs": [
    {
     "name": "stdout",
     "output_type": "stream",
     "text": [
      "{'name': 'Vivek', 'age': 28, 'salary': 20000}\n"
     ]
    }
   ],
   "source": [
    "##Sol 3\n",
    "class Person:\n",
    "    def __init__(self,name,age):\n",
    "        self.name = name\n",
    "        self.age = age       \n",
    "class Employee(Person):\n",
    "    def __init__(self,name,age,salary):\n",
    "        super().__init__(name,age)\n",
    "        self.salary = salary\n",
    "emp_1 = Employee('Vivek',28,20000)\n",
    "print(emp_1.__dict__)"
   ]
  },
  {
   "cell_type": "markdown",
   "id": "92bca1aa",
   "metadata": {},
   "source": [
    "##Sol 4\n",
    "super() method can be used to augment, instead of completely replacing, an inherited method."
   ]
  },
  {
   "cell_type": "markdown",
   "id": "2c0706fc",
   "metadata": {},
   "source": [
    "##Sol 5 \n",
    "A Variable which is defined inside a function is local to that function. \n",
    "it is accesible from the point at which it is defined until the end of the function, and exists for as long as the function is existing.\n",
    "\n",
    "Similary a variable inside of a class also has a local variable scope. Variables which are defined in the class body\n",
    " can be referenced by  there bare names within the same scope, but they can also be accessed from outside this scope if we use the  attribute access operator (.). on a class or an instance of the class."
   ]
  },
  {
   "cell_type": "code",
   "execution_count": null,
   "id": "d26a3602",
   "metadata": {},
   "outputs": [],
   "source": []
  }
 ],
 "metadata": {
  "kernelspec": {
   "display_name": "Python 3 (ipykernel)",
   "language": "python",
   "name": "python3"
  },
  "language_info": {
   "codemirror_mode": {
    "name": "ipython",
    "version": 3
   },
   "file_extension": ".py",
   "mimetype": "text/x-python",
   "name": "python",
   "nbconvert_exporter": "python",
   "pygments_lexer": "ipython3",
   "version": "3.7.4"
  }
 },
 "nbformat": 4,
 "nbformat_minor": 5
}
