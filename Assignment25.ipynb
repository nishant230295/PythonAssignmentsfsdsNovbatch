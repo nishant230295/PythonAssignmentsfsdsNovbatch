{
 "cells": [
  {
   "cell_type": "markdown",
   "id": "75771d6e",
   "metadata": {},
   "source": [
    "##Sol 1\n",
    "Enclosing a list comphrehnsion in square backets will produce a list while in parantheses it will produce \n",
    "generator object\n",
    "while list is accesed through slicing operation we need a for loop or next function to iterate through generator"
   ]
  },
  {
   "cell_type": "markdown",
   "id": "061b42b8",
   "metadata": {},
   "source": [
    "##Sol 2\n",
    "An iterator is an object which contains a countable number of values and it is used to iterate over iterable objects like\n",
    "list, tuples, sets, etc. Iterators are implemented using a class. it requires only one memory location to process and when we use large database then wastage of RAM space is not required as the data need not to be loaded at once .It is created by iter() function\n",
    "\n",
    "Generators are another way of creating iterators in a simple way where it uses the keyword yield statement instead of return statement in a defined function.Generators are implemented using a function. the yield function returns the data without affecting or exiting the function. It will return a sequence of data in an iterable format where we need to iterate over the sequence to use the data as they won’t store the entire sequence in the memory. "
   ]
  },
  {
   "cell_type": "markdown",
   "id": "a3e1c4f0",
   "metadata": {},
   "source": [
    "##Sol 3 \n",
    "A generator function will return an interable object and generally uses yield keyword unlike other function which will return \n",
    "string int tuple or None"
   ]
  },
  {
   "cell_type": "markdown",
   "id": "f1c8ed57",
   "metadata": {},
   "source": [
    "##Sol 4 \n",
    "The yield statement suspends function’s execution and sends a value back to the caller, but retains enough state to enable function to resume where it is left off. When resumed, the function continues execution immediately after the last yield run. This allows its code to produce a series of values over time, rather than computing them at once"
   ]
  },
  {
   "cell_type": "code",
   "execution_count": 1,
   "id": "d0f49e74",
   "metadata": {},
   "outputs": [
    {
     "data": {
      "text/plain": [
       "'\\nDifferences between map function and list comprehensions\\n1. We can provide filter condition in list comprehension no such facility is available in map\\n2. list comprehension is better redable\\n3. list comprehension results list object while map returns map object\\n4. List comprehensior is faster wen we need to calculate expression while map is faster for already defined functions\\n\\n'"
      ]
     },
     "execution_count": 1,
     "metadata": {},
     "output_type": "execute_result"
    }
   ],
   "source": [
    "##Sol 5 \n",
    "'''\n",
    "Differences between map function and list comprehensions\n",
    "1. We can provide filter condition in list comprehension no such facility is available in map\n",
    "2. list comprehension is better redable\n",
    "3. list comprehension results list object while map returns map object\n",
    "4. List comprehensior is faster wen we need to calculate expression while map is faster for already defined functions\n",
    "\n",
    "'''"
   ]
  },
  {
   "cell_type": "code",
   "execution_count": null,
   "id": "1c8b3e15",
   "metadata": {},
   "outputs": [],
   "source": []
  }
 ],
 "metadata": {
  "kernelspec": {
   "display_name": "Python 3 (ipykernel)",
   "language": "python",
   "name": "python3"
  },
  "language_info": {
   "codemirror_mode": {
    "name": "ipython",
    "version": 3
   },
   "file_extension": ".py",
   "mimetype": "text/x-python",
   "name": "python",
   "nbconvert_exporter": "python",
   "pygments_lexer": "ipython3",
   "version": "3.7.4"
  }
 },
 "nbformat": 4,
 "nbformat_minor": 5
}
