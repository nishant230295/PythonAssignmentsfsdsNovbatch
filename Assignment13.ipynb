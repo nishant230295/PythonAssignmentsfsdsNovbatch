{
 "cells": [
  {
   "cell_type": "code",
   "execution_count": 1,
   "id": "cc88cea3",
   "metadata": {},
   "outputs": [
    {
     "name": "stdout",
     "output_type": "stream",
     "text": [
      "Confusion matrix : \n",
      " [[3 5]\n",
      " [2 3]]\n",
      "Outcome values : \n",
      " 3 5 2 3\n",
      "Classification report :\n",
      "               precision    recall  f1-score   support\n",
      "\n",
      "           1       0.60      0.38      0.46         8\n",
      "           0       0.38      0.60      0.46         5\n",
      "\n",
      "    accuracy                           0.46        13\n",
      "   macro avg       0.49      0.49      0.46        13\n",
      "weighted avg       0.51      0.46      0.46        13\n",
      "\n"
     ]
    }
   ],
   "source": [
    "# confusion matrix in sklearn\n",
    "from sklearn.metrics import confusion_matrix\n",
    "from sklearn.metrics import classification_report\n",
    "\n",
    "# actual values\n",
    "actual = [1,1,1,0,1,0,1,0,1,0,1,1,0]\n",
    "# predicted values\n",
    "predicted = [1,0,0,1,1,0,0,0,1,1,0,0,0]\n",
    "\n",
    "# confusion matrix\n",
    "matrix = confusion_matrix(actual,predicted, labels=[1,0])\n",
    "print('Confusion matrix : \\n',matrix)\n",
    "\n",
    "# outcome values order in sklearn\n",
    "tp, fn, fp, tn = confusion_matrix(actual,predicted,labels=[1,0]).reshape(-1)\n",
    "print('Outcome values : \\n', tp, fn, fp, tn)\n",
    "\n",
    "# classification report for precision, recall f1-score and accuracy\n",
    "matrix = classification_report(actual,predicted,labels=[1,0])\n",
    "print('Classification report :\\n',matrix)"
   ]
  },
  {
   "cell_type": "code",
   "execution_count": 3,
   "id": "2da86db5",
   "metadata": {},
   "outputs": [
    {
     "name": "stderr",
     "output_type": "stream",
     "text": [
      "C:\\Users\\friez\\Anaconda3\\lib\\site-packages\\ipykernel_launcher.py:9: FutureWarning: `rcond` parameter will change to the default of machine precision times ``max(M, N)`` where M and N are the input matrix dimensions.\n",
      "To use the future default and silence this warning we advise to pass `rcond=None`, to keep using the old, explicitly pass `rcond=-1`.\n",
      "  if __name__ == '__main__':\n"
     ]
    },
    {
     "data": {
      "image/png": "[encoded data removed]",
      "text/plain": [
       "<Figure size 432x288 with 1 Axes>"
      ]
     },
     "metadata": {
      "needs_background": "light"
     },
     "output_type": "display_data"
    },
    {
     "name": "stderr",
     "output_type": "stream",
     "text": [
      "C:\\Users\\friez\\Anaconda3\\lib\\site-packages\\ipykernel_launcher.py:23: MatplotlibDeprecationWarning: savefig() got unexpected keyword argument \"ftype\" which is no longer supported as of 3.3 and will become an error two minor releases later\n"
     ]
    },
    {
     "data": {
      "text/plain": [
       "<Figure size 432x288 with 0 Axes>"
      ]
     },
     "metadata": {},
     "output_type": "display_data"
    }
   ],
   "source": [
    "import matplotlib.pyplot as plt \n",
    "import numpy as np\n",
    "\n",
    "x=[150,150,200,250,250,300,150,200,200,250,300,300]\n",
    "y=[75.4,81.2,85.5,89.0,90.5,96.7,77.7,84.4,85.7,89.4,94.8,95.3]\n",
    "\n",
    "A = np.ones([len(x), 2])\n",
    "A[:,1] = x\n",
    "beta, SSe, rank, s = np.linalg.lstsq(A,y)\n",
    "xl = np.linspace(min(x),max(x),num=100)\n",
    "Al = np.ones([len(xl), 2])\n",
    "Al[:,1] = xl\n",
    "yl = np.dot(Al,beta)\n",
    "yhat = np.dot(A,beta)\n",
    "#   plot\n",
    "plt.figure()\n",
    "plt.plot(x,y,'ok')\n",
    "plt.plot(xl,yl,'-b')\n",
    "plt.grid(True)\n",
    "plt.xlabel('$x$')\n",
    "plt.ylabel('$y$')\n",
    "plt.show()\n",
    "plt.savefig('dataAndFit.png', ftype='png', dpi=300)"
   ]
  },
  {
   "cell_type": "code",
   "execution_count": null,
   "id": "39e61f6b",
   "metadata": {},
   "outputs": [],
   "source": [
    "#   compute the sum of squares of pure error\n",
    "level = np.array([1.0, 2.0, 3.3, 4.0, 4.7, 5.0, 5.6, 6.0, 6.5, 6.92])\n",
    "levelIndex = [y[0:2], y[2], y[3:5], y[5:8], y[8], y[9],\n",
    "    y[10:13], y[13:15], y[15], y[16]]\n",
    "ybarLevels = []\n",
    "for i in levelIndex:\n",
    "    ybarLevels.append(np.mean(i))\n",
    "SSpe = 0\n",
    "for i, r in enumerate(levelIndex):\n",
    "    SSpe += np.sum((r-ybarLevels[i])**2)"
   ]
  }
 ],
 "metadata": {
  "kernelspec": {
   "display_name": "Python 3 (ipykernel)",
   "language": "python",
   "name": "python3"
  },
  "language_info": {
   "codemirror_mode": {
    "name": "ipython",
    "version": 3
   },
   "file_extension": ".py",
   "mimetype": "text/x-python",
   "name": "python",
   "nbconvert_exporter": "python",
   "pygments_lexer": "ipython3",
   "version": "3.7.4"
  }
 },
 "nbformat": 4,
 "nbformat_minor": 5
}
