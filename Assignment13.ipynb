{
 "cells": [
  {
   "cell_type": "markdown",
   "id": "9f7f3916",
   "metadata": {},
   "source": [
    "##Sol 1\n",
    "The Advantages of Excel over CSV are:\n",
    "\n",
    "Excel (XLS and XLSX) file formats are better for storing and analysing complex data.\n",
    "An Excel not only stores data but can also do operations on the data using macros, formulas etc\n",
    "CSV files are plain-text files, Does not contain formatting, formulas, macros, etc. It is also known as flat files"
   ]
  },
  {
   "cell_type": "markdown",
   "id": "1d265258",
   "metadata": {},
   "source": [
    "##Sol 2 \n",
    "file name and delimiter in csv.reader() and option quotechar"
   ]
  },
  {
   "cell_type": "markdown",
   "id": "b05c8c35",
   "metadata": {},
   "source": [
    "##Sol 3 \n",
    "or csv.reader(iterable_file_object), the file objects needed to be opened in read mode mode='r' Whereas for csv.writer(iterable_file_object) the file objects needed to be opened in write mode mode='w'"
   ]
  },
  {
   "cell_type": "markdown",
   "id": "c854694d",
   "metadata": {},
   "source": [
    "##Sol 4\n",
    "csv.writer class provides two methods for writing to CSV. They are writerow() and writerows(). writerow() method writes a single row at a time. Whereas writerows() method is used to write multiple rows at a time."
   ]
  },
  {
   "cell_type": "markdown",
   "id": "8733d4f1",
   "metadata": {},
   "source": [
    "##Sol 5 \n",
    "Delimeter is used for the data seperated by a charcater generally comma or some what end line for termination and can be cahnged as per requirement\n",
    "   "
   ]
  },
  {
   "cell_type": "markdown",
   "id": "8c322edb",
   "metadata": {},
   "source": [
    "##Sol 6 json.loads() is the function from json module to convert string of jsn data to python data structure"
   ]
  },
  {
   "cell_type": "markdown",
   "id": "a51a86c0",
   "metadata": {},
   "source": [
    "##Sol 7 json.dumps() is the function from json module to convert  python data structure to string of jsn data "
   ]
  },
  {
   "cell_type": "code",
   "execution_count": null,
   "id": "f93fe563",
   "metadata": {},
   "outputs": [],
   "source": []
  }
 ],
 "metadata": {
  "kernelspec": {
   "display_name": "Python 3 (ipykernel)",
   "language": "python",
   "name": "python3"
  },
  "language_info": {
   "codemirror_mode": {
    "name": "ipython",
    "version": 3
   },
   "file_extension": ".py",
   "mimetype": "text/x-python",
   "name": "python",
   "nbconvert_exporter": "python",
   "pygments_lexer": "ipython3",
   "version": "3.7.4"
  }
 },
 "nbformat": 4,
 "nbformat_minor": 5
}
