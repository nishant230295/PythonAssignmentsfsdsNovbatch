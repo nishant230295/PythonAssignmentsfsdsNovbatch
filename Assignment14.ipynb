{
 "cells": [
  {
   "cell_type": "markdown",
   "id": "a44a2d7a",
   "metadata": {},
   "source": [
    "##Sol 1\n",
    "\n",
    "RGBA is four channel format that represents Red Green Blue and alpha where alpha represents opacity"
   ]
  },
  {
   "cell_type": "markdown",
   "id": "0cb8be7f",
   "metadata": {},
   "source": [
    "##Sol 2\n",
    "\n",
    "ImageColor.getcolor() gives rgba value of any image"
   ]
  },
  {
   "cell_type": "markdown",
   "id": "967694f0",
   "metadata": {},
   "source": [
    "##Sol 3\n",
    "\n",
    "A box tuple is a tuple value of four integers: the left-edge x-coordinate, the top-edge y-coordinate,the width, and the height, respectively."
   ]
  },
  {
   "cell_type": "code",
   "execution_count": 1,
   "id": "496807f6",
   "metadata": {},
   "outputs": [
    {
     "name": "stdout",
     "output_type": "stream",
     "text": [
      "Width, Height -> (732, 284)\n"
     ]
    }
   ],
   "source": [
    "##Sol 4\n",
    "\n",
    "from PIL import Image\n",
    "pic = Image.open('11.PNG')\n",
    "print(f'Width, Height -> {pic.size}') # Approach 1"
   ]
  },
  {
   "cell_type": "code",
   "execution_count": 2,
   "id": "1c294c03",
   "metadata": {},
   "outputs": [],
   "source": [
    "##Sol 5\n",
    "from PIL import Image\n",
    "img = Image.open('11.PNG')\n",
    "new_img = img.crop((0,50,50,50))"
   ]
  },
  {
   "cell_type": "code",
   "execution_count": 3,
   "id": "c01664cb",
   "metadata": {},
   "outputs": [],
   "source": [
    "#sol 6\n",
    "from PIL import Image\n",
    "pic = Image.open('11.PNG')\n",
    "pic.save('11_2.PNG')"
   ]
  },
  {
   "cell_type": "markdown",
   "id": "cf8013d3",
   "metadata": {},
   "source": [
    "##Sol 7 \n",
    "\n",
    "Pillows ImageDraw module contains Shape drawing methods"
   ]
  },
  {
   "cell_type": "markdown",
   "id": "bc7856bb",
   "metadata": {},
   "source": [
    "##Sol 8 \n",
    "\n",
    "ImageDraw objects have shape-drawing methods such as point(), line(), or rectangle().They are returned by passing the Image object to the ImageDraw.Draw() function."
   ]
  },
  {
   "cell_type": "code",
   "execution_count": null,
   "id": "09b53d22",
   "metadata": {},
   "outputs": [],
   "source": []
  }
 ],
 "metadata": {
  "kernelspec": {
   "display_name": "Python 3 (ipykernel)",
   "language": "python",
   "name": "python3"
  },
  "language_info": {
   "codemirror_mode": {
    "name": "ipython",
    "version": 3
   },
   "file_extension": ".py",
   "mimetype": "text/x-python",
   "name": "python",
   "nbconvert_exporter": "python",
   "pygments_lexer": "ipython3",
   "version": "3.7.4"
  }
 },
 "nbformat": 4,
 "nbformat_minor": 5
}
