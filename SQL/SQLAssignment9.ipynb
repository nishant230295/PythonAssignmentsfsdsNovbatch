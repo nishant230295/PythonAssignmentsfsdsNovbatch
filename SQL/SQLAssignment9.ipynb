{
 "cells": [
  {
   "cell_type": "markdown",
   "id": "c61803d6",
   "metadata": {},
   "source": [
    "## Sol 1 \n",
    "\n",
    "SELECT * FROM Worker LIMIT 10;"
   ]
  },
  {
   "cell_type": "markdown",
   "id": "d5980d9e",
   "metadata": {},
   "source": [
    "## Sol 2\n",
    "\n",
    "SELECT DISTINCT(Salary) FROM Worker ORDER BY DESC LIMIT 1 OFFSET 5;"
   ]
  },
  {
   "cell_type": "code",
   "execution_count": null,
   "id": "ba6a6661",
   "metadata": {},
   "outputs": [],
   "source": []
  }
 ],
 "metadata": {
  "kernelspec": {
   "display_name": "Python 3 (ipykernel)",
   "language": "python",
   "name": "python3"
  },
  "language_info": {
   "codemirror_mode": {
    "name": "ipython",
    "version": 3
   },
   "file_extension": ".py",
   "mimetype": "text/x-python",
   "name": "python",
   "nbconvert_exporter": "python",
   "pygments_lexer": "ipython3",
   "version": "3.7.4"
  }
 },
 "nbformat": 4,
 "nbformat_minor": 5
}
