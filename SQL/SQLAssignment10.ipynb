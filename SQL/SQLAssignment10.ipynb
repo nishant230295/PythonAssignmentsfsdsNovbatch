{
 "cells": [
  {
   "cell_type": "markdown",
   "id": "dd7e9b0b",
   "metadata": {},
   "source": [
    "## Sol 1\n",
    "\n",
    "SELECT * FROM (SELECT ROW_NUMBER() OVER (ORDER BY salary DESC) AS R_NUM, first_name, salary FROM employee) as KEY WHERE R_NUM=5;"
   ]
  },
  {
   "cell_type": "markdown",
   "id": "700f4106",
   "metadata": {},
   "source": [
    "## Sol 2\n",
    "\n",
    "SELECT * FROM employee ORDER BY salary ASC;"
   ]
  },
  {
   "cell_type": "code",
   "execution_count": null,
   "id": "b80f148d",
   "metadata": {},
   "outputs": [],
   "source": []
  }
 ],
 "metadata": {
  "kernelspec": {
   "display_name": "Python 3 (ipykernel)",
   "language": "python",
   "name": "python3"
  },
  "language_info": {
   "codemirror_mode": {
    "name": "ipython",
    "version": 3
   },
   "file_extension": ".py",
   "mimetype": "text/x-python",
   "name": "python",
   "nbconvert_exporter": "python",
   "pygments_lexer": "ipython3",
   "version": "3.7.4"
  }
 },
 "nbformat": 4,
 "nbformat_minor": 5
}
