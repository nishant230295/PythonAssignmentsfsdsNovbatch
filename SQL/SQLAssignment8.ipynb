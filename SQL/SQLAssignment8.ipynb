{
 "cells": [
  {
   "cell_type": "markdown",
   "id": "6eac3926",
   "metadata": {},
   "source": [
    "## Sol 1\n",
    "\n",
    "SELECT <Column_names> FROM table_1 INTERSECT SELECT <Column_names> FROM table_2;"
   ]
  },
  {
   "cell_type": "markdown",
   "id": "63e1775f",
   "metadata": {},
   "source": [
    "## Sol 2\n",
    "\n",
    "SELECT * FROM table_1 EXCEPT SELECT * FROM table_2;"
   ]
  },
  {
   "cell_type": "markdown",
   "id": "97207a20",
   "metadata": {},
   "source": []
  },
  {
   "cell_type": "code",
   "execution_count": null,
   "id": "e9782008",
   "metadata": {},
   "outputs": [],
   "source": []
  }
 ],
 "metadata": {
  "kernelspec": {
   "display_name": "Python 3 (ipykernel)",
   "language": "python",
   "name": "python3"
  },
  "language_info": {
   "codemirror_mode": {
    "name": "ipython",
    "version": 3
   },
   "file_extension": ".py",
   "mimetype": "text/x-python",
   "name": "python",
   "nbconvert_exporter": "python",
   "pygments_lexer": "ipython3",
   "version": "3.7.4"
  }
 },
 "nbformat": 4,
 "nbformat_minor": 5
}
