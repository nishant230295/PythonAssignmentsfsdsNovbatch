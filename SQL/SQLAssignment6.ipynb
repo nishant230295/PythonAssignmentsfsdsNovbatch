{
 "cells": [
  {
   "cell_type": "markdown",
   "id": "b2d8ca36",
   "metadata": {},
   "source": [
    "## Sol 1\n",
    "\n",
    "SELECT * FROM Worker WHERE JOINING_DATE LIKE \"%2014-02%\""
   ]
  },
  {
   "cell_type": "markdown",
   "id": "8762ee07",
   "metadata": {},
   "source": [
    "## Sol 2\n",
    "\n",
    "SELECT column_name, COUNT(column_name) FROM Worker GROUP BY Field HAVING COUNT(column_name) > 1;"
   ]
  },
  {
   "cell_type": "markdown",
   "id": "5b6cbe96",
   "metadata": {},
   "source": [
    "## Sol 3\n",
    "\n",
    "WE will use the id field(which is already defined as primary key)\n",
    "\n",
    "DELETE e1.* from employee e1 INNER JOIN employee e2 WHERE e1.id > e2.id AND e1.FIRST_NAME = e2.FIRST_NAME AND e1.LAST_NAME = e2.LAST_NAME AND e1.COUNTRY = e"
   ]
  },
  {
   "cell_type": "code",
   "execution_count": null,
   "id": "43c26696",
   "metadata": {},
   "outputs": [],
   "source": []
  }
 ],
 "metadata": {
  "kernelspec": {
   "display_name": "Python 3 (ipykernel)",
   "language": "python",
   "name": "python3"
  },
  "language_info": {
   "codemirror_mode": {
    "name": "ipython",
    "version": 3
   },
   "file_extension": ".py",
   "mimetype": "text/x-python",
   "name": "python",
   "nbconvert_exporter": "python",
   "pygments_lexer": "ipython3",
   "version": "3.7.4"
  }
 },
 "nbformat": 4,
 "nbformat_minor": 5
}
