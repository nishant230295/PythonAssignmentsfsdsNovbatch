{
 "cells": [
  {
   "cell_type": "markdown",
   "id": "70f4cba2",
   "metadata": {},
   "source": [
    "##Sol 1 \n",
    "\n",
    "\n",
    "SELECT FIRST_NAME AS <WORKER_NAME> FROM Worker;"
   ]
  },
  {
   "cell_type": "markdown",
   "id": "fce3a955",
   "metadata": {},
   "source": [
    "##Sol 2\n",
    "\n",
    "SELECT DISTINCT DEPARTMENT FROM Worker;"
   ]
  },
  {
   "cell_type": "markdown",
   "id": "0485f00f",
   "metadata": {},
   "source": [
    "##Sol 3\n",
    "\n",
    "SELECT * from Worker ORDER by id DESC LIMIT 5;"
   ]
  },
  {
   "cell_type": "code",
   "execution_count": null,
   "id": "6a118cec",
   "metadata": {},
   "outputs": [],
   "source": []
  },
  {
   "cell_type": "code",
   "execution_count": null,
   "id": "e6d8a4f4",
   "metadata": {},
   "outputs": [],
   "source": []
  },
  {
   "cell_type": "code",
   "execution_count": null,
   "id": "5b8d7e0e",
   "metadata": {},
   "outputs": [],
   "source": []
  },
  {
   "cell_type": "code",
   "execution_count": null,
   "id": "73a3eaa0",
   "metadata": {},
   "outputs": [],
   "source": []
  },
  {
   "cell_type": "code",
   "execution_count": null,
   "id": "27d76d05",
   "metadata": {},
   "outputs": [],
   "source": []
  },
  {
   "cell_type": "code",
   "execution_count": null,
   "id": "8f95b4f8",
   "metadata": {},
   "outputs": [],
   "source": []
  },
  {
   "cell_type": "code",
   "execution_count": null,
   "id": "b96f958c",
   "metadata": {},
   "outputs": [],
   "source": []
  }
 ],
 "metadata": {
  "kernelspec": {
   "display_name": "Python 3 (ipykernel)",
   "language": "python",
   "name": "python3"
  },
  "language_info": {
   "codemirror_mode": {
    "name": "ipython",
    "version": 3
   },
   "file_extension": ".py",
   "mimetype": "text/x-python",
   "name": "python",
   "nbconvert_exporter": "python",
   "pygments_lexer": "ipython3",
   "version": "3.7.4"
  }
 },
 "nbformat": 4,
 "nbformat_minor": 5
}
