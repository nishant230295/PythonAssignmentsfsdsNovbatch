{
 "cells": [
  {
   "cell_type": "markdown",
   "id": "203ca4b2",
   "metadata": {},
   "source": [
    "## Sol 1\n",
    "SELECT REPLACE(FIRST_NAME,'a','A') FROM Worker;"
   ]
  },
  {
   "cell_type": "markdown",
   "id": "35872a85",
   "metadata": {},
   "source": [
    "## Sol 2\n",
    "\n",
    "SELECT * FROM Worker ORDER BY FIRST_NAME ASC,DEPARTMENT DESC;"
   ]
  },
  {
   "cell_type": "markdown",
   "id": "9e79f6ce",
   "metadata": {},
   "source": [
    "## Sol 3\n",
    "\n",
    "SELECT FIRST_NAME, LAST_NAME FROM Worker WHERE SALARY = (SELECT MAX(SALARY) FROM Worker);"
   ]
  },
  {
   "cell_type": "code",
   "execution_count": null,
   "id": "5f80c0da",
   "metadata": {},
   "outputs": [],
   "source": []
  }
 ],
 "metadata": {
  "kernelspec": {
   "display_name": "Python 3 (ipykernel)",
   "language": "python",
   "name": "python3"
  },
  "language_info": {
   "codemirror_mode": {
    "name": "ipython",
    "version": 3
   },
   "file_extension": ".py",
   "mimetype": "text/x-python",
   "name": "python",
   "nbconvert_exporter": "python",
   "pygments_lexer": "ipython3",
   "version": "3.7.4"
  }
 },
 "nbformat": 4,
 "nbformat_minor": 5
}
