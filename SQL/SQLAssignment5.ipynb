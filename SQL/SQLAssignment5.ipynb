{
 "cells": [
  {
   "cell_type": "markdown",
   "id": "df45c109",
   "metadata": {},
   "source": [
    "## Sol 1\n",
    "\n",
    "SELECT * FROM workers \n",
    "\n",
    "WHERE first_Name NOT IN (\"Vipul\",\"Satish\");"
   ]
  },
  {
   "cell_type": "markdown",
   "id": "2e5d899e",
   "metadata": {},
   "source": [
    "## Sol 2\n",
    "\n",
    "SELECT * FROM workers \n",
    "\n",
    "WHERE RIGHT(first_name,1) = 'h' AND char_length(first_name)==6;"
   ]
  },
  {
   "cell_type": "markdown",
   "id": "c8022ca8",
   "metadata": {},
   "source": [
    "## Sol 3\n",
    "\n",
    "SELECT * FROM Worker WHERE email LIKE \"_%@_%._%\""
   ]
  },
  {
   "cell_type": "code",
   "execution_count": null,
   "id": "7a2b8722",
   "metadata": {},
   "outputs": [],
   "source": []
  }
 ],
 "metadata": {
  "kernelspec": {
   "display_name": "Python 3 (ipykernel)",
   "language": "python",
   "name": "python3"
  },
  "language_info": {
   "codemirror_mode": {
    "name": "ipython",
    "version": 3
   },
   "file_extension": ".py",
   "mimetype": "text/x-python",
   "name": "python",
   "nbconvert_exporter": "python",
   "pygments_lexer": "ipython3",
   "version": "3.7.4"
  }
 },
 "nbformat": 4,
 "nbformat_minor": 5
}
