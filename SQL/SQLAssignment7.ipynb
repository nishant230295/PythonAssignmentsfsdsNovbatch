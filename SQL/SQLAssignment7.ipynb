{
 "cells": [
  {
   "cell_type": "markdown",
   "id": "930f9403",
   "metadata": {},
   "source": [
    "## Sol 1\n",
    "\n",
    "SELECT * FROM Worker Where MOD(worker_id,2) = 1"
   ]
  },
  {
   "cell_type": "markdown",
   "id": "36c40f06",
   "metadata": {},
   "source": [
    "## Sol 2\n",
    "\n",
    "First create an identical table same as existing table letsay cloneworker\n",
    "\n",
    "then we will make clone of that using following command \n",
    "\n",
    "INSERT INTO CloneWorker SELECT * FROM Worker;"
   ]
  },
  {
   "cell_type": "code",
   "execution_count": null,
   "id": "c18b129a",
   "metadata": {},
   "outputs": [],
   "source": []
  }
 ],
 "metadata": {
  "kernelspec": {
   "display_name": "Python 3 (ipykernel)",
   "language": "python",
   "name": "python3"
  },
  "language_info": {
   "codemirror_mode": {
    "name": "ipython",
    "version": 3
   },
   "file_extension": ".py",
   "mimetype": "text/x-python",
   "name": "python",
   "nbconvert_exporter": "python",
   "pygments_lexer": "ipython3",
   "version": "3.7.4"
  }
 },
 "nbformat": 4,
 "nbformat_minor": 5
}
