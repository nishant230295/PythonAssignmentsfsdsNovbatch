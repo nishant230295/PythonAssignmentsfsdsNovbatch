{
 "cells": [
  {
   "cell_type": "raw",
   "id": "2013ed36",
   "metadata": {},
   "source": [
    "Sol 1 The python escape characters are used to perform certain tasks and their usage in code directs the compiler to take a \n",
    "      suitable action mapped to that character.\n",
    "      Some escape characters are \\\\ (backlash) , \\'(single quote), \\''(double quote) , \\a(ASCII bell),\\b(ASCII  \n",
    "      backspace),\\f (ASCII formfeed) ,\\n (ASCII line feed) , \\r(ASCII Carriage return) , \\t (ASCII Horizontal tab) ,\\v \n",
    "      (ASCII vertical tab)"
   ]
  },
  {
   "cell_type": "raw",
   "id": "7ad9a0d7",
   "metadata": {},
   "source": [
    "Sol 2 \\n is a new line \\t is new tab(beginning of current line without advancing downward)"
   ]
  },
  {
   "cell_type": "raw",
   "id": "7f86e609",
   "metadata": {},
   "source": [
    "Sol 3 \\\\ t will return a backlash character"
   ]
  },
  {
   "cell_type": "raw",
   "id": "3a478405",
   "metadata": {},
   "source": [
    "Sol 4 The single quote is fine as we have used double quote to mark the string problem hav arised if we have used single \n",
    "      quote to mark the string in this case"
   ]
  },
  {
   "cell_type": "raw",
   "id": "f4c39314",
   "metadata": {},
   "source": [
    "Sol 5 Multiline strings allows this feathure "
   ]
  },
  {
   "cell_type": "raw",
   "id": "e17034bb",
   "metadata": {},
   "source": [
    "Sol 6 'Hello, world!'[1] will print 'e'\n",
    "       'Hello, world!'[0:5] will print 'Hello'\n",
    "        'Hello, world!'[:5] will print 'Hello'\n",
    "        'Hello, world!'[3:] will print 'lo world!'"
   ]
  },
  {
   "cell_type": "raw",
   "id": "227f9c90",
   "metadata": {},
   "source": [
    "Sol 7 'Hello'.upper() will give 'HELLO'\n",
    "       'Hello'.upper().isupper() will give True\n",
    "       'Hello'.upper().lower() will give 'hello'"
   ]
  },
  {
   "cell_type": "raw",
   "id": "c6741345",
   "metadata": {},
   "source": [
    "Sol 8 expression 1 will give ['Remember,', 'remember,', 'the', 'fifth', 'of', 'July.'] while expression 2 will give \n",
    "      'There-can-only-one.'\n",
    "      "
   ]
  },
  {
   "cell_type": "raw",
   "id": "29c94cc5",
   "metadata": {},
   "source": [
    "Sol 9 the rjust(),ljust() and centre() string commands are used for right-justifying, left-justifying, and centering a \n",
    "      string"
   ]
  },
  {
   "cell_type": "raw",
   "id": "3685802c",
   "metadata": {},
   "source": [
    "Sol 10 string strip methods lstrip() rstrip() methods will remove whitespace from the string"
   ]
  },
  {
   "cell_type": "code",
   "execution_count": null,
   "id": "5c9da93c",
   "metadata": {},
   "outputs": [],
   "source": []
  }
 ],
 "metadata": {
  "kernelspec": {
   "display_name": "Python 3 (ipykernel)",
   "language": "python",
   "name": "python3"
  },
  "language_info": {
   "codemirror_mode": {
    "name": "ipython",
    "version": 3
   },
   "file_extension": ".py",
   "mimetype": "text/x-python",
   "name": "python",
   "nbconvert_exporter": "python",
   "pygments_lexer": "ipython3",
   "version": "3.7.4"
  }
 },
 "nbformat": 4,
 "nbformat_minor": 5
}
