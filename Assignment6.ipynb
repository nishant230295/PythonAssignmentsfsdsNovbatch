{
 "cells": [
  {
   "cell_type": "markdown",
   "id": "009292f0",
   "metadata": {},
   "source": [
    "Sol 1 The python escape characters are used to perform certain tasks and their usage in code directs the compiler to take a \n",
    "      suitable action mapped to that character.\n",
    "      Some escape characters are \\\\ (backlash) , \\'(single quote), \\''(double quote) , \\a(ASCII bell),\\b(ASCII  \n",
    "      backspace),\\f (ASCII formfeed) ,\\n (ASCII line feed) , \\r(ASCII Carriage return) , \\t (ASCII Horizontal tab) ,\\v \n",
    "      (ASCII vertical tab)"
   ]
  },
  {
   "cell_type": "markdown",
   "id": "7181d028",
   "metadata": {},
   "source": [
    "Sol 2 \\n is a new line \\t is new tab(beginning of current line without advancing downward)"
   ]
  },
  {
   "cell_type": "markdown",
   "id": "ed752a8f",
   "metadata": {},
   "source": [
    "Sol 3 \\\\ t will return a backlash character"
   ]
  },
  {
   "cell_type": "markdown",
   "id": "ac72cc3f",
   "metadata": {},
   "source": [
    "Sol 4 The single quote is fine as we have used double quote to mark the string problem hav arised if we have used single \n",
    "      quote to mark the string in this case"
   ]
  },
  {
   "cell_type": "markdown",
   "id": "899c2936",
   "metadata": {},
   "source": [
    "Sol 5 Multiline strings allows this feathure "
   ]
  },
  {
   "cell_type": "markdown",
   "id": "300b36ca",
   "metadata": {},
   "source": [
    "Sol 6 'Hello, world!'[1] will print 'e'\n",
    "       'Hello, world!'[0:5] will print 'Hello'\n",
    "        'Hello, world!'[:5] will print 'Hello'\n",
    "        'Hello, world!'[3:] will print 'lo world!'"
   ]
  },
  {
   "cell_type": "markdown",
   "id": "d585cab7",
   "metadata": {},
   "source": [
    "Sol 7 'Hello'.upper() will give 'HELLO'\n",
    "       'Hello'.upper().isupper() will give True\n",
    "       'Hello'.upper().lower() will give 'hello'"
   ]
  },
  {
   "cell_type": "markdown",
   "id": "37c04e28",
   "metadata": {},
   "source": [
    "Sol 8 expression 1 will give ['Remember,', 'remember,', 'the', 'fifth', 'of', 'July.'] while expression 2 will give \n",
    "      'There-can-only-one.'\n",
    "      "
   ]
  },
  {
   "cell_type": "markdown",
   "id": "c3b6503f",
   "metadata": {},
   "source": [
    "Sol 9 the rjust(),ljust() and centre() string commands are used for right-justifying, left-justifying, and centering a \n",
    "      string"
   ]
  },
  {
   "cell_type": "markdown",
   "id": "a9d77817",
   "metadata": {},
   "source": [
    "Sol 10 string strip methods lstrip() rstrip() methods will remove whitespace from the string"
   ]
  },
  {
   "cell_type": "code",
   "execution_count": null,
   "id": "5c9da93c",
   "metadata": {},
   "outputs": [],
   "source": []
  }
 ],
 "metadata": {
  "kernelspec": {
   "display_name": "Python 3 (ipykernel)",
   "language": "python",
   "name": "python3"
  },
  "language_info": {
   "codemirror_mode": {
    "name": "ipython",
    "version": 3
   },
   "file_extension": ".py",
   "mimetype": "text/x-python",
   "name": "python",
   "nbconvert_exporter": "python",
   "pygments_lexer": "ipython3",
   "version": "3.7.4"
  }
 },
 "nbformat": 4,
 "nbformat_minor": 5
}
