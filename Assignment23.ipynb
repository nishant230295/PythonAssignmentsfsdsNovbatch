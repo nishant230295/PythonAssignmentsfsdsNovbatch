{
 "cells": [
  {
   "cell_type": "code",
   "execution_count": 1,
   "id": "d2fc1e23",
   "metadata": {},
   "outputs": [
    {
     "name": "stdout",
     "output_type": "stream",
     "text": [
      "1 2 8\n"
     ]
    }
   ],
   "source": [
    "## Sol 1\n",
    "def func(a,b=6,c=8):\n",
    "    print(a,b,c)\n",
    "func(1,2)    "
   ]
  },
  {
   "cell_type": "markdown",
   "id": "84d2ebb5",
   "metadata": {},
   "source": [
    "Explanation the func needs three variable to execute while b and c are provided at the defintion the a value is fteched from call while b value is overiden by 2"
   ]
  },
  {
   "cell_type": "code",
   "execution_count": 2,
   "id": "b2d71a4b",
   "metadata": {},
   "outputs": [
    {
     "name": "stdout",
     "output_type": "stream",
     "text": [
      "1 2 3\n"
     ]
    }
   ],
   "source": [
    "## Sol 2\n",
    "def func(a,b,c=5):\n",
    "    print(a,b,c)\n",
    "func(1,c=3,b=2)    "
   ]
  },
  {
   "cell_type": "markdown",
   "id": "5627696c",
   "metadata": {},
   "source": [
    "c value is defined in the function as 5 while at call a , b value are given at call while c value is overwritten"
   ]
  },
  {
   "cell_type": "code",
   "execution_count": 3,
   "id": "0d41e9f4",
   "metadata": {},
   "outputs": [
    {
     "name": "stdout",
     "output_type": "stream",
     "text": [
      "1 (2, 3)\n"
     ]
    }
   ],
   "source": [
    "## Sol 3\n",
    "def func(a, *pargs):\n",
    "    print(a, pargs)\n",
    "func(1,2,3)"
   ]
  },
  {
   "cell_type": "markdown",
   "id": "69e2dea7",
   "metadata": {},
   "source": [
    "Explanation here a value is assigned 1 while pargs get (2,3)"
   ]
  },
  {
   "cell_type": "code",
   "execution_count": 4,
   "id": "db3fc847",
   "metadata": {},
   "outputs": [
    {
     "name": "stdout",
     "output_type": "stream",
     "text": [
      "1 {'c': 3, 'b': 2}\n"
     ]
    }
   ],
   "source": [
    "## Sol 4\n",
    "def func(a, **kargs):\n",
    "    print(a, kargs)\n",
    "\n",
    "func(a=1, c=3, b=2)\n"
   ]
  },
  {
   "cell_type": "markdown",
   "id": "d4f2707b",
   "metadata": {},
   "source": [
    "Here a is assigned 1 while key value arguments are taken by b and c"
   ]
  },
  {
   "cell_type": "code",
   "execution_count": 6,
   "id": "c4dd971b",
   "metadata": {},
   "outputs": [
    {
     "name": "stdout",
     "output_type": "stream",
     "text": [
      "1 5 6 5\n"
     ]
    }
   ],
   "source": [
    "## Sol 5\n",
    "def func(a, b, c=8, d=5):\n",
    "        print(a, b, c, d)\n",
    "        \n",
    "func(1, *(5, 6))\n"
   ]
  },
  {
   "cell_type": "markdown",
   "id": "6700548c",
   "metadata": {},
   "source": [
    "a=1 is assigned b and c will get 5 and 6 although c is initially 8 but it will be overwritten by 6 and d will remain 5 if there was some value *(2,3,4) d will overwrite 4 by 5 here"
   ]
  },
  {
   "cell_type": "code",
   "execution_count": 10,
   "id": "7d4b2a88",
   "metadata": {},
   "outputs": [],
   "source": [
    "## Sol 6\n",
    "def func(a, b, c): \n",
    "    a = 2; b[0] = 'x'; c['a'] = 'y'\n",
    "\n",
    "l=1; m=[1]; n={'a':0}\n",
    "func(l, m, n)\n"
   ]
  },
  {
   "cell_type": "markdown",
   "id": "589b124d",
   "metadata": {},
   "source": [
    "Function did not return or print as no statement was returned "
   ]
  },
  {
   "cell_type": "code",
   "execution_count": null,
   "id": "701fa3f5",
   "metadata": {},
   "outputs": [],
   "source": []
  }
 ],
 "metadata": {
  "kernelspec": {
   "display_name": "Python 3 (ipykernel)",
   "language": "python",
   "name": "python3"
  },
  "language_info": {
   "codemirror_mode": {
    "name": "ipython",
    "version": 3
   },
   "file_extension": ".py",
   "mimetype": "text/x-python",
   "name": "python",
   "nbconvert_exporter": "python",
   "pygments_lexer": "ipython3",
   "version": "3.7.4"
  }
 },
 "nbformat": 4,
 "nbformat_minor": 5
}
