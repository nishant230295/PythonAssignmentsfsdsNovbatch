{
 "cells": [
  {
   "cell_type": "raw",
   "id": "843be016",
   "metadata": {},
   "source": [
    "Sol 1 Among the mentioned ones 'hello' ,-87.2 and 6 are values whereas *,-,/,+ are expressions"
   ]
  },
  {
   "cell_type": "raw",
   "id": "b277ef2f",
   "metadata": {},
   "source": [
    "Sol 2 Variable is a container ,temporary storage location used to hold any value . the variable can be modified at any point of       time \n",
    "    \n",
    "      String is a type of iterable datatype which is stored in a variable to be retreived at any point of time.A string is  \n",
    "      generally group of characters (integers or float also be converted into string by type casting) .It is usally enclosed \n",
    "      with '' or \"\" \n",
    "      Eg x='Assign1' here x is variable Assign1 is string"
   ]
  },
  {
   "cell_type": "raw",
   "id": "ff299916",
   "metadata": {},
   "source": [
    "Sol 3 Data types refers to the kind of value which decides the type of operations that can be performed on them Some of the           popular data types are \n",
    "      \n",
    "      1. Numeric : Numeric data types supports most of the operator expressions  basic arthemic expressions such as \n",
    "                   addition,subtraction ,multipication and division as well as %(modulus) ,//(Floor division) based on further \n",
    "                   classification as Floats , integer , complex numbers represented as int , float and complex in python \n",
    "      2. Sequence : collection odf similar or different datatypes.It allows efficient storage/collection of different \n",
    "                    values in an organised way . They are classified as string,list,tuples represented as str,list,tuple in  \n",
    "                    python. \n",
    "      3. Boolean : Built in data type corresponding to 0 and 1 of binary data type where 0 represents False while 1 represents \n",
    "                   True generally used for if and while statement execution and eare encountred as a result of comparision\n",
    "                   operators such as ==,!=,>,<,>=,<="
   ]
  },
  {
   "cell_type": "raw",
   "id": "226ae235",
   "metadata": {},
   "source": [
    "Sol 4 An experations is a combination of operators and operands that is intended to produce some value after execution \n",
    "      So an expression is made of operators(arithmetic,relational,logical etc) and operands upon which operations are performed \n",
    "      \n",
    "      Eg 7+(8*3) here +,(,*,) are operators while 7,8,3 are operands \n",
    "      \n",
    "      Note: in case where multiple operators in same expression than BODMAS precedence rule is applied\n",
    "      \n",
    "      Any expression always produce a value provided correctly defined and type of value depends on type of operands"
   ]
  },
  {
   "cell_type": "raw",
   "id": "60314443",
   "metadata": {},
   "source": [
    "Sol 5 In Python we can use expression as statement but it is not adviced as the result is not stored in to value \n",
    "      Eg x=7+5 is statement while 7+5 is expression both the these values will give 12 for expression it will be directly shown \n",
    "      in console while for statement we need to print x \n",
    "      But converse is not true statement cannot be used as expression \n",
    "      A common example \n",
    "      ls=[1 2 3]\n",
    "      ls.append(4)\n",
    "      give ls =[1 2 3 4]\n",
    "      whereas if we write ls=ls.append(4) will mess up the final and will give print(ls) as None"
   ]
  },
  {
   "cell_type": "raw",
   "id": "35393ad0",
   "metadata": {},
   "source": [
    "Sol 6 bacon=22 bacon+1 \n",
    "      This will return 23"
   ]
  },
  {
   "cell_type": "raw",
   "id": "7639c2e4",
   "metadata": {},
   "source": [
    "Sol 7 both will give 'spamspamspam'"
   ]
  },
  {
   "cell_type": "raw",
   "id": "4252fcbc",
   "metadata": {},
   "source": [
    "Sol 8 There are some rules that need to  be followed while naming variables like variabke name cannot be reserved keywords like \n",
    "       continue break while if or should not be start with numbers \n",
    "       eggs doesnot violate any rule of naming variable but 100 does so we can use _100 as variable but not 100"
   ]
  },
  {
   "cell_type": "raw",
   "id": "7605f2ec",
   "metadata": {},
   "source": [
    "Sol 9 type casting function \n",
    "      The function \n",
    "      float(x) , int(x) , str(x) are the function which gives float integer and string value of variable x \n",
    "      \n",
    "      Please note this type of operation is not possible for all data type like 'abcd' will not support int('abccd') or \n",
    "      float('abcd')"
   ]
  },
  {
   "cell_type": "code",
   "execution_count": 13,
   "id": "65b3a2a6",
   "metadata": {},
   "outputs": [
    {
     "name": "stdout",
     "output_type": "stream",
     "text": [
      "6.0\n",
      "6\n"
     ]
    },
    {
     "data": {
      "text/plain": [
       "str"
      ]
     },
     "execution_count": 13,
     "metadata": {},
     "output_type": "execute_result"
    }
   ],
   "source": [
    "# Sol 9\n",
    "x=6\n",
    "print(float(x))\n",
    "print(int(x))\n",
    "b=str(x)\n",
    "type(b)"
   ]
  },
  {
   "cell_type": "raw",
   "id": "6b6cc810",
   "metadata": {},
   "source": [
    "Sol10 This expression causes error because 99 is int datatype and doesnot support Concatenation with string thus produce type \n",
    "      error to fix it wee need to write str(99) in expression \n"
   ]
  },
  {
   "cell_type": "code",
   "execution_count": 16,
   "id": "b5069770",
   "metadata": {},
   "outputs": [
    {
     "ename": "TypeError",
     "evalue": "can only concatenate str (not \"int\") to str",
     "output_type": "error",
     "traceback": [
      "\u001b[1;31m---------------------------------------------------------------------------\u001b[0m",
      "\u001b[1;31mTypeError\u001b[0m                                 Traceback (most recent call last)",
      "\u001b[1;32m~\\AppData\\Local\\Temp/ipykernel_18184/512660048.py\u001b[0m in \u001b[0;36m<module>\u001b[1;34m\u001b[0m\n\u001b[1;32m----> 1\u001b[1;33m \u001b[1;34m'I have eaten '\u001b[0m\u001b[1;33m+\u001b[0m\u001b[1;36m99\u001b[0m\u001b[1;33m+\u001b[0m\u001b[1;34m' burritos'\u001b[0m\u001b[1;33m\u001b[0m\u001b[1;33m\u001b[0m\u001b[0m\n\u001b[0m",
      "\u001b[1;31mTypeError\u001b[0m: can only concatenate str (not \"int\") to str"
     ]
    }
   ],
   "source": [
    "#Sol 10\n",
    "'I have eaten '+99+' burritos'"
   ]
  },
  {
   "cell_type": "code",
   "execution_count": 17,
   "id": "0fa22012",
   "metadata": {},
   "outputs": [
    {
     "data": {
      "text/plain": [
       "'I have eaten 99 burritos'"
      ]
     },
     "execution_count": 17,
     "metadata": {},
     "output_type": "execute_result"
    }
   ],
   "source": [
    "# Sol 10\n",
    "'I have eaten '+str(99)+' burritos'"
   ]
  },
  {
   "cell_type": "code",
   "execution_count": null,
   "id": "a2792386",
   "metadata": {},
   "outputs": [],
   "source": []
  }
 ],
 "metadata": {
  "kernelspec": {
   "display_name": "Python 3 (ipykernel)",
   "language": "python",
   "name": "python3"
  },
  "language_info": {
   "codemirror_mode": {
    "name": "ipython",
    "version": 3
   },
   "file_extension": ".py",
   "mimetype": "text/x-python",
   "name": "python",
   "nbconvert_exporter": "python",
   "pygments_lexer": "ipython3",
   "version": "3.7.4"
  }
 },
 "nbformat": 4,
 "nbformat_minor": 5
}
