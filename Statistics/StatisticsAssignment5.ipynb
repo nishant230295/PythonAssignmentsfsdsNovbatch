{
 "cells": [
  {
   "cell_type": "markdown",
   "id": "c1645b13",
   "metadata": {},
   "source": [
    "Sol1 \n",
    "\n",
    "Let the event of two dice throwing be taken here \n",
    "Event A sum is 7\n",
    "Event B number in first dice is 1\n",
    "Event C number in second dice is 6\n",
    "\n",
    "P(A)=P(B)=P(C) = 1/6\n",
    "\n",
    "Also,\n",
    "\n",
    "P[A ∩ B] = P[A ∩ C] = P[B ∩ C] = 1/36\n",
    "\n",
    "so that all events are pairwise independent. However,\n",
    "\n",
    "P[A ∩ B ∩ C] = P[B ∩ C] = 1/36\n",
    "\n",
    "while\n",
    "\n",
    "P[A]P[B]P[C] = 1/216\n",
    "\n",
    "so they are not independent as a triplet.\n"
   ]
  },
  {
   "cell_type": "markdown",
   "id": "72a087a0",
   "metadata": {},
   "source": [
    "Sol 2\n",
    "Let initial marbel be present is Green  after green marbel is putted in the bag and after removal of green marbel \n",
    "Probability of marbel BEING GREEN = 1\n",
    "if initially marbel was blue and then probability of green marbel after removal is 0\n",
    "Total probability = 0 + 1 = 1 Ans"
   ]
  },
  {
   "cell_type": "code",
   "execution_count": null,
   "id": "6f032d7b",
   "metadata": {},
   "outputs": [],
   "source": []
  }
 ],
 "metadata": {
  "kernelspec": {
   "display_name": "Python 3 (ipykernel)",
   "language": "python",
   "name": "python3"
  },
  "language_info": {
   "codemirror_mode": {
    "name": "ipython",
    "version": 3
   },
   "file_extension": ".py",
   "mimetype": "text/x-python",
   "name": "python",
   "nbconvert_exporter": "python",
   "pygments_lexer": "ipython3",
   "version": "3.7.4"
  }
 },
 "nbformat": 4,
 "nbformat_minor": 5
}
