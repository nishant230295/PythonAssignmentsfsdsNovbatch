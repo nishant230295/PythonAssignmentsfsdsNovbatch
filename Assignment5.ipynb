{
 "cells": [
  {
   "cell_type": "markdown",
   "id": "bc847bb8",
   "metadata": {},
   "source": [
    "Sol 1 Empty dictionary is represented by {}"
   ]
  },
  {
   "cell_type": "markdown",
   "id": "5a67d833",
   "metadata": {},
   "source": [
    "Sol 2 {'foo':42}"
   ]
  },
  {
   "cell_type": "markdown",
   "id": "770cfa83",
   "metadata": {},
   "source": [
    "Sol 3 Most significant difference between dictionaries and list is that items in list are ordered but in dictionaries are \n",
    "      unordered \n",
    "      this is illustrated below "
   ]
  },
  {
   "cell_type": "code",
   "execution_count": 2,
   "id": "2409039e",
   "metadata": {},
   "outputs": [
    {
     "name": "stdout",
     "output_type": "stream",
     "text": [
      "False\n",
      "True\n"
     ]
    }
   ],
   "source": [
    "# Illustration of sol 3 \n",
    "a=['sum','dfg','gty']\n",
    "b=['gtr','sum','dfg']\n",
    "\n",
    "print(a==b)\n",
    "\n",
    "c={'a':1,'b':2,'e':5}\n",
    "d={'b':2,'e':5,'a':1}\n",
    "\n",
    "print(c==d)\n",
    "## We can see item in dictionaries has no effect on order"
   ]
  },
  {
   "cell_type": "markdown",
   "id": "d7091c4e",
   "metadata": {},
   "source": [
    "Sol 4 It will raise key error as the key 'foo' is not present inside dictionary spam"
   ]
  },
  {
   "cell_type": "markdown",
   "id": "8c80c3f3",
   "metadata": {},
   "source": [
    "Sol 5 There is no difference the in operator checks a particular value in keys by default both 'cat' in spam command will\n",
    "      function same as 'cat' for spam in spam.keys()"
   ]
  },
  {
   "cell_type": "markdown",
   "id": "78e8f735",
   "metadata": {},
   "source": [
    "Sol 6 Yes there is definetely difference 'cat' in spam will check for cat in keys of spam  while  cat in spam.values() will\n",
    "      check for cat in values "
   ]
  },
  {
   "cell_type": "markdown",
   "id": "a56d5cc8",
   "metadata": {},
   "source": [
    "Sol 7 spam.setdefault('color', 'black') is the sisered command "
   ]
  },
  {
   "cell_type": "markdown",
   "id": "b7d4d5cb",
   "metadata": {},
   "source": [
    "Sol 8 pprint.pprint() is the desired command"
   ]
  },
  {
   "cell_type": "code",
   "execution_count": null,
   "id": "f60d5443",
   "metadata": {},
   "outputs": [],
   "source": []
  }
 ],
 "metadata": {
  "kernelspec": {
   "display_name": "Python 3 (ipykernel)",
   "language": "python",
   "name": "python3"
  },
  "language_info": {
   "codemirror_mode": {
    "name": "ipython",
    "version": 3
   },
   "file_extension": ".py",
   "mimetype": "text/x-python",
   "name": "python",
   "nbconvert_exporter": "python",
   "pygments_lexer": "ipython3",
   "version": "3.7.4"
  }
 },
 "nbformat": 4,
 "nbformat_minor": 5
}
