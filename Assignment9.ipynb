{
 "cells": [
  {
   "cell_type": "raw",
   "id": "18dd0d33",
   "metadata": {},
   "source": [
    "Sol 1 Relative path are relative to the current working directory"
   ]
  },
  {
   "cell_type": "raw",
   "id": "35926a48",
   "metadata": {},
   "source": [
    "Sol 2 it will start with root 'C:' as "
   ]
  },
  {
   "cell_type": "raw",
   "id": "d8bf647e",
   "metadata": {},
   "source": [
    "Sol 3 functions os.getcwd() returns current working directory and os.chdir() will change current working directory"
   ]
  },
  {
   "cell_type": "raw",
   "id": "70945952",
   "metadata": {},
   "source": [
    "Sol 4 . denotes current folder .. denotes parent folder"
   ]
  },
  {
   "cell_type": "raw",
   "id": "9be748a1",
   "metadata": {},
   "source": [
    "Sol 5 C:\\bacon\\eggs is the dir name and spam.txt is the base name"
   ]
  },
  {
   "cell_type": "raw",
   "id": "bd55725e",
   "metadata": {},
   "source": [
    "Sol 6 'r' for read mode 'b' for binary mode 'w' for writing mode "
   ]
  },
  {
   "cell_type": "raw",
   "id": "2ce521a0",
   "metadata": {},
   "source": [
    "Sol 7 the existing file previous data will be eraesd and it will be overwritten"
   ]
  },
  {
   "cell_type": "raw",
   "id": "498e7fd1",
   "metadata": {},
   "source": [
    "Sol 8 The read() will returns the files entire contents as a single string value whereas The readlines()  returns a list of\n",
    "      strings, where each string is a line from the file's contents."
   ]
  },
  {
   "cell_type": "raw",
   "id": "80ae3e5c",
   "metadata": {},
   "source": [
    "Sol 9 shelf value will resemble dictionary"
   ]
  },
  {
   "cell_type": "code",
   "execution_count": null,
   "id": "f8f9e198",
   "metadata": {},
   "outputs": [],
   "source": []
  }
 ],
 "metadata": {
  "kernelspec": {
   "display_name": "Python 3 (ipykernel)",
   "language": "python",
   "name": "python3"
  },
  "language_info": {
   "codemirror_mode": {
    "name": "ipython",
    "version": 3
   },
   "file_extension": ".py",
   "mimetype": "text/x-python",
   "name": "python",
   "nbconvert_exporter": "python",
   "pygments_lexer": "ipython3",
   "version": "3.7.4"
  }
 },
 "nbformat": 4,
 "nbformat_minor": 5
}
