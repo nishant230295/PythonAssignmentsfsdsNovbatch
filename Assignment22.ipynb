{
 "cells": [
  {
   "cell_type": "code",
   "execution_count": 1,
   "id": "34552350",
   "metadata": {},
   "outputs": [
    {
     "name": "stdout",
     "output_type": "stream",
     "text": [
      "iNeuron\n"
     ]
    }
   ],
   "source": [
    "## Sol 1 \n",
    "X='iNeuron'\n",
    "def func():\n",
    "    print(X)\n",
    "    \n",
    "func()"
   ]
  },
  {
   "cell_type": "markdown",
   "id": "b2dff18b",
   "metadata": {},
   "source": [
    "Explanation of this code is X is a global variable so it is accessed by the function inside the code"
   ]
  },
  {
   "cell_type": "code",
   "execution_count": 3,
   "id": "dddf3451",
   "metadata": {},
   "outputs": [
    {
     "name": "stdout",
     "output_type": "stream",
     "text": [
      "iNeuron\n"
     ]
    }
   ],
   "source": [
    "## Sol 2\n",
    "X='iNeuron'\n",
    "def func():\n",
    "    X='NI!'\n",
    "   \n",
    "    \n",
    "func()\n",
    "print(X)"
   ]
  },
  {
   "cell_type": "markdown",
   "id": "2d9af257",
   "metadata": {},
   "source": [
    "Explanation is that func() will not do any thing as neither print nor return statement is used inside the function whereas value of X is not overridden by 'NI!' in global scope "
   ]
  },
  {
   "cell_type": "code",
   "execution_count": 2,
   "id": "00a89e10",
   "metadata": {},
   "outputs": [
    {
     "name": "stdout",
     "output_type": "stream",
     "text": [
      "NI!\n",
      "iNeuron\n"
     ]
    }
   ],
   "source": [
    "## Sol 3\n",
    "X='iNeuron'\n",
    "def func():\n",
    "    X='NI!'\n",
    "    print(X)\n",
    "    \n",
    "func()\n",
    "print(X)"
   ]
  },
  {
   "cell_type": "markdown",
   "id": "e7e399e0",
   "metadata": {},
   "source": [
    "in this program inside the function value of X is ovderridden by 'NI' but this modification is local only so when we call the function then only X is 'NI!' but globally X is 'iNeuron' only"
   ]
  },
  {
   "cell_type": "code",
   "execution_count": 4,
   "id": "aed29086",
   "metadata": {},
   "outputs": [
    {
     "name": "stdout",
     "output_type": "stream",
     "text": [
      "NI!\n"
     ]
    }
   ],
   "source": [
    "## Sol 4\n",
    "X='iNeuron'\n",
    "def func():\n",
    "    global X\n",
    "    X='NI!'\n",
    "    \n",
    "    \n",
    "func()\n",
    "print(X)"
   ]
  },
  {
   "cell_type": "markdown",
   "id": "7c82b5e5",
   "metadata": {},
   "source": [
    "Explanation is that func() will not print thing as neither print nor return statement is used inside the function but it will globalise the value of X   by 'NI!' in global scope"
   ]
  },
  {
   "cell_type": "code",
   "execution_count": 6,
   "id": "7a2ba0c6",
   "metadata": {},
   "outputs": [
    {
     "data": {
      "text/plain": [
       "'iNeuron'"
      ]
     },
     "execution_count": 6,
     "metadata": {},
     "output_type": "execute_result"
    }
   ],
   "source": [
    "## Sol 5\n",
    "X='iNeuron'\n",
    "def func():\n",
    "    X='NI!'\n",
    "\n",
    "    def nested():\n",
    "        print(X)\n",
    "        nested()\n",
    "func()\n",
    "X"
   ]
  },
  {
   "cell_type": "markdown",
   "id": "061225e5",
   "metadata": {},
   "source": [
    "nested() will call the function inside the function only not out of the function therefore nested() body is not shown func() ewill change X  locally only while X will print global value 'iNeuron' "
   ]
  },
  {
   "cell_type": "code",
   "execution_count": 8,
   "id": "e7fa6ab6",
   "metadata": {},
   "outputs": [],
   "source": [
    "## Sol 6\n",
    "X='iNeuron'\n",
    "def func():\n",
    "    X='NI!'\n",
    "\n",
    "    def nested():\n",
    "        nonlocal X\n",
    "        X='spam'\n",
    "        nested()\n",
    "        print(X)\n",
    "\n",
    "func()\n"
   ]
  },
  {
   "cell_type": "markdown",
   "id": "e10e5cfc",
   "metadata": {},
   "source": [
    "Explanation only func() is called outside it only changes X locally wheras nested is not called outside its defintion so no\n",
    "output in console"
   ]
  },
  {
   "cell_type": "code",
   "execution_count": null,
   "id": "ad57cc71",
   "metadata": {},
   "outputs": [],
   "source": []
  }
 ],
 "metadata": {
  "kernelspec": {
   "display_name": "Python 3 (ipykernel)",
   "language": "python",
   "name": "python3"
  },
  "language_info": {
   "codemirror_mode": {
    "name": "ipython",
    "version": 3
   },
   "file_extension": ".py",
   "mimetype": "text/x-python",
   "name": "python",
   "nbconvert_exporter": "python",
   "pygments_lexer": "ipython3",
   "version": "3.7.4"
  }
 },
 "nbformat": 4,
 "nbformat_minor": 5
}
