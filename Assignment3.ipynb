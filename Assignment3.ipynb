{
 "cells": [
  {
   "cell_type": "markdown",
   "id": "c57d5d4b",
   "metadata": {},
   "source": [
    "Sol 1 Functions are used primalary due to two reasons \n",
    "      1. Maximizing code reusability and minimizing redundancy means we need not to write same logic again and again as\n",
    "         that segement is replaced by single function call which inreases readability of code \n",
    "         \n",
    "      2. Procedural Decomposition : A complex problem can be split into various functions executed in defined order    \n",
    "                                    supppose we want to execute function fsds() in it the function specifiecd can be \n",
    "                                    python(),stat(),ml(),dl(),cv() and so on as we can see that all these functionsa re \n",
    "                                    independently commplex and the reproducibality of these function applies for all"
   ]
  },
  {
   "cell_type": "markdown",
   "id": "5201e0b2",
   "metadata": {},
   "source": [
    "Sol 2 Before any function is called it needs to be specificied Any function is specified first by def keyword or lamda \n",
    "      keyword which assign a object by function name(only for def not for lamda)and then according to syntax the body of \n",
    "      function is defined \n",
    "      \n",
    "      after definition when the function is needed it is called by its name and the execution is done at this point \n",
    "      according we get output "
   ]
  },
  {
   "cell_type": "markdown",
   "id": "71f3339a",
   "metadata": {},
   "source": [
    "Sol 3 general function are created by def keyword like def abc():"
   ]
  },
  {
   "cell_type": "markdown",
   "id": "1f5dd042",
   "metadata": {},
   "source": [
    "Sol 4 Function call is responsible for making function definition useful otherwise it is a dead code without call \n",
    "      A function is a procedure to do a task while function call is using that function to achieve that task"
   ]
  },
  {
   "cell_type": "markdown",
   "id": "ef15c891",
   "metadata": {},
   "source": [
    "Sol 5 Only one global scope is there in python and it ceases once program terminates \n",
    "      Local scopes depends on number of functions in the program"
   ]
  },
  {
   "cell_type": "markdown",
   "id": "c59d2a5f",
   "metadata": {},
   "source": [
    "Sol 6 the varable in local scope appear when function is called ad after its executions and returning the value all the local\n",
    "      variables disappear and cannot be accesed"
   ]
  },
  {
   "cell_type": "markdown",
   "id": "29653772",
   "metadata": {},
   "source": [
    "Sol 7 return value concept in a function is used to fetch the output from the function if we want to further process it \n",
    "      yes an expression can return value provided it is witten after return statement \n",
    "      \n",
    "      Eg  def testq():\n",
    "              \n",
    "              return 17*6-4 \n",
    "          \n",
    "          This will return 98"
   ]
  },
  {
   "cell_type": "markdown",
   "id": "aef54b95",
   "metadata": {},
   "source": [
    "Sol 8 if a function is not specified return it will return None"
   ]
  },
  {
   "cell_type": "markdown",
   "id": "a1f976fd",
   "metadata": {},
   "source": [
    "Sol 9 Using global keyword with variable name to make scope of variable global the implementation is shown below"
   ]
  },
  {
   "cell_type": "code",
   "execution_count": 1,
   "id": "3492a498",
   "metadata": {},
   "outputs": [
    {
     "data": {
      "text/plain": [
       "27"
      ]
     },
     "execution_count": 1,
     "metadata": {},
     "output_type": "execute_result"
    }
   ],
   "source": [
    "## Sol 9\n",
    "def testq1():\n",
    "    global x\n",
    "    x=27\n",
    "    \n",
    "testq1()\n",
    "x"
   ]
  },
  {
   "cell_type": "markdown",
   "id": "6b4b921b",
   "metadata": {},
   "source": [
    "Sol 10 None is itself a datatype of type Nonetype"
   ]
  },
  {
   "cell_type": "markdown",
   "id": "cd78d41b",
   "metadata": {},
   "source": [
    "Sol 11 It will try to import a module named areallyourpetsnamederic but will fail and return Module not found error as \n",
    "       there is no module available we first need to create a module by this name then only we can import"
   ]
  },
  {
   "cell_type": "markdown",
   "id": "a2d7e9cf",
   "metadata": {},
   "source": [
    "Sol 12 spam.bacon() will call the function bacon from spam module"
   ]
  },
  {
   "cell_type": "markdown",
   "id": "b1f63022",
   "metadata": {},
   "source": [
    "Sol 13 We can use exception handling for executing the suspicious code and wrap that code in try block so the execptions is \n",
    "       holded also it will be good if logging is implemented parallely"
   ]
  },
  {
   "cell_type": "markdown",
   "id": "df46c853",
   "metadata": {},
   "source": [
    "Sol 14 in try block of code we write our main code body that needs to be excecuted and it is an advisable practice to make \n",
    "       our code generic as it preserves encapsulation practice as the end user will not be able to see actual \n",
    "       implementation in case of errors or when we are not sure about the output or there are some input involved that may \n",
    "       be mishandled in except block we try to handle and dispaly customised error messages if we are sure about the error \n",
    "       encountered we may specify type of exception otherwise we can write general exception"
   ]
  },
  {
   "cell_type": "code",
   "execution_count": null,
   "id": "68a01397",
   "metadata": {},
   "outputs": [],
   "source": []
  }
 ],
 "metadata": {
  "kernelspec": {
   "display_name": "Python 3 (ipykernel)",
   "language": "python",
   "name": "python3"
  },
  "language_info": {
   "codemirror_mode": {
    "name": "ipython",
    "version": 3
   },
   "file_extension": ".py",
   "mimetype": "text/x-python",
   "name": "python",
   "nbconvert_exporter": "python",
   "pygments_lexer": "ipython3",
   "version": "3.7.4"
  }
 },
 "nbformat": 4,
 "nbformat_minor": 5
}
