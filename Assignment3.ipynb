{
 "cells": [
  {
   "cell_type": "raw",
   "id": "a8ca8305",
   "metadata": {},
   "source": [
    "Sol 1 Functions are used primalary due to two reasons \n",
    "      1. Maximizing code reusability and minimizing redundancy means we need not to write same logic again and again as that \n",
    "         segement is replaced by single function call which inreases readability of code \n",
    "         \n",
    "      2. Procedural Decomposition : A complex problem can be split into various functions executed in defined order supppose we \n",
    "          want to execute function fsds() in it the function specifiecd can be python(),stat(),ml(),dl(),cv() and so on as we\n",
    "          can see that all these functionsa re independently commplex and the reproducibality of these function applies for all"
   ]
  },
  {
   "cell_type": "raw",
   "id": "f717428f",
   "metadata": {},
   "source": [
    "Sol 2 Before any function is called it needs to be specificied \n",
    "      Any function is specified first by def keyword or lamda keyword which assign a object by function name(only for def not \n",
    "      for lamda)and then according to syntax the body of function is defined \n",
    "      \n",
    "      after definition when the function is needed it is called by its name and the execution is done at this point according \n",
    "      we get output "
   ]
  },
  {
   "cell_type": "raw",
   "id": "af462e48",
   "metadata": {},
   "source": [
    "Sol 3 general function are created by def keyword like def abc():"
   ]
  },
  {
   "cell_type": "raw",
   "id": "8fd1cca8",
   "metadata": {},
   "source": [
    "Sol 4 Function call is responsible for making function definition useful otherwise it is a dead code without call \n",
    "      A function is a procedure to do a task while function call is using that function to achieve that task"
   ]
  },
  {
   "cell_type": "raw",
   "id": "fbd08cf2",
   "metadata": {},
   "source": [
    "Sol 5 Only one global scope is there in python and it ceases once program terminates \n",
    "      Local scopes depends on number of functions in the program"
   ]
  },
  {
   "cell_type": "raw",
   "id": "8d8859b4",
   "metadata": {},
   "source": [
    "Sol 6 the varable in local scope appear when function is called ad after its executions and returning the value all the local\n",
    "      variables disappear and cannot be accesed"
   ]
  },
  {
   "cell_type": "raw",
   "id": "d2531b82",
   "metadata": {},
   "source": [
    "Sol 7 return value concept in a function is used to fetch the output from the function if we want to further process it \n",
    "      yes an expression can return value provided it is witten after return statement \n",
    "      \n",
    "      Eg  def testq():\n",
    "              \n",
    "              return 17*6-4 \n",
    "          \n",
    "          This will return 98"
   ]
  },
  {
   "cell_type": "raw",
   "id": "e6a4e64a",
   "metadata": {},
   "source": [
    "Sol 8 if a function is not specified return it will return None"
   ]
  },
  {
   "cell_type": "raw",
   "id": "8ec9ec43",
   "metadata": {},
   "source": [
    "Sol 9 Using global keyword with variable name to make scope of variable global the implementation is shown below"
   ]
  },
  {
   "cell_type": "code",
   "execution_count": 1,
   "id": "3492a498",
   "metadata": {},
   "outputs": [
    {
     "data": {
      "text/plain": [
       "27"
      ]
     },
     "execution_count": 1,
     "metadata": {},
     "output_type": "execute_result"
    }
   ],
   "source": [
    "## Sol 9\n",
    "def testq1():\n",
    "    global x\n",
    "    x=27\n",
    "    \n",
    "testq1()\n",
    "x"
   ]
  },
  {
   "cell_type": "raw",
   "id": "a964ec58",
   "metadata": {},
   "source": [
    "Sol 10 None is itself a datatype of type Nonetype"
   ]
  },
  {
   "cell_type": "raw",
   "id": "fa002500",
   "metadata": {},
   "source": [
    "Sol 11 It will try to import a module named areallyourpetsnamederic but will fail and return Module not found error as there is \n",
    "       no module available we first need to create a module by this name then only we can import"
   ]
  },
  {
   "cell_type": "raw",
   "id": "9ae66212",
   "metadata": {},
   "source": [
    "Sol 12 spam.bacon() will call the function bacon from spam module"
   ]
  },
  {
   "cell_type": "raw",
   "id": "841e5ead",
   "metadata": {},
   "source": [
    "Sol 13 We can use exception handling for executing the suspicious code and wrap that code in try block so the execptions is \n",
    "       holded also it will be good if logging is implemented parallely"
   ]
  },
  {
   "cell_type": "raw",
   "id": "4a089506",
   "metadata": {},
   "source": [
    "Sol 14 in try block of code we write our main code body that needs to be excecuted and it is an advisable practice to make our\n",
    "       code generic as it preserves encapsulation practice as the end user will not be able to see actual implementation in  \n",
    "       case of errors or when we are not sure about the output or there are some input involved that may be mishandled \n",
    "       \n",
    "       in except block we try to handle and dispaly customised error messages if we are sure about the error encountered we may \n",
    "       specify type of exception otherwise we can write general exception"
   ]
  },
  {
   "cell_type": "code",
   "execution_count": null,
   "id": "68a01397",
   "metadata": {},
   "outputs": [],
   "source": []
  }
 ],
 "metadata": {
  "kernelspec": {
   "display_name": "Python 3 (ipykernel)",
   "language": "python",
   "name": "python3"
  },
  "language_info": {
   "codemirror_mode": {
    "name": "ipython",
    "version": 3
   },
   "file_extension": ".py",
   "mimetype": "text/x-python",
   "name": "python",
   "nbconvert_exporter": "python",
   "pygments_lexer": "ipython3",
   "version": "3.7.4"
  }
 },
 "nbformat": 4,
 "nbformat_minor": 5
}
