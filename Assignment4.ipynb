{
 "cells": [
  {
   "cell_type": "raw",
   "id": "81e954cd",
   "metadata": {},
   "source": [
    "Sol 1 [] denotes empty list a list containing no element in writing a program it is used to initialize a variable of type list"
   ]
  },
  {
   "cell_type": "code",
   "execution_count": 2,
   "id": "6a8be3fc",
   "metadata": {},
   "outputs": [
    {
     "data": {
      "text/plain": [
       "[2, 4, 'hello', 8, 10]"
      ]
     },
     "execution_count": 2,
     "metadata": {},
     "output_type": "execute_result"
    }
   ],
   "source": [
    "## Sol 2\n",
    "spam=[2,4,6,8,10]\n",
    "spam[2]='hello'\n",
    "spam"
   ]
  },
  {
   "cell_type": "raw",
   "id": "06405cd7",
   "metadata": {},
   "source": [
    "Sol 3 It will print 'd' as final expression will be spam[3] so 'd'"
   ]
  },
  {
   "cell_type": "raw",
   "id": "f4b54174",
   "metadata": {},
   "source": [
    "Sol 4 It will also print 'd'"
   ]
  },
  {
   "cell_type": "raw",
   "id": "421a5166",
   "metadata": {},
   "source": [
    "Sol 5 It will print 'a' and 'b'      "
   ]
  },
  {
   "cell_type": "raw",
   "id": "81e9991b",
   "metadata": {},
   "source": [
    "Sol 6 It will print 1 although cat is present at index 1 and 3 it will present lower index "
   ]
  },
  {
   "cell_type": "raw",
   "id": "a81647e9",
   "metadata": {},
   "source": [
    "Sol 7 [3.14, 'cat', 11, 'cat', True, '99'] is the final list 99 will be appended at the end"
   ]
  },
  {
   "cell_type": "raw",
   "id": "3eabb1d0",
   "metadata": {},
   "source": [
    "Sol 8 [3.14, 11, 'cat', True, '99'] is te final list 'cat' at index 1 is removed"
   ]
  },
  {
   "cell_type": "markdown",
   "id": "5834d82e",
   "metadata": {},
   "source": [
    "Sol 9 + is the list concetation and * is the list replication operator"
   ]
  },
  {
   "cell_type": "raw",
   "id": "84de25e6",
   "metadata": {},
   "source": [
    "Sol 10 both append() and insert() methods are used to add new element but the difference is append inserts it at the end and \n",
    "       takes one argument the value while insert takes two argument one the index and other the element "
   ]
  },
  {
   "cell_type": "raw",
   "id": "33ab7e5f",
   "metadata": {},
   "source": [
    "Sol 11 remove() and pop() are the two methods to remove element remove() takes element while pop() takes index "
   ]
  },
  {
   "cell_type": "raw",
   "id": "e7673807",
   "metadata": {},
   "source": [
    "Sol 12 the similarity in string and list is the ordered collection of elements of same type and both are iterable used in loops\n",
    "       they both support in and not in methods and can be concatenated and replicated using + and * operator\n",
    "       Eg '1STrue8.0' \n",
    "       a='1STrue8.0'   a is string \n",
    "       a1=[1,'S',True,8.0]     a1 is list "
   ]
  },
  {
   "cell_type": "raw",
   "id": "fc136264",
   "metadata": {},
   "source": [
    "Sol 13 THe difference between list and tuple are \n",
    "       1. Representation lists are represented by [] while tuples are represented by ()\n",
    "       2. Immutability lists are mutable means you can reassign indexes with new values whereas tuples are immutable once values \n",
    "        assigned in memomry for tuples they cannot be modified at that memory location"
   ]
  },
  {
   "cell_type": "raw",
   "id": "ed8692a2",
   "metadata": {},
   "source": [
    "Sol 14 (42,)"
   ]
  },
  {
   "cell_type": "raw",
   "id": "1f693964",
   "metadata": {},
   "source": [
    "Sol 15 By using list() and tuple() functions\n",
    "       \n",
    "       a=[a,b,c,d]    b=tuple(a)\n",
    "       c=(w,u,j,k)    d=list(c)"
   ]
  },
  {
   "cell_type": "raw",
   "id": "798edf9a",
   "metadata": {},
   "source": [
    "Sol 16 They contain references to list values in memomry "
   ]
  },
  {
   "cell_type": "raw",
   "id": "4cc98d61",
   "metadata": {},
   "source": [
    "Sol 17 They represent shallow copy(copy.copy()) deep copy(copy.deepcopy()) respectively \n",
    "       deep copy is used when we want that change in one list value y index does not affect other list \n",
    "       suppose lst1=[2,3,4]\n",
    "       if we write lst2=lst1 \n",
    "       then if we perform lst2[1]=100 \n",
    "       then both lst1 and lst2 will change and become [100,3,4] and [100,3,4] \n",
    "       \n",
    "       to prevent it we can write lst2=lst1.copy() \n",
    "       \n",
    "       deep copy is used for nested list suppose we change an item inside deep copy nested list should be used \n",
    "        \n",
    "       lst1=[[1,2,3],[5,7,9]]\n",
    "       lst2=copy.deepcopy(lst1) \n",
    "       \n",
    "       \n",
    "       "
   ]
  },
  {
   "cell_type": "code",
   "execution_count": null,
   "id": "369fe51f",
   "metadata": {},
   "outputs": [],
   "source": []
  }
 ],
 "metadata": {
  "kernelspec": {
   "display_name": "Python 3 (ipykernel)",
   "language": "python",
   "name": "python3"
  },
  "language_info": {
   "codemirror_mode": {
    "name": "ipython",
    "version": 3
   },
   "file_extension": ".py",
   "mimetype": "text/x-python",
   "name": "python",
   "nbconvert_exporter": "python",
   "pygments_lexer": "ipython3",
   "version": "3.7.4"
  }
 },
 "nbformat": 4,
 "nbformat_minor": 5
}
