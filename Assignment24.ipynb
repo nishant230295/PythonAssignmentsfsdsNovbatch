{
 "cells": [
  {
   "cell_type": "markdown",
   "id": "c1069107",
   "metadata": {},
   "source": [
    "##Sol 1\n",
    "def statement is used to create a normal function. where as lamba expressions are used to create Anonymous functions. \n",
    "which can be assigned to a variable and can be called using the variable later in function.\n",
    "\n",
    "Lambda's body is a single expression and not a block of statements like def statement.  We simply type the result as an expression instead of explicitly returning it. Because it is limited to an expression, a lambda is less general than a def statement."
   ]
  },
  {
   "cell_type": "markdown",
   "id": "51a886b9",
   "metadata": {},
   "source": [
    "##Sol 2\n",
    "1. Can we used to create a unnamed function like variable where simple operation are required\n",
    "2. They can be assigned to variable and no seprate column needed\n",
    "3. They can be used in integration with data frame manipulation operations in combination with agg function or apply "
   ]
  },
  {
   "cell_type": "markdown",
   "id": "d27b4b6d",
   "metadata": {},
   "source": [
    "##Sol 3\n",
    "The differences between map, filter and reduce are:\n",
    "\n",
    "map(): The map() function is a type of higher-order. This function takes another function as a parameter along with a sequence of iterables and returns an output after applying the function to each iterable present in the sequence.\n",
    "\n",
    "\n",
    "filter(): The filter() function is used to create an output list consisting of values for which the function returns true.\n",
    "\n",
    "\n",
    "reduce(): The reduce() function, as the name describes, applies a given function to the iterables and returns a single value"
   ]
  },
  {
   "cell_type": "markdown",
   "id": "418221e4",
   "metadata": {},
   "source": [
    "##Sol 4 \n",
    "Function annotations provide a way of associating various parts of a function with arbitrary python cexpressions at compile time.\n",
    "Annotations of simple parameters def func(x: expression, y: expression = 20):\n",
    "Whereas the annotations for excess parameters are as − def func (**args: expression, **kwargs: expression):"
   ]
  },
  {
   "cell_type": "markdown",
   "id": "080988ae",
   "metadata": {},
   "source": [
    "##Sol 5 \n",
    "Recursive function is a function which calls itself during execution a neccesary condition of recursive function is that \n",
    "there should exists a termination condition otherwise it will run into infinite loop"
   ]
  },
  {
   "cell_type": "markdown",
   "id": "0067eb45",
   "metadata": {},
   "source": [
    "##Sol 6 Some General guidelines of coding functions are \n",
    "1. Always use docstring that describes the usage and variables of function\n",
    "2. use of global variables to be limited to min\n",
    "3. return type is needed and print statement should be limited to minimum\n",
    "4. function name should be in synchronous with function\n",
    "5. variable name should not start with numbers\n",
    "6. constant should be represented in ALL CAPS"
   ]
  },
  {
   "cell_type": "markdown",
   "id": "fdb2f13c",
   "metadata": {},
   "source": [
    "##Sol 7 \n",
    "using Print function ,return and yield statements are the tree ways by which functions can communicate results to caller"
   ]
  },
  {
   "cell_type": "code",
   "execution_count": null,
   "id": "7c13ea6d",
   "metadata": {},
   "outputs": [],
   "source": []
  }
 ],
 "metadata": {
  "kernelspec": {
   "display_name": "Python 3 (ipykernel)",
   "language": "python",
   "name": "python3"
  },
  "language_info": {
   "codemirror_mode": {
    "name": "ipython",
    "version": 3
   },
   "file_extension": ".py",
   "mimetype": "text/x-python",
   "name": "python",
   "nbconvert_exporter": "python",
   "pygments_lexer": "ipython3",
   "version": "3.7.4"
  }
 },
 "nbformat": 4,
 "nbformat_minor": 5
}
