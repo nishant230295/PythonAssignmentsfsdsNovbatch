{
 "cells": [
  {
   "cell_type": "code",
   "execution_count": 13,
   "id": "5baf969c",
   "metadata": {},
   "outputs": [
    {
     "name": "stdout",
     "output_type": "stream",
     "text": [
      "vowel_links(\"a very large appliance\") ➞ True\n",
      "vowel_links(\"go to edabit\") ➞ True\n",
      "vowel_links(\"an open fire\") ➞ False\n",
      "vowel_links(\"a sudden applause\") ➞ False\n"
     ]
    }
   ],
   "source": [
    "##Sol 1\n",
    "def vowel_links(st):\n",
    "    l1=['a','e','i','o','u']\n",
    "    l2=st.split()\n",
    "    output=False\n",
    "    for i in range(len(l2)-1):\n",
    "        if l2[i][-1] in l1 and l2[i+1][0] in l1:\n",
    "            output=True\n",
    "            break\n",
    "        \n",
    "    print(f'vowel_links(\"{st}\") ➞ {output}')\n",
    "    \n",
    "vowel_links(\"a very large appliance\") \n",
    "vowel_links(\"go to edabit\") \n",
    "vowel_links(\"an open fire\") \n",
    "vowel_links(\"a sudden applause\") "
   ]
  },
  {
   "cell_type": "code",
   "execution_count": 15,
   "id": "1f917820",
   "metadata": {},
   "outputs": [
    {
     "name": "stdout",
     "output_type": "stream",
     "text": [
      "first_before_second_index(a rabbit jumps joyfully, a, j) ➞ True\n",
      "first_before_second_index(knaves knew about waterfalls, k, w) ➞ True\n",
      "first_before_second_index(happy birthday, a, y) ➞ False\n",
      "first_before_second_index(precarious kangaroos, k, a) ➞ False\n"
     ]
    }
   ],
   "source": [
    "##Sol 2\n",
    "def first_before_second(st,x,y):\n",
    "    last_occur_first = st.rindex(x)\n",
    "    first_occur_second = st.index(y)\n",
    "   \n",
    "    if last_occur_first < first_occur_second :\n",
    "        output=True\n",
    "    else :\n",
    "        output=False\n",
    "    print(f'first_before_second_index({st}, {x}, {y}) ➞ {output}')\n",
    "first_before_second(\"a rabbit jumps joyfully\", \"a\", \"j\")\n",
    "first_before_second(\"knaves knew about waterfalls\", \"k\", \"w\")\n",
    "first_before_second(\"happy birthday\", \"a\", \"y\")\n",
    "first_before_second(\"precarious kangaroos\", \"k\", \"a\")"
   ]
  },
  {
   "cell_type": "code",
   "execution_count": 17,
   "id": "dbc85430",
   "metadata": {},
   "outputs": [
    {
     "name": "stdout",
     "output_type": "stream",
     "text": [
      "char_at_pos([2, 4, 6, 8, 10], 'even') ➞ [4, 8]\n",
      "char_at_pos('EDABIT', 'odd') ➞ ['E', 'A', 'I']\n",
      "char_at_pos(['A', 'R', 'B', 'I', 'T', 'R', 'A', 'R', 'I', 'L', 'Y'], 'odd') ➞ ['A', 'B', 'T', 'A', 'I', 'Y']\n"
     ]
    }
   ],
   "source": [
    "##Sol 3\n",
    "def char_at_pos(st,x):\n",
    "    outl=[]\n",
    "    for i in range(len(st)):\n",
    "        if x =='even':\n",
    "            if (i+1)%2==0:\n",
    "                outl.append(st[i])\n",
    "        else:\n",
    "            if (i+1)%2!=0:\n",
    "                outl.append(st[i])\n",
    "                \n",
    "    print(f'char_at_pos{st,x} ➞ {outl}')\n",
    "                \n",
    "char_at_pos([2, 4, 6, 8, 10], \"even\") \n",
    "char_at_pos(\"EDABIT\", \"odd\")\n",
    "char_at_pos([\"A\", \"R\", \"B\", \"I\", \"T\", \"R\", \"A\", \"R\", \"I\", \"L\", \"Y\"], \"odd\")"
   ]
  },
  {
   "cell_type": "code",
   "execution_count": 25,
   "id": "c963af98",
   "metadata": {},
   "outputs": [
    {
     "name": "stdout",
     "output_type": "stream",
     "text": [
      "GCD([10, 20, 40]) ➞ 10\n",
      "GCD([1, 2, 3, 100]) ➞ 1\n",
      "GCD([1024, 192, 2048, 512]) ➞ 64\n"
     ]
    }
   ],
   "source": [
    "##sOL 4\n",
    "import math\n",
    "def GCD(l2):\n",
    "    x=math.gcd(l2[0],l2[1])\n",
    "    for i in range(1,len(l2)-1):\n",
    "        y=math.gcd(i,i+1)\n",
    "        if x>y:\n",
    "            pass\n",
    "        else:\n",
    "            x=y\n",
    "            \n",
    "    print(f'GCD({l2}) ➞ {x}')\n",
    "    \n",
    "GCD([10, 20, 40])\n",
    "GCD([1, 2, 3, 100])\n",
    "GCD([1024, 192, 2048, 512])"
   ]
  },
  {
   "cell_type": "code",
   "execution_count": 31,
   "id": "a09f3ead",
   "metadata": {},
   "outputs": [
    {
     "name": "stdout",
     "output_type": "stream",
     "text": [
      "palindrome(1306031) ➞ Decimal only.\n",
      "palindrome(427787) ➞ Binary only.\n",
      "palindrome(313) ➞ Decimal and binary.\n",
      "palindrome(934) ➞ Neither!.\n"
     ]
    }
   ],
   "source": [
    "##sOL 5\n",
    "def palindrome(x):\n",
    "    d1=str(x)\n",
    "    b1= bin(x).replace(\"0b\", \"\")\n",
    "    d2=str(b1)\n",
    "    out=''\n",
    "    if d1==d1[::-1] and d2==d2[::-1]:\n",
    "        out=out+\"Decimal and binary.\"\n",
    "    elif d1==d1[::-1]:\n",
    "        out=out+\"Decimal only.\"\n",
    "    elif d2==d2[::-1]:\n",
    "        out=out+\"Binary only.\"\n",
    "    else:\n",
    "        out=out+\"Neither!.\" \n",
    "     \n",
    "    print(f'palindrome({x}) ➞ {out}')\n",
    "    \n",
    "palindrome(1306031)\n",
    "palindrome(427787)\n",
    "palindrome(313)\n",
    "palindrome(934)   "
   ]
  },
  {
   "cell_type": "code",
   "execution_count": null,
   "id": "077fe587",
   "metadata": {},
   "outputs": [],
   "source": []
  }
 ],
 "metadata": {
  "kernelspec": {
   "display_name": "Python 3 (ipykernel)",
   "language": "python",
   "name": "python3"
  },
  "language_info": {
   "codemirror_mode": {
    "name": "ipython",
    "version": 3
   },
   "file_extension": ".py",
   "mimetype": "text/x-python",
   "name": "python",
   "nbconvert_exporter": "python",
   "pygments_lexer": "ipython3",
   "version": "3.7.4"
  }
 },
 "nbformat": 4,
 "nbformat_minor": 5
}
