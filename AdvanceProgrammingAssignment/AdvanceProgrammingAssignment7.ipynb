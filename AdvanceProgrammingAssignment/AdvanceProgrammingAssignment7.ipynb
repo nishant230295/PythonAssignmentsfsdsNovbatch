{
 "cells": [
  {
   "cell_type": "code",
   "execution_count": 1,
   "id": "66aed23e",
   "metadata": {},
   "outputs": [
    {
     "name": "stdout",
     "output_type": "stream",
     "text": [
      "count_layers(['AAAA', 'ABBA', 'AAAA']) ➞ 2\n",
      "count_layers(['AAAAAAAAA', 'ABBBBBBBA', 'ABBAAABBA', 'ABBBBBBBA', 'AAAAAAAAA']) ➞ 3\n",
      "count_layers(['AAAAAAAAAAA', 'AABBBBBBBAA', 'AABCCCCCBAA', 'AABCAAACBAA', 'AABCADACBAA', 'AABCAAACBAA', 'AABCCCCCBAA', 'AABBBBBBBAA', 'AAAAAAAAAAA']) ➞ 5\n"
     ]
    }
   ],
   "source": [
    "##Sol 1\n",
    "def count_layers(in_list):\n",
    "    out_list = []\n",
    "    for ele in in_list:\n",
    "        if ele not in out_list:\n",
    "            out_list.append(ele)\n",
    "    print(f'count_layers({in_list}) ➞ {len(out_list)}')\n",
    "\n",
    "count_layers([\"AAAA\",\"ABBA\",\"AAAA\"])\n",
    "count_layers([\"AAAAAAAAA\",\"ABBBBBBBA\",\"ABBAAABBA\",\"ABBBBBBBA\",\"AAAAAAAAA\"])\n",
    "count_layers([\"AAAAAAAAAAA\",\"AABBBBBBBAA\",\"AABCCCCCBAA\",\"AABCAAACBAA\",\"AABCADACBAA\",\"AABCAAACBAA\",\"AABCCCCCBAA\",\"AABBBBBBBAA\",\"AAAAAAAAAAA\"])\n",
    "\n"
   ]
  },
  {
   "cell_type": "code",
   "execution_count": 3,
   "id": "52d88e4b",
   "metadata": {},
   "outputs": [
    {
     "name": "stdout",
     "output_type": "stream",
     "text": [
      "unique_styles(['Dub,Dancehall', 'Industrial,Heavy Metal', 'Techno,Dubstep', 'Synth-pop,Euro-Disco', 'Industrial,Techno,Minimal']) ➞ 9\n",
      "unique_styles(['Soul', 'House,Folk', 'Trance,Downtempo,Big Beat,House', 'Deep House', 'Soul']) ➞ 7\n"
     ]
    }
   ],
   "source": [
    "##Sol 2\n",
    "def unique_styles(in_list):\n",
    "    out_list = []\n",
    "    for i in in_list:\n",
    "        for j in i.split(','):\n",
    "            out_list.append(j)\n",
    "    print(f'unique_styles({in_list}) ➞ {len(set(out_list))}')\n",
    "                \n",
    "unique_styles([\"Dub,Dancehall\",\"Industrial,Heavy Metal\",\"Techno,Dubstep\",\"Synth-pop,Euro-Disco\",\"Industrial,Techno,Minimal\"]) \n",
    "unique_styles([\"Soul\",\"House,Folk\",\"Trance,Downtempo,Big Beat,House\",\"Deep House\",\"Soul\"])"
   ]
  },
  {
   "cell_type": "code",
   "execution_count": 4,
   "id": "a08f3c39",
   "metadata": {},
   "outputs": [
    {
     "name": "stdout",
     "output_type": "stream",
     "text": [
      "is_prime(3) ➞ Yes\n",
      "is_prime(4) ➞ No\n",
      "is_prime(67) ➞ Yes\n",
      "is_prime(36) ➞ No\n"
     ]
    }
   ],
   "source": [
    "##Sol 3\n",
    "inlist = [2, 3, 5, 7, 11, 13, 17, 19, 23, 29, 31, 37, 41, 43, 47, 53, 59, 61, 67, 71, 73, 79, 83, 89, 97]\n",
    "def is_prime(inlist,x):\n",
    "    low=0\n",
    "    high=len(inlist)-1\n",
    "    mid=0\n",
    "    out='No'\n",
    "    while low<=high:\n",
    "        mid = (low+high)//2\n",
    "        \n",
    "        if x > inlist[mid]:\n",
    "            low=mid+1\n",
    "        \n",
    "        elif x<inlist[mid]:\n",
    "            high=mid-1\n",
    "        \n",
    "        else:\n",
    "            out='Yes'\n",
    "            break\n",
    "    print(f'is_prime({x}) ➞ {out}')\n",
    "    \n",
    "is_prime(inlist, 3) \n",
    "    \n",
    "is_prime(inlist, 4) \n",
    "    \n",
    "is_prime(inlist, 67) \n",
    "    \n",
    "is_prime(inlist, 36) "
   ]
  },
  {
   "cell_type": "code",
   "execution_count": 19,
   "id": "4ac8621a",
   "metadata": {},
   "outputs": [
    {
     "name": "stdout",
     "output_type": "stream",
     "text": [
      "power_ranger(2, 49, 65) ➞ 2\n",
      "power_ranger(3, 1, 27) ➞ 3\n",
      "power_ranger(10, 1, 5) ➞ 1\n",
      "power_ranger(5, 31, 33) ➞ 1\n",
      "power_ranger(4, 250, 1300) ➞ 3\n",
      "power_ranger(2, 49, 65) ➞ 2\n"
     ]
    }
   ],
   "source": [
    "##sOL 4\n",
    "\n",
    "import math\n",
    "def power_ranger(in_base,in_min,in_max):\n",
    "    output = []\n",
    "    for ele in range(in_min,in_max+1):\n",
    "        root = round(math.exp(math.log(ele)/in_base),1)\n",
    "        if str(root).split(\".\")[1] == '0':\n",
    "            output.append(int(root))\n",
    "    print(f'power_ranger{in_base,in_min,in_max} ➞ {len(set(output))}')\n",
    "\n",
    "power_ranger(2, 49, 65)\n",
    "power_ranger(3, 1, 27)\n",
    "power_ranger(10, 1, 5)\n",
    "power_ranger(5, 31, 33)\n",
    "power_ranger(4, 250, 1300)\n",
    "    \n",
    "power_ranger(2, 49, 65) \n",
    "            "
   ]
  },
  {
   "cell_type": "code",
   "execution_count": 20,
   "id": "edc958ac",
   "metadata": {},
   "outputs": [
    {
     "name": "stdout",
     "output_type": "stream",
     "text": [
      "rearranged_difference(972882) ➞ 988722 - 227889 ➞ 760833\n",
      "rearranged_difference(3320707) ➞ 7733200 - 23377 ➞ 7709823\n",
      "rearranged_difference(90010) ➞ 91000 - 19 ➞ 90981\n"
     ]
    }
   ],
   "source": [
    "def rearranged_difference(in_num):\n",
    "    split_num = []\n",
    "    for i in str(in_num):\n",
    "        split_num.append(i)\n",
    "    min_num = int(''.join(sorted(split_num))) \n",
    "    max_num = int(''.join(sorted(split_num, reverse=True)))\n",
    "    print(f'rearranged_difference({in_num}) ➞ {max_num} - {min_num} ➞ {max_num-min_num}')\n",
    "    \n",
    "rearranged_difference(972882)    \n",
    "rearranged_difference(3320707)\n",
    "rearranged_difference(90010)"
   ]
  },
  {
   "cell_type": "code",
   "execution_count": null,
   "id": "f3614dc4",
   "metadata": {},
   "outputs": [],
   "source": []
  },
  {
   "cell_type": "code",
   "execution_count": null,
   "id": "36ded923",
   "metadata": {},
   "outputs": [],
   "source": []
  },
  {
   "cell_type": "code",
   "execution_count": null,
   "id": "44021b19",
   "metadata": {},
   "outputs": [],
   "source": []
  }
 ],
 "metadata": {
  "kernelspec": {
   "display_name": "Python 3 (ipykernel)",
   "language": "python",
   "name": "python3"
  },
  "language_info": {
   "codemirror_mode": {
    "name": "ipython",
    "version": 3
   },
   "file_extension": ".py",
   "mimetype": "text/x-python",
   "name": "python",
   "nbconvert_exporter": "python",
   "pygments_lexer": "ipython3",
   "version": "3.7.4"
  }
 },
 "nbformat": 4,
 "nbformat_minor": 5
}
