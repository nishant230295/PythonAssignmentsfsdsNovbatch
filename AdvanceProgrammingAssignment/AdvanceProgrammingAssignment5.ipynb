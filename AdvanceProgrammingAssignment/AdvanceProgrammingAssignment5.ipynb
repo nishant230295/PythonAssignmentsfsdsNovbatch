{
 "cells": [
  {
   "cell_type": "code",
   "execution_count": 1,
   "id": "5f7979c8",
   "metadata": {},
   "outputs": [
    {
     "name": "stdout",
     "output_type": "stream",
     "text": [
      "f(1)➞ 2\n",
      "f(2)➞ 8\n",
      "f(3)➞ 2\n"
     ]
    }
   ],
   "source": [
    "## sol1\n",
    "def f(in_num):\n",
    "    output = [8,2]\n",
    "    print(f'f({in_num})➞ {output[in_num&1]}')\n",
    "    \n",
    "f(1)\n",
    "f(2)\n",
    "f(3)"
   ]
  },
  {
   "cell_type": "code",
   "execution_count": 7,
   "id": "740f2c38",
   "metadata": {},
   "outputs": [
    {
     "name": "stdout",
     "output_type": "stream",
     "text": [
      "majority_vote(['A', 'A', 'B']) ➞ A\n",
      "majority_vote(['A', 'A', 'A', 'B', 'C', 'A']) ➞ A\n",
      "majority_vote(['A', 'B', 'B', 'A', 'C', 'C']) ➞ None\n"
     ]
    }
   ],
   "source": [
    "##sol 2\n",
    "def majority_vote(le):\n",
    "    N=len(le)\n",
    "    s=set(le)\n",
    "    st=None\n",
    "    for i in s:\n",
    "        if le.count(i)>=N/2:\n",
    "            st=i\n",
    "        \n",
    "            \n",
    "    print(f'majority_vote({le}) ➞ {st}')\n",
    "        \n",
    "majority_vote([\"A\", \"A\", \"B\"]) \n",
    "majority_vote([\"A\", \"A\", \"A\", \"B\", \"C\", \"A\"])\n",
    "majority_vote([\"A\", \"B\", \"B\", \"A\", \"C\", \"C\"])"
   ]
  },
  {
   "cell_type": "code",
   "execution_count": 8,
   "id": "495763de",
   "metadata": {},
   "outputs": [
    {
     "name": "stdout",
     "output_type": "stream",
     "text": [
      "censor_string(Today is a Wednesday!) ➞ ----- is - Wednesday!\n",
      "censor_string(The cow jumped over the moon.) ➞ The *** jumped **** the moon.\n",
      "censor_string(Why did the chicken cross the road ?) ➞ Why *** the ******* cross the **** ?\n"
     ]
    }
   ],
   "source": [
    "##Sol 3\n",
    "def censor_string(in_string_1, in_string_2, rep_char):\n",
    "    out_string = []\n",
    "    for ele in in_string_1.split():\n",
    "        if ele.title() in in_string_2 or ele.lower() in in_string_2 or ele.upper() in in_string_2:\n",
    "            out_string.append(rep_char*len(ele))\n",
    "        else:\n",
    "            out_string.append(ele)\n",
    "    print(f'censor_string({in_string_1}) ➞ {\" \".join(out_string)}')\n",
    "\n",
    "censor_string(\"Today is a Wednesday!\", [\"Today\", \"a\"], \"-\")\n",
    "censor_string(\"The cow jumped over the moon.\", [\"cow\", \"over\"], \"*\")\n",
    "censor_string(\"Why did the chicken cross the road ?\", [\"Did\", \"chicken\", \"road\"], \"*\")"
   ]
  },
  {
   "cell_type": "code",
   "execution_count": 8,
   "id": "3cc3a17e",
   "metadata": {},
   "outputs": [
    {
     "name": "stdout",
     "output_type": "stream",
     "text": [
      "is_polydivisible(1232) ➞ True\n",
      "is_polydivisible(123220) ➞ False\n"
     ]
    }
   ],
   "source": [
    "##Sol 4\n",
    "def is_polydivisible(dig):\n",
    "    st=str(dig)\n",
    "    out=False\n",
    "    l=len(st)\n",
    "    for i in range(l):\n",
    "        if int(st[:i+1])%(i+1)==0:\n",
    "            out=True\n",
    "        else:\n",
    "            out=False\n",
    "            break\n",
    "    print(f'is_polydivisible({dig}) ➞ {out}')\n",
    "    \n",
    "is_polydivisible(1232)\n",
    "is_polydivisible(123220)\n",
    "         "
   ]
  },
  {
   "cell_type": "code",
   "execution_count": 9,
   "id": "568f0a18",
   "metadata": {},
   "outputs": [
    {
     "name": "stdout",
     "output_type": "stream",
     "text": [
      "sum_prices([1, 2, 3, 4, 5, 6, 7, 8, 9, 10]) ➞ 17\n",
      "sum_prices([2, 3, 4, 11, 20, 50, 71]) ➞ 87\n",
      "sum_prices([]) ➞ None\n"
     ]
    }
   ],
   "source": [
    "##Sol 5\n",
    "def sum_primes(in_list):\n",
    "    out_string = []\n",
    "    for ele in in_list:\n",
    "        if ele in [2,3]:\n",
    "            out_string.append(ele)\n",
    "        elif ele in [6*n-1 for n in range(0,ele)] or ele in [6*n+1 for n in range(0,ele)]:\n",
    "            out_string.append(ele)\n",
    "    if 1 in out_string:\n",
    "        out_string.remove(1)\n",
    "    print(f'sum_prices({in_list}) ➞ {sum(out_string) if len(out_string) > 0 else None}')\n",
    "        \n",
    "sum_primes([1, 2, 3, 4, 5, 6, 7, 8, 9, 10])\n",
    "sum_primes([2, 3, 4, 11, 20, 50, 71])\n",
    "sum_primes([])"
   ]
  },
  {
   "cell_type": "code",
   "execution_count": null,
   "id": "98c4b2c3",
   "metadata": {},
   "outputs": [],
   "source": []
  }
 ],
 "metadata": {
  "kernelspec": {
   "display_name": "Python 3 (ipykernel)",
   "language": "python",
   "name": "python3"
  },
  "language_info": {
   "codemirror_mode": {
    "name": "ipython",
    "version": 3
   },
   "file_extension": ".py",
   "mimetype": "text/x-python",
   "name": "python",
   "nbconvert_exporter": "python",
   "pygments_lexer": "ipython3",
   "version": "3.7.4"
  }
 },
 "nbformat": 4,
 "nbformat_minor": 5
}
