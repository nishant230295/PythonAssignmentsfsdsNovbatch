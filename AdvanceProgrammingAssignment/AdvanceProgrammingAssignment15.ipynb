{
 "cells": [
  {
   "cell_type": "code",
   "execution_count": 8,
   "id": "d14ee705",
   "metadata": {},
   "outputs": [
    {
     "name": "stdout",
     "output_type": "stream",
     "text": [
      "anagram('Justin Bieber', ['injures', 'ebb', 'it']) ➞ True\n",
      "anagram('Natalie Portman', ['ornamental', 'pita']) ➞ True\n",
      "anagram('Chris Pratt', ['chirps', 'rat']) ➞ False\n",
      "anagram('Jeff Goldblum', ['jog', 'meld', 'bluffs']) ➞ False\n"
     ]
    }
   ],
   "source": [
    "##Sol 1\n",
    "def anagram(in_string,in_list):\n",
    "    in_string_list = list(in_string.lower())\n",
    "    in_string_list.remove(' ')\n",
    "    not_exist_list = []\n",
    "    output = False\n",
    "    for item in in_list:\n",
    "        for ele in item:\n",
    "            if ele in in_string_list:\n",
    "                in_string_list.remove(ele)\n",
    "            else:\n",
    "                not_exist_list.append(ele)\n",
    "    if len(in_string_list) == 0 and len(not_exist_list) == 0:\n",
    "        output = True\n",
    "    print(f'anagram{in_string,in_list} ➞ {output}')\n",
    "    \n",
    "anagram(\"Justin Bieber\", [\"injures\", \"ebb\", \"it\"])\n",
    "anagram(\"Natalie Portman\", [\"ornamental\", \"pita\"])\n",
    "anagram(\"Chris Pratt\", [\"chirps\", \"rat\"])\n",
    "anagram(\"Jeff Goldblum\", [\"jog\", \"meld\", \"bluffs\"])"
   ]
  },
  {
   "cell_type": "code",
   "execution_count": 10,
   "id": "5cd4c55a",
   "metadata": {},
   "outputs": [
    {
     "name": "stdout",
     "output_type": "stream",
     "text": [
      "leaderboards([{'name': 'a', 'score': 100, 'reputation': 20}, {'name': 'b', 'score': 90, 'reputation': 40}, {'name': 'c', 'score': 115, 'reputation': 30}]) ➞ [{'name': 'c', 'score': 115, 'reputation': 30}, {'name': 'b', 'score': 90, 'reputation': 40}, {'name': 'a', 'score': 100, 'reputation': 20}]\n"
     ]
    }
   ],
   "source": [
    "##Sol 2\n",
    "def leaderboards(indic):\n",
    "    temp_dict = {}\n",
    "    out_dic = []\n",
    "    for ele in indic:\n",
    "        temp_dict[(ele['reputation']*2)+ele['score']] = ele\n",
    "    for ele in sorted(temp_dict.keys(),reverse=True):\n",
    "        out_dic.append(temp_dict[ele])\n",
    "    print(f'leaderboards({indic}) ➞ {out_dic}')\n",
    "    \n",
    "leaderboards([\n",
    "  { \"name\": \"a\", \"score\": 100, \"reputation\": 20 },\n",
    "  { \"name\": \"b\", \"score\": 90, \"reputation\": 40 },\n",
    "  { \"name\": \"c\", \"score\": 115, \"reputation\": 30 },\n",
    "])"
   ]
  },
  {
   "cell_type": "code",
   "execution_count": 20,
   "id": "1a1ba358",
   "metadata": {},
   "outputs": [
    {
     "name": "stdout",
     "output_type": "stream",
     "text": [
      "hangman('helicopter', ['o', 'e', 's']) ➞ -e---o--e-\n",
      "hangman('tree', ['r', 't', 'e']) ➞ tree\n",
      "hangman('Python rules', ['a', 'n', 'p', 'r', 'z']) ➞ P----n r----\n",
      "hangman('He\"s a very naughty boy!', ['e', 'a', 'y']) ➞ -e\"- a -e-y -a----y --y!\n"
     ]
    }
   ],
   "source": [
    "##Sol 3\n",
    "def hangman(in_string,in_list):\n",
    "    out_string = ''\n",
    "    for ele in range(len(in_string)):\n",
    "        if in_string[ele].lower() in in_list:\n",
    "            out_string += in_string[ele]\n",
    "        elif in_string[ele] in '\"! ':\n",
    "            out_string += in_string[ele]\n",
    "        else:\n",
    "            out_string += '-'\n",
    "    print(f'hangman{in_string,in_list} ➞ {out_string}')\n",
    "        \n",
    "hangman(\"helicopter\", [\"o\", \"e\", \"s\"])\n",
    "hangman(\"tree\", [\"r\", \"t\", \"e\"])\n",
    "hangman(\"Python rules\", [\"a\", \"n\", \"p\", \"r\", \"z\"])\n",
    "hangman(\"He\\\"s a very naughty boy!\", [\"e\", \"a\", \"y\"])"
   ]
  },
  {
   "cell_type": "code",
   "execution_count": 1,
   "id": "b3b0cbd1",
   "metadata": {},
   "outputs": [
    {
     "name": "stdout",
     "output_type": "stream",
     "text": [
      "max_collatz(10) ➞ 16\n",
      "max_collatz(32) ➞ 32\n",
      "max_collatz(85) ➞ 256\n"
     ]
    }
   ],
   "source": [
    "##Sol 4\n",
    "def max_collatz(in_num):\n",
    "    out_list = []\n",
    "    out_list.append(in_num)\n",
    "    temp_in_num = in_num\n",
    "    while True:\n",
    "        if temp_in_num%2 == 0:\n",
    "            temp_in_num /= 2\n",
    "        else:\n",
    "            temp_in_num = (temp_in_num*3)+1\n",
    "        out_list.append(int(temp_in_num))\n",
    "        if temp_in_num ==1:\n",
    "            break\n",
    "            \n",
    "    x= str(out_list)\n",
    "    print(f'max_collatz({in_num}) ➞ {max(out_list)}')\n",
    "    \n",
    "max_collatz(10)\n",
    "max_collatz(32)\n",
    "max_collatz(85)"
   ]
  },
  {
   "cell_type": "code",
   "execution_count": 2,
   "id": "92dec568",
   "metadata": {},
   "outputs": [
    {
     "name": "stdout",
     "output_type": "stream",
     "text": [
      "digit_sort([77, 23, 5, 7, 101]) ➞ [101, 23, 77, 5, 7]\n",
      "digit_sort([1, 5, 9, 2, 789, 563, 444]) ➞ [444, 563, 789, 1, 2, 5, 9]\n",
      "digit_sort([53219, 3772, 564, 32, 1]) ➞ [53219, 3772, 564, 32, 1]\n"
     ]
    }
   ],
   "source": [
    "##Sol 5\n",
    "def digit_sort(in_list):\n",
    "    max_len = len(str(max(in_list)))\n",
    "    output = []\n",
    "    for item in range(max_len,0,-1):\n",
    "        temp = []\n",
    "        for ele in in_list:\n",
    "            if len(str(ele)) == item:\n",
    "                temp.append(ele)\n",
    "        output.extend(sorted(temp))\n",
    "    print(f'digit_sort({in_list}) ➞ {output}')\n",
    "    \n",
    "digit_sort([77, 23, 5, 7, 101])\n",
    "digit_sort([1, 5, 9, 2, 789, 563, 444])\n",
    "digit_sort([53219, 3772, 564, 32, 1])"
   ]
  },
  {
   "cell_type": "code",
   "execution_count": null,
   "id": "e8f65e27",
   "metadata": {},
   "outputs": [],
   "source": []
  }
 ],
 "metadata": {
  "kernelspec": {
   "display_name": "Python 3 (ipykernel)",
   "language": "python",
   "name": "python3"
  },
  "language_info": {
   "codemirror_mode": {
    "name": "ipython",
    "version": 3
   },
   "file_extension": ".py",
   "mimetype": "text/x-python",
   "name": "python",
   "nbconvert_exporter": "python",
   "pygments_lexer": "ipython3",
   "version": "3.7.4"
  }
 },
 "nbformat": 4,
 "nbformat_minor": 5
}
