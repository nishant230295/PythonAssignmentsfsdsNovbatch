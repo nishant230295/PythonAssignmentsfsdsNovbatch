{
 "cells": [
  {
   "cell_type": "code",
   "execution_count": 2,
   "id": "2bd2e181",
   "metadata": {},
   "outputs": [
    {
     "name": "stdout",
     "output_type": "stream",
     "text": [
      "pentagonal(1) ➞ 1\n",
      "pentagonal(2) ➞ 6\n",
      "pentagonal(3) ➞ 16\n",
      "pentagonal(8) ➞ 141\n"
     ]
    }
   ],
   "source": [
    "##Sol 1\n",
    "def pentagonal(in_num):\n",
    "    output = 1\n",
    "    if in_num >=1:\n",
    "        for ele in range(in_num):\n",
    "            output = output + (5*ele)\n",
    "        print(f'pentagonal({in_num}) ➞ {output}')\n",
    "    else:\n",
    "        print(\"Enter a Positive Number as Input\")\n",
    "        \n",
    "pentagonal(1) \n",
    "pentagonal(2) \n",
    "pentagonal(3) \n",
    "pentagonal(8) \n"
   ]
  },
  {
   "cell_type": "code",
   "execution_count": 7,
   "id": "2fe60d1d",
   "metadata": {},
   "outputs": [
    {
     "name": "stdout",
     "output_type": "stream",
     "text": [
      "encrypt(\"banana\") ➞ \"0n0n0baca\"\n",
      "encrypt(\"karaca\") ➞ \"0c0r0kaca\"\n",
      "encrypt(\"burak\") ➞ \"k0r3baca\"\n",
      "encrypt(\"alpaca\") ➞ \"0c0pl0aca\"\n"
     ]
    }
   ],
   "source": [
    "##Sol 2\n",
    "def encrypt(st):\n",
    "    outst=st[::-1]\n",
    "    di={'a':'0','e':'1','i':'2','o':'2','u':'3'}\n",
    "    for i in outst:\n",
    "        if i in di.keys():\n",
    "            outst=outst.replace(i,di[i])\n",
    "    outst+='aca'\n",
    "    \n",
    "    print(f'encrypt(\"{st}\") ➞ \"{outst}\"')\n",
    "    \n",
    "encrypt(\"banana\") \n",
    "encrypt(\"karaca\") \n",
    "encrypt(\"burak\") \n",
    "encrypt(\"alpaca\") "
   ]
  },
  {
   "cell_type": "code",
   "execution_count": 10,
   "id": "a52443f3",
   "metadata": {},
   "outputs": [
    {
     "name": "stdout",
     "output_type": "stream",
     "text": [
      "has_friday_13(3, 2020) ➞ True\n",
      "has_friday_13(10, 2017) ➞ True\n",
      "has_friday_13(1, 1985) ➞ False\n"
     ]
    }
   ],
   "source": [
    "##Sol 3\n",
    "import datetime\n",
    "def has_friday_13(month, year):\n",
    "    out=False\n",
    "    if datetime.datetime(year,month,13).strftime(\"%A\")=='Friday':\n",
    "        out=True\n",
    "    print(f'has_friday_13{month,year} ➞ {out}')\n",
    "    \n",
    "has_friday_13(3, 2020) \n",
    "has_friday_13(10, 2017)\n",
    "has_friday_13(1, 1985) "
   ]
  },
  {
   "cell_type": "code",
   "execution_count": 11,
   "id": "7f9fd178",
   "metadata": {},
   "outputs": [
    {
     "name": "stdout",
     "output_type": "stream",
     "text": [
      "No of Bad cookies produced per day ➞ 2\n"
     ]
    }
   ],
   "source": [
    "##Sol 4\n",
    "import re\n",
    "lst = [\"bad cookie\", \"good cookie\", \"bad cookie\", \"good cookie\", \"good cookie\"]\n",
    "pattern = r'(?<!good)\\scookie'# Regex Negative lookbehind expression\n",
    "data = re.findall(pattern,' '.join(lst))\n",
    "print(f'No of Bad cookies produced per day ➞ {len(data)}')"
   ]
  },
  {
   "cell_type": "code",
   "execution_count": 13,
   "id": "0320f13d",
   "metadata": {},
   "outputs": [
    {
     "name": "stdout",
     "output_type": "stream",
     "text": [
      "pluralize(['cow', 'pig', 'cow', 'cow']) ➞ {'pig', 'cows'}\n",
      "pluralize(['table', 'table', 'table']) ➞ {'tables'}\n",
      "pluralize(['chair', 'pencil', 'arm']) ➞ {'arm', 'chair', 'pencil'}\n"
     ]
    }
   ],
   "source": [
    "##Sol 5\n",
    "def pluralize(lw):\n",
    "    s1=set(lw)\n",
    "    lv=[]\n",
    "    for i in s1:\n",
    "        if lw.count(i)>1:\n",
    "            lv.append(i+'s')\n",
    "        else:\n",
    "            lv.append(i)\n",
    "            \n",
    "    print(f'pluralize({lw}) ➞ {set(lv)}')\n",
    "\n",
    "pluralize([\"cow\", \"pig\", \"cow\", \"cow\"]) \n",
    "pluralize([\"table\", \"table\", \"table\"]) \n",
    "pluralize([\"chair\", \"pencil\", \"arm\"])"
   ]
  },
  {
   "cell_type": "code",
   "execution_count": null,
   "id": "5e66f1dc",
   "metadata": {},
   "outputs": [],
   "source": []
  }
 ],
 "metadata": {
  "kernelspec": {
   "display_name": "Python 3 (ipykernel)",
   "language": "python",
   "name": "python3"
  },
  "language_info": {
   "codemirror_mode": {
    "name": "ipython",
    "version": 3
   },
   "file_extension": ".py",
   "mimetype": "text/x-python",
   "name": "python",
   "nbconvert_exporter": "python",
   "pygments_lexer": "ipython3",
   "version": "3.7.4"
  }
 },
 "nbformat": 4,
 "nbformat_minor": 5
}
