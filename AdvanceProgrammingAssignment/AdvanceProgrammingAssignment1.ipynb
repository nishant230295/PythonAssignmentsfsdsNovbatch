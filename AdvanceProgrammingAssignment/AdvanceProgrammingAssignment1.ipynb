{
 "cells": [
  {
   "cell_type": "code",
   "execution_count": 10,
   "id": "3248ec3c",
   "metadata": {},
   "outputs": [
    {
     "name": "stdout",
     "output_type": "stream",
     "text": [
      "checkscore([['#', '!'], ['!!', 'X']]) ➞ 2\n",
      "checkscore([['!!!', 'O', '!'], ['X', '#', '!!!'], ['!!', 'X', 'O']]) ➞ 0\n"
     ]
    }
   ],
   "source": [
    "#Sol 1\n",
    "def check_score(l2):\n",
    "    dic={'#':5,'O':3,'X':1,'!':-1,'!!':-3,'!!!':-5}\n",
    "    score=0\n",
    "    for i in l2:\n",
    "        if type(i)==str:\n",
    "            score=score+int(dic[i])\n",
    "        if type(i)==list:\n",
    "            for j in i:\n",
    "                if type(j)==str:\n",
    "                    score=score+int(dic[j])\n",
    "        \n",
    "    if score>0:\n",
    "        print(f'checkscore({l2}) ➞ {score}')\n",
    "    else:\n",
    "        print(f'checkscore({l2}) ➞ {0}')\n",
    "\n",
    "        \n",
    "check_score([[\"#\", \"!\"],[\"!!\", \"X\"]]) \n",
    "check_score([\n",
    "  [\"!!!\", \"O\", \"!\"],\n",
    "  [\"X\", \"#\", \"!!!\"],\n",
    "  [\"!!\", \"X\", \"O\"]\n",
    "])\n"
   ]
  },
  {
   "cell_type": "code",
   "execution_count": 14,
   "id": "6d3767a1",
   "metadata": {},
   "outputs": [
    {
     "name": "stdout",
     "output_type": "stream",
     "text": [
      "combinations(2, 3) ➞ 6\n",
      "combinations(3, 7, 4) ➞ 84\n",
      "combinations(2, 3, 4, 5) ➞ 120\n"
     ]
    }
   ],
   "source": [
    "##Sol 2\n",
    "def combinations(*args):\n",
    "    \n",
    "    pr=1\n",
    "    for i in args:\n",
    "        pr=pr*i\n",
    "        \n",
    "    print(f'combinations{args} ➞ {pr}')\n",
    "\n",
    "combinations(2, 3) \n",
    "combinations(3, 7, 4) \n",
    "combinations(2, 3, 4, 5) "
   ]
  },
  {
   "cell_type": "code",
   "execution_count": 16,
   "id": "6b931804",
   "metadata": {},
   "outputs": [
    {
     "name": "stdout",
     "output_type": "stream",
     "text": [
      "encode_morse(\"EDABBIT CHALLENGE\") ➞ \".-...--...-.....- -.-......-.-...-...-.--..\"\n",
      "encode_morse(\"HELP ME !\") ➞ \"......-...--. --. -.-.--\"\n"
     ]
    }
   ],
   "source": [
    "##Sol 3\n",
    "def encode_morse(st):\n",
    "    char_to_dots = {\n",
    "  'A': '.-', 'B': '-...', 'C': '-.-.', 'D': '-..', 'E': '.', 'F': '..-.',\n",
    "  'G': '--.', 'H': '....', 'I': '..', 'J': '.---', 'K': '-.-', 'L': '.-..',\n",
    "  'M': '--', 'N': '-.', 'O': '---', 'P': '.--.', 'Q': '--.-', 'R': '.-.',\n",
    "  'S': '...', 'T': '-', 'U': '..-', 'V': '...-', 'W': '.--', 'X': '-..-',\n",
    "  'Y': '-.--', 'Z': '--..', ' ': ' ', '0': '-----',\n",
    "  '1': '.----', '2': '..---', '3': '...--', '4': '....-', '5': '.....',\n",
    "  '6': '-....', '7': '--...', '8': '---..', '9': '----.',\n",
    "  '&': '.-...', \"'\": '.----.', '@': '.--.-.', ')': '-.--.-', '(': '-.--.',\n",
    "  ':': '---...', ',': '--..--', '=': '-...-', '!': '-.-.--', '.': '.-.-.-',\n",
    "  '-': '-....-', '+': '.-.-.', '\"': '.-..-.', '?': '..--..', '/': '-..-.'\n",
    "}\n",
    "    outstr=''\n",
    "    for i in st.upper():\n",
    "        outstr=outstr+char_to_dots[i]\n",
    "        \n",
    "    print(f'encode_morse(\"{st}\") ➞ \"{outstr}\"')\n",
    "    \n",
    "encode_morse(\"EDABBIT CHALLENGE\") \n",
    "encode_morse(\"HELP ME !\") "
   ]
  },
  {
   "cell_type": "code",
   "execution_count": 17,
   "id": "cb313384",
   "metadata": {},
   "outputs": [
    {
     "name": "stdout",
     "output_type": "stream",
     "text": [
      "prime(7) ➞ True\n",
      "prime(56963) ➞ True\n",
      "prime(5151512515524) ➞ False\n"
     ]
    }
   ],
   "source": [
    "##Sol 4\n",
    "def prime(in_num):\n",
    "    out_bool = False\n",
    "    if ((in_num-1)%6 == 0) or ((in_num+1)%6 == 0):\n",
    "        out_bool = True\n",
    "    print(f'prime({in_num}) ➞ {out_bool}')\n",
    "\n",
    "prime(7) \n",
    "prime(56963) \n",
    "prime(5151512515524) \n"
   ]
  },
  {
   "cell_type": "code",
   "execution_count": 32,
   "id": "32d853e3",
   "metadata": {},
   "outputs": [
    {
     "name": "stdout",
     "output_type": "stream",
     "text": [
      "to_boolean_list(\"deep\") ➞ [False, True, True, False]\n",
      "to_boolean_list(\"loves\") ➞ [False, True, False, True, True]\n",
      "to_boolean_list(\"tesh\") ➞ [False, True, True, False]\n"
     ]
    }
   ],
   "source": [
    "##Sol5\n",
    "def to_boolean_list(st):\n",
    "    l=['a','b','c','d','e','f','g','h','i','j','k','l','m','n','o','p','q','r','s','t','u','v','w','x','y','z']\n",
    "    dic={l[i-1]:i for i in range(1,27)}\n",
    "    l2=[]\n",
    "    l3=[]\n",
    "    for i in st:\n",
    "        if dic[i]%2==0:\n",
    "            l2.append(0)\n",
    "        else:\n",
    "            l2.append(1)\n",
    "            \n",
    "    for i in l2:\n",
    "        l3.append(bool(i))\n",
    "    print(f'to_boolean_list(\"{st}\") ➞ {l3}')\n",
    "\n",
    "to_boolean_list(\"deep\") \n",
    "to_boolean_list(\"loves\") \n",
    "to_boolean_list(\"tesh\") "
   ]
  },
  {
   "cell_type": "code",
   "execution_count": 20,
   "id": "3d94071d",
   "metadata": {},
   "outputs": [],
   "source": []
  },
  {
   "cell_type": "code",
   "execution_count": 24,
   "id": "5d12724b",
   "metadata": {},
   "outputs": [],
   "source": []
  },
  {
   "cell_type": "code",
   "execution_count": null,
   "id": "891c7879",
   "metadata": {},
   "outputs": [],
   "source": []
  },
  {
   "cell_type": "code",
   "execution_count": null,
   "id": "f9009446",
   "metadata": {},
   "outputs": [],
   "source": []
  },
  {
   "cell_type": "code",
   "execution_count": null,
   "id": "19b1ab4e",
   "metadata": {},
   "outputs": [],
   "source": []
  },
  {
   "cell_type": "code",
   "execution_count": null,
   "id": "fc15f06e",
   "metadata": {},
   "outputs": [],
   "source": []
  }
 ],
 "metadata": {
  "kernelspec": {
   "display_name": "Python 3 (ipykernel)",
   "language": "python",
   "name": "python3"
  },
  "language_info": {
   "codemirror_mode": {
    "name": "ipython",
    "version": 3
   },
   "file_extension": ".py",
   "mimetype": "text/x-python",
   "name": "python",
   "nbconvert_exporter": "python",
   "pygments_lexer": "ipython3",
   "version": "3.7.4"
  }
 },
 "nbformat": 4,
 "nbformat_minor": 5
}
