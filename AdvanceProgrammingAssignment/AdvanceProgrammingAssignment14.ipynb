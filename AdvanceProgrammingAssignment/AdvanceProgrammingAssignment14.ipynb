{
 "cells": [
  {
   "cell_type": "code",
   "execution_count": 4,
   "id": "4e144f7a",
   "metadata": {},
   "outputs": [
    {
     "name": "stdout",
     "output_type": "stream",
     "text": [
      "show_the_love([4, 1, 4]) ➞ [3.0, 3.0, 3.0]\n",
      "show_the_love([16, 10, 8]) ➞ [14.5, 7.5, 12.0]\n",
      "show_the_love([2, 100]) ➞ [27.0, 75.0]\n"
     ]
    }
   ],
   "source": [
    "##Sol 1\n",
    "def show_the_love(l1):\n",
    "    lc=l1.copy()\n",
    "    l1.sort()\n",
    "    su=0\n",
    "    for i in range(1,len(l1)):\n",
    "        su=su+l1[i]/4\n",
    "        l1[i]=(3/4)*l1[i]\n",
    "    l1[0]+=su\n",
    "    print(f'show_the_love({lc}) ➞ {l1}')\n",
    "\n",
    "show_the_love([4, 1, 4]) \n",
    "show_the_love([16, 10, 8]) \n",
    "show_the_love([2, 100]) "
   ]
  },
  {
   "cell_type": "code",
   "execution_count": 6,
   "id": "2ec29f7b",
   "metadata": {},
   "outputs": [
    {
     "name": "stdout",
     "output_type": "stream",
     "text": [
      "letters('sharp', 'soap') ➞ ['aps', 'hr', 'hr']\n",
      "letters('board', 'bored') ➞ ['bdor', 'a', 'a']\n",
      "letters('happiness', 'envelope') ➞ ['enp', 'ahis', 'ahis']\n",
      "letters('kerfuffle', 'fluffy') ➞ ['flu', 'ekr', 'ekr']\n",
      "letters('match', 'ham') ➞ ['ahm', 'ct', 'ct']\n"
     ]
    }
   ],
   "source": [
    "##Sol 2\n",
    "def letters(s_one,s_two):\n",
    "    s1 = set(s_one)\n",
    "    s2 = set(s_two)\n",
    "    out_list = []\n",
    "    out_list.append(''.join(sorted(s1.intersection(s2))))\n",
    "    out_list.append(''.join(sorted(s1.difference(s2))))\n",
    "    out_list.append(''.join(sorted(s1.difference(s2)))) \n",
    "    print(f'letters{s_one,s_two} ➞ {out_list}')\n",
    "            \n",
    "letters(\"sharp\", \"soap\")\n",
    "letters(\"board\", \"bored\")\n",
    "letters(\"happiness\", \"envelope\")\n",
    "letters(\"kerfuffle\", \"fluffy\")\n",
    "letters(\"match\", \"ham\")"
   ]
  },
  {
   "cell_type": "code",
   "execution_count": 7,
   "id": "f73e47c4",
   "metadata": {},
   "outputs": [
    {
     "name": "stdout",
     "output_type": "stream",
     "text": [
      "pairs([1, 2, 3, 4, 5, 6, 7]) ➞ [[1, 7], [2, 6], [3, 5], [4, 4]]\n",
      "pairs([1, 2, 3, 4, 5, 6]) ➞ [[1, 6], [2, 5], [3, 4]]\n",
      "pairs([5, 9, 8, 1, 2]) ➞ [[5, 2], [9, 1], [8, 8]]\n",
      "pairs([]) ➞ []\n"
     ]
    }
   ],
   "source": [
    "##Sol 3\n",
    "def pairs(in_list):\n",
    "    in_listc= in_list.copy()\n",
    "    output = []\n",
    "    while True:\n",
    "        if len(in_list) > 0:\n",
    "            if len(in_list) == 1:\n",
    "                output.append([in_list[0],in_list.pop(0)])\n",
    "            else:\n",
    "                output.append([in_list.pop(0),in_list.pop(-1)])\n",
    "        else:\n",
    "            break\n",
    "    print(f'pairs({in_listc}) ➞ {output}')\n",
    "            \n",
    "pairs([1, 2, 3, 4, 5, 6, 7])\n",
    "pairs([1, 2, 3, 4, 5, 6])\n",
    "pairs([5, 9, 8, 1, 2])\n",
    "pairs([])"
   ]
  },
  {
   "cell_type": "code",
   "execution_count": 10,
   "id": "3851b16a",
   "metadata": {},
   "outputs": [
    {
     "name": "stdout",
     "output_type": "stream",
     "text": [
      "add_str_nums('4', '5') ➞ 9\n",
      "add_str_nums('abcdefg', '3') ➞ -1\n",
      "add_str_nums('1', '0') ➞ 1\n",
      "add_str_nums('1874682736267235927359283579235789257', '32652983572985729') ➞ 1874682736267235927391936562808774986\n"
     ]
    }
   ],
   "source": [
    "##Sol 4\n",
    "def add_str_nums(st1,st2):\n",
    "    if st1.isdigit()==False or st1.isdigit()==False:\n",
    "        output=-1\n",
    "    else:\n",
    "        st1=st1 if len(st1)>0 else \"0\"\n",
    "        st2=st2 if len(st2)>0 else \"0\"\n",
    "        output=int(st1)+int(st2)\n",
    "    \n",
    "    print(f'add_str_nums{st1,st2} ➞ {str(output)}')\n",
    "    \n",
    "add_str_nums(\"4\", \"5\")\n",
    "add_str_nums(\"abcdefg\", \"3\")\n",
    "add_str_nums(\"1\", \"\")\n",
    "add_str_nums(\"1874682736267235927359283579235789257\", \"32652983572985729\")"
   ]
  },
  {
   "cell_type": "code",
   "execution_count": 17,
   "id": "2c5fc0ff",
   "metadata": {},
   "outputs": [
    {
     "name": "stdout",
     "output_type": "stream",
     "text": [
      "unmix(123456) ➞ 214365\n",
      "unmix(hTsii  s aimex dpus rtni.g) ➞ This is a mixed up string.\n",
      "unmix(badce) ➞ abcde\n"
     ]
    }
   ],
   "source": [
    "##Sol 5\n",
    "def unmix(in_string):\n",
    "    output = ''\n",
    "    for i in range(0,len(in_string)-1,2):\n",
    "        output += in_string[i+1]+in_string[i]\n",
    "        if (len(in_string)%2 != 0 and i == len(in_string)//2 ):\n",
    "            output += in_string[-1]       \n",
    "    print(f'unmix({in_string}) ➞ {output}')\n",
    "\n",
    "unmix(\"123456\")\n",
    "unmix(\"hTsii  s aimex dpus rtni.g\")\n",
    "unmix(\"badce\")"
   ]
  }
 ],
 "metadata": {
  "kernelspec": {
   "display_name": "Python 3 (ipykernel)",
   "language": "python",
   "name": "python3"
  },
  "language_info": {
   "codemirror_mode": {
    "name": "ipython",
    "version": 3
   },
   "file_extension": ".py",
   "mimetype": "text/x-python",
   "name": "python",
   "nbconvert_exporter": "python",
   "pygments_lexer": "ipython3",
   "version": "3.7.4"
  }
 },
 "nbformat": 4,
 "nbformat_minor": 5
}
