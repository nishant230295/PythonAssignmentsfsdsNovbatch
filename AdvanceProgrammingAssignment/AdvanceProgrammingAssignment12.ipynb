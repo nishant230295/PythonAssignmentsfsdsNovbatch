{
 "cells": [
  {
   "cell_type": "code",
   "execution_count": 1,
   "id": "97106f2e",
   "metadata": {},
   "outputs": [
    {
     "name": "stdout",
     "output_type": "stream",
     "text": [
      "meme_sum('26', '39') ➞ 515\n",
      "meme_sum('122', '081') ➞ 1103\n",
      "meme_sum('01222', '30277') ➞ 31499\n"
     ]
    }
   ],
   "source": [
    "##Sol 1\n",
    "def meme_sum(a,b):\n",
    "    a,b = str(a),str(b)\n",
    "    output = ''\n",
    "    while len(a) != len(b):\n",
    "        if len(a) < len(b):\n",
    "            a ='0'+a\n",
    "        else:\n",
    "            b='0'+b\n",
    "    for ele in range(len(a)):\n",
    "        output += str(int(a[ele])+int(b[ele]))\n",
    "    print(f'meme_sum{a,b} ➞ {output}')\n",
    "       \n",
    "meme_sum(26, 39)\n",
    "meme_sum(122, 81)\n",
    "meme_sum(1222, 30277) "
   ]
  },
  {
   "cell_type": "code",
   "execution_count": 2,
   "id": "eb57cda6",
   "metadata": {},
   "outputs": [
    {
     "name": "stdout",
     "output_type": "stream",
     "text": [
      "next_prime(12) ➞ 13\n",
      "next_prime(24) ➞ 29\n",
      "next_prime(11) ➞ 11\n"
     ]
    }
   ],
   "source": [
    "##Sol 2\n",
    "import sympy\n",
    "def next_prime(n):\n",
    "    m=n\n",
    "    while not sympy.isprime(m):\n",
    "        m+=1\n",
    "    print(f'next_prime({n}) ➞ {m}')\n",
    "\n",
    "next_prime(12) \n",
    "next_prime(24)\n",
    "next_prime(11)        "
   ]
  },
  {
   "cell_type": "code",
   "execution_count": 6,
   "id": "7a532288",
   "metadata": {},
   "outputs": [
    {
     "name": "stdout",
     "output_type": "stream",
     "text": [
      "ave_spd(18, 20, 60) ➞ 30\n",
      "ave_spd(30, 10, 30) ➞ 15\n",
      "ave_spd(30, 8, 24) ➞ 12\n"
     ]
    }
   ],
   "source": [
    "##Sol 3\n",
    "#I have not done any unit conversion as it has the terms will cancel in both denominatior and numerator \n",
    "def avg_spd(t1,v1,v2):\n",
    "    distance=t1*v1\n",
    "    t2=distance/v2\n",
    "    avgspeed=2*distance/(t1+t2)\n",
    "    print(f'ave_spd{t1,v1,v2} ➞ {int(avgspeed)}')\n",
    "\n",
    "avg_spd(18, 20, 60)\n",
    "avg_spd(30, 10, 30)\n",
    "avg_spd(30, 8, 24)"
   ]
  },
  {
   "cell_type": "code",
   "execution_count": 16,
   "id": "ff3b1374",
   "metadata": {},
   "outputs": [
    {
     "name": "stdout",
     "output_type": "stream",
     "text": [
      "kempner(6) ➞ 3\n",
      "kempner(10) ➞ 5\n",
      "kempner(5) ➞ 5\n",
      "kempner(2) ➞ 2\n"
     ]
    }
   ],
   "source": [
    "##Sol 4\n",
    "import math\n",
    "def kempner(n):\n",
    "    i=1\n",
    "    while math.factorial(i)%n>0:\n",
    "        i+=1\n",
    "        if math.factorial(i)%n==0:\n",
    "            break\n",
    "            \n",
    "    print(f'kempner({n}) ➞ {i}') \n",
    "kempner(6)\n",
    "kempner(10)\n",
    "kempner(5)\n",
    "kempner(2)"
   ]
  },
  {
   "cell_type": "code",
   "execution_count": 17,
   "id": "706a7055",
   "metadata": {},
   "outputs": [
    {
     "name": "stdout",
     "output_type": "stream",
     "text": [
      "boxes([2, 1, 2, 5, 4, 3, 6, 1, 1, 9, 3, 2]) ➞ [[2, 1, 2, 5], [4, 3], [6, 1, 1], [9], [3, 2]] ➞ 5\n"
     ]
    }
   ],
   "source": [
    "##Sol 5\n",
    "def boxes(in_list):\n",
    "    in_list_clone = in_list.copy()\n",
    "    output = []\n",
    "    temp_box = []\n",
    "    while True:\n",
    "        if len(in_list) != 0:\n",
    "            if sum(temp_box) <= 10:\n",
    "                temp_box.append(in_list.pop(0))\n",
    "            else:\n",
    "                in_list.insert(0,temp_box.pop())\n",
    "                output.append(temp_box)\n",
    "                temp_box = []\n",
    "        else:\n",
    "            output.append(temp_box)\n",
    "            temp_box = []\n",
    "            break\n",
    "    print(f'boxes({in_list_clone}) ➞ {output} ➞ {len(output)}') \n",
    "    \n",
    "boxes([2, 1, 2, 5, 4, 3, 6, 1, 1, 9, 3, 2])"
   ]
  },
  {
   "cell_type": "code",
   "execution_count": null,
   "id": "ee0e422c",
   "metadata": {},
   "outputs": [],
   "source": []
  }
 ],
 "metadata": {
  "kernelspec": {
   "display_name": "Python 3 (ipykernel)",
   "language": "python",
   "name": "python3"
  },
  "language_info": {
   "codemirror_mode": {
    "name": "ipython",
    "version": 3
   },
   "file_extension": ".py",
   "mimetype": "text/x-python",
   "name": "python",
   "nbconvert_exporter": "python",
   "pygments_lexer": "ipython3",
   "version": "3.7.4"
  }
 },
 "nbformat": 4,
 "nbformat_minor": 5
}
