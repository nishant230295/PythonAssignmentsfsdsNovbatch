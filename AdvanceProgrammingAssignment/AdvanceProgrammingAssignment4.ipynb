{
 "cells": [
  {
   "cell_type": "code",
   "execution_count": 9,
   "id": "9105b6f4",
   "metadata": {},
   "outputs": [
    {
     "name": "stdout",
     "output_type": "stream",
     "text": [
      "fib_fast_two(5) ➞ 5\n",
      "fib_fast_two(10) ➞ 55\n",
      "fib_fast_two(20) ➞ 6765\n",
      "fib_fast_two(50) ➞ 12586269025\n"
     ]
    }
   ],
   "source": [
    "##Sol 1\n",
    "def fib_fast_two(in_num):\n",
    "    back_two,back_one,output = 0,1,0\n",
    "    for ele in range(in_num+1):\n",
    "        if ele > 1:\n",
    "            output = back_two+back_one\n",
    "            back_two = back_one\n",
    "            back_one = output\n",
    "    print(f'fib_fast_two({in_num}) ➞ {output}')\n",
    "          \n",
    "fib_fast_two(5)\n",
    "fib_fast_two(10)\n",
    "fib_fast_two(20)\n",
    "fib_fast_two(50)"
   ]
  },
  {
   "cell_type": "code",
   "execution_count": 1,
   "id": "23803f8c",
   "metadata": {},
   "outputs": [
    {
     "name": "stdout",
     "output_type": "stream",
     "text": [
      "convert_to_hex(hello world) ➞ 68 65 6c 6c 6f 20 77 6f 72 6c 64\n",
      "convert_to_hex(Big Boi) ➞ 42 69 67 20 42 6f 69\n",
      "convert_to_hex(Marty Poppinson) ➞ 4d 61 72 74 79 20 50 6f 70 70 69 6e 73 6f 6e\n"
     ]
    }
   ],
   "source": [
    "##Sol 2\n",
    "def convert_to_hex(in_string):\n",
    "    out_string = []\n",
    "    for ele in in_string:\n",
    "        out_string.append(hex(ord(ele))[2:])\n",
    "    print(f'convert_to_hex({in_string}) ➞ {\" \".join(out_string)}')\n",
    "\n",
    "convert_to_hex(\"hello world\")\n",
    "convert_to_hex(\"Big Boi\")\n",
    "convert_to_hex(\"Marty Poppinson\")"
   ]
  },
  {
   "cell_type": "code",
   "execution_count": 3,
   "id": "3a335abc",
   "metadata": {},
   "outputs": [
    {
     "name": "stdout",
     "output_type": "stream",
     "text": [
      "uncensor(\"Wh*r* d*d my v*w*ls g*?,eeioeo\") ➞ \"Where did my vowels go?\"\n",
      "uncensor(\"abcd,\") ➞ \"abcd\"\n",
      "uncensor(\"*PP*RC*S*,UEAE\") ➞ \"UPPERCASE\"\n"
     ]
    }
   ],
   "source": [
    "##Sol 3\n",
    "def uncensor(st,x):\n",
    "    outst=''\n",
    "    count=0\n",
    "    for i in st:\n",
    "        if i=='*':\n",
    "            outst=outst+x[count]\n",
    "            count+=1\n",
    "        else:\n",
    "            outst=outst+i\n",
    "            \n",
    "    print(f'uncensor(\"{st},{x}\") ➞ \"{outst}\"')    \n",
    "    \n",
    "uncensor(\"Wh*r* d*d my v*w*ls g*?\", \"eeioeo\") \n",
    "uncensor(\"abcd\", \"\") \n",
    "uncensor(\"*PP*RC*S*\", \"UEAE\") "
   ]
  },
  {
   "cell_type": "code",
   "execution_count": 4,
   "id": "ba336fc5",
   "metadata": {},
   "outputs": [
    {
     "name": "stdout",
     "output_type": "stream",
     "text": [
      "get_domain(8.8.8.8) ➞ dns.google\n",
      "get_domain(8.8.4.4) ➞ dns.google\n"
     ]
    }
   ],
   "source": [
    "##Sol 4\n",
    "import socket\n",
    "def get_domain(ip_address):\n",
    "    result=socket.gethostbyaddr(ip_address)\n",
    "    print(f'get_domain({ip_address}) ➞ {result[0]}')\n",
    "    \n",
    "get_domain(\"8.8.8.8\")\n",
    "get_domain(\"8.8.4.4\")"
   ]
  },
  {
   "cell_type": "code",
   "execution_count": 7,
   "id": "e21f57a5",
   "metadata": {},
   "outputs": [
    {
     "name": "stdout",
     "output_type": "stream",
     "text": [
      "fact_of_fact(4) ➞ 288\n",
      "fact_of_fact(5) ➞ 34560\n",
      "fact_of_fact(6) ➞ 24883200\n"
     ]
    }
   ],
   "source": [
    "##Sol 5\n",
    "def fact(n):\n",
    "    rs=1\n",
    "    for i in range(1,n+1):\n",
    "        rs=rs*i\n",
    "    return rs\n",
    "def fact_of_fact(n):\n",
    "    res=1\n",
    "    for i in range(1,n+1):\n",
    "        res=res*fact(i)\n",
    "    \n",
    "    print(f'fact_of_fact({n}) ➞ {res}')\n",
    "    \n",
    "fact_of_fact(4)\n",
    "fact_of_fact(5) \n",
    "fact_of_fact(6) "
   ]
  },
  {
   "cell_type": "code",
   "execution_count": null,
   "id": "684a30bb",
   "metadata": {},
   "outputs": [],
   "source": []
  }
 ],
 "metadata": {
  "kernelspec": {
   "display_name": "Python 3 (ipykernel)",
   "language": "python",
   "name": "python3"
  },
  "language_info": {
   "codemirror_mode": {
    "name": "ipython",
    "version": 3
   },
   "file_extension": ".py",
   "mimetype": "text/x-python",
   "name": "python",
   "nbconvert_exporter": "python",
   "pygments_lexer": "ipython3",
   "version": "3.7.4"
  }
 },
 "nbformat": 4,
 "nbformat_minor": 5
}
