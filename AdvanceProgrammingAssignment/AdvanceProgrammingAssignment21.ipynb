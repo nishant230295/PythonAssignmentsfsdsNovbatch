{
 "cells": [
  {
   "cell_type": "code",
   "execution_count": 5,
   "id": "a46486f1",
   "metadata": {},
   "outputs": [
    {
     "name": "stdout",
     "output_type": "stream",
     "text": [
      "count_same_ends(Pop! goes the balloon) ➞ 1\n",
      "count_same_ends(And the crowd goes wild!) ➞ 0\n",
      "count_same_ends(No I am not in a gang.) ➞ 1\n"
     ]
    }
   ],
   "source": [
    "##Sol 1\n",
    "def count_same_ends(st):\n",
    "    cleanedst=''\n",
    "    specialchar='!@#$%^&*.'\n",
    "    for i in st:\n",
    "        if i not in specialchar:\n",
    "            cleanedst=cleanedst+i\n",
    "            \n",
    "    count=0\n",
    "    ls=cleanedst.split()\n",
    "    for j in ls:\n",
    "            if j[0].lower()==j[-1].lower():\n",
    "                if len(j)!=1:\n",
    "                    count+=1\n",
    "    print(f'count_same_ends({st}) ➞ {count}')\n",
    "        \n",
    "count_same_ends(\"Pop! goes the balloon\")\n",
    "count_same_ends(\"And the crowd goes wild!\")\n",
    "count_same_ends(\"No I am not in a gang.\")"
   ]
  },
  {
   "cell_type": "code",
   "execution_count": 10,
   "id": "a9251b54",
   "metadata": {},
   "outputs": [
    {
     "name": "stdout",
     "output_type": "stream",
     "text": [
      "atbash(apple) ➞ zkkov\n",
      "atbash(Hello world!) ➞ Svool dliow!\n",
      "atbash(Christmas is the 25th of December) ➞ Xsirhgnzh rh gsv 25gs lu Wvxvnyvi\n"
     ]
    }
   ],
   "source": [
    "##Sol 2\n",
    "def atbash(st):\n",
    "    stx=' 0123456789!@#$%^&*.'\n",
    "    alpha = 'abcdefghijklmnopqrstuvwxyz'\n",
    "    r_alpha = 'zyxwvutsrqponmlkjihgfedcba'\n",
    "    outst=''\n",
    "    for i in range(len(st)):\n",
    "        if st[i] not in stx:\n",
    "            if st[i].isupper():\n",
    "                outst+=r_alpha[alpha.index(st[i].lower())].upper()\n",
    "            else:\n",
    "                outst+=r_alpha[alpha.index(st[i].lower())]\n",
    "        else:\n",
    "            outst+=st[i]\n",
    "                \n",
    "    print(f'atbash({st}) ➞ {outst}')\n",
    "        \n",
    "atbash(\"apple\")\n",
    "atbash(\"Hello world!\")\n",
    "atbash(\"Christmas is the 25th of December\")"
   ]
  },
  {
   "cell_type": "code",
   "execution_count": 12,
   "id": "5ff955d6",
   "metadata": {},
   "outputs": [
    {
     "name": "stdout",
     "output_type": "stream",
     "text": [
      "john.name ➞ \"John\"\n",
      "mary.lastname ➞ \"Mary\"\n",
      "richard.height ➞ 178\n",
      "giancarlo.nationality ➞ \"Italian\"\n"
     ]
    }
   ],
   "source": [
    "##Sol 3\n",
    "class Employee:\n",
    "    def __init__(self,name,salary=None,height=None,nationality=None):\n",
    "        self.name=name.split(\" \")[0]\n",
    "        self.lastname=name.split(\" \")[0]\n",
    "        self.salary=salary\n",
    "        self.height=height\n",
    "        self.nationality =nationality\n",
    "        \n",
    "john = Employee(\"John Doe\")\n",
    "mary = Employee(\"Mary Major\", salary=120000)\n",
    "richard = Employee(\"Richard Roe\", salary=110000, height=178)\n",
    "giancarlo = Employee(\"Giancarlo Rossi\", salary=115000, height=182, nationality=\"Italian\")\n",
    "\n",
    "print(f'john.name ➞ \"{john.name}\"')\n",
    "print(f'mary.lastname ➞ \"{mary.lastname}\"')\n",
    "print(f'richard.height ➞ {richard.height}')\n",
    "print(f'giancarlo.nationality ➞ \"{giancarlo.nationality}\"')"
   ]
  },
  {
   "cell_type": "code",
   "execution_count": 6,
   "id": "9dd073f7",
   "metadata": {},
   "outputs": [
    {
     "name": "stdout",
     "output_type": "stream",
     "text": [
      "can_see_stage([[1, 2, 3], [4, 5, 6], [7, 8, 9]]) ➞ True\n",
      "can_see_stage([[0, 0, 0], [1, 1, 1], [2, 2, 2]]) ➞ True\n",
      "can_see_stage([[2, 0, 0], [1, 1, 1], [2, 2, 2]]) ➞ False\n",
      "can_see_stage([[1, 0, 0], [1, 1, 1], [2, 2, 2]]) ➞ False\n"
     ]
    }
   ],
   "source": [
    "##Sol 4\n",
    "def can_see_stage(in_list):\n",
    "    transposed_list = []\n",
    "    for i in range(len(in_list)):\n",
    "        temp_list = []\n",
    "        for j in range(len(in_list[i])):\n",
    "            temp_list.append(in_list[j][i])\n",
    "        transposed_list.append(temp_list)\n",
    "    output = True\n",
    "    for k in transposed_list:\n",
    "        if k != sorted(k) or len(k) != len(set(k)):\n",
    "            output = False\n",
    "            break\n",
    "    print(f'can_see_stage({in_list}) ➞ {output}')\n",
    "        \n",
    "can_see_stage([[1, 2, 3],[4, 5, 6],[7, 8, 9]])\n",
    "can_see_stage([[0, 0, 0],[1, 1, 1],[2, 2, 2]])\n",
    "can_see_stage([[2, 0, 0],[1, 1, 1],[2, 2, 2]])\n",
    "can_see_stage([[1, 0, 0],[1, 1, 1],[2, 2, 2]])\n",
    "    "
   ]
  },
  {
   "cell_type": "code",
   "execution_count": 2,
   "id": "1351dcdb",
   "metadata": {},
   "outputs": [
    {
     "name": "stdout",
     "output_type": "stream",
     "text": [
      "p1.ingredients ➞ ['bacon', 'parmesan', 'ham']\n",
      "p2.ingredients ➞ ['spinach', 'olives', 'mushroom']\n",
      "p1.order_number ➞ 1\n",
      "p2.order_number ➞ 2\n"
     ]
    }
   ],
   "source": [
    "##Sol 5\n",
    "class Pizza:\n",
    "    order_count=0\n",
    "    def __init__(self,ingredients=None):\n",
    "        self.ingredients=ingredients\n",
    "        self.order_no=Pizza.order_count+1\n",
    "        Pizza.order_count=self.order_no\n",
    "        \n",
    "    def hawaiian(self):\n",
    "        self.ingredients = ['ham', 'pineapple']\n",
    "    def meat_festival(self):\n",
    "        self.ingredients = ['beef', 'meatball', 'bacon']\n",
    "    def garden_feast(self):\n",
    "        self.ingredients = ['spinach', 'olives', 'mushroom']\n",
    "        \n",
    "p1 = Pizza([\"bacon\", \"parmesan\", \"ham\"])\n",
    "p2 = Pizza()\n",
    "p2.garden_feast()\n",
    "print(f'p1.ingredients ➞ {p1.ingredients}')\n",
    "print(f'p2.ingredients ➞ {p2.ingredients}')\n",
    "print(f'p1.order_number ➞ {p1.order_no}')\n",
    "print(f'p2.order_number ➞ {p2.order_no}')\n",
    "        "
   ]
  },
  {
   "cell_type": "code",
   "execution_count": null,
   "id": "33ee98e4",
   "metadata": {},
   "outputs": [],
   "source": []
  }
 ],
 "metadata": {
  "kernelspec": {
   "display_name": "Python 3 (ipykernel)",
   "language": "python",
   "name": "python3"
  },
  "language_info": {
   "codemirror_mode": {
    "name": "ipython",
    "version": 3
   },
   "file_extension": ".py",
   "mimetype": "text/x-python",
   "name": "python",
   "nbconvert_exporter": "python",
   "pygments_lexer": "ipython3",
   "version": "3.7.4"
  }
 },
 "nbformat": 4,
 "nbformat_minor": 5
}
