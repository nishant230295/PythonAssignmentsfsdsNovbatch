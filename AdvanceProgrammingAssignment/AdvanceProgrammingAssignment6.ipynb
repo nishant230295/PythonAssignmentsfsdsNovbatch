{
 "cells": [
  {
   "cell_type": "code",
   "execution_count": 5,
   "id": "75eed859",
   "metadata": {},
   "outputs": [
    {
     "name": "stdout",
     "output_type": "stream",
     "text": [
      "find_the_difference(('abcd', 'abcde')) ➞ \"e\"\n",
      "find_the_difference(('', 'y')) ➞ \"y\"\n",
      "find_the_difference(('ae', 'aea')) ➞ \"\"\n"
     ]
    }
   ],
   "source": [
    "##Sol 1\n",
    "def find_the_difference(st1,st2):\n",
    "    s1=list(st1)\n",
    "    s2=set(st2)\n",
    "    outst=''\n",
    "    for i in s2:\n",
    "        if i not in s1:\n",
    "            outst=outst+i\n",
    "            \n",
    "    print(f'find_the_difference({st1,st2}) ➞ \"{outst}\"')\n",
    "    \n",
    "find_the_difference(\"abcd\", \"abcde\") \n",
    "find_the_difference(\"\", \"y\") \n",
    "find_the_difference(\"ae\", \"aea\") "
   ]
  },
  {
   "cell_type": "code",
   "execution_count": 6,
   "id": "adb32842",
   "metadata": {},
   "outputs": [
    {
     "name": "stdout",
     "output_type": "stream",
     "text": [
      "count_datatypes(1, 45, 'Hi', False)  ➞  [2, 1, 1, 0, 0, 0]\n",
      "count_datatypes([10, 20], ('t', 'Ok'), 2, 3, 1)  ➞  [3, 0, 0, 1, 1, 0]\n",
      "count_datatypes('Hello', 'Bye', True, True, False, {'1': 'One', '2': 'Two'}, [1, 3], {'Brayan': 18}, 25, 23)  ➞  [2, 2, 3, 1, 0, 2]\n",
      "count_datatypes(4, 21, ('ES', 'EN'), ('a', 'b'), False, [1, 2, 3], [4, 5, 6])  ➞  [2, 0, 1, 2, 2, 0]\n"
     ]
    }
   ],
   "source": [
    "##Sol 2\n",
    "##[int, str, bool, list, tuple, dictionary] order \n",
    "from collections import OrderedDict\n",
    "def count_datatypes(*args):\n",
    "    output = OrderedDict({'int':0,'str':0,'bool':0,'list':0,'tuple':0,'dict':0})\n",
    "    for ele in args:\n",
    "        output[type(ele).__name__] += 1\n",
    "    print(f'count_datatypes{args}  ➞  {list(output.values())}')\n",
    "    \n",
    "    \n",
    "count_datatypes(1, 45, \"Hi\", False)   \n",
    "count_datatypes([10, 20], (\"t\", \"Ok\"), 2, 3, 1)\n",
    "count_datatypes(\"Hello\", \"Bye\", True, True, False, {\"1\": \"One\", \"2\": \"Two\"}, [1, 3], {\"Brayan\": 18}, 25, 23)\n",
    "count_datatypes(4, 21, (\"ES\", \"EN\"), (\"a\", \"b\"), False, [1, 2, 3], [4, 5, 6])"
   ]
  },
  {
   "cell_type": "code",
   "execution_count": 12,
   "id": "86cdbc82",
   "metadata": {},
   "outputs": [
    {
     "name": "stdout",
     "output_type": "stream",
     "text": [
      "fib_str(3, ['j', 'h']) ➞ j, h, hj\n",
      "fib_str(5, ['e', 'a']) ➞ e, a, ae, aea, aeaae\n",
      "fib_str(6, ['n', 'k']) ➞ n, k, kn, knk, knkkn, knkknknk\n"
     ]
    }
   ],
   "source": [
    "##Sol 3\n",
    "def fib_str(dg,inl):\n",
    "    out = inl.copy()\n",
    "    for i in range(2,dg):\n",
    "        out.append(out[-1]+out[-2])\n",
    "            \n",
    "    print(f'fib_str{dg,inl} ➞ {\", \".join(out)}')\n",
    "    \n",
    "fib_str(3, [\"j\", \"h\"]) \n",
    "fib_str(5, [\"e\", \"a\"])\n",
    "fib_str(6, [\"n\", \"k\"])"
   ]
  },
  {
   "cell_type": "code",
   "execution_count": 13,
   "id": "1ef7b3d8",
   "metadata": {},
   "outputs": [
    {
     "name": "stdout",
     "output_type": "stream",
     "text": [
      "ones_threes_nines(10) ➞ \"nines:1, threes:0, ones:1\"\n",
      "ones_threes_nines(15) ➞ \"nines:1, threes:2, ones:0\"\n",
      "ones_threes_nines(22) ➞ \"nines:2, threes:1, ones:1\"\n"
     ]
    }
   ],
   "source": [
    "##Sol 4\n",
    "def ones_threes_nines(in_num):\n",
    "    in_num_clone = in_num\n",
    "    answer = {'nines':0,'threes':0,'ones':0}\n",
    "    if in_num > 0 and in_num < 26:\n",
    "        while in_num != 0:\n",
    "            if in_num >= 9:\n",
    "                in_num -= 9\n",
    "                answer['nines'] += 1\n",
    "            elif in_num >= 3:\n",
    "                in_num -= 3\n",
    "                answer['threes'] += 1\n",
    "            elif in_num >= 1:\n",
    "                in_num -=1\n",
    "                answer['ones'] +=1\n",
    "    print(f\"ones_threes_nines({in_num_clone}) ➞ \\\"nines:{answer['nines']}, threes:{answer['threes']}, ones:{answer['ones']}\\\"\")\n",
    "\n",
    "    \n",
    "ones_threes_nines(10) \n",
    "ones_threes_nines(15)\n",
    "ones_threes_nines(22)    "
   ]
  },
  {
   "cell_type": "code",
   "execution_count": 17,
   "id": "79c79c11",
   "metadata": {},
   "outputs": [
    {
     "name": "stdout",
     "output_type": "stream",
     "text": [
      "fib_one(6) ➞ 8\n",
      "fib_one(1) ➞ 1\n",
      "fib_one(2) ➞ 1\n"
     ]
    }
   ],
   "source": [
    "def fib(n):\n",
    "    l=[0,1]\n",
    "    if n<=2:\n",
    "        out=1\n",
    "    else:\n",
    "        for i in range(2,n):\n",
    "            l.append(l[-1]+l[-2])\n",
    "            \n",
    "    out=l[-1]+l[-2]\n",
    "    print(f'fib_one({n}) ➞ {out}')\n",
    "    \n",
    "fib(6) \n",
    "fib(1)\n",
    "fib(2) "
   ]
  },
  {
   "cell_type": "code",
   "execution_count": 19,
   "id": "5b887a7b",
   "metadata": {},
   "outputs": [
    {
     "name": "stdout",
     "output_type": "stream",
     "text": [
      "fib_one(7) ➞ 13\n"
     ]
    }
   ],
   "source": [
    "fib(7)"
   ]
  },
  {
   "cell_type": "code",
   "execution_count": null,
   "id": "878e80d4",
   "metadata": {},
   "outputs": [],
   "source": []
  }
 ],
 "metadata": {
  "kernelspec": {
   "display_name": "Python 3 (ipykernel)",
   "language": "python",
   "name": "python3"
  },
  "language_info": {
   "codemirror_mode": {
    "name": "ipython",
    "version": 3
   },
   "file_extension": ".py",
   "mimetype": "text/x-python",
   "name": "python",
   "nbconvert_exporter": "python",
   "pygments_lexer": "ipython3",
   "version": "3.7.4"
  }
 },
 "nbformat": 4,
 "nbformat_minor": 5
}
