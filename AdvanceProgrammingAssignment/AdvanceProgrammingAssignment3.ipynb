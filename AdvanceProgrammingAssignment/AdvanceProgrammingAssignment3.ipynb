{
 "cells": [
  {
   "cell_type": "code",
   "execution_count": 1,
   "id": "912038ad",
   "metadata": {},
   "outputs": [
    {
     "name": "stdout",
     "output_type": "stream",
     "text": [
      "arithmetic_operation(12 + 12) ➞ 24\n",
      "arithmetic_operation(12 - 12) ➞ 0\n",
      "arithmetic_operation(12 * 12) ➞ 144\n",
      "arithmetic_operation(12 // 0) ➞ -1\n"
     ]
    }
   ],
   "source": [
    "##Sol 1\n",
    "import operator\n",
    "\n",
    "ops = {'+':operator.add,'-':operator.sub,'*':operator.mul,'//':operator.floordiv}\n",
    "\n",
    "def arithmetic_operation(in_string):\n",
    "    in_list = in_string.split(\" \")\n",
    "    output = ops[in_list[1]](int(in_list[0]),int(in_list[2])) if int(in_list[2]) != 0 else -1\n",
    "    print(f'arithmetic_operation({in_list[0]} {in_list[1]} {in_list[2]}) ➞ {output}')\n",
    "    \n",
    "arithmetic_operation(\"12 + 12\") \n",
    "arithmetic_operation(\"12 - 12\") \n",
    "arithmetic_operation(\"12 * 12\") \n",
    "arithmetic_operation(\"12 // 0\") "
   ]
  },
  {
   "cell_type": "code",
   "execution_count": 2,
   "id": "d4ee362b",
   "metadata": {},
   "outputs": [
    {
     "name": "stdout",
     "output_type": "stream",
     "text": [
      "perimeter([[15, 7], [5, 22], [11, 1]]) ➞ 47.08\n",
      "perimeter([[0, 0], [0, 1], [1, 0]]) ➞ 3.41\n",
      "perimeter([[-10, -10], [10, 10], [-10, 10]]) ➞ 68.28\n"
     ]
    }
   ],
   "source": [
    "## Sol 2\n",
    "import math\n",
    "\n",
    "def distance(a,b):\n",
    "    return math.sqrt(pow((b[1]-a[1]),2)+pow((b[0]-a[0]),2))\n",
    "\n",
    "def perimeter(in_array):\n",
    "    perimeter = []\n",
    "    for ele in range(len(in_array)):\n",
    "        if ele == len(in_array)-1:\n",
    "            perimeter.append(distance(in_array[ele],in_array[0]))\n",
    "        else:\n",
    "            perimeter.append(distance(in_array[ele],in_array[ele+1]))\n",
    "    print(f'perimeter({in_array}) ➞ {sum(perimeter):.2f}')\n",
    "    \n",
    "perimeter([[15,7],[5,22],[11,1]])\n",
    "perimeter([[0,0],[0,1],[1,0]])\n",
    "perimeter([[-10,-10],[10,10],[-10,10]])"
   ]
  },
  {
   "cell_type": "code",
   "execution_count": 3,
   "id": "de90ac3f",
   "metadata": {},
   "outputs": [
    {
     "name": "stdout",
     "output_type": "stream",
     "text": [
      "tallest_skyscraper([[0, 0, 0, 0], [0, 1, 0, 0], [0, 1, 1, 0], [1, 1, 1, 1]]) ➞ 3\n",
      "tallest_skyscraper([[0, 1, 0, 0], [0, 1, 0, 0], [0, 1, 1, 0], [1, 1, 1, 1]]) ➞ 4\n",
      "tallest_skyscraper([[0, 0, 0, 0], [0, 0, 0, 0], [1, 1, 1, 0], [1, 1, 1, 1]]) ➞ 2\n"
     ]
    }
   ],
   "source": [
    "##Sol 3\n",
    "def tallest_skyscraper(in_list):\n",
    "    out_list = []\n",
    "    for num in range(len(in_list)):\n",
    "        count = 0\n",
    "        for ele in range(len(in_list[num])):\n",
    "            count += in_list[ele][num]\n",
    "        out_list.append(count)\n",
    "    print(f'tallest_skyscraper({in_list}) ➞ {max(out_list)}')\n",
    "    \n",
    "tallest_skyscraper([[0, 0, 0, 0],[0, 1, 0, 0],[0, 1, 1, 0],[1, 1, 1, 1]])\n",
    "tallest_skyscraper([[0, 1, 0, 0],[0, 1, 0, 0],[0, 1, 1, 0],[1, 1, 1, 1]])\n",
    "tallest_skyscraper([[0, 0, 0, 0],[0, 0, 0, 0],[1, 1, 1, 0],[1, 1, 1, 1]])"
   ]
  },
  {
   "cell_type": "code",
   "execution_count": 6,
   "id": "1f5db779",
   "metadata": {},
   "outputs": [
    {
     "name": "stdout",
     "output_type": "stream",
     "text": [
      "bonus(15) ➞ 0\n",
      "bonus(44) ➞ 4250\n",
      "bonus(37) ➞ 1625\n",
      "bonus(50) ➞ 8200\n",
      "bonus(60) ➞ 14200\n"
     ]
    }
   ],
   "source": [
    "## Sol 4\n",
    "def bonus(n):\n",
    "    su=0\n",
    "    if n<=32:\n",
    "        su=0\n",
    "    elif n>32 and n<=40:\n",
    "        su=su+325*(n-32)\n",
    "    elif n>41 and n<=48:\n",
    "        su=su+550*(n-41)+325*8\n",
    "    else:\n",
    "        su=su+600*(n-48)+325*8+550*8\n",
    "        \n",
    "    print(f'bonus({n}) ➞ {su}')\n",
    "    \n",
    "bonus(15)\n",
    "bonus(44)\n",
    "bonus(37)\n",
    "bonus(50)\n",
    "bonus(60)"
   ]
  },
  {
   "cell_type": "code",
   "execution_count": 11,
   "id": "8f7d281c",
   "metadata": {},
   "outputs": [
    {
     "name": "stdout",
     "output_type": "stream",
     "text": [
      "is_disarium(75) ➞ False\n",
      "is_disarium(135) ➞ True\n",
      "is_disarium(544) ➞ False\n",
      "is_disarium(518) ➞ True\n",
      "is_disarium(466) ➞ False\n",
      "is_disarium(8) ➞ True\n"
     ]
    }
   ],
   "source": [
    "##Sol 5\n",
    "def is_disarium(n):\n",
    "    si=0\n",
    "    m=str(n)\n",
    "    for i in range(len(m)):\n",
    "        si=si+int((m[i]))**(i+1)\n",
    "        \n",
    "    if si==n:\n",
    "        output=True\n",
    "    else:\n",
    "        output=False\n",
    "        \n",
    "    print(f'is_disarium({n}) ➞ {output}')\n",
    "    \n",
    "is_disarium(75) \n",
    "is_disarium(135) \n",
    "is_disarium(544) \n",
    "is_disarium(518) \n",
    "is_disarium(466) \n",
    "is_disarium(8) "
   ]
  },
  {
   "cell_type": "code",
   "execution_count": null,
   "id": "00806c51",
   "metadata": {},
   "outputs": [],
   "source": []
  }
 ],
 "metadata": {
  "kernelspec": {
   "display_name": "Python 3 (ipykernel)",
   "language": "python",
   "name": "python3"
  },
  "language_info": {
   "codemirror_mode": {
    "name": "ipython",
    "version": 3
   },
   "file_extension": ".py",
   "mimetype": "text/x-python",
   "name": "python",
   "nbconvert_exporter": "python",
   "pygments_lexer": "ipython3",
   "version": "3.7.4"
  }
 },
 "nbformat": 4,
 "nbformat_minor": 5
}
