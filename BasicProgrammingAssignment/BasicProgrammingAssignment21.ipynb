{
 "cells": [
  {
   "cell_type": "code",
   "execution_count": 4,
   "id": "2dbc4fb9",
   "metadata": {},
   "outputs": [
    {
     "name": "stdout",
     "output_type": "stream",
     "text": [
      "next_in_line([5, 6, 7, 8, 9],1) ➞ [6, 7, 8, 9, 1]\n"
     ]
    }
   ],
   "source": [
    "##Sol 1\n",
    "import copy\n",
    "def next_in_line(l1,x):\n",
    "    l2=copy.copy(l1)\n",
    "    st=\"No list has been selected\"\n",
    "    if len(l1)>0:\n",
    "        l1.pop(0)\n",
    "        l1.append(x)\n",
    "        print(f'next_in_line({l2},{x}) ➞ {l1}')\n",
    "    else:\n",
    "        print(f'next_in_line({l2},{x}) ➞ {st}')\n",
    "   \n",
    "\n"
   ]
  },
  {
   "cell_type": "code",
   "execution_count": 5,
   "id": "78d961a3",
   "metadata": {},
   "outputs": [
    {
     "name": "stdout",
     "output_type": "stream",
     "text": [
      "next_in_line([7, 6, 3, 23, 17],10) ➞ [6, 3, 23, 17, 10]\n"
     ]
    }
   ],
   "source": [
    "next_in_line([7, 6, 3, 23, 17], 10)"
   ]
  },
  {
   "cell_type": "code",
   "execution_count": 6,
   "id": "78589b38",
   "metadata": {},
   "outputs": [
    {
     "name": "stdout",
     "output_type": "stream",
     "text": [
      "next_in_line([1, 10, 20, 42],6) ➞ [10, 20, 42, 6]\n"
     ]
    }
   ],
   "source": [
    "next_in_line([1, 10, 20, 42 ], 6) "
   ]
  },
  {
   "cell_type": "code",
   "execution_count": 9,
   "id": "5e8f25fb",
   "metadata": {},
   "outputs": [
    {
     "data": {
      "text/plain": [
       "'No list has been selected'"
      ]
     },
     "execution_count": 9,
     "metadata": {},
     "output_type": "execute_result"
    }
   ],
   "source": [
    "next_in_line([], 6)"
   ]
  },
  {
   "cell_type": "code",
   "execution_count": 12,
   "id": "00f4b089",
   "metadata": {},
   "outputs": [
    {
     "name": "stdout",
     "output_type": "stream",
     "text": [
      "output ➞ 65700\n"
     ]
    }
   ],
   "source": [
    "##Sol 2\n",
    "def get_budgets(l3):\n",
    "    su=0\n",
    "    for i in l3:\n",
    "        if type(i)==dict:\n",
    "            su=su+i['budget']\n",
    "            \n",
    "    print(f'output ➞ {su}')\n",
    "\n",
    "get_budgets([\n",
    "  { \"name\": \"John\", \"age\": 21, \"budget\": 23000 },\n",
    "  { \"name\": \"Steve\",  \"age\": 32, \"budget\": 40000 },\n",
    "  { \"name\": \"Martin\",  \"age\": 16, \"budget\": 2700 }\n",
    "])\n"
   ]
  },
  {
   "cell_type": "code",
   "execution_count": 13,
   "id": "210779ca",
   "metadata": {},
   "outputs": [
    {
     "name": "stdout",
     "output_type": "stream",
     "text": [
      "output ➞ 62600\n"
     ]
    }
   ],
   "source": [
    "get_budgets([\n",
    "  { \"name\": \"John\",  \"age\": 21, \"budget\": 29000 },\n",
    "  { \"name\": \"Steve\",  \"age\": 32, \"budget\": 32000 },\n",
    "  { \"name\": \"Martin\",  \"age\": 16, \"budget\": 1600 }\n",
    "])\n"
   ]
  },
  {
   "cell_type": "code",
   "execution_count": 18,
   "id": "9c7f71a5",
   "metadata": {},
   "outputs": [
    {
     "name": "stdout",
     "output_type": "stream",
     "text": [
      "alphabet_soup(\"hello\") ➞ \"ehllo\"\n"
     ]
    }
   ],
   "source": [
    "##Sol 3\n",
    "def alphabet_soup(st):\n",
    "    a=''.join(sorted(st))\n",
    "    print(f'alphabet_soup(\"{st}\") ➞ \"{a}\"')\n",
    "    \n",
    "alphabet_soup(\"hello\") "
   ]
  },
  {
   "cell_type": "code",
   "execution_count": 20,
   "id": "5864c5f9",
   "metadata": {},
   "outputs": [
    {
     "name": "stdout",
     "output_type": "stream",
     "text": [
      "alphabet_soup(\"edabit\") ➞ \"abdeit\"\n"
     ]
    }
   ],
   "source": [
    "alphabet_soup(\"edabit\") "
   ]
  },
  {
   "cell_type": "code",
   "execution_count": 21,
   "id": "830415c5",
   "metadata": {},
   "outputs": [
    {
     "name": "stdout",
     "output_type": "stream",
     "text": [
      "alphabet_soup(\"hacker\") ➞ \"acehkr\"\n"
     ]
    }
   ],
   "source": [
    "alphabet_soup(\"hacker\") "
   ]
  },
  {
   "cell_type": "code",
   "execution_count": 22,
   "id": "f97a9299",
   "metadata": {},
   "outputs": [
    {
     "name": "stdout",
     "output_type": "stream",
     "text": [
      "alphabet_soup(\"geek\") ➞ \"eegk\"\n"
     ]
    }
   ],
   "source": [
    "alphabet_soup(\"geek\") "
   ]
  },
  {
   "cell_type": "code",
   "execution_count": 23,
   "id": "ac213cf5",
   "metadata": {},
   "outputs": [
    {
     "name": "stdout",
     "output_type": "stream",
     "text": [
      "alphabet_soup(\"javascript\") ➞ \"aacijprstv\"\n"
     ]
    }
   ],
   "source": [
    "alphabet_soup(\"javascript\") "
   ]
  },
  {
   "cell_type": "code",
   "execution_count": 25,
   "id": "9d1ca2c7",
   "metadata": {},
   "outputs": [
    {
     "name": "stdout",
     "output_type": "stream",
     "text": [
      "compound_interest(100,1,0.05,1) ➞ 105.0\n",
      "compound_interest(3500,15,0.1,4) ➞ 15399.26\n",
      "compound_interest(100000,20,0.15,365) ➞ 2007316.26\n"
     ]
    }
   ],
   "source": [
    "##Sol 4\n",
    "def compound_interest(p,t,r,n):\n",
    "    A=round(p*(1+r/n)**(n*t),2)\n",
    "    print(f'compound_interest({p},{t},{r},{n}) ➞ {A}')\n",
    "    \n",
    "compound_interest(100, 1, 0.05, 1) \n",
    "compound_interest(3500, 15, 0.1, 4) \n",
    "compound_interest(100000, 20, 0.15, 365) \n"
   ]
  },
  {
   "cell_type": "code",
   "execution_count": 27,
   "id": "94986c14",
   "metadata": {},
   "outputs": [
    {
     "name": "stdout",
     "output_type": "stream",
     "text": [
      "return_only_integer([9, 2, 'space', 'car', 'lion', 16])➞ [9, 2, 16]\n",
      "return_only_integer(['hello', 81, 'basketball', 123, 'fox'])➞ [81, 123]\n",
      "return_only_integer([10, '121', 56, 20, 'car', 3, 'lion'])➞ [10, 56, 20, 3]\n",
      "return_only_integer(['String', True, 3.3, 1])➞ [1]\n"
     ]
    }
   ],
   "source": [
    "def return_only_integer(l):\n",
    "    lmod=[]\n",
    "    for i in l:\n",
    "        if type(i)==int:\n",
    "            lmod.append(i)\n",
    "            \n",
    "    print(f'return_only_integer({l})➞ {lmod}')\n",
    "    \n",
    "return_only_integer([9, 2, \"space\", \"car\", \"lion\", 16]) \n",
    "return_only_integer([\"hello\", 81, \"basketball\", 123, \"fox\"]) \n",
    "return_only_integer([10, \"121\", 56, 20, \"car\", 3, \"lion\"]) \n",
    "return_only_integer([\"String\",  True,  3.3,  1]) "
   ]
  },
  {
   "cell_type": "code",
   "execution_count": null,
   "id": "b8c8021d",
   "metadata": {},
   "outputs": [],
   "source": []
  }
 ],
 "metadata": {
  "kernelspec": {
   "display_name": "Python 3 (ipykernel)",
   "language": "python",
   "name": "python3"
  },
  "language_info": {
   "codemirror_mode": {
    "name": "ipython",
    "version": 3
   },
   "file_extension": ".py",
   "mimetype": "text/x-python",
   "name": "python",
   "nbconvert_exporter": "python",
   "pygments_lexer": "ipython3",
   "version": "3.7.4"
  }
 },
 "nbformat": 4,
 "nbformat_minor": 5
}
