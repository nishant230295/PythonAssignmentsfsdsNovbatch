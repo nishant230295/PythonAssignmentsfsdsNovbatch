{
 "cells": [
  {
   "cell_type": "code",
   "execution_count": 2,
   "id": "a6250cdf",
   "metadata": {},
   "outputs": [
    {
     "name": "stdout",
     "output_type": "stream",
     "text": [
      "enter the data in km10\n",
      "miles is 6.211180124223602\n"
     ]
    }
   ],
   "source": [
    "## Sol 1\n",
    "a=float(input('enter the data in km'))\n",
    "mile=a/1.61\n",
    "print('miles is',mile)"
   ]
  },
  {
   "cell_type": "code",
   "execution_count": 3,
   "id": "2cb20cf9",
   "metadata": {},
   "outputs": [
    {
     "name": "stdout",
     "output_type": "stream",
     "text": [
      "enter the temperature in C40\n",
      "Temp in Fahrenheit is  104.0\n"
     ]
    }
   ],
   "source": [
    "## Sol 2\n",
    "Ce=int(input('enter the temperature in C'))\n",
    "Fah=(9/5)*Ce+32\n",
    "print('Temp in Fahrenheit is ',Fah)"
   ]
  },
  {
   "cell_type": "code",
   "execution_count": 7,
   "id": "3ba71858",
   "metadata": {},
   "outputs": [
    {
     "name": "stdout",
     "output_type": "stream",
     "text": [
      "   February 1995\n",
      "Mo Tu We Th Fr Sa Su\n",
      "       1  2  3  4  5\n",
      " 6  7  8  9 10 11 12\n",
      "13 14 15 16 17 18 19\n",
      "20 21 22 23 24 25 26\n",
      "27 28\n",
      "\n"
     ]
    }
   ],
   "source": [
    "## Sol 3\n",
    "import calendar\n",
    "\n",
    "def display_calender(year,month):\n",
    "    print(calendar.month(year,month))\n",
    "\n",
    "a=display_calender(1995,2)"
   ]
  },
  {
   "cell_type": "code",
   "execution_count": 9,
   "id": "4430bee0",
   "metadata": {},
   "outputs": [
    {
     "name": "stdout",
     "output_type": "stream",
     "text": [
      "Enter the quadratic equation coefficients in form ax^2+bx+c\n",
      "Enter the coefficient of x^2 :1\n",
      "Enter the coefficient of x :-2\n",
      "Enter the constant :1\n",
      "The roots are  1.0 1.0\n"
     ]
    }
   ],
   "source": [
    "## Sol 4\n",
    "print('Enter the quadratic equation coefficients in form ax^2+bx+c')\n",
    "from math import sqrt\n",
    "a=int(input('Enter the coefficient of x^2 :'))\n",
    "b=int(input('Enter the coefficient of x :'))\n",
    "c=int(input('Enter the constant :'))\n",
    "\n",
    "x1=(-b+sqrt(b**2-4*a*c))/(2*a)\n",
    "x2= (-b-sqrt(b**2-4*a*c))/(2*a)\n",
    "\n",
    "print('The roots are ',x1,x2)"
   ]
  },
  {
   "cell_type": "code",
   "execution_count": 11,
   "id": "4d390798",
   "metadata": {},
   "outputs": [
    {
     "name": "stdout",
     "output_type": "stream",
     "text": [
      "enter the first number :5\n",
      "enter the second number :7\n",
      "the numbers before swapping is 5 7\n",
      "the numbers after swapping is 7 5\n"
     ]
    }
   ],
   "source": [
    "## Sol 5\n",
    "a=int(input('enter the first number :'))\n",
    "b=int(input('enter the second number :'))\n",
    "\n",
    "print('the numbers before swapping is',a,b)\n",
    "\n",
    "a=a+b\n",
    "b=a-b\n",
    "a=a-b\n",
    "\n",
    "print('the numbers after swapping is',a,b)"
   ]
  },
  {
   "cell_type": "code",
   "execution_count": null,
   "id": "16510b0b",
   "metadata": {},
   "outputs": [],
   "source": []
  }
 ],
 "metadata": {
  "kernelspec": {
   "display_name": "Python 3 (ipykernel)",
   "language": "python",
   "name": "python3"
  },
  "language_info": {
   "codemirror_mode": {
    "name": "ipython",
    "version": 3
   },
   "file_extension": ".py",
   "mimetype": "text/x-python",
   "name": "python",
   "nbconvert_exporter": "python",
   "pygments_lexer": "ipython3",
   "version": "3.7.4"
  }
 },
 "nbformat": 4,
 "nbformat_minor": 5
}
