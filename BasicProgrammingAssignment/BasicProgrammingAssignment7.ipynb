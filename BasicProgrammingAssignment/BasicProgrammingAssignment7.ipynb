{
 "cells": [
  {
   "cell_type": "markdown",
   "id": "6929caeb",
   "metadata": {},
   "source": [
    "## here i have used the array defined in 1 for subsequent parts"
   ]
  },
  {
   "cell_type": "code",
   "execution_count": 1,
   "id": "68b61700",
   "metadata": {},
   "outputs": [
    {
     "name": "stdout",
     "output_type": "stream",
     "text": [
      "enter the no of elements in array: 10\n",
      "enter the element in array11\n",
      "enter the element in array65\n",
      "enter the element in array72\n",
      "enter the element in array101\n",
      "enter the element in array5\n",
      "enter the element in array33\n",
      "enter the element in array24\n",
      "enter the element in array62\n",
      "enter the element in array14\n",
      "enter the element in array11\n",
      "sum of array is  398\n"
     ]
    }
   ],
   "source": [
    "## Sol 1\n",
    "try:\n",
    "    n=int(input('enter the no of elements in array: '))\n",
    "    sum=0\n",
    "    l=[]\n",
    "    for i in range(n):\n",
    "        element=int(input('enter the element in array'))\n",
    "        l.append(element)\n",
    "        \n",
    "    l=list(l)\n",
    "\n",
    "    for j in l:\n",
    "        sum=sum+j\n",
    "        \n",
    "    print('sum of array is ',sum)\n",
    "    \n",
    "except Exception as e:\n",
    "    print(e)"
   ]
  },
  {
   "cell_type": "code",
   "execution_count": 2,
   "id": "6453a412",
   "metadata": {},
   "outputs": [
    {
     "name": "stdout",
     "output_type": "stream",
     "text": [
      "largest element of array is  [11, 65, 72, 101, 5, 33, 24, 62, 14, 11] 101\n"
     ]
    }
   ],
   "source": [
    "## Sol 2 based on 1\n",
    "flag=0\n",
    "for j in l:\n",
    "    if j>flag:\n",
    "        flag=j\n",
    "    else:\n",
    "        continue\n",
    "\n",
    "print('largest element of array is ',l,flag)"
   ]
  },
  {
   "cell_type": "code",
   "execution_count": 3,
   "id": "32820219",
   "metadata": {},
   "outputs": [
    {
     "name": "stdout",
     "output_type": "stream",
     "text": [
      "the rotated array is [11, 14, 62, 24, 33, 5, 101, 72, 65, 11] for array [11, 65, 72, 101, 5, 33, 24, 62, 14, 11]\n"
     ]
    }
   ],
   "source": [
    "## Sol 3 based on 1\n",
    "\n",
    "print('the rotated array is {} for array {}'.format(l[::-1],l))\n",
    "    \n"
   ]
  },
  {
   "cell_type": "code",
   "execution_count": 5,
   "id": "ad086c6c",
   "metadata": {},
   "outputs": [
    {
     "name": "stdout",
     "output_type": "stream",
     "text": [
      "split array is [11, 65, 72, 101, 5]\n",
      "array after modification [33, 24, 62, 14, 11, 11, 65, 72, 101, 5]\n"
     ]
    }
   ],
   "source": [
    "## Sol 4 based on 1\n",
    "\n",
    "mid=len(l)//2\n",
    "\n",
    "temp=l[:mid]\n",
    "l=l[mid:]\n",
    "print('split array is',temp)\n",
    "print('array after modification',l+temp)\n",
    "    "
   ]
  },
  {
   "cell_type": "code",
   "execution_count": 6,
   "id": "0591ddd5",
   "metadata": {},
   "outputs": [
    {
     "data": {
      "text/plain": [
       "False"
      ]
     },
     "execution_count": 6,
     "metadata": {},
     "output_type": "execute_result"
    }
   ],
   "source": [
    "## Sol 5 based on 1\n",
    "def isMonotonic(l):\n",
    "  \n",
    "    return (all(l[i] <= l[i + 1] for i in range(len(l) - 1)) or\n",
    "            all(l[i] >= l[i + 1] for i in range(len(l) - 1)))\n",
    "\n",
    "isMonotonic(l)"
   ]
  },
  {
   "cell_type": "code",
   "execution_count": 7,
   "id": "9799c44e",
   "metadata": {},
   "outputs": [
    {
     "data": {
      "text/plain": [
       "True"
      ]
     },
     "execution_count": 7,
     "metadata": {},
     "output_type": "execute_result"
    }
   ],
   "source": [
    "isMonotonic([6,77,88])"
   ]
  },
  {
   "cell_type": "code",
   "execution_count": null,
   "id": "f6637e17",
   "metadata": {},
   "outputs": [],
   "source": []
  }
 ],
 "metadata": {
  "kernelspec": {
   "display_name": "Python 3 (ipykernel)",
   "language": "python",
   "name": "python3"
  },
  "language_info": {
   "codemirror_mode": {
    "name": "ipython",
    "version": 3
   },
   "file_extension": ".py",
   "mimetype": "text/x-python",
   "name": "python",
   "nbconvert_exporter": "python",
   "pygments_lexer": "ipython3",
   "version": "3.7.4"
  }
 },
 "nbformat": 4,
 "nbformat_minor": 5
}
