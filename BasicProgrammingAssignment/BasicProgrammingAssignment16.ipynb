{
 "cells": [
  {
   "cell_type": "code",
   "execution_count": 16,
   "id": "bd9bf2c9",
   "metadata": {},
   "outputs": [
    {
     "name": "stdout",
     "output_type": "stream",
     "text": [
      "Enter the Word :incredible\n",
      "incredible ➞ in... in... incredible?\n",
      "Enter the Word :enthusiastic\n",
      "enthusiastic ➞ en... en... enthusiastic?\n",
      "Enter the Word :outstanding\n",
      "outstanding ➞ ou... ou... outstanding?\n"
     ]
    }
   ],
   "source": [
    "## Sol1\n",
    "def stutterWord():\n",
    "    in_string = input('Enter the Word :')\n",
    "    out_string = in_string.replace(in_string[0:2],((in_string[0:2]+'... ')*2)+ in_string[0:2])  +'?'\n",
    "    print(f'{in_string} ➞ {out_string}')\n",
    "\n",
    "for i in range(3):\n",
    "    stutterWord()\n",
    "        "
   ]
  },
  {
   "cell_type": "code",
   "execution_count": 1,
   "id": "293e564e",
   "metadata": {},
   "outputs": [
    {
     "name": "stdout",
     "output_type": "stream",
     "text": [
      "Enter angles in degrees: 1\n",
      "1 radian(s) ➞ 57.3 degrees\n",
      "Enter angles in degrees: 20\n",
      "20 radian(s) ➞ 1145.9 degrees\n",
      "Enter angles in degrees: 50\n",
      "50 radian(s) ➞ 2864.8 degrees\n"
     ]
    }
   ],
   "source": [
    "## Sol 2\n",
    "from math import pi\n",
    "def radtodegree(rad):\n",
    "    deg = round((180/pi)*rad,1)\n",
    "    print(f'{rad} radian(s) ➞ {deg} degrees')\n",
    "\n",
    "for i in range(3):\n",
    "    n=int(input('Enter angles in degrees: '))\n",
    "    radtodegree(n)"
   ]
  },
  {
   "cell_type": "code",
   "execution_count": 3,
   "id": "6e32f65b",
   "metadata": {},
   "outputs": [],
   "source": [
    "## Sol3\n",
    "def is_curzon(n):\n",
    "    a = pow(2,n)+1\n",
    "    b = (2*n)+1\n",
    "    return a%b==0"
   ]
  },
  {
   "cell_type": "code",
   "execution_count": 4,
   "id": "a62eb92b",
   "metadata": {},
   "outputs": [
    {
     "data": {
      "text/plain": [
       "True"
      ]
     },
     "execution_count": 4,
     "metadata": {},
     "output_type": "execute_result"
    }
   ],
   "source": [
    "is_curzon(5)"
   ]
  },
  {
   "cell_type": "code",
   "execution_count": 6,
   "id": "d091171d",
   "metadata": {},
   "outputs": [
    {
     "data": {
      "text/plain": [
       "False"
      ]
     },
     "execution_count": 6,
     "metadata": {},
     "output_type": "execute_result"
    }
   ],
   "source": [
    "is_curzon(10)"
   ]
  },
  {
   "cell_type": "code",
   "execution_count": 10,
   "id": "117d74bd",
   "metadata": {},
   "outputs": [
    {
     "name": "stdout",
     "output_type": "stream",
     "text": [
      "Enter side: 1\n",
      "area of hexagon(1)➞ 2.6 \n",
      "Enter side: 2\n",
      "area of hexagon(2)➞ 10.4 \n",
      "Enter side: 3\n",
      "area of hexagon(3)➞ 23.4 \n"
     ]
    }
   ],
   "source": [
    "## Sol4\n",
    "from math import sqrt\n",
    "def hexagon(s):\n",
    "    area = round((3*sqrt(3)*s**2)/2,1)\n",
    "    print(f'area of hexagon({s})➞ {area} ')\n",
    "\n",
    "for i in range(3):\n",
    "    s=int(input('Enter side: '))\n",
    "    hexagon(s)"
   ]
  },
  {
   "cell_type": "code",
   "execution_count": 11,
   "id": "78a37c4f",
   "metadata": {},
   "outputs": [
    {
     "name": "stdout",
     "output_type": "stream",
     "text": [
      "Enter a Number: 5\n",
      "Binary of 5 ➞ 101\n",
      "Enter a Number: 1\n",
      "Binary of 1 ➞ 1\n",
      "Enter a Number: 10\n",
      "Binary of 10 ➞ 1010\n"
     ]
    }
   ],
   "source": [
    "## Sol5\n",
    "def getBinary():\n",
    "    in_num = int(input(\"Enter a Number: \"))\n",
    "    out_num = bin(in_num).replace('0b','') \n",
    "    print(f'Binary of {in_num} ➞ {out_num}')\n",
    "\n",
    "for x in range(3):\n",
    "    getBinary()"
   ]
  },
  {
   "cell_type": "code",
   "execution_count": null,
   "id": "5a292a65",
   "metadata": {},
   "outputs": [],
   "source": []
  }
 ],
 "metadata": {
  "kernelspec": {
   "display_name": "Python 3 (ipykernel)",
   "language": "python",
   "name": "python3"
  },
  "language_info": {
   "codemirror_mode": {
    "name": "ipython",
    "version": 3
   },
   "file_extension": ".py",
   "mimetype": "text/x-python",
   "name": "python",
   "nbconvert_exporter": "python",
   "pygments_lexer": "ipython3",
   "version": "3.7.4"
  }
 },
 "nbformat": 4,
 "nbformat_minor": 5
}
