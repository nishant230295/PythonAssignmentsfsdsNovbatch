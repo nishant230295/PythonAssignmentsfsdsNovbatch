{
 "cells": [
  {
   "cell_type": "code",
   "execution_count": 1,
   "id": "42d7c9b9",
   "metadata": {},
   "outputs": [
    {
     "data": {
      "text/plain": [
       "[7, 21, 32, 51, 61]"
      ]
     },
     "execution_count": 1,
     "metadata": {},
     "output_type": "execute_result"
    }
   ],
   "source": [
    "## Sol 1\n",
    "d={'a':7,'b':21,'c':32,'d':7,'e':51,'f':61}\n",
    "l=[]\n",
    "\n",
    "for j in d.values():\n",
    "    if j not in l:\n",
    "        l.append(j)\n",
    "\n",
    "l       "
   ]
  },
  {
   "cell_type": "code",
   "execution_count": 2,
   "id": "5748ab63",
   "metadata": {},
   "outputs": [
    {
     "data": {
      "text/plain": [
       "179"
      ]
     },
     "execution_count": 2,
     "metadata": {},
     "output_type": "execute_result"
    }
   ],
   "source": [
    "## Sol 2\n",
    "su=0\n",
    "\n",
    "for j in d.values():\n",
    "    if type(j) in [int,float]:\n",
    "        su=su+j\n",
    "        \n",
    "su"
   ]
  },
  {
   "cell_type": "code",
   "execution_count": 5,
   "id": "26cfda31",
   "metadata": {},
   "outputs": [
    {
     "data": {
      "text/plain": [
       "{'a': 7, 'b': 21, 'c': 32, 'd': 7, 'e': 51, 'f': 61, 'g': 5, 'h': 11, 'i': 21}"
      ]
     },
     "execution_count": 5,
     "metadata": {},
     "output_type": "execute_result"
    }
   ],
   "source": [
    "## Sol 3\n",
    "d2={'g':5,'h':11,'i':21}\n",
    "d.update(d2)\n",
    "d"
   ]
  },
  {
   "cell_type": "code",
   "execution_count": 7,
   "id": "0072e82e",
   "metadata": {},
   "outputs": [
    {
     "name": "stdout",
     "output_type": "stream",
     "text": [
      "['a', 'b', 'c', 'd', 'e', 'f']\n",
      "[7, 21, 32, 7, 51, 61]\n",
      "List ['a', 7, 'b', 21, 'c', 32, 'd', 7, 'e', 51, 'f', 61] to \n",
      " Dictionary {'a': 7, 'b': 21, 'c': 32, 'd': 7, 'e': 51, 'f': 61}\n"
     ]
    }
   ],
   "source": [
    "## Sol 4\n",
    "l = ['a',7,'b',21,'c',32,'d',7,'e',51,'f',61]\n",
    "l1= []\n",
    "l2= []\n",
    "for i in range(0,len(l),2):\n",
    "    l1.append(l[i])\n",
    "\n",
    "for j in range(1,len(l),2):\n",
    "    if j not in l1:\n",
    "        l2.append(l[j])\n",
    "print(l1)\n",
    "print(l2)\n",
    "\n",
    "d = dict(zip(l1,l2))\n",
    "print(\"List {} to \\n Dictionary {}\".format(l,d))   "
   ]
  },
  {
   "cell_type": "code",
   "execution_count": 10,
   "id": "d30ff90b",
   "metadata": {},
   "outputs": [
    {
     "name": "stdout",
     "output_type": "stream",
     "text": [
      "OrderedDict([('a', 7), ('b', 21), ('c', 32), ('d', 7), ('e', 51), ('f', 61)])\n",
      "OrderedDict([('a', 7), ('b', 21), ('c', 32), ('d', 7), ('e', 51), ('f', 61), ('g', 700)])\n",
      "OrderedDict([('g', 700), ('a', 7), ('b', 21), ('c', 32), ('d', 7), ('e', 51), ('f', 61)])\n"
     ]
    }
   ],
   "source": [
    "## Sol 5\n",
    "from collections import OrderedDict\n",
    "od = OrderedDict(d)\n",
    "print(od)\n",
    "od['g'] = 700\n",
    "print(od)\n",
    "od.move_to_end('g', False)\n",
    "print(od)"
   ]
  },
  {
   "cell_type": "code",
   "execution_count": 1,
   "id": "053ac49f",
   "metadata": {},
   "outputs": [
    {
     "data": {
      "text/plain": [
       "'true'"
      ]
     },
     "execution_count": 1,
     "metadata": {},
     "output_type": "execute_result"
    }
   ],
   "source": [
    "## Sol6\n",
    "from collections import OrderedDict \n",
    "def checkOrder(input, pattern): \n",
    "    dict = OrderedDict.fromkeys(input) \n",
    "    pt= 0\n",
    "    for key,value in dict.items(): \n",
    "        if (key == pattern[pt]): \n",
    "            pt= pt + 1\n",
    "        if (pt== (len(pattern))): \n",
    "            return 'true'\n",
    "    return 'false'\n",
    "\n",
    "checkOrder('Nishant','Nht')"
   ]
  },
  {
   "cell_type": "code",
   "execution_count": 2,
   "id": "a9f7de52",
   "metadata": {},
   "outputs": [
    {
     "data": {
      "text/plain": [
       "'false'"
      ]
     },
     "execution_count": 2,
     "metadata": {},
     "output_type": "execute_result"
    }
   ],
   "source": [
    "checkOrder('Gupta','Gat')"
   ]
  },
  {
   "cell_type": "code",
   "execution_count": 3,
   "id": "73c234f8",
   "metadata": {},
   "outputs": [
    {
     "name": "stdout",
     "output_type": "stream",
     "text": [
      "Sorted Keys are\n",
      "A B C E "
     ]
    }
   ],
   "source": [
    "## Sol 7\n",
    "def dictionairy(): \n",
    "    mydict ={1:\"A\",10:\"E\",3:\"C\",4:\"B\"}    \n",
    "    print (\"Sorted Keys are\")\n",
    "    for i in sorted(mydict.values()) : \n",
    "        print(i, end = \" \")\n",
    "dictionairy()         "
   ]
  },
  {
   "cell_type": "code",
   "execution_count": null,
   "id": "a1ae4c55",
   "metadata": {},
   "outputs": [],
   "source": []
  }
 ],
 "metadata": {
  "kernelspec": {
   "display_name": "Python 3 (ipykernel)",
   "language": "python",
   "name": "python3"
  },
  "language_info": {
   "codemirror_mode": {
    "name": "ipython",
    "version": 3
   },
   "file_extension": ".py",
   "mimetype": "text/x-python",
   "name": "python",
   "nbconvert_exporter": "python",
   "pygments_lexer": "ipython3",
   "version": "3.7.4"
  }
 },
 "nbformat": 4,
 "nbformat_minor": 5
}
