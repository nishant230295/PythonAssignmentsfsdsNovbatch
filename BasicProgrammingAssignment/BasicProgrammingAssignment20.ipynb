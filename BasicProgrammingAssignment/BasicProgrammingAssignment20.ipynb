{
 "cells": [
  {
   "cell_type": "code",
   "execution_count": 1,
   "id": "972c24a6",
   "metadata": {},
   "outputs": [
    {
     "name": "stdout",
     "output_type": "stream",
     "text": [
      "filter_list([1, 2, 3, 'a', 'b', 4])➞ [1, 2, 3, 4]\n"
     ]
    }
   ],
   "source": [
    "## Sol1\n",
    "def filter_list(l):\n",
    "    lmod=[]\n",
    "    for i in l:\n",
    "        if type(i)==int:\n",
    "            lmod.append(i)\n",
    "            \n",
    "    print(f'filter_list({l})➞ {lmod}')\n",
    "    \n",
    "filter_list([1, 2, 3, \"a\", \"b\", 4]) "
   ]
  },
  {
   "cell_type": "code",
   "execution_count": 2,
   "id": "061762a8",
   "metadata": {},
   "outputs": [
    {
     "name": "stdout",
     "output_type": "stream",
     "text": [
      "filter_list(['A', 0, 'Edabit', 1729, 'Python', '1729'])➞ [0, 1729]\n"
     ]
    }
   ],
   "source": [
    "filter_list([\"A\", 0, \"Edabit\", 1729, \"Python\", \"1729\"]) "
   ]
  },
  {
   "cell_type": "code",
   "execution_count": 3,
   "id": "5e232864",
   "metadata": {},
   "outputs": [
    {
     "name": "stdout",
     "output_type": "stream",
     "text": [
      "filter_list(['Nothing', 'here'])➞ []\n"
     ]
    }
   ],
   "source": [
    "filter_list([\"Nothing\", \"here\"]) "
   ]
  },
  {
   "cell_type": "code",
   "execution_count": 7,
   "id": "d7108574",
   "metadata": {},
   "outputs": [
    {
     "name": "stdout",
     "output_type": "stream",
     "text": [
      "add_indexes([0, 0, 0, 0, 0])➞ [0, 1, 2, 3, 4]\n"
     ]
    }
   ],
   "source": [
    "## Sol2\n",
    "def add_indexes(l):\n",
    "    lmod=[]\n",
    "    for i in range(len(l)):\n",
    "        lmod.append(i+l[i])\n",
    "    \n",
    "    print(f'add_indexes({l})➞ {lmod}')\n",
    "    \n",
    "add_indexes([0, 0, 0, 0, 0]) "
   ]
  },
  {
   "cell_type": "code",
   "execution_count": 8,
   "id": "58f5fda7",
   "metadata": {},
   "outputs": [
    {
     "name": "stdout",
     "output_type": "stream",
     "text": [
      "add_indexes([1, 2, 3, 4, 5])➞ [1, 3, 5, 7, 9]\n"
     ]
    }
   ],
   "source": [
    "add_indexes([1, 2, 3, 4, 5])"
   ]
  },
  {
   "cell_type": "code",
   "execution_count": 9,
   "id": "1c00d309",
   "metadata": {},
   "outputs": [
    {
     "name": "stdout",
     "output_type": "stream",
     "text": [
      "add_indexes([5, 4, 3, 2, 1])➞ [5, 5, 5, 5, 5]\n"
     ]
    }
   ],
   "source": [
    "add_indexes([5, 4, 3, 2, 1]) "
   ]
  },
  {
   "cell_type": "code",
   "execution_count": 14,
   "id": "ec8b170a",
   "metadata": {},
   "outputs": [
    {
     "name": "stdout",
     "output_type": "stream",
     "text": [
      "cone_volume(6,15)➞ 565.49\n"
     ]
    }
   ],
   "source": [
    "##Sol 3\n",
    "import math\n",
    "def cone_volume(h,r):\n",
    "    vol=round(math.pi*(h/3)*r**2,2)\n",
    "    \n",
    "    print(f'cone_volume({r},{h})➞ {vol}')\n",
    "        \n",
    "cone_volume(15, 6) "
   ]
  },
  {
   "cell_type": "code",
   "execution_count": 15,
   "id": "a14f355d",
   "metadata": {},
   "outputs": [
    {
     "name": "stdout",
     "output_type": "stream",
     "text": [
      "cone_volume(2,3)➞ 12.57\n"
     ]
    }
   ],
   "source": [
    "cone_volume(3,2) "
   ]
  },
  {
   "cell_type": "code",
   "execution_count": 16,
   "id": "3111a562",
   "metadata": {},
   "outputs": [
    {
     "name": "stdout",
     "output_type": "stream",
     "text": [
      "cone_volume(0,18)➞ 0.0\n"
     ]
    }
   ],
   "source": [
    "cone_volume(18, 0) "
   ]
  },
  {
   "cell_type": "code",
   "execution_count": 19,
   "id": "0819ea46",
   "metadata": {},
   "outputs": [
    {
     "name": "stdout",
     "output_type": "stream",
     "text": [
      "triangle(1)➞ 1.0\n"
     ]
    }
   ],
   "source": [
    "##Sol 4\n",
    "def triangle(n):\n",
    "    t = n*(n+1)/2\n",
    "    \n",
    "    print(f'triangle({n})➞ {t}')\n",
    "\n",
    "triangle(1)"
   ]
  },
  {
   "cell_type": "code",
   "execution_count": 20,
   "id": "d9b07ab2",
   "metadata": {},
   "outputs": [
    {
     "name": "stdout",
     "output_type": "stream",
     "text": [
      "triangle(6)➞ 21.0\n"
     ]
    }
   ],
   "source": [
    "triangle(6)"
   ]
  },
  {
   "cell_type": "code",
   "execution_count": 27,
   "id": "79523703",
   "metadata": {},
   "outputs": [
    {
     "name": "stdout",
     "output_type": "stream",
     "text": [
      "[1, 2, 3, 4, 6, 7, 8, 9, 10] ➞ 5\n"
     ]
    }
   ],
   "source": [
    "##Sol 5\n",
    "def missing_num(in_list):\n",
    "    for i in range(1,11):\n",
    "        if i not in in_list:\n",
    "            print(f'{in_list} ➞ {i}')\n",
    "    \n",
    "missing_num([1, 2, 3, 4, 6, 7, 8, 9, 10]) "
   ]
  },
  {
   "cell_type": "code",
   "execution_count": 28,
   "id": "a9855184",
   "metadata": {},
   "outputs": [
    {
     "name": "stdout",
     "output_type": "stream",
     "text": [
      "[7, 2, 3, 6, 5, 9, 1, 4, 8] ➞ 10\n"
     ]
    }
   ],
   "source": [
    "missing_num([7, 2, 3, 6, 5, 9, 1, 4, 8]) "
   ]
  },
  {
   "cell_type": "code",
   "execution_count": 29,
   "id": "76d4d9e7",
   "metadata": {},
   "outputs": [
    {
     "name": "stdout",
     "output_type": "stream",
     "text": [
      "[10, 5, 1, 2, 4, 6, 8, 3, 9] ➞ 7\n"
     ]
    }
   ],
   "source": [
    "missing_num([10, 5, 1, 2, 4, 6, 8, 3, 9]) "
   ]
  },
  {
   "cell_type": "code",
   "execution_count": null,
   "id": "622c3e51",
   "metadata": {},
   "outputs": [],
   "source": []
  }
 ],
 "metadata": {
  "kernelspec": {
   "display_name": "Python 3 (ipykernel)",
   "language": "python",
   "name": "python3"
  },
  "language_info": {
   "codemirror_mode": {
    "name": "ipython",
    "version": 3
   },
   "file_extension": ".py",
   "mimetype": "text/x-python",
   "name": "python",
   "nbconvert_exporter": "python",
   "pygments_lexer": "ipython3",
   "version": "3.7.4"
  }
 },
 "nbformat": 4,
 "nbformat_minor": 5
}
