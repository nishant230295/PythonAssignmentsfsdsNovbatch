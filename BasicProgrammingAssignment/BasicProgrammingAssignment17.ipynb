{
 "cells": [
  {
   "cell_type": "code",
   "execution_count": 1,
   "id": "9dfbb3c4",
   "metadata": {},
   "outputs": [
    {
     "name": "stdout",
     "output_type": "stream",
     "text": [
      "evenlydivisible(1, 10 ,20)➞ 0\n"
     ]
    }
   ],
   "source": [
    "## Sol1\n",
    "def evenly_divisible(a,b,c):\n",
    "    su=0\n",
    "    for i in range(a,b+1):\n",
    "        if i%c==0:\n",
    "            su=su+i\n",
    "    print(f'evenlydivisible({a}, {b} ,{c})➞ {su}')\n",
    "    \n",
    "evenly_divisible(1,10,20)"
   ]
  },
  {
   "cell_type": "code",
   "execution_count": 2,
   "id": "84350eee",
   "metadata": {},
   "outputs": [
    {
     "name": "stdout",
     "output_type": "stream",
     "text": [
      "evenlydivisible(1, 10 ,2)➞ 30\n"
     ]
    }
   ],
   "source": [
    "evenly_divisible(1,10,2)"
   ]
  },
  {
   "cell_type": "code",
   "execution_count": 3,
   "id": "806de6ee",
   "metadata": {},
   "outputs": [
    {
     "name": "stdout",
     "output_type": "stream",
     "text": [
      "evenlydivisible(1, 10 ,3)➞ 18\n"
     ]
    }
   ],
   "source": [
    "evenly_divisible(1,10,3)"
   ]
  },
  {
   "cell_type": "code",
   "execution_count": 5,
   "id": "b9ab71bb",
   "metadata": {},
   "outputs": [
    {
     "name": "stdout",
     "output_type": "stream",
     "text": [
      "correct_signs(\"3 < 7 < 11\")➞ True\n"
     ]
    }
   ],
   "source": [
    "## Sol2\n",
    "def correct_signs(inequality):\n",
    "    a=eval(inequality)\n",
    "    print(f'correct_signs(\"{inequality}\")➞ {a}')\n",
    "\n",
    "correct_signs(\"3 < 7 < 11\")"
   ]
  },
  {
   "cell_type": "code",
   "execution_count": 6,
   "id": "92ef29b0",
   "metadata": {},
   "outputs": [
    {
     "name": "stdout",
     "output_type": "stream",
     "text": [
      "correct_signs(\"13 > 44 > 33 > 1\")➞ False\n"
     ]
    }
   ],
   "source": [
    "correct_signs(\"13 > 44 > 33 > 1\") "
   ]
  },
  {
   "cell_type": "code",
   "execution_count": 7,
   "id": "2e0ccede",
   "metadata": {},
   "outputs": [
    {
     "name": "stdout",
     "output_type": "stream",
     "text": [
      "correct_signs(\"1 < 2 < 6 < 9 > 3\")➞ True\n"
     ]
    }
   ],
   "source": [
    "correct_signs(\"1 < 2 < 6 < 9 > 3\")"
   ]
  },
  {
   "cell_type": "code",
   "execution_count": 12,
   "id": "d429914b",
   "metadata": {},
   "outputs": [
    {
     "name": "stdout",
     "output_type": "stream",
     "text": [
      "replace_vowels(\"th# ##rdv#rk\",\"#\")➞ \"th# ##rdv#rk\"\n"
     ]
    }
   ],
   "source": [
    "## Sol 3\n",
    "def replace_vowels(st,c):\n",
    "    for i in st:\n",
    "        if i in ['a','e','i','o','u','A','E','I','O','U']:\n",
    "            st=st.replace(i,c)\n",
    "        else:\n",
    "            ct=st\n",
    "        \n",
    "    print(f'replace_vowels(\"{st}\",\"{c}\")➞ \"{st}\"')\n",
    "        \n",
    "replace_vowels(\"the aardvark\", \"#\") "
   ]
  },
  {
   "cell_type": "code",
   "execution_count": 14,
   "id": "8be4a5eb",
   "metadata": {},
   "outputs": [
    {
     "name": "stdout",
     "output_type": "stream",
     "text": [
      "replace_vowels(\"m?nn?? m??s?\",\"?\")➞ \"m?nn?? m??s?\"\n"
     ]
    }
   ],
   "source": [
    "replace_vowels(\"minnie mouse\", \"?\") "
   ]
  },
  {
   "cell_type": "code",
   "execution_count": 15,
   "id": "d473a421",
   "metadata": {},
   "outputs": [
    {
     "name": "stdout",
     "output_type": "stream",
     "text": [
      "replace_vowels(\"sh*k*sp**r*\",\"*\")➞ \"sh*k*sp**r*\"\n"
     ]
    }
   ],
   "source": [
    "replace_vowels(\"shakespeare\", \"*\") "
   ]
  },
  {
   "cell_type": "code",
   "execution_count": 18,
   "id": "06c9101c",
   "metadata": {},
   "outputs": [
    {
     "name": "stdout",
     "output_type": "stream",
     "text": [
      "factorial(5)➞ 120\n"
     ]
    }
   ],
   "source": [
    "## Sol4\n",
    "def rec_factorial(n):\n",
    "    if n==0:\n",
    "        return 1\n",
    "    else:\n",
    "        return n*rec_factorial(n-1)\n",
    "\n",
    "n=5    \n",
    "b=rec_factorial(n)\n",
    "print(f'factorial({n})➞ {b}')\n",
    " \n"
   ]
  },
  {
   "cell_type": "code",
   "execution_count": 19,
   "id": "d1d04cb4",
   "metadata": {},
   "outputs": [
    {
     "name": "stdout",
     "output_type": "stream",
     "text": [
      "factorial(3)➞ 6\n"
     ]
    }
   ],
   "source": [
    "n= 3   \n",
    "b=rec_factorial(n)\n",
    "print(f'factorial({n})➞ {b}')"
   ]
  },
  {
   "cell_type": "code",
   "execution_count": 20,
   "id": "aa643724",
   "metadata": {},
   "outputs": [
    {
     "name": "stdout",
     "output_type": "stream",
     "text": [
      "factorial(0)➞ 1\n"
     ]
    }
   ],
   "source": [
    "n= 0   \n",
    "b=rec_factorial(n)\n",
    "print(f'factorial({n})➞ {b}')"
   ]
  },
  {
   "cell_type": "code",
   "execution_count": 21,
   "id": "491802e7",
   "metadata": {},
   "outputs": [
    {
     "name": "stdout",
     "output_type": "stream",
     "text": [
      "hamming_distance(\"abcde\",\"bcdef\")➞ 5\n"
     ]
    }
   ],
   "source": [
    "## Sol5\n",
    "def hamming_distance(st1,st2):\n",
    "    n=len(st1)\n",
    "    hd=0\n",
    "    for i in range(n):\n",
    "        if st1[i]!=st2[i]:\n",
    "            hd+=1\n",
    "            \n",
    "    print(f'hamming_distance(\"{st1}\",\"{st2}\")➞ {hd}')\n",
    "\n",
    "hamming_distance(\"abcde\", \"bcdef\") "
   ]
  },
  {
   "cell_type": "code",
   "execution_count": 22,
   "id": "62332734",
   "metadata": {},
   "outputs": [
    {
     "name": "stdout",
     "output_type": "stream",
     "text": [
      "hamming_distance(\"abcde\",\"abcde\")➞ 0\n"
     ]
    }
   ],
   "source": [
    "hamming_distance(\"abcde\", \"abcde\")"
   ]
  },
  {
   "cell_type": "code",
   "execution_count": 23,
   "id": "eaa1bbd4",
   "metadata": {},
   "outputs": [
    {
     "name": "stdout",
     "output_type": "stream",
     "text": [
      "hamming_distance(\"strong\",\"strung\")➞ 1\n"
     ]
    }
   ],
   "source": [
    "hamming_distance(\"strong\", \"strung\")"
   ]
  },
  {
   "cell_type": "code",
   "execution_count": null,
   "id": "cc0a7a2c",
   "metadata": {},
   "outputs": [],
   "source": []
  }
 ],
 "metadata": {
  "kernelspec": {
   "display_name": "Python 3 (ipykernel)",
   "language": "python",
   "name": "python3"
  },
  "language_info": {
   "codemirror_mode": {
    "name": "ipython",
    "version": 3
   },
   "file_extension": ".py",
   "mimetype": "text/x-python",
   "name": "python",
   "nbconvert_exporter": "python",
   "pygments_lexer": "ipython3",
   "version": "3.7.4"
  }
 },
 "nbformat": 4,
 "nbformat_minor": 5
}
