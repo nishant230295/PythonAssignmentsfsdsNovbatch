{
 "cells": [
  {
   "cell_type": "code",
   "execution_count": 2,
   "id": "5b43a552",
   "metadata": {},
   "outputs": [
    {
     "name": "stdout",
     "output_type": "stream",
     "text": [
      "enter the number135\n",
      "Yes 135 is a distarium number\n"
     ]
    }
   ],
   "source": [
    "## Sol 1\n",
    "n=input('enter the number') \n",
    "\n",
    "r=int(n)\n",
    "sum=0\n",
    "for i in range(len(n)):\n",
    "    sum=sum+int(n[i])**(i+1)\n",
    "    \n",
    "if sum==r:\n",
    "    print('Yes {} is a distarium number'.format(r))"
   ]
  },
  {
   "cell_type": "code",
   "execution_count": 7,
   "id": "513649eb",
   "metadata": {},
   "outputs": [
    {
     "name": "stdout",
     "output_type": "stream",
     "text": [
      "1\n",
      "2\n",
      "3\n",
      "4\n",
      "5\n",
      "6\n",
      "7\n",
      "8\n",
      "9\n",
      "89\n"
     ]
    }
   ],
   "source": [
    "## Sol 2 Disarium numbers from 1 to 100\n",
    "for j in range(1,101):\n",
    "    x=str(j)\n",
    "    sum=0\n",
    "    for i in range(len(x)):\n",
    "        sum=sum+int((x[i]))**(i+1)\n",
    "    \n",
    "    if sum==j:\n",
    "        print(j)\n",
    "        \n"
   ]
  },
  {
   "cell_type": "code",
   "execution_count": 8,
   "id": "ba7c8cc4",
   "metadata": {},
   "outputs": [],
   "source": [
    "## Sol 3 \n",
    "def squsum(n):\n",
    "    sum = 0\n",
    "    while n>0:\n",
    "        rem = n%10\n",
    "        sum = sum+rem**2\n",
    "        n = n//10\n",
    "    return sum\n",
    "\n",
    "\n",
    "def happy_no(n):\n",
    "    l=set()\n",
    "    while squsum(n) not in l:\n",
    "        sum1 = squsum(n)\n",
    "        if sum1==1:\n",
    "            return True\n",
    "        else:\n",
    "            l.add(sum1)\n",
    "            n = sum1\n",
    "    return False\n",
    "            "
   ]
  },
  {
   "cell_type": "code",
   "execution_count": 9,
   "id": "793bb2d9",
   "metadata": {},
   "outputs": [
    {
     "data": {
      "text/plain": [
       "True"
      ]
     },
     "execution_count": 9,
     "metadata": {},
     "output_type": "execute_result"
    }
   ],
   "source": [
    "happy_no(32)"
   ]
  },
  {
   "cell_type": "code",
   "execution_count": 11,
   "id": "a70eb4b8",
   "metadata": {},
   "outputs": [
    {
     "data": {
      "text/plain": [
       "False"
      ]
     },
     "execution_count": 11,
     "metadata": {},
     "output_type": "execute_result"
    }
   ],
   "source": [
    "happy_no(11)"
   ]
  },
  {
   "cell_type": "code",
   "execution_count": 12,
   "id": "98594ee4",
   "metadata": {},
   "outputs": [
    {
     "data": {
      "text/plain": [
       "[1, 7, 10, 13, 19, 23, 28, 31, 32, 44, 49, 68, 70, 79, 82, 86, 91, 94, 97, 100]"
      ]
     },
     "execution_count": 12,
     "metadata": {},
     "output_type": "execute_result"
    }
   ],
   "source": [
    "## Sol 4\n",
    "[i for i in range(1,101) if happy_no(i)==True]"
   ]
  },
  {
   "cell_type": "code",
   "execution_count": 13,
   "id": "0b835228",
   "metadata": {},
   "outputs": [],
   "source": [
    "## Sol 5\n",
    "def sumofdigits(n):\n",
    "    sem = 0\n",
    "    temp = n\n",
    "    while temp>0:\n",
    "        rem = temp%10\n",
    "        sem = sem + rem\n",
    "        temp = temp//10\n",
    "    return sem\n",
    "\n",
    "\n",
    "def harshad(n):\n",
    "    if n%sumofdigits(n)==0:\n",
    "        return True\n",
    "    return False"
   ]
  },
  {
   "cell_type": "code",
   "execution_count": 14,
   "id": "88ad79a8",
   "metadata": {},
   "outputs": [
    {
     "data": {
      "text/plain": [
       "True"
      ]
     },
     "execution_count": 14,
     "metadata": {},
     "output_type": "execute_result"
    }
   ],
   "source": [
    "harshad(156)"
   ]
  },
  {
   "cell_type": "code",
   "execution_count": 15,
   "id": "18ee40c3",
   "metadata": {},
   "outputs": [
    {
     "data": {
      "text/plain": [
       "False"
      ]
     },
     "execution_count": 15,
     "metadata": {},
     "output_type": "execute_result"
    }
   ],
   "source": [
    "harshad(25)"
   ]
  },
  {
   "cell_type": "code",
   "execution_count": 16,
   "id": "513dd8d6",
   "metadata": {},
   "outputs": [
    {
     "data": {
      "text/plain": [
       "[1,\n",
       " 2,\n",
       " 3,\n",
       " 4,\n",
       " 5,\n",
       " 6,\n",
       " 7,\n",
       " 8,\n",
       " 9,\n",
       " 10,\n",
       " 12,\n",
       " 18,\n",
       " 20,\n",
       " 21,\n",
       " 24,\n",
       " 27,\n",
       " 30,\n",
       " 36,\n",
       " 40,\n",
       " 42,\n",
       " 45,\n",
       " 48,\n",
       " 50,\n",
       " 54,\n",
       " 60,\n",
       " 63,\n",
       " 70,\n",
       " 72,\n",
       " 80,\n",
       " 81,\n",
       " 84,\n",
       " 90,\n",
       " 100]"
      ]
     },
     "execution_count": 16,
     "metadata": {},
     "output_type": "execute_result"
    }
   ],
   "source": [
    "## Sol 6 \n",
    "[ i for i in range(1,101) if harshad(i)]"
   ]
  },
  {
   "cell_type": "code",
   "execution_count": null,
   "id": "1e9babdd",
   "metadata": {},
   "outputs": [],
   "source": []
  }
 ],
 "metadata": {
  "kernelspec": {
   "display_name": "Python 3 (ipykernel)",
   "language": "python",
   "name": "python3"
  },
  "language_info": {
   "codemirror_mode": {
    "name": "ipython",
    "version": 3
   },
   "file_extension": ".py",
   "mimetype": "text/x-python",
   "name": "python",
   "nbconvert_exporter": "python",
   "pygments_lexer": "ipython3",
   "version": "3.7.4"
  }
 },
 "nbformat": 4,
 "nbformat_minor": 5
}
