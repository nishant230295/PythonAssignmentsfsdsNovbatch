{
 "cells": [
  {
   "cell_type": "code",
   "execution_count": 1,
   "id": "82a0da49",
   "metadata": {},
   "outputs": [
    {
     "name": "stdout",
     "output_type": "stream",
     "text": [
      "Hello Python\n"
     ]
    }
   ],
   "source": [
    "## Sol 1\n",
    "print('Hello Python')"
   ]
  },
  {
   "cell_type": "code",
   "execution_count": 7,
   "id": "4f4d4bab",
   "metadata": {},
   "outputs": [
    {
     "name": "stdout",
     "output_type": "stream",
     "text": [
      "Addition of two numbers is 22\n",
      "Division of these number is 3.4\n"
     ]
    }
   ],
   "source": [
    "## Sol 2\n",
    "a=17\n",
    "b=5\n",
    "#Addition \n",
    "print('Addition of two numbers is',a+b)\n",
    "#Division\n",
    "try:\n",
    "    x=a/b\n",
    "    print('Division of these number is',x)\n",
    "except error as e:\n",
    "    print('error raised',e)\n"
   ]
  },
  {
   "cell_type": "code",
   "execution_count": 11,
   "id": "95172fa9",
   "metadata": {},
   "outputs": [
    {
     "name": "stdout",
     "output_type": "stream",
     "text": [
      "Addition of two numbers is 17\n",
      "error raised division by zero\n"
     ]
    }
   ],
   "source": [
    "## Sol 2\n",
    "a=17\n",
    "b=0\n",
    "#Addition \n",
    "print('Addition of two numbers is',a+b)\n",
    "#Division\n",
    "try:\n",
    "    x=a/b\n",
    "    print('Division of these number is',x)\n",
    "except ArithmeticError as e:\n",
    "    print('error raised',e)"
   ]
  },
  {
   "cell_type": "code",
   "execution_count": 13,
   "id": "c8f3eb22",
   "metadata": {},
   "outputs": [
    {
     "data": {
      "text/plain": [
       "'area of traiangle is 10.5'"
      ]
     },
     "execution_count": 13,
     "metadata": {},
     "output_type": "execute_result"
    }
   ],
   "source": [
    "## Sol 3\n",
    "def area(base,height):\n",
    "    ar=1/2*base*height\n",
    "    return 'area of traiangle is '+str(ar)\n",
    "\n",
    "area(7,3)"
   ]
  },
  {
   "cell_type": "code",
   "execution_count": 1,
   "id": "c64f029c",
   "metadata": {},
   "outputs": [
    {
     "name": "stdout",
     "output_type": "stream",
     "text": [
      "enter the first number :5\n",
      "enter the second number :7\n",
      "the numbers before swapping is 5 7\n",
      "the numbers after swapping is 7 5\n"
     ]
    }
   ],
   "source": [
    "## Sol 4\n",
    "a=int(input('enter the first number :'))\n",
    "b=int(input('enter the second number :'))\n",
    "\n",
    "print('the numbers before swapping is',a,b)\n",
    "\n",
    "temp=a\n",
    "a=b\n",
    "b=temp\n",
    "\n",
    "print('the numbers after swapping is',a,b)"
   ]
  },
  {
   "cell_type": "code",
   "execution_count": 15,
   "id": "90608934",
   "metadata": {},
   "outputs": [
    {
     "name": "stdout",
     "output_type": "stream",
     "text": [
      "0.44405840587110934\n"
     ]
    }
   ],
   "source": [
    "## Sol 5\n",
    "import random\n",
    "rdn=random.random()\n",
    "print(rdn)"
   ]
  },
  {
   "cell_type": "code",
   "execution_count": null,
   "id": "244b8e6c",
   "metadata": {},
   "outputs": [],
   "source": []
  }
 ],
 "metadata": {
  "kernelspec": {
   "display_name": "Python 3 (ipykernel)",
   "language": "python",
   "name": "python3"
  },
  "language_info": {
   "codemirror_mode": {
    "name": "ipython",
    "version": 3
   },
   "file_extension": ".py",
   "mimetype": "text/x-python",
   "name": "python",
   "nbconvert_exporter": "python",
   "pygments_lexer": "ipython3",
   "version": "3.7.4"
  }
 },
 "nbformat": 4,
 "nbformat_minor": 5
}
