{
 "cells": [
  {
   "cell_type": "code",
   "execution_count": 3,
   "id": "f86510d5",
   "metadata": {},
   "outputs": [
    {
     "name": "stdout",
     "output_type": "stream",
     "text": [
      "7\n",
      "14\n",
      "21\n",
      "28\n",
      "35\n",
      "42\n",
      "49\n",
      "56\n",
      "63\n",
      "70\n",
      "77\n",
      "84\n",
      "91\n",
      "98\n",
      "105\n",
      "112\n",
      "119\n",
      "126\n",
      "133\n",
      "140\n",
      "147\n"
     ]
    }
   ],
   "source": [
    "## Sol 1\n",
    "class itrate:\n",
    "    def __init__(self,n):\n",
    "        self.n=n\n",
    "        \n",
    "    def divisible(self):\n",
    "        for i in range(self.n):\n",
    "            if i%7==0 and i>0:\n",
    "                yield i\n",
    "                \n",
    "a=itrate(150)\n",
    "for k in a.divisible():\n",
    "    print(k)"
   ]
  },
  {
   "cell_type": "code",
   "execution_count": 6,
   "id": "9888786c",
   "metadata": {},
   "outputs": [
    {
     "name": "stdout",
     "output_type": "stream",
     "text": [
      "Enter the string: New to Python or choosing between Python 2 and Python 3? Read Python 2 or Python 3\n",
      "2:2\n",
      "3:1\n",
      "3?:1\n",
      "New:1\n",
      "Python:5\n",
      "Read:1\n",
      "and:1\n",
      "between:1\n",
      "choosing:1\n",
      "or:2\n",
      "to:1\n"
     ]
    }
   ],
   "source": [
    "## Sol 2\n",
    "input_string = input(\"Enter the string: \").split()\n",
    "frequency_check = sorted(set(input_string))\n",
    "\n",
    "for i in frequency_check:\n",
    "    print(\"{}:{}\".format(i,input_string.count(i)))"
   ]
  },
  {
   "cell_type": "code",
   "execution_count": 8,
   "id": "bb77393c",
   "metadata": {},
   "outputs": [
    {
     "name": "stdout",
     "output_type": "stream",
     "text": [
      "male\n",
      "female\n"
     ]
    }
   ],
   "source": [
    "## Sol3\n",
    "class person:\n",
    "    def getgender(self):\n",
    "        pass\n",
    "\n",
    "class male(person):\n",
    "    def getgender(self):\n",
    "        return \"male\"\n",
    "\n",
    "class female(person):\n",
    "    def getgender(self):\n",
    "        return \"female\"\n",
    "    \n",
    "a=male()\n",
    "print(a.getgender())\n",
    "b=female()\n",
    "print(b.getgender())"
   ]
  },
  {
   "cell_type": "code",
   "execution_count": 9,
   "id": "a1682cba",
   "metadata": {},
   "outputs": [
    {
     "name": "stdout",
     "output_type": "stream",
     "text": [
      "I Play Hockey\n",
      "I Play Football\n",
      "I Love Hockey\n",
      "I Love Football\n",
      "You Play Hockey\n",
      "You Play Football\n",
      "You Love Hockey\n",
      "You Love Football\n"
     ]
    }
   ],
   "source": [
    "## Sol4\n",
    "subject = [\"I\", \"You\"]\n",
    "verb = [\"Play\", \"Love\"]\n",
    "objects = [\"Hockey\",\"Football\"]\n",
    "\n",
    "for i in subject:\n",
    "    for j in verb:\n",
    "        for k in objects:\n",
    "            print(\"{} {} {}\".format(i,j,k))"
   ]
  },
  {
   "cell_type": "code",
   "execution_count": 11,
   "id": "7b877b2b",
   "metadata": {},
   "outputs": [
    {
     "name": "stdout",
     "output_type": "stream",
     "text": [
      "b'x\\x9c\\xcbH\\xcd\\xc9\\xc9W(\\xcf/\\xcaIQ\\xcc \\x82\\r\\x00\\xbd[\\x11\\xf5'\n",
      "b'hello world!hello world!hello world!hello world!'\n"
     ]
    }
   ],
   "source": [
    "## Sol5\n",
    "import zlib\n",
    "string = 'hello world!hello world!hello world!hello world!'.encode()\n",
    "com = zlib.compress(string)\n",
    "print(com)\n",
    "print(zlib.decompress(com))"
   ]
  },
  {
   "cell_type": "code",
   "execution_count": 18,
   "id": "80a9ac93",
   "metadata": {},
   "outputs": [
    {
     "name": "stdout",
     "output_type": "stream",
     "text": [
      "element 402 is not present in array\n"
     ]
    }
   ],
   "source": [
    "## Sol6\n",
    "def binary_search(arr,x):\n",
    "    '''enter sorted array only element x is to be searched'''\n",
    "    low=0\n",
    "    high=len(arr)-1\n",
    "    mid=0\n",
    "    \n",
    "    while low <= high:\n",
    "        mid = (low+high)//2\n",
    "        \n",
    "        if arr[mid]<x:\n",
    "            low=mid+1\n",
    "            \n",
    "        elif arr[mid]>x:\n",
    "            high=mid-1\n",
    "            \n",
    "        else:\n",
    "            return mid\n",
    "        \n",
    "    return -1\n",
    "#arr=[5,7,21,65,123,222,289,312,375,411,453,489,512,556,603,612,623,630]\n",
    "#x=375\n",
    "result=binary_search(arr,x)\n",
    "\n",
    "if result!=-1:\n",
    "    print('element {} is present in array at {}'.format(x,result))\n",
    "else:\n",
    "    print('element {} is not present in array'.format(x))"
   ]
  },
  {
   "cell_type": "code",
   "execution_count": 17,
   "id": "00c68782",
   "metadata": {},
   "outputs": [],
   "source": [
    "arr=[5,7,21,65,123,222,289,312,375,411,453,489,512,556,603,612,623,630]\n",
    "x=402"
   ]
  },
  {
   "cell_type": "code",
   "execution_count": null,
   "id": "99118e53",
   "metadata": {},
   "outputs": [],
   "source": []
  }
 ],
 "metadata": {
  "kernelspec": {
   "display_name": "Python 3 (ipykernel)",
   "language": "python",
   "name": "python3"
  },
  "language_info": {
   "codemirror_mode": {
    "name": "ipython",
    "version": 3
   },
   "file_extension": ".py",
   "mimetype": "text/x-python",
   "name": "python",
   "nbconvert_exporter": "python",
   "pygments_lexer": "ipython3",
   "version": "3.7.4"
  }
 },
 "nbformat": 4,
 "nbformat_minor": 5
}
