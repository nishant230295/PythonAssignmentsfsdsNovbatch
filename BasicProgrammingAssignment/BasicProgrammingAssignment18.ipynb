{
 "cells": [
  {
   "cell_type": "code",
   "execution_count": 4,
   "id": "471c7cb0",
   "metadata": {},
   "outputs": [
    {
     "name": "stdout",
     "output_type": "stream",
     "text": [
      "filter_list([1, 2, 'a', 'b'])➞ [1, 2]\n"
     ]
    }
   ],
   "source": [
    "## Sol1\n",
    "def filter_list(l):\n",
    "    lmod=[]\n",
    "    for i in l:\n",
    "        if type(i)==int:\n",
    "            lmod.append(i)\n",
    "            \n",
    "    print(f'filter_list({l})➞ {lmod}')\n",
    "    \n",
    "filter_list([1, 2, \"a\", \"b\"])        "
   ]
  },
  {
   "cell_type": "code",
   "execution_count": 5,
   "id": "a0edca66",
   "metadata": {},
   "outputs": [
    {
     "name": "stdout",
     "output_type": "stream",
     "text": [
      "filter_list([1, 'a', 'b', 0, 15])➞ [1, 0, 15]\n"
     ]
    }
   ],
   "source": [
    "filter_list([1, \"a\", \"b\", 0, 15]) "
   ]
  },
  {
   "cell_type": "code",
   "execution_count": 6,
   "id": "4687922e",
   "metadata": {},
   "outputs": [
    {
     "name": "stdout",
     "output_type": "stream",
     "text": [
      "filter_list([1, 2, 'aasf', '1', '123', 123])➞ [1, 2, 123]\n"
     ]
    }
   ],
   "source": [
    "filter_list([1, 2, \"aasf\", \"1\", \"123\", 123]) "
   ]
  },
  {
   "cell_type": "code",
   "execution_count": 8,
   "id": "c7e61249",
   "metadata": {},
   "outputs": [
    {
     "name": "stdout",
     "output_type": "stream",
     "text": [
      "reverse(\"Hello World\")➞ \"DLROw OLLEh\"\n"
     ]
    }
   ],
   "source": [
    "## Sol2\n",
    "def Reverser(st):\n",
    "    revst=''\n",
    "    for i in st:\n",
    "        revst=i+revst\n",
    "    \n",
    "    print(f'reverse(\"{st}\")➞ \"{revst.swapcase()}\"')\n",
    "    \n",
    "Reverser(\"Hello World\")"
   ]
  },
  {
   "cell_type": "code",
   "execution_count": 9,
   "id": "491b0564",
   "metadata": {},
   "outputs": [
    {
     "name": "stdout",
     "output_type": "stream",
     "text": [
      "reverse(\"ReVeRsE\")➞ \"eSrEvEr\"\n"
     ]
    }
   ],
   "source": [
    "Reverser(\"ReVeRsE\")"
   ]
  },
  {
   "cell_type": "code",
   "execution_count": 10,
   "id": "66344836",
   "metadata": {},
   "outputs": [
    {
     "name": "stdout",
     "output_type": "stream",
     "text": [
      "reverse(\"Radar\")➞ \"RADAr\"\n"
     ]
    }
   ],
   "source": [
    "Reverser(\"Radar\") "
   ]
  },
  {
   "cell_type": "code",
   "execution_count": 11,
   "id": "54c486a0",
   "metadata": {},
   "outputs": [
    {
     "name": "stdout",
     "output_type": "stream",
     "text": [
      "(first)➞ 1\n",
      "(middle)➞ [2, 3, 4, 5]\n",
      "(last)➞ 6\n"
     ]
    }
   ],
   "source": [
    "##Sol 3\n",
    "lst = [1, 2, 3, 4, 5, 6]\n",
    "first ,*middle,last = lst\n",
    "print(f'(first)➞ {first}')\n",
    "print(f'(middle)➞ {middle}')\n",
    "print(f'(last)➞ {last}')"
   ]
  },
  {
   "cell_type": "code",
   "execution_count": 12,
   "id": "d9842360",
   "metadata": {},
   "outputs": [
    {
     "name": "stdout",
     "output_type": "stream",
     "text": [
      "factorial(5)➞ 120\n"
     ]
    }
   ],
   "source": [
    "## Sol4\n",
    "def rec_factorial(n):\n",
    "    if n==0:\n",
    "        return 1\n",
    "    else:\n",
    "        return n*rec_factorial(n-1)\n",
    "\n",
    "n=5    \n",
    "b=rec_factorial(n)\n",
    "print(f'factorial({n})➞ {b}')"
   ]
  },
  {
   "cell_type": "code",
   "execution_count": 13,
   "id": "91c6ea8d",
   "metadata": {},
   "outputs": [
    {
     "name": "stdout",
     "output_type": "stream",
     "text": [
      "factorial(3)➞ 6\n"
     ]
    }
   ],
   "source": [
    "n= 3   \n",
    "b=rec_factorial(n)\n",
    "print(f'factorial({n})➞ {b}')"
   ]
  },
  {
   "cell_type": "code",
   "execution_count": 14,
   "id": "3d0a0917",
   "metadata": {},
   "outputs": [
    {
     "name": "stdout",
     "output_type": "stream",
     "text": [
      "factorial(0)➞ 1\n"
     ]
    }
   ],
   "source": [
    "n= 0   \n",
    "b=rec_factorial(n)\n",
    "print(f'factorial({n})➞ {b}')"
   ]
  },
  {
   "cell_type": "code",
   "execution_count": 22,
   "id": "5b4b55af",
   "metadata": {},
   "outputs": [
    {
     "name": "stdout",
     "output_type": "stream",
     "text": [
      "move_to_end([1, 3, 2, 4, 4, 1],1)➞ [3, 2, 4, 4, 1, 1]\n"
     ]
    }
   ],
   "source": [
    "##Sol 5\n",
    "def move_to_end(l,x):\n",
    "    for i in range(len(l)):\n",
    "        if l[i]==x:\n",
    "            l.append(x)\n",
    "            l.remove(l[i])\n",
    "            \n",
    "    return l\n",
    "l=[1, 3, 2, 4, 4, 1]\n",
    "x=1\n",
    "b=move_to_end(l,x) \n",
    "print(f'move_to_end({[1, 3, 2, 4, 4, 1]},{x})➞ {b}')\n",
    "    \n",
    "            "
   ]
  },
  {
   "cell_type": "code",
   "execution_count": 23,
   "id": "2f91fea3",
   "metadata": {},
   "outputs": [
    {
     "name": "stdout",
     "output_type": "stream",
     "text": [
      "move_to_end([7, 8, 9, 1, 2, 3, 4],9)➞ [7, 8, 1, 2, 3, 4, 9]\n"
     ]
    }
   ],
   "source": [
    "l=[7, 8, 9, 1, 2, 3, 4]\n",
    "x=9\n",
    "b=move_to_end(l,x) \n",
    "print(f'move_to_end({[7, 8, 9, 1, 2, 3, 4]},{x})➞ {b}')"
   ]
  },
  {
   "cell_type": "code",
   "execution_count": 24,
   "id": "572e367c",
   "metadata": {},
   "outputs": [
    {
     "name": "stdout",
     "output_type": "stream",
     "text": [
      "move_to_end(['a', 'a', 'a', 'b'],a)➞ ['b', 'a', 'a', 'a']\n"
     ]
    }
   ],
   "source": [
    "l=[\"a\", \"a\", \"a\", \"b\"]\n",
    "x=\"a\"\n",
    "b=move_to_end(l,x) \n",
    "print(f'move_to_end({[\"a\", \"a\", \"a\", \"b\"]},{x})➞ {b}')"
   ]
  },
  {
   "cell_type": "code",
   "execution_count": null,
   "id": "78f1320a",
   "metadata": {},
   "outputs": [],
   "source": []
  }
 ],
 "metadata": {
  "kernelspec": {
   "display_name": "Python 3 (ipykernel)",
   "language": "python",
   "name": "python3"
  },
  "language_info": {
   "codemirror_mode": {
    "name": "ipython",
    "version": 3
   },
   "file_extension": ".py",
   "mimetype": "text/x-python",
   "name": "python",
   "nbconvert_exporter": "python",
   "pygments_lexer": "ipython3",
   "version": "3.7.4"
  }
 },
 "nbformat": 4,
 "nbformat_minor": 5
}
