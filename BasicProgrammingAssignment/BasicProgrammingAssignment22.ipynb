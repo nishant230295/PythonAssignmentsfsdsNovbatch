{
 "cells": [
  {
   "cell_type": "code",
   "execution_count": 3,
   "id": "c945e419",
   "metadata": {},
   "outputs": [
    {
     "name": "stdout",
     "output_type": "stream",
     "text": [
      "list_operation(1,10,3)➞ [3, 6, 9]\n",
      "list_operation(7,9,2)➞ [8]\n",
      "list_operation(15,20,7)➞ []\n"
     ]
    }
   ],
   "source": [
    "##Sol 1\n",
    "def list_operation(a,b,n):\n",
    "    l=[]\n",
    "    for i in range(a,b+1):\n",
    "        if i%n==0:\n",
    "            l.append(i)\n",
    "            \n",
    "    print(f'list_operation({a},{b},{n})➞ {l}')\n",
    "    \n",
    "list_operation(1, 10, 3)\n",
    "list_operation(7, 9, 2) \n",
    "list_operation(15, 20, 7) "
   ]
  },
  {
   "cell_type": "code",
   "execution_count": 7,
   "id": "1c2dc285",
   "metadata": {},
   "outputs": [
    {
     "name": "stdout",
     "output_type": "stream",
     "text": [
      "simon_says([1, 2],[5, 1])➞ True\n",
      "simon_says([1, 2],[5, 5])➞ False\n",
      "simon_says([1, 2, 3, 4, 5],[0, 1, 2, 3, 4])➞ True\n",
      "simon_says([1, 2, 3, 4, 5],[5, 5, 1, 2, 3])➞ False\n"
     ]
    }
   ],
   "source": [
    "## Sol2\n",
    "def simon_says(l1,l2):\n",
    "    a= l1[0:len(l1)-1]==l2[1:len(l2)]\n",
    "    print(f'simon_says({l1},{l2})➞ {a}')\n",
    "simon_says([1, 2], [5, 1])\n",
    "simon_says([1, 2], [5, 5]) \n",
    "simon_says([1, 2, 3, 4, 5], [0, 1, 2, 3, 4]) \n",
    "simon_says([1, 2, 3, 4, 5], [5, 5, 1, 2, 3]) "
   ]
  },
  {
   "cell_type": "code",
   "execution_count": 10,
   "id": "250d131f",
   "metadata": {},
   "outputs": [
    {
     "name": "stdout",
     "output_type": "stream",
     "text": [
      "society_name(['Adam', 'Sarah', 'Malcolm'])➞ \"AMS\"\n",
      "society_name(['Harry', 'Newt', 'Luna', 'Cho'])➞ \"CHLN\"\n",
      "society_name(['Phoebe', 'Chandler', 'Rachel', 'Ross', 'Monica', 'Joey'])➞ \"CJMPRR\"\n"
     ]
    }
   ],
   "source": [
    "## Sol 3\n",
    "def society_name(s1):\n",
    "    sname=''\n",
    "    for i in s1:\n",
    "        sname=sname+i[0]\n",
    "    sname=''.join(sorted(sname))\n",
    "    print(f'society_name({s1})➞ \"{sname}\"')\n",
    "society_name([\"Adam\", \"Sarah\", \"Malcolm\"]) \n",
    "society_name([\"Harry\", \"Newt\", \"Luna\", \"Cho\"]) \n",
    "society_name([\"Phoebe\", \"Chandler\", \"Rachel\", \"Ross\", \"Monica\", \"Joey\"])"
   ]
  },
  {
   "cell_type": "code",
   "execution_count": 17,
   "id": "873cd259",
   "metadata": {},
   "outputs": [
    {
     "name": "stdout",
     "output_type": "stream",
     "text": [
      "Algorism ➞ True\n",
      "PasSword ➞ False\n",
      "Consecutive ➞ False\n"
     ]
    }
   ],
   "source": [
    "##Sol4\n",
    "def is_isogram(in_string):\n",
    "    lower_in_string = in_string.lower()\n",
    "    if len(lower_in_string) == len(set(lower_in_string)):\n",
    "        print(f'{in_string} ➞ {True}')\n",
    "    else:\n",
    "        print(f'{in_string} ➞ {False}')\n",
    "        \n",
    "is_isogram(\"Algorism\")\n",
    "is_isogram(\"PasSword\")\n",
    "is_isogram(\"Consecutive\")"
   ]
  },
  {
   "cell_type": "code",
   "execution_count": 19,
   "id": "58d9f2e4",
   "metadata": {},
   "outputs": [
    {
     "name": "stdout",
     "output_type": "stream",
     "text": [
      "is_in_order\"(abc)\" ➞ True\n",
      "is_in_order\"(edabit)\" ➞ False\n",
      "is_in_order\"(123)\" ➞ True\n",
      "is_in_order\"(xyzz)\" ➞ True\n"
     ]
    }
   ],
   "source": [
    "##Solution 5\n",
    "def is_in_order(st):\n",
    "    a=''.join(sorted(st))\n",
    "    if a==st:\n",
    "        print(f'is_in_order\"({st})\" ➞ {True}')\n",
    "    else:\n",
    "        print(f'is_in_order\"({st})\" ➞ {False}')\n",
    "        \n",
    "is_in_order(\"abc\")        \n",
    "is_in_order(\"edabit\") \n",
    "is_in_order(\"123\") \n",
    "is_in_order(\"xyzz\") "
   ]
  },
  {
   "cell_type": "code",
   "execution_count": null,
   "id": "85e47e83",
   "metadata": {},
   "outputs": [],
   "source": []
  }
 ],
 "metadata": {
  "kernelspec": {
   "display_name": "Python 3 (ipykernel)",
   "language": "python",
   "name": "python3"
  },
  "language_info": {
   "codemirror_mode": {
    "name": "ipython",
    "version": 3
   },
   "file_extension": ".py",
   "mimetype": "text/x-python",
   "name": "python",
   "nbconvert_exporter": "python",
   "pygments_lexer": "ipython3",
   "version": "3.7.4"
  }
 },
 "nbformat": 4,
 "nbformat_minor": 5
}
