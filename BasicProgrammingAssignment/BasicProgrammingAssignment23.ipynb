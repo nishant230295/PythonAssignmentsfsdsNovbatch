{
 "cells": [
  {
   "cell_type": "code",
   "execution_count": 3,
   "id": "99da30f7",
   "metadata": {},
   "outputs": [
    {
     "name": "stdout",
     "output_type": "stream",
     "text": [
      "is_symmetrical(7227) ➞ True\n",
      "is_symmetrical(12567) ➞ False\n",
      "is_symmetrical(44444444) ➞ True\n",
      "is_symmetrical(9939) ➞ False\n",
      "is_symmetrical(1112111) ➞ True\n"
     ]
    }
   ],
   "source": [
    "##Sol 1\n",
    "def is_symmetrical(n):\n",
    "    if str(n) == str(n)[::-1]:\n",
    "        print(f'is_symmetrical({n}) ➞ {True}')\n",
    "    else:\n",
    "        print(f'is_symmetrical({n}) ➞ {False}')\n",
    "        \n",
    "is_symmetrical(7227)\n",
    "is_symmetrical(12567)\n",
    "is_symmetrical(44444444)\n",
    "is_symmetrical(9939)\n",
    "is_symmetrical(1112111)"
   ]
  },
  {
   "cell_type": "code",
   "execution_count": 9,
   "id": "63b05317",
   "metadata": {},
   "outputs": [
    {
     "name": "stdout",
     "output_type": "stream",
     "text": [
      "multiply_nums(\"['2', '3']\") ➞ 6\n",
      "multiply_nums(\"['1', '2', '3', '4']\") ➞ 24\n",
      "multiply_nums(\"['54', '75', '453', '0']\") ➞ 0\n",
      "multiply_nums(\"['10', '-2']\") ➞ -20\n"
     ]
    }
   ],
   "source": [
    "##Sol 2\n",
    "def multiply_nums(st):\n",
    "    pr=1\n",
    "    st = st.replace(' ','').split(',')\n",
    "    for i in st:\n",
    "        pr=pr*int(i)\n",
    "        \n",
    "    print(f'multiply_nums(\"{st}\") ➞ {pr}')\n",
    "    \n",
    "multiply_nums(\"2, 3\") \n",
    "\n",
    "multiply_nums(\"1, 2, 3, 4\") \n",
    "\n",
    "multiply_nums(\"54, 75, 453, 0\") \n",
    "\n",
    "multiply_nums(\"10, -2\") \n"
   ]
  },
  {
   "cell_type": "code",
   "execution_count": 7,
   "id": "36845cf9",
   "metadata": {},
   "outputs": [
    {
     "name": "stdout",
     "output_type": "stream",
     "text": [
      "square_digits(9119) ➞ 811181\n",
      "square_digits(2483) ➞ 416649\n",
      "square_digits(3212) ➞ 9414\n"
     ]
    }
   ],
   "source": [
    "##Sol 3\n",
    "def square_digits(in_num):\n",
    "    in_list = [str(int(ele)**2) for ele in str(in_num)]\n",
    "    out_list = ''.join(in_list)\n",
    "    print(f'square_digits({in_num}) ➞ {int(out_list)}')\n",
    "\n",
    "square_digits(9119)\n",
    "square_digits(2483)\n",
    "square_digits(3212) "
   ]
  },
  {
   "cell_type": "code",
   "execution_count": 8,
   "id": "fd807a93",
   "metadata": {},
   "outputs": [
    {
     "name": "stdout",
     "output_type": "stream",
     "text": [
      "setify([1, 3, 3, 5, 5]) ➞ [1, 3, 5]\n",
      "setify([4, 4, 4, 4]) ➞ [4]\n",
      "setify([5, 7, 8, 9, 10, 15]) ➞ [5, 7, 8, 9, 10, 15]\n",
      "setify([3, 3, 3, 2, 1]) ➞ [1, 2, 3]\n"
     ]
    }
   ],
   "source": [
    "##Sol 4\n",
    "def setify(in_list):\n",
    "    out_list = sorted(set(in_list))\n",
    "    print(f'setify({in_list}) ➞ {(out_list)}')\n",
    "    \n",
    "setify([1, 3, 3, 5, 5]) \n",
    "setify([4, 4, 4, 4])\n",
    "setify([5, 7, 8, 9, 10, 15])\n",
    "setify([3, 3, 3, 2, 1])"
   ]
  },
  {
   "cell_type": "code",
   "execution_count": 10,
   "id": "ef38352d",
   "metadata": {},
   "outputs": [
    {
     "name": "stdout",
     "output_type": "stream",
     "text": [
      "Mean(42)  ➞ 3\n",
      "Mean(12345)  ➞ 3\n",
      "Mean(666)  ➞ 6\n"
     ]
    }
   ],
   "source": [
    "##Sol 5 \n",
    "def mean(in_num):\n",
    "    in_list = [int(ele) for ele in str(in_num)]\n",
    "    out_num = sum(in_list)/len(str(in_num))\n",
    "    print(f'Mean({in_num})  ➞ {out_num:.0f}')\n",
    "    \n",
    "mean(42)\n",
    "mean(12345)\n",
    "mean(666)\n"
   ]
  },
  {
   "cell_type": "code",
   "execution_count": null,
   "id": "eb798757",
   "metadata": {},
   "outputs": [],
   "source": []
  }
 ],
 "metadata": {
  "kernelspec": {
   "display_name": "Python 3 (ipykernel)",
   "language": "python",
   "name": "python3"
  },
  "language_info": {
   "codemirror_mode": {
    "name": "ipython",
    "version": 3
   },
   "file_extension": ".py",
   "mimetype": "text/x-python",
   "name": "python",
   "nbconvert_exporter": "python",
   "pygments_lexer": "ipython3",
   "version": "3.7.4"
  }
 },
 "nbformat": 4,
 "nbformat_minor": 5
}
