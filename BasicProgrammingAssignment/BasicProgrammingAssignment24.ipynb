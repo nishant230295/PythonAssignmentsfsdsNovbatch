{
 "cells": [
  {
   "cell_type": "code",
   "execution_count": 1,
   "id": "af6ab22a",
   "metadata": {},
   "outputs": [
    {
     "name": "stdout",
     "output_type": "stream",
     "text": [
      "amplify(4) ➞ [1, 2, 3, 40]\n",
      "amplify(3) ➞ [1, 2, 3]\n",
      "amplify(25) ➞ [1, 2, 3, 40, 5, 6, 7, 80, 9, 10, 11, 120, 13, 14, 15, 160, 17, 18, 19, 200, 21, 22, 23, 240, 25]\n"
     ]
    }
   ],
   "source": [
    "##Sol 1\n",
    "def amplify(n):\n",
    "    l=[10*i if i%4==0 else i for i in range(1,n+1)]\n",
    "    print(f'amplify({n}) ➞ {l}')\n",
    "    \n",
    "amplify(4)\n",
    "amplify(3)\n",
    "amplify(25)"
   ]
  },
  {
   "cell_type": "code",
   "execution_count": 3,
   "id": "8ea0a3ef",
   "metadata": {},
   "outputs": [
    {
     "name": "stdout",
     "output_type": "stream",
     "text": [
      "unique([3, 3, 3, 7, 3, 3]) ➞ 7\n",
      "unique([0, 0, 0.77, 0, 0]) ➞ 0.77\n",
      "unique([0, 1, 1, 1, 1, 1, 1, 1]) ➞ 0\n"
     ]
    }
   ],
   "source": [
    "##Sol 2\n",
    "def unique(l):\n",
    "    for el in set(l):\n",
    "        if l.count(el)==1:\n",
    "            out=el\n",
    "            \n",
    "    print(f'unique({l}) ➞ {out}') \n",
    "    \n",
    "unique([3, 3, 3, 7, 3, 3])\n",
    "unique([0, 0, 0.77, 0, 0])\n",
    "unique([0, 1, 1, 1, 1, 1, 1, 1]) \n"
   ]
  },
  {
   "cell_type": "code",
   "execution_count": 6,
   "id": "bed4b5ff",
   "metadata": {},
   "outputs": [
    {
     "data": {
      "text/plain": [
       "380.1327110843649"
      ]
     },
     "execution_count": 6,
     "metadata": {},
     "output_type": "execute_result"
    }
   ],
   "source": [
    "##Sol 3\n",
    "from math import pi\n",
    "class Circle:\n",
    "    def __init__(self,r):\n",
    "        self.r=r\n",
    "        \n",
    "    def getArea(self):\n",
    "        return pi*self.r*self.r\n",
    "    \n",
    "    def getPerimeter(self):\n",
    "        return 2*pi*self.r\n",
    "    \n",
    "circy=Circle(11)\n",
    "circy.getArea()"
   ]
  },
  {
   "cell_type": "code",
   "execution_count": 7,
   "id": "fd678f7c",
   "metadata": {},
   "outputs": [
    {
     "data": {
      "text/plain": [
       "27.897342763877365"
      ]
     },
     "execution_count": 7,
     "metadata": {},
     "output_type": "execute_result"
    }
   ],
   "source": [
    "circy = Circle(4.44)\n",
    "circy.getPerimeter()"
   ]
  },
  {
   "cell_type": "code",
   "execution_count": 9,
   "id": "160eb079",
   "metadata": {},
   "outputs": [
    {
     "name": "stdout",
     "output_type": "stream",
     "text": [
      "sort_by_length(['Google', 'Apple', 'Microsoft']) ➞ ['Apple', 'Google', 'Microsoft']\n",
      "sort_by_length(['Leonardo', 'Michelangelo', 'Raphael', 'Donatello']) ➞ ['Raphael', 'Leonardo', 'Donatello', 'Michelangelo']\n",
      "sort_by_length(['Turing', 'Einstein', 'Jung']) ➞ ['Jung', 'Turing', 'Einstein']\n"
     ]
    }
   ],
   "source": [
    "##Sol 4\n",
    "def sort_by_length(lt):\n",
    "    print(f'sort_by_length({lt}) ➞ {sorted(lt,key=len)}')\n",
    "\n",
    "sort_by_length([\"Google\", \"Apple\", \"Microsoft\"])\n",
    "sort_by_length([\"Leonardo\", \"Michelangelo\", \"Raphael\", \"Donatello\"])\n",
    "sort_by_length([\"Turing\", \"Einstein\", \"Jung\"])"
   ]
  },
  {
   "cell_type": "code",
   "execution_count": 12,
   "id": "57085656",
   "metadata": {},
   "outputs": [
    {
     "name": "stdout",
     "output_type": "stream",
     "text": [
      "is_triplet(3,4,5) ➞ True\n",
      "is_triplet(5,12,13) ➞ True\n",
      "is_triplet(1,2,3) ➞ False\n"
     ]
    }
   ],
   "source": [
    "##Sol 5\n",
    "def is_triplet(*args):\n",
    "    l = []\n",
    "    l.extend((args))\n",
    "    l = sorted(l)\n",
    "    if l[0]**2 + l[1]**2 == l[2]**2:\n",
    "        print(f'is_triplet({l[0]},{l[1]},{l[2]}) ➞ {True}')\n",
    "    else:\n",
    "        print(f'is_triplet({l[0]},{l[1]},{l[2]}) ➞ {False}')\n",
    "is_triplet(3, 4, 5) \n",
    "is_triplet(13, 5, 12) \n",
    "is_triplet(1, 2, 3) "
   ]
  },
  {
   "cell_type": "code",
   "execution_count": null,
   "id": "e5874527",
   "metadata": {},
   "outputs": [],
   "source": []
  }
 ],
 "metadata": {
  "kernelspec": {
   "display_name": "Python 3 (ipykernel)",
   "language": "python",
   "name": "python3"
  },
  "language_info": {
   "codemirror_mode": {
    "name": "ipython",
    "version": 3
   },
   "file_extension": ".py",
   "mimetype": "text/x-python",
   "name": "python",
   "nbconvert_exporter": "python",
   "pygments_lexer": "ipython3",
   "version": "3.7.4"
  }
 },
 "nbformat": 4,
 "nbformat_minor": 5
}
