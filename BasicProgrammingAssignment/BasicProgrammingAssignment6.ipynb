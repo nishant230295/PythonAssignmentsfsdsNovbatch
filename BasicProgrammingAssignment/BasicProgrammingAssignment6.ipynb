{
 "cells": [
  {
   "cell_type": "code",
   "execution_count": 5,
   "id": "1dbc57e8",
   "metadata": {},
   "outputs": [
    {
     "name": "stdout",
     "output_type": "stream",
     "text": [
      "Fibonacci series\n",
      "0\n",
      "1\n",
      "1\n",
      "2\n",
      "3\n",
      "5\n",
      "8\n",
      "13\n",
      "21\n",
      "34\n"
     ]
    }
   ],
   "source": [
    "## Sol 1\n",
    "def recur_fibonacci(n):\n",
    "    if n<=1:\n",
    "        return n\n",
    "    else:\n",
    "        return recur_fibonacci(n-1)+recur_fibonacci(n-2)\n",
    "\n",
    "n=10\n",
    "\n",
    "if n<=0:\n",
    "    print('Enter valid terms')\n",
    "else:\n",
    "    print('Fibonacci series')\n",
    "    \n",
    "    for i in range(n):\n",
    "        print(recur_fibonacci(i))"
   ]
  },
  {
   "cell_type": "code",
   "execution_count": 7,
   "id": "97031c67",
   "metadata": {},
   "outputs": [
    {
     "data": {
      "text/plain": [
       "24"
      ]
     },
     "execution_count": 7,
     "metadata": {},
     "output_type": "execute_result"
    }
   ],
   "source": [
    "## Sol 2\n",
    "def rec_factorial(n):\n",
    "    if n==0:\n",
    "        return 1\n",
    "    else:\n",
    "        return n*rec_factorial(n-1)\n",
    "\n",
    "factorial(4)"
   ]
  },
  {
   "cell_type": "code",
   "execution_count": 9,
   "id": "4d48b4b7",
   "metadata": {},
   "outputs": [
    {
     "name": "stdout",
     "output_type": "stream",
     "text": [
      "Enter the weight in kg: 70\n",
      "Enter the height in m: 1.64\n",
      "you are overweight with bmi  26.026174895895306\n"
     ]
    }
   ],
   "source": [
    "## Sol 3\n",
    "wt=int(input('Enter the weight in kg: '))\n",
    "ht=float(input('Enter the height in m: '))\n",
    "\n",
    "bmi = wt/(ht**2)\n",
    "\n",
    "if bmi<18.5:\n",
    "    print('you are underweight with bmi ',bmi)\n",
    "elif bmi>25:\n",
    "    print('you are overweight with bmi ',bmi)\n",
    "else:\n",
    "    print('you are fit with bmi ',bmi)\n",
    "\n"
   ]
  },
  {
   "cell_type": "code",
   "execution_count": 11,
   "id": "c60b2ac7",
   "metadata": {},
   "outputs": [
    {
     "name": "stdout",
     "output_type": "stream",
     "text": [
      "enter the number 3\n",
      "1.0986122886681098\n"
     ]
    }
   ],
   "source": [
    "## Sol 4\n",
    "import math\n",
    "n=float(input('enter the number '))\n",
    "print(math.log(n))"
   ]
  },
  {
   "cell_type": "code",
   "execution_count": 14,
   "id": "1013f65d",
   "metadata": {},
   "outputs": [
    {
     "name": "stdout",
     "output_type": "stream",
     "text": [
      "enter the number upto which sum is required 46\n",
      "sum of cube of 46 natural numbers is 1168561\n"
     ]
    }
   ],
   "source": [
    "## Sol 5\n",
    "n=int(input('enter the number upto which sum is required '))\n",
    "sum=0\n",
    "for i in range(1,n+1):\n",
    "    sum=sum+i**3\n",
    "\n",
    "print('sum of cube of {} natural numbers is {}'.format(n,sum))"
   ]
  },
  {
   "cell_type": "code",
   "execution_count": null,
   "id": "d8cbbe8f",
   "metadata": {},
   "outputs": [],
   "source": []
  }
 ],
 "metadata": {
  "kernelspec": {
   "display_name": "Python 3 (ipykernel)",
   "language": "python",
   "name": "python3"
  },
  "language_info": {
   "codemirror_mode": {
    "name": "ipython",
    "version": 3
   },
   "file_extension": ".py",
   "mimetype": "text/x-python",
   "name": "python",
   "nbconvert_exporter": "python",
   "pygments_lexer": "ipython3",
   "version": "3.7.4"
  }
 },
 "nbformat": 4,
 "nbformat_minor": 5
}
