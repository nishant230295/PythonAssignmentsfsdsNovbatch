{
 "cells": [
  {
   "cell_type": "code",
   "execution_count": 2,
   "id": "91fa28a6",
   "metadata": {},
   "outputs": [
    {
     "name": "stdout",
     "output_type": "stream",
     "text": [
      "equal(3, 4, 3) ➞ 0\n",
      "equal(1, 1, 1) ➞ 3\n",
      "equal(3, 4, 1) ➞ 0\n"
     ]
    }
   ],
   "source": [
    "##Sol1\n",
    "def equal(a,b,c):\n",
    "    if a==b==c:\n",
    "        print(f'equal{a,b,c} ➞ {3}')\n",
    "    elif a==b or b==c:\n",
    "        print(f'equal{a,b,c} ➞ {2}')\n",
    "    else:\n",
    "        print(f'equal{a,b,c} ➞ {0}')\n",
    "\n",
    "equal(3, 4, 3) \n",
    "equal(1, 1, 1) \n",
    "equal(3, 4, 1)  \n"
   ]
  },
  {
   "cell_type": "code",
   "execution_count": 6,
   "id": "3ef9c850",
   "metadata": {},
   "outputs": [
    {
     "name": "stdout",
     "output_type": "stream",
     "text": [
      "dict_to_list{'D': 1, 'B': 2, 'C': 3} ➞ [('D', 1), ('B', 2), ('C', 3)]\n",
      "dict_to_list{'likes': 2, 'dislikes': 3, 'followers': 10} ➞ [('likes', 2), ('dislikes', 3), ('followers', 10)]\n"
     ]
    }
   ],
   "source": [
    "##Sol 2\n",
    "def dict_to_list(d1):\n",
    "    l=[]\n",
    "    for i in d1.items():\n",
    "        l.append(i)\n",
    "    print(f'dict_to_list{d1} ➞ {l}')    \n",
    "    \n",
    "\n",
    "dict_to_list({ \"D\": 1,\"B\": 2,\"C\": 3}) \n",
    "dict_to_list({\"likes\": 2,\"dislikes\": 3,\"followers\": 10}) "
   ]
  },
  {
   "cell_type": "code",
   "execution_count": 7,
   "id": "5a93be2a",
   "metadata": {},
   "outputs": [
    {
     "name": "stdout",
     "output_type": "stream",
     "text": [
      "mapping['p', 's'] ➞ {'p': 'P', 's': 'S'}\n"
     ]
    }
   ],
   "source": [
    "##Sol 3\n",
    "def mapping(l):\n",
    "    d={}\n",
    "    for i in l:\n",
    "        d[i]=i.upper()\n",
    "    \n",
    "    print(f'mapping{l} ➞ {d}')   \n",
    "    \n",
    "mapping([\"p\", \"s\"]) "
   ]
  },
  {
   "cell_type": "code",
   "execution_count": 9,
   "id": "0275802d",
   "metadata": {},
   "outputs": [
    {
     "name": "stdout",
     "output_type": "stream",
     "text": [
      "mapping['a', 'b', 'c'] ➞ {'a': 'A', 'b': 'B', 'c': 'C'}\n"
     ]
    }
   ],
   "source": [
    "mapping([\"a\", \"b\", \"c\"])"
   ]
  },
  {
   "cell_type": "code",
   "execution_count": 10,
   "id": "e290a6ca",
   "metadata": {},
   "outputs": [
    {
     "name": "stdout",
     "output_type": "stream",
     "text": [
      "mapping['a', 'v', 'y', 'z'] ➞ {'a': 'A', 'v': 'V', 'y': 'Y', 'z': 'Z'}\n"
     ]
    }
   ],
   "source": [
    "mapping([\"a\", \"v\", \"y\", \"z\"]) "
   ]
  },
  {
   "cell_type": "code",
   "execution_count": 15,
   "id": "3f8bf800",
   "metadata": {},
   "outputs": [
    {
     "name": "stdout",
     "output_type": "stream",
     "text": [
      "vow_replace(\"apples and bananas\",\"u\") ➞ \"upplus und bununus\"\n",
      "vow_replace(\"cheese casserole\",\"o\") ➞ \"chooso cossorolo\"\n",
      "vow_replace(\"stuffed jalapeno poppers\",\"e\") ➞ \"steffed jelepene peppers\"\n"
     ]
    }
   ],
   "source": [
    "##Sol 4\n",
    "def vow_replace(in_string,vow_char):\n",
    "    vowels = ['a','e','i','o','u']\n",
    "    out_string = ''\n",
    "    for ele in in_string:\n",
    "        if ele in vowels:\n",
    "            out_string += vow_char\n",
    "        else:\n",
    "            out_string += ele\n",
    "    print(f'vow_replace(\"{in_string}\",\"{vow_char}\") ➞ \"{out_string}\"')\n",
    "    \n",
    "vow_replace(\"apples and bananas\", \"u\") \n",
    "vow_replace(\"cheese casserole\", \"o\") \n",
    "vow_replace(\"stuffed jalapeno poppers\", \"e\") "
   ]
  },
  {
   "cell_type": "code",
   "execution_count": 21,
   "id": "a18b4892",
   "metadata": {},
   "outputs": [
    {
     "name": "stdout",
     "output_type": "stream",
     "text": [
      "ascii_capitalize(\"to be or not to be!\") ➞ \"To Be oR NoT To Be!\"\n",
      "ascii_capitalize(\"THE LITTLE MERMAID\") ➞ \"THe LiTTLe meRmaiD\"\n",
      "ascii_capitalize(\"Oh what a beautiful morning.\") ➞ \"oH wHaT a BeauTiFuL moRNiNg.\"\n"
     ]
    }
   ],
   "source": [
    "##Sol 5\n",
    "def ascii_capitalize(st):\n",
    "    outst=''\n",
    "    for i in st.lower():\n",
    "        if ord(i)%2==0:\n",
    "            outst=outst+i.upper()\n",
    "        else:\n",
    "            outst=outst+i\n",
    "    print(f'ascii_capitalize(\"{st}\") ➞ \"{outst}\"') \n",
    "    \n",
    "ascii_capitalize(\"to be or not to be!\") \n",
    "ascii_capitalize(\"THE LITTLE MERMAID\") \n",
    "ascii_capitalize(\"Oh what a beautiful morning.\") "
   ]
  },
  {
   "cell_type": "code",
   "execution_count": null,
   "id": "03c4f7f3",
   "metadata": {},
   "outputs": [],
   "source": []
  }
 ],
 "metadata": {
  "kernelspec": {
   "display_name": "Python 3 (ipykernel)",
   "language": "python",
   "name": "python3"
  },
  "language_info": {
   "codemirror_mode": {
    "name": "ipython",
    "version": 3
   },
   "file_extension": ".py",
   "mimetype": "text/x-python",
   "name": "python",
   "nbconvert_exporter": "python",
   "pygments_lexer": "ipython3",
   "version": "3.7.4"
  }
 },
 "nbformat": 4,
 "nbformat_minor": 5
}
