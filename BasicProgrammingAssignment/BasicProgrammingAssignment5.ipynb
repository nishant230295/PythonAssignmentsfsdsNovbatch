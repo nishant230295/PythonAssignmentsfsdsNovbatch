{
 "cells": [
  {
   "cell_type": "code",
   "execution_count": 3,
   "id": "ad0e9424",
   "metadata": {},
   "outputs": [
    {
     "name": "stdout",
     "output_type": "stream",
     "text": [
      "Enter the first number107\n",
      "Enter the second number101\n",
      "lcm of 107 and 101 is 10807\n"
     ]
    }
   ],
   "source": [
    "## Sol 1\n",
    "a=int(input('Enter the first number'))\n",
    "b=int(input('Enter the second number'))\n",
    "\n",
    "def lcm(a,b):\n",
    "    if a>b:\n",
    "        max=a\n",
    "    else:\n",
    "        max=b\n",
    "    \n",
    "    while True:\n",
    "        if max%a==0 and max%b==0:\n",
    "            print('lcm of {} and {} is {}'.format(a,b,max))\n",
    "            break\n",
    "        else:\n",
    "            max+=1\n",
    "            \n",
    "lcm(a,b)"
   ]
  },
  {
   "cell_type": "code",
   "execution_count": 6,
   "id": "483e9def",
   "metadata": {},
   "outputs": [
    {
     "name": "stdout",
     "output_type": "stream",
     "text": [
      "Enter the first number10\n",
      "Enter the second number8\n",
      "hcf of 10 and 8 is 2\n"
     ]
    }
   ],
   "source": [
    "## Sol 2\n",
    "a=int(input('Enter the first number'))\n",
    "b=int(input('Enter the second number'))\n",
    "\n",
    "def hcf(a,b):\n",
    "    HCF=1\n",
    "    \n",
    "    for i in range(2,a+1):\n",
    "        if(a%i==0 and b%i==0):\n",
    "            HCF = i\n",
    "    \n",
    "    print('hcf of {} and {} is {}'.format(a,b,HCF))\n",
    "          \n",
    "          \n",
    "hcf(a,b)"
   ]
  },
  {
   "cell_type": "code",
   "execution_count": 7,
   "id": "7270ba72",
   "metadata": {},
   "outputs": [
    {
     "name": "stdout",
     "output_type": "stream",
     "text": [
      "Enter Decimal Number: 75\n",
      "Decimal to Binary:  0b1001011\n",
      "Decimal to Octal:  0o113\n",
      "Decimal to Hexadecimal:  0x4b\n"
     ]
    }
   ],
   "source": [
    "## Sol 3\n",
    "num = int(input(\"Enter Decimal Number: \"))\n",
    "print(\"Decimal to Binary: \",bin(num))\n",
    "print(\"Decimal to Octal: \",oct(num))\n",
    "print(\"Decimal to Hexadecimal: \",hex(num))"
   ]
  },
  {
   "cell_type": "code",
   "execution_count": 9,
   "id": "da63271a",
   "metadata": {},
   "outputs": [
    {
     "data": {
      "text/plain": [
       "110"
      ]
     },
     "execution_count": 9,
     "metadata": {},
     "output_type": "execute_result"
    }
   ],
   "source": [
    "## Sol 4\n",
    "def ascii_value(character):\n",
    "    return ord(character)\n",
    "\n",
    "ascii_value('n')"
   ]
  },
  {
   "cell_type": "code",
   "execution_count": 13,
   "id": "3256a081",
   "metadata": {},
   "outputs": [
    {
     "name": "stdout",
     "output_type": "stream",
     "text": [
      "Enter the first number20\n",
      "Enter the second number10\n",
      "Enter a valid operation add/sub/mult/divdiv\n",
      "div of 20 and 10 is 2.0\n"
     ]
    }
   ],
   "source": [
    "## Sol 5\n",
    "\n",
    "try:\n",
    "    a=int(input('Enter the first number'))\n",
    "    b=int(input('Enter the second number'))\n",
    "    oper=input('Enter a valid operation add/sub/mult/div')\n",
    "    \n",
    "    if oper=='add':\n",
    "        res=a+b\n",
    "        print('addition of {} and {} is {}'.format(a,b,res))\n",
    "    elif oper=='sub':\n",
    "        res=a-b\n",
    "        print('subtraction of {} and {} is {}'.format(a,b,res))\n",
    "    elif oper=='mult':\n",
    "        res=a*b\n",
    "        print('multipication of {} and {} is {}'.format(a,b,res))\n",
    "    elif oper=='div':\n",
    "        res=a/b\n",
    "        print('div of {} and {} is {}'.format(a,b,res))\n",
    "    else:\n",
    "        print('Enter valid operation')\n",
    "        \n",
    "except Exception as e:\n",
    "    print('error',e)"
   ]
  },
  {
   "cell_type": "code",
   "execution_count": 14,
   "id": "6852f878",
   "metadata": {},
   "outputs": [
    {
     "name": "stdout",
     "output_type": "stream",
     "text": [
      "Enter the first number20\n",
      "Enter the second number0\n",
      "Enter a valid operation add/sub/mult/divdiv\n",
      "error division by zero\n"
     ]
    }
   ],
   "source": [
    "try:\n",
    "    a=int(input('Enter the first number'))\n",
    "    b=int(input('Enter the second number'))\n",
    "    oper=input('Enter a valid operation add/sub/mult/div')\n",
    "    \n",
    "    if oper=='add':\n",
    "        res=a+b\n",
    "        print('addition of {} and {} is {}'.format(a,b,res))\n",
    "    elif oper=='sub':\n",
    "        res=a-b\n",
    "        print('subtraction of {} and {} is {}'.format(a,b,res))\n",
    "    elif oper=='mult':\n",
    "        res=a*b\n",
    "        print('multipication of {} and {} is {}'.format(a,b,res))\n",
    "    elif oper=='div':\n",
    "        res=a/b\n",
    "        print('div of {} and {} is {}'.format(a,b,res))\n",
    "    else:\n",
    "        print('Enter valid operation')\n",
    "        \n",
    "except Exception as e:\n",
    "    print('error',e)"
   ]
  },
  {
   "cell_type": "code",
   "execution_count": 15,
   "id": "dc578722",
   "metadata": {},
   "outputs": [
    {
     "name": "stdout",
     "output_type": "stream",
     "text": [
      "Enter the first number20\n",
      "Enter the second numberint\n",
      "error invalid literal for int() with base 10: 'int'\n"
     ]
    }
   ],
   "source": [
    "try:\n",
    "    a=int(input('Enter the first number'))\n",
    "    b=int(input('Enter the second number'))\n",
    "    oper=input('Enter a valid operation add/sub/mult/div')\n",
    "    \n",
    "    if oper=='add':\n",
    "        res=a+b\n",
    "        print('addition of {} and {} is {}'.format(a,b,res))\n",
    "    elif oper=='sub':\n",
    "        res=a-b\n",
    "        print('subtraction of {} and {} is {}'.format(a,b,res))\n",
    "    elif oper=='mult':\n",
    "        res=a*b\n",
    "        print('multipication of {} and {} is {}'.format(a,b,res))\n",
    "    elif oper=='div':\n",
    "        res=a/b\n",
    "        print('div of {} and {} is {}'.format(a,b,res))\n",
    "    else:\n",
    "        print('Enter valid operation')\n",
    "        \n",
    "except Exception as e:\n",
    "    print('error',e)"
   ]
  },
  {
   "cell_type": "code",
   "execution_count": null,
   "id": "b87a6358",
   "metadata": {},
   "outputs": [],
   "source": []
  }
 ],
 "metadata": {
  "kernelspec": {
   "display_name": "Python 3 (ipykernel)",
   "language": "python",
   "name": "python3"
  },
  "language_info": {
   "codemirror_mode": {
    "name": "ipython",
    "version": 3
   },
   "file_extension": ".py",
   "mimetype": "text/x-python",
   "name": "python",
   "nbconvert_exporter": "python",
   "pygments_lexer": "ipython3",
   "version": "3.7.4"
  }
 },
 "nbformat": 4,
 "nbformat_minor": 5
}
