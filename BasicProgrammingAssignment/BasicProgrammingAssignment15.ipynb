{
 "cells": [
  {
   "cell_type": "code",
   "execution_count": 2,
   "id": "9f05f285",
   "metadata": {},
   "outputs": [
    {
     "name": "stdout",
     "output_type": "stream",
     "text": [
      "enter the number100\n",
      "0,35,70\n"
     ]
    }
   ],
   "source": [
    "## Sol1\n",
    "def gen(n):\n",
    "    for i in range(n):\n",
    "        if i%35==0 :\n",
    "            yield i\n",
    "            \n",
    "n=int(input('enter the number'))\n",
    "l=[]\n",
    "for k in gen(n):\n",
    "    l.append(str(k))\n",
    "    \n",
    "print(','.join(l))"
   ]
  },
  {
   "cell_type": "code",
   "execution_count": 3,
   "id": "4a23df70",
   "metadata": {},
   "outputs": [
    {
     "name": "stdout",
     "output_type": "stream",
     "text": [
      "enter the number10\n",
      "0,2,4,6,8\n"
     ]
    }
   ],
   "source": [
    "## Sol 2\n",
    "def gen(n):\n",
    "    for i in range(n):\n",
    "        if i%2==0 :\n",
    "            yield i\n",
    "            \n",
    "n=int(input('enter the number'))\n",
    "l=[]\n",
    "for k in gen(n):\n",
    "    l.append(str(k))\n",
    "    \n",
    "print(','.join(l))"
   ]
  },
  {
   "cell_type": "code",
   "execution_count": 6,
   "id": "389c5aa8",
   "metadata": {},
   "outputs": [
    {
     "name": "stdout",
     "output_type": "stream",
     "text": [
      "enter the value7\n",
      "0,1,1,2,3,5,8\n"
     ]
    }
   ],
   "source": [
    "## Sol 3\n",
    "def fib_gen(num):\n",
    "    if num==0:\n",
    "        return 0\n",
    "    elif num==1:\n",
    "        return 1\n",
    "    else:\n",
    "        return fib_gen(num-1)+fib_gen(num-2)\n",
    "n=int(input('enter the value'))    \n",
    "l1=[str(fib_gen(x)) for x in range(n)]\n",
    "\n",
    "print(','.join(l1))"
   ]
  },
  {
   "cell_type": "code",
   "execution_count": 7,
   "id": "ee7c0493",
   "metadata": {},
   "outputs": [
    {
     "name": "stdout",
     "output_type": "stream",
     "text": [
      "Enter the emailaddressjohn@google.com\n",
      "john\n"
     ]
    }
   ],
   "source": [
    "## Sol4\n",
    "ab=input('Enter the emailaddress')\n",
    "l3=[]\n",
    "for i in ab:\n",
    "    if i=='@':\n",
    "        break\n",
    "    else:\n",
    "        l3.append(i)\n",
    "        \n",
    "print(''.join(l3))"
   ]
  },
  {
   "cell_type": "code",
   "execution_count": 8,
   "id": "e3e02cc4",
   "metadata": {},
   "outputs": [
    {
     "data": {
      "text/plain": [
       "2500"
      ]
     },
     "execution_count": 8,
     "metadata": {},
     "output_type": "execute_result"
    }
   ],
   "source": [
    "## Sol5\n",
    "class shape:    \n",
    "    def area(self):\n",
    "        return 0\n",
    "        \n",
    "class square(shape):\n",
    "    def __init__(self,length):\n",
    "        self.length=length\n",
    "        \n",
    "    def area(self):\n",
    "        return self.length*self.length\n",
    "    \n",
    "sq=square(50)\n",
    "sq.area()"
   ]
  },
  {
   "cell_type": "code",
   "execution_count": null,
   "id": "95c9f291",
   "metadata": {},
   "outputs": [],
   "source": []
  }
 ],
 "metadata": {
  "kernelspec": {
   "display_name": "Python 3 (ipykernel)",
   "language": "python",
   "name": "python3"
  },
  "language_info": {
   "codemirror_mode": {
    "name": "ipython",
    "version": 3
   },
   "file_extension": ".py",
   "mimetype": "text/x-python",
   "name": "python",
   "nbconvert_exporter": "python",
   "pygments_lexer": "ipython3",
   "version": "3.7.4"
  }
 },
 "nbformat": 4,
 "nbformat_minor": 5
}
