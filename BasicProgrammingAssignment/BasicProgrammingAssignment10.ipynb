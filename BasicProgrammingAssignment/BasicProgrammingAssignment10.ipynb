{
 "cells": [
  {
   "cell_type": "code",
   "execution_count": 1,
   "id": "5679e4e0",
   "metadata": {},
   "outputs": [
    {
     "name": "stdout",
     "output_type": "stream",
     "text": [
      "49.0\n"
     ]
    }
   ],
   "source": [
    "## Sol 1\n",
    "L1=[3,'go',36.0,True,[7,3,'st']]\n",
    "sum=0\n",
    "for i in L1:\n",
    "    if type(i) in [int,float]:\n",
    "        sum=sum + i\n",
    "    elif type(i) in [list,tuple]:\n",
    "        for j in i:\n",
    "            if type(j) in [int,float]:\n",
    "                sum=sum+j\n",
    "    else:\n",
    "        sum=sum\n",
    "\n",
    "print(sum)"
   ]
  },
  {
   "cell_type": "code",
   "execution_count": 3,
   "id": "98fefb68",
   "metadata": {},
   "outputs": [
    {
     "name": "stdout",
     "output_type": "stream",
     "text": [
      "2268.0\n"
     ]
    }
   ],
   "source": [
    "## Sol 2\n",
    "L1=[3,'go',36.0,True,[7,3,'st']]\n",
    "mul=1\n",
    "for i in L1:\n",
    "    if type(i) in [int,float]:\n",
    "        mul=mul*i\n",
    "    elif type(i) in [list,tuple]:\n",
    "        for j in i:\n",
    "            if type(j) in [int,float]:\n",
    "              mul=mul*j\n",
    "    else:\n",
    "        mul=mul\n",
    "\n",
    "print(mul)"
   ]
  },
  {
   "cell_type": "code",
   "execution_count": 8,
   "id": "cb757abd",
   "metadata": {},
   "outputs": [
    {
     "name": "stdout",
     "output_type": "stream",
     "text": [
      "the smallest elememt in list 11\n"
     ]
    }
   ],
   "source": [
    "## Sol 3\n",
    "try:\n",
    "    l=[53,22.0,62,11,45,17,21]\n",
    "    l.sort()\n",
    "    print('the smallest elememt in list',l[0])\n",
    "    \n",
    "except Exception as e:\n",
    "    print('Error',e)"
   ]
  },
  {
   "cell_type": "code",
   "execution_count": 9,
   "id": "ce008b02",
   "metadata": {},
   "outputs": [
    {
     "name": "stdout",
     "output_type": "stream",
     "text": [
      "the largest elememt in list 62\n"
     ]
    }
   ],
   "source": [
    "## Sol 4\n",
    "try:\n",
    "    l=[53,22.0,62,11,45,17,21]\n",
    "    l.sort()\n",
    "    print('the largest elememt in list',l[-1])\n",
    "    \n",
    "except Exception as e:\n",
    "    print('Error',e)"
   ]
  },
  {
   "cell_type": "code",
   "execution_count": 10,
   "id": "2e2e4ba2",
   "metadata": {},
   "outputs": [
    {
     "name": "stdout",
     "output_type": "stream",
     "text": [
      "the second largest elememt in list 53\n"
     ]
    }
   ],
   "source": [
    "## Sol 5\n",
    "try:\n",
    "    l=[53,22.0,62,11,45,17,21]\n",
    "    l.sort()\n",
    "    print('the second largest elememt in list',l[-2])\n",
    "    \n",
    "except Exception as e:\n",
    "    print('Error',e)"
   ]
  },
  {
   "cell_type": "code",
   "execution_count": 13,
   "id": "fe16070a",
   "metadata": {},
   "outputs": [
    {
     "name": "stdout",
     "output_type": "stream",
     "text": [
      "4th largest number is 22.0\n"
     ]
    }
   ],
   "source": [
    "## Sol 6\n",
    "def nthlargest(n):\n",
    "    l.sort()\n",
    "    print(\"{}th largest number is {}\".format(n, l[-n]))\n",
    "    \n",
    "nthlargest(4)"
   ]
  },
  {
   "cell_type": "code",
   "execution_count": 14,
   "id": "ab6cfd58",
   "metadata": {},
   "outputs": [
    {
     "data": {
      "text/plain": [
       "[22.0, 62]"
      ]
     },
     "execution_count": 14,
     "metadata": {},
     "output_type": "execute_result"
    }
   ],
   "source": [
    "## Sol 7\n",
    "leven=[]\n",
    "for i in l:\n",
    "    if i%2==0:\n",
    "        leven.append(i)\n",
    "        \n",
    "leven"
   ]
  },
  {
   "cell_type": "code",
   "execution_count": 15,
   "id": "1b5bc27d",
   "metadata": {},
   "outputs": [
    {
     "data": {
      "text/plain": [
       "[11, 17, 21, 45, 53]"
      ]
     },
     "execution_count": 15,
     "metadata": {},
     "output_type": "execute_result"
    }
   ],
   "source": [
    "## Sol 8\n",
    "lodd=[]\n",
    "for i in l:\n",
    "    if i%2!=0:\n",
    "        lodd.append(i)\n",
    "        \n",
    "lodd"
   ]
  },
  {
   "cell_type": "code",
   "execution_count": 16,
   "id": "3ecaf85f",
   "metadata": {},
   "outputs": [
    {
     "data": {
      "text/plain": [
       "['str', 65, True]"
      ]
     },
     "execution_count": 16,
     "metadata": {},
     "output_type": "execute_result"
    }
   ],
   "source": [
    "## Sol 9\n",
    "l1=[[],'str',65,True]\n",
    "for i in l1:\n",
    "    if i==[]:\n",
    "        l1.remove(i)\n",
    "        \n",
    "l1"
   ]
  },
  {
   "cell_type": "code",
   "execution_count": 17,
   "id": "e275086f",
   "metadata": {},
   "outputs": [],
   "source": [
    "## Sol 10\n",
    "def cloning(l):\n",
    "    copy = []\n",
    "    for i in l:\n",
    "        copy.append(i)\n",
    "    print(\"original list : {}\\nCloned List: {}\".format(l,copy))"
   ]
  },
  {
   "cell_type": "code",
   "execution_count": 19,
   "id": "cf394b05",
   "metadata": {},
   "outputs": [
    {
     "name": "stdout",
     "output_type": "stream",
     "text": [
      "no of occurences of 7 is 3\n"
     ]
    }
   ],
   "source": [
    "## Sol 11\n",
    "l2=[7,65,'str','go',7,24,62,11,22,7]\n",
    "element=7\n",
    "count=0\n",
    "for i in l2:\n",
    "    if i==element:\n",
    "        count+=1\n",
    "        \n",
    "print('no of occurences of {} is {}'.format(element,count))"
   ]
  },
  {
   "cell_type": "code",
   "execution_count": null,
   "id": "768549d2",
   "metadata": {},
   "outputs": [],
   "source": []
  }
 ],
 "metadata": {
  "kernelspec": {
   "display_name": "Python 3 (ipykernel)",
   "language": "python",
   "name": "python3"
  },
  "language_info": {
   "codemirror_mode": {
    "name": "ipython",
    "version": 3
   },
   "file_extension": ".py",
   "mimetype": "text/x-python",
   "name": "python",
   "nbconvert_exporter": "python",
   "pygments_lexer": "ipython3",
   "version": "3.7.4"
  }
 },
 "nbformat": 4,
 "nbformat_minor": 5
}
