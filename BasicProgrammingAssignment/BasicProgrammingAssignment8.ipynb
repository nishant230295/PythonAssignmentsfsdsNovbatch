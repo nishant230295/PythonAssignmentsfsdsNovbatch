{
 "cells": [
  {
   "cell_type": "code",
   "execution_count": 2,
   "id": "61cbede1",
   "metadata": {},
   "outputs": [
    {
     "name": "stdout",
     "output_type": "stream",
     "text": [
      "enter the number of rows 3\n",
      "enter the number of columns 3\n",
      "enter the element 15\n",
      "enter the element 12\n",
      "enter the element 21\n",
      "enter the number of rows 3\n",
      "enter the number of columns 3\n",
      "enter the element 16\n",
      "enter the element 18\n",
      "enter the element 23\n"
     ]
    }
   ],
   "source": [
    "def creatematrix():\n",
    "    row=int(input('enter the number of rows '))\n",
    "    col=int(input('enter the number of columns '))\n",
    "    a=[]\n",
    "    b=[]\n",
    "    for i in range(col):\n",
    "        c=int(input('enter the element '))\n",
    "        a.append(c)\n",
    "    for j in range(row):\n",
    "        b.append(a)\n",
    "    \n",
    "    return b\n",
    "\n",
    "b1=creatematrix()\n",
    "b2=creatematrix()"
   ]
  },
  {
   "cell_type": "code",
   "execution_count": 3,
   "id": "3bf00400",
   "metadata": {},
   "outputs": [
    {
     "data": {
      "text/plain": [
       "[[31, 30, 44], [31, 30, 44], [31, 30, 44]]"
      ]
     },
     "execution_count": 3,
     "metadata": {},
     "output_type": "execute_result"
    }
   ],
   "source": [
    "def sum(a,b):\n",
    "    output = []\n",
    "    for i in range(len(a)):\n",
    "        row = []\n",
    "        for j in range(len(a[0])):\n",
    "            row.append(a[i][j]+b[i][j])\n",
    "        output.append(row)\n",
    "    return output\n",
    "\n",
    "sum(b1,b2)"
   ]
  },
  {
   "cell_type": "code",
   "execution_count": 5,
   "id": "bc07a793",
   "metadata": {},
   "outputs": [
    {
     "data": {
      "text/plain": [
       "3"
      ]
     },
     "execution_count": 5,
     "metadata": {},
     "output_type": "execute_result"
    }
   ],
   "source": [
    "len(b1[0])"
   ]
  },
  {
   "cell_type": "code",
   "execution_count": 19,
   "id": "a22be83d",
   "metadata": {},
   "outputs": [
    {
     "name": "stdout",
     "output_type": "stream",
     "text": [
      "[98, 34, 40]\n",
      "[59, 74, 54]\n",
      "[84, 95, 79]\n"
     ]
    }
   ],
   "source": [
    "## \n",
    "A=[[2, 4, 6],\n",
    "   [6, 5, 1],\n",
    "   [7 ,8 ,2]]\n",
    "\n",
    "B=[[6 ,9, 3],\n",
    "   [2 ,4 ,7],\n",
    "   [13 ,0 ,1]]\n",
    "\n",
    "result=[[0, 0, 0],\n",
    "   [0 ,0 ,0],\n",
    "   [0 ,0, 0]]\n",
    "\n",
    "for i in range(len(A)):\n",
    "    for j in range(len(B[0])):\n",
    "        for k in range(len(B)):\n",
    "            result[i][j] += A[i][k] * B[k][j]\n",
    " \n",
    "for r in result:\n",
    "    print(r)"
   ]
  },
  {
   "cell_type": "code",
   "execution_count": 20,
   "id": "1c946c19",
   "metadata": {},
   "outputs": [
    {
     "data": {
      "text/plain": [
       "[[2, 6, 7], [4, 5, 8], [6, 1, 2]]"
      ]
     },
     "execution_count": 20,
     "metadata": {},
     "output_type": "execute_result"
    }
   ],
   "source": [
    "## Sol 3\n",
    "A=[[2, 4, 6],\n",
    "   [6, 5, 1],\n",
    "   [7 ,8 ,2]]\n",
    "\n",
    "result=[[0, 0, 0],\n",
    "   [0 ,0 ,0],\n",
    "   [0 ,0, 0]]\n",
    "\n",
    "for i in range(len(A)):\n",
    "    for j in range(len(A[0])):\n",
    "        result[i][j]=A[j][i]\n",
    "        \n",
    "result"
   ]
  },
  {
   "cell_type": "code",
   "execution_count": 21,
   "id": "81203bd4",
   "metadata": {},
   "outputs": [
    {
     "name": "stdout",
     "output_type": "stream",
     "text": [
      "Enter String Hello My Name is Nishant\n",
      "hello\n",
      "is\n",
      "my\n",
      "name\n",
      "nishant\n"
     ]
    }
   ],
   "source": [
    "## Sol 4\n",
    "a = input(\"Enter String \").lower()\n",
    "\n",
    "order = a.split()\n",
    "order.sort()\n",
    "for words in order:\n",
    "    print(words)"
   ]
  },
  {
   "cell_type": "code",
   "execution_count": 23,
   "id": "7e05adc0",
   "metadata": {},
   "outputs": [
    {
     "name": "stdout",
     "output_type": "stream",
     "text": [
      "string after replacing is Nishant  is finding this assign tough nots\n"
     ]
    }
   ],
   "source": [
    "## Sol 5\n",
    "punctuation = '''''!()-[]{};:'\"\\,<>./?@#$%^&*_~''' \n",
    "test='Nishant ! is finding this assign^%@ tough? nots@'\n",
    "\n",
    "for i in test:\n",
    "    if i in punctuation:\n",
    "        test=test.replace(i,'')\n",
    "\n",
    "print('string after replacing is {}'.format(test))"
   ]
  },
  {
   "cell_type": "code",
   "execution_count": 14,
   "id": "b34533b2",
   "metadata": {},
   "outputs": [
    {
     "data": {
      "text/plain": [
       "16"
      ]
     },
     "execution_count": 14,
     "metadata": {},
     "output_type": "execute_result"
    }
   ],
   "source": [
    "b2[2][0]"
   ]
  },
  {
   "cell_type": "code",
   "execution_count": 15,
   "id": "531c9437",
   "metadata": {},
   "outputs": [
    {
     "data": {
      "text/plain": [
       "21"
      ]
     },
     "execution_count": 15,
     "metadata": {},
     "output_type": "execute_result"
    }
   ],
   "source": [
    "b1[0][2]"
   ]
  },
  {
   "cell_type": "code",
   "execution_count": null,
   "id": "80297667",
   "metadata": {},
   "outputs": [],
   "source": []
  }
 ],
 "metadata": {
  "kernelspec": {
   "display_name": "Python 3 (ipykernel)",
   "language": "python",
   "name": "python3"
  },
  "language_info": {
   "codemirror_mode": {
    "name": "ipython",
    "version": 3
   },
   "file_extension": ".py",
   "mimetype": "text/x-python",
   "name": "python",
   "nbconvert_exporter": "python",
   "pygments_lexer": "ipython3",
   "version": "3.7.4"
  }
 },
 "nbformat": 4,
 "nbformat_minor": 5
}
