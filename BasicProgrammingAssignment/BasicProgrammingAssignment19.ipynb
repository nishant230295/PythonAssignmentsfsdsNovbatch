{
 "cells": [
  {
   "cell_type": "code",
   "execution_count": 5,
   "id": "2f89c9da",
   "metadata": {},
   "outputs": [
    {
     "name": "stdout",
     "output_type": "stream",
     "text": [
      "double_char(\"String\")➞ SSttrriinngg\n"
     ]
    }
   ],
   "source": [
    "## Sol1\n",
    "def double_char(st):\n",
    "    return ''.join([i*2 for i in st])\n",
    "a=double_char(\"String\")    \n",
    "print(f'double_char(\"String\")➞ {a}')"
   ]
  },
  {
   "cell_type": "code",
   "execution_count": 6,
   "id": "158c230a",
   "metadata": {},
   "outputs": [
    {
     "name": "stdout",
     "output_type": "stream",
     "text": [
      "double_char(\"Hello World!\")➞ HHeelllloo  WWoorrlldd!!\n"
     ]
    }
   ],
   "source": [
    "a=double_char(\"Hello World!\")    \n",
    "print(f'double_char(\"Hello World!\")➞ {a}')"
   ]
  },
  {
   "cell_type": "code",
   "execution_count": 7,
   "id": "1dc55f7d",
   "metadata": {},
   "outputs": [
    {
     "name": "stdout",
     "output_type": "stream",
     "text": [
      "double_char(\"1234!_ \")➞ 11223344!!__  \n"
     ]
    }
   ],
   "source": [
    "a=double_char(\"1234!_ \")    \n",
    "print(f'double_char(\"1234!_ \")➞ {a}')"
   ]
  },
  {
   "cell_type": "code",
   "execution_count": 9,
   "id": "44e0c496",
   "metadata": {},
   "outputs": [
    {
     "name": "stdout",
     "output_type": "stream",
     "text": [
      "reverse(True)➞ False\n"
     ]
    }
   ],
   "source": [
    "##Sol2\n",
    "def reverse(a):\n",
    "    if type(a)==bool:\n",
    "        return not(a)\n",
    "    else :\n",
    "        return \"boolean expected\"  \n",
    "b=reverse(True)\n",
    "print(f'reverse(True)➞ {b}')"
   ]
  },
  {
   "cell_type": "code",
   "execution_count": 10,
   "id": "223ffcc6",
   "metadata": {},
   "outputs": [
    {
     "name": "stdout",
     "output_type": "stream",
     "text": [
      "reverse(False)➞ True\n"
     ]
    }
   ],
   "source": [
    "b=reverse(False)\n",
    "print(f'reverse(False)➞ {b}')"
   ]
  },
  {
   "cell_type": "code",
   "execution_count": 16,
   "id": "67ab1851",
   "metadata": {},
   "outputs": [
    {
     "name": "stdout",
     "output_type": "stream",
     "text": [
      "reverse(0)➞ \"boolean expected\"\n"
     ]
    }
   ],
   "source": [
    "b=reverse(0)\n",
    "print(f'reverse(0)➞ \"{b}\"')"
   ]
  },
  {
   "cell_type": "code",
   "execution_count": 17,
   "id": "257d5818",
   "metadata": {},
   "outputs": [
    {
     "name": "stdout",
     "output_type": "stream",
     "text": [
      "reverse(None)➞ \"boolean expected\"\n"
     ]
    }
   ],
   "source": [
    "b=reverse(None)\n",
    "print(f'reverse(None)➞ \"{b}\"')"
   ]
  },
  {
   "cell_type": "code",
   "execution_count": 18,
   "id": "a7c3ab1f",
   "metadata": {},
   "outputs": [
    {
     "name": "stdout",
     "output_type": "stream",
     "text": [
      "num_layers(1)➞ \"0.001m\"\n"
     ]
    }
   ],
   "source": [
    "## Sol 3\n",
    "def num_layers(n):\n",
    "    thickness = 0.5\n",
    "    for i in range(n):\n",
    "        thickness *= 2\n",
    "    \n",
    "    c= str(thickness / 1000)+'m'\n",
    "    print(f'num_layers({n})➞ \"{c}\"')\n",
    "    \n",
    "num_layers(1)"
   ]
  },
  {
   "cell_type": "code",
   "execution_count": 19,
   "id": "967103b3",
   "metadata": {},
   "outputs": [
    {
     "name": "stdout",
     "output_type": "stream",
     "text": [
      "num_layers(4)➞ \"0.008m\"\n"
     ]
    }
   ],
   "source": [
    "num_layers(4)"
   ]
  },
  {
   "cell_type": "code",
   "execution_count": 20,
   "id": "37766383",
   "metadata": {},
   "outputs": [
    {
     "name": "stdout",
     "output_type": "stream",
     "text": [
      "num_layers(21)➞ \"1048.576m\"\n"
     ]
    }
   ],
   "source": [
    "num_layers(21)"
   ]
  },
  {
   "cell_type": "code",
   "execution_count": 22,
   "id": "a108eaa5",
   "metadata": {},
   "outputs": [
    {
     "name": "stdout",
     "output_type": "stream",
     "text": [
      "index_of_caps(\"eDaBiT\")➞ [1, 3, 5]\n"
     ]
    }
   ],
   "source": [
    "##Sol 4\n",
    "def index_of_caps(st):\n",
    "    l=[]\n",
    "    for i in range(len(st)):\n",
    "        if type(st[i])==str and st[i].isupper():\n",
    "            l.append(i)\n",
    "        \n",
    "    print(f'index_of_caps(\"{st}\")➞ {l}')\n",
    "    \n",
    "index_of_caps(\"eDaBiT\")"
   ]
  },
  {
   "cell_type": "code",
   "execution_count": 23,
   "id": "69dfa0b4",
   "metadata": {},
   "outputs": [
    {
     "name": "stdout",
     "output_type": "stream",
     "text": [
      "index_of_caps(\"eQuINoX\")➞ [1, 3, 4, 6]\n"
     ]
    }
   ],
   "source": [
    "index_of_caps(\"eQuINoX\") "
   ]
  },
  {
   "cell_type": "code",
   "execution_count": 24,
   "id": "c65214e0",
   "metadata": {},
   "outputs": [
    {
     "name": "stdout",
     "output_type": "stream",
     "text": [
      "index_of_caps(\"determine\")➞ []\n"
     ]
    }
   ],
   "source": [
    "index_of_caps(\"determine\") "
   ]
  },
  {
   "cell_type": "code",
   "execution_count": 25,
   "id": "1f48e24d",
   "metadata": {},
   "outputs": [
    {
     "name": "stdout",
     "output_type": "stream",
     "text": [
      "index_of_caps(\"STRIKE\")➞ [0, 1, 2, 3, 4, 5]\n"
     ]
    }
   ],
   "source": [
    "index_of_caps(\"STRIKE\")"
   ]
  },
  {
   "cell_type": "code",
   "execution_count": 26,
   "id": "6e93dd77",
   "metadata": {},
   "outputs": [
    {
     "name": "stdout",
     "output_type": "stream",
     "text": [
      "index_of_caps(\"sUn\")➞ [1]\n"
     ]
    }
   ],
   "source": [
    "index_of_caps(\"sUn\")"
   ]
  },
  {
   "cell_type": "code",
   "execution_count": 27,
   "id": "4a30666c",
   "metadata": {},
   "outputs": [
    {
     "name": "stdout",
     "output_type": "stream",
     "text": [
      "find_even_nums(8)➞ [2, 4, 6, 8]\n"
     ]
    }
   ],
   "source": [
    "##Sol 5\n",
    "def find_even_nums(n):\n",
    "    l=[i for i in range(1,n+1) if i%2==0]\n",
    "    \n",
    "    print(f'find_even_nums({n})➞ {l}')\n",
    "    \n",
    "find_even_nums(8) "
   ]
  },
  {
   "cell_type": "code",
   "execution_count": 28,
   "id": "02fe5ea5",
   "metadata": {},
   "outputs": [
    {
     "name": "stdout",
     "output_type": "stream",
     "text": [
      "find_even_nums(4)➞ [2, 4]\n"
     ]
    }
   ],
   "source": [
    "find_even_nums(4) "
   ]
  },
  {
   "cell_type": "code",
   "execution_count": 29,
   "id": "33b7fe59",
   "metadata": {},
   "outputs": [
    {
     "name": "stdout",
     "output_type": "stream",
     "text": [
      "find_even_nums(2)➞ [2]\n"
     ]
    }
   ],
   "source": [
    "find_even_nums(2) "
   ]
  },
  {
   "cell_type": "code",
   "execution_count": null,
   "id": "58653438",
   "metadata": {},
   "outputs": [],
   "source": []
  }
 ],
 "metadata": {
  "kernelspec": {
   "display_name": "Python 3 (ipykernel)",
   "language": "python",
   "name": "python3"
  },
  "language_info": {
   "codemirror_mode": {
    "name": "ipython",
    "version": 3
   },
   "file_extension": ".py",
   "mimetype": "text/x-python",
   "name": "python",
   "nbconvert_exporter": "python",
   "pygments_lexer": "ipython3",
   "version": "3.7.4"
  }
 },
 "nbformat": 4,
 "nbformat_minor": 5
}
