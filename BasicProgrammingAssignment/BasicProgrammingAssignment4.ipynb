{
 "cells": [
  {
   "cell_type": "code",
   "execution_count": 3,
   "id": "e1e3ccee",
   "metadata": {},
   "outputs": [
    {
     "name": "stdout",
     "output_type": "stream",
     "text": [
      "enter the number11\n"
     ]
    },
    {
     "data": {
      "text/plain": [
       "'the factorial is 39916800'"
      ]
     },
     "execution_count": 3,
     "metadata": {},
     "output_type": "execute_result"
    }
   ],
   "source": [
    "## Sol 1\n",
    "num=int(input('enter the number'))\n",
    "def facto(num):\n",
    "    fact=1\n",
    "    if num!=0:\n",
    "        for i in range(num,1,-1):\n",
    "            fact=fact*i\n",
    "    return 'the factorial is '+str(fact)\n",
    "        \n",
    "facto(num)"
   ]
  },
  {
   "cell_type": "code",
   "execution_count": 7,
   "id": "f890252f",
   "metadata": {},
   "outputs": [
    {
     "name": "stdout",
     "output_type": "stream",
     "text": [
      "enter the num5\n",
      "5 X 1 is 5 \n",
      "5 X 2 is 10 \n",
      "5 X 3 is 15 \n",
      "5 X 4 is 20 \n",
      "5 X 5 is 25 \n",
      "5 X 6 is 30 \n",
      "5 X 7 is 35 \n",
      "5 X 8 is 40 \n",
      "5 X 9 is 45 \n",
      "5 X 10 is 50 \n"
     ]
    }
   ],
   "source": [
    "## Sol 2\n",
    "num=int(input('enter the num'))\n",
    "\n",
    "for i in range(1,11):\n",
    "    product=num*i\n",
    "    print('{} X {} is {} '.format(num,i,product))"
   ]
  },
  {
   "cell_type": "code",
   "execution_count": 9,
   "id": "98911130",
   "metadata": {},
   "outputs": [
    {
     "name": "stdout",
     "output_type": "stream",
     "text": [
      "enter the number of terms12\n",
      "0  \n",
      "1  \n",
      "1  \n",
      "2  \n",
      "3  \n",
      "5  \n",
      "8  \n",
      "13  \n",
      "21  \n",
      "34  \n",
      "55  \n",
      "89  \n"
     ]
    }
   ],
   "source": [
    "## Sol 3\n",
    "num=int(input('enter the number of terms'))\n",
    "\n",
    "def fibo(num):\n",
    "    a=0\n",
    "    b=1\n",
    "    sum=0\n",
    "    for i in range(1,num+1):\n",
    "        print(sum, \" \")\n",
    "        a=b\n",
    "        b=sum\n",
    "        sum=a+b\n",
    "\n",
    "fibo(num)"
   ]
  },
  {
   "cell_type": "code",
   "execution_count": 10,
   "id": "1cefcee3",
   "metadata": {},
   "outputs": [
    {
     "name": "stdout",
     "output_type": "stream",
     "text": [
      "enter the number 371\n",
      "Armstrong number\n"
     ]
    }
   ],
   "source": [
    "## Sol 4\n",
    "num=int(input('enter the number '))\n",
    "\n",
    "sum=0\n",
    "temp=num\n",
    "while temp>0:\n",
    "    s=temp%10\n",
    "    sum+=s**3\n",
    "    temp=temp//10\n",
    "    \n",
    "if sum==num :\n",
    "    print('Armstrong number')\n",
    "\n",
    "else :\n",
    "    print('Not Armstrong')\n",
    "    "
   ]
  },
  {
   "cell_type": "code",
   "execution_count": 9,
   "id": "69715002",
   "metadata": {},
   "outputs": [
    {
     "name": "stdout",
     "output_type": "stream",
     "text": [
      "enter the upper number 1000\n",
      "enter the lower number 10\n",
      "[153, 370, 371, 407]\n"
     ]
    }
   ],
   "source": [
    "## Sol 5\n",
    "num1=int(input('enter the upper number '))\n",
    "num=int(input('enter the lower number '))\n",
    "\n",
    "l3=[]\n",
    "\n",
    "for i in range(num,num1+1):\n",
    "    sum=0\n",
    "    temp=i\n",
    "    while temp>0:\n",
    "          s=temp%10\n",
    "          sum+=s**3\n",
    "          temp=temp//10\n",
    "    if sum==i:\n",
    "        l3.append(i)\n",
    "    else:\n",
    "        continue\n",
    "\n",
    "print(l3)"
   ]
  },
  {
   "cell_type": "code",
   "execution_count": 10,
   "id": "3f17639c",
   "metadata": {},
   "outputs": [
    {
     "name": "stdout",
     "output_type": "stream",
     "text": [
      "enter the number 25\n",
      "sum of 25 natural numbers is 325\n"
     ]
    }
   ],
   "source": [
    "## Sol 6\n",
    "num=int(input('enter the number '))\n",
    "sum=0\n",
    "for i in range(1,num+1):\n",
    "    sum=sum+i\n",
    "    \n",
    "print('sum of {} natural numbers is {}'.format(num,sum))"
   ]
  },
  {
   "cell_type": "code",
   "execution_count": null,
   "id": "428bff24",
   "metadata": {},
   "outputs": [],
   "source": []
  }
 ],
 "metadata": {
  "kernelspec": {
   "display_name": "Python 3 (ipykernel)",
   "language": "python",
   "name": "python3"
  },
  "language_info": {
   "codemirror_mode": {
    "name": "ipython",
    "version": 3
   },
   "file_extension": ".py",
   "mimetype": "text/x-python",
   "name": "python",
   "nbconvert_exporter": "python",
   "pygments_lexer": "ipython3",
   "version": "3.7.4"
  }
 },
 "nbformat": 4,
 "nbformat_minor": 5
}
