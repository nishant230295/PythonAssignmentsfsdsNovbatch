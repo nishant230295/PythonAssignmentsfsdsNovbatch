{
 "cells": [
  {
   "cell_type": "code",
   "execution_count": 1,
   "id": "b6cfdebc",
   "metadata": {},
   "outputs": [
    {
     "name": "stdout",
     "output_type": "stream",
     "text": [
      "enter the length of word 4\n",
      "focussing\n",
      "strings\n",
      "Assignment\n"
     ]
    }
   ],
   "source": [
    "## Sol 1\n",
    "stre='Well we are focussing strings in this Assignment'\n",
    "\n",
    "k=int(input('enter the length of word '))\n",
    "\n",
    "st=stre.split()\n",
    "\n",
    "for word in st:\n",
    "    if len(word)> k:\n",
    "        print(word)\n",
    "      "
   ]
  },
  {
   "cell_type": "code",
   "execution_count": 9,
   "id": "30b735c7",
   "metadata": {},
   "outputs": [
    {
     "name": "stdout",
     "output_type": "stream",
     "text": [
      "enter the character number you want to remove30\n",
      "Narangoda Liyanaarachchige Thsara Chirantha Perera\n"
     ]
    }
   ],
   "source": [
    "## Sol 2\n",
    "st='Narangoda Liyanaarachchige Thisara Chirantha Perera'\n",
    "k=int(input('enter the character number you want to remove'))\n",
    "\n",
    "ls=list(st)\n",
    "\n",
    "ls1=ls.pop(k-1)\n",
    "updatedst=''\n",
    "for i in ls:\n",
    "    updatedst=updatedst+i\n",
    "\n",
    "print(updatedst)"
   ]
  },
  {
   "cell_type": "code",
   "execution_count": 10,
   "id": "2d26143a",
   "metadata": {},
   "outputs": [
    {
     "name": "stdout",
     "output_type": "stream",
     "text": [
      "Splited string:  ['Narangoda', 'Liyanaarachchige', 'Thisara', 'Chirantha', 'Perera']\n",
      "string joined is:  Narangoda Liyanaarachchige Thisara Chirantha Perera\n"
     ]
    }
   ],
   "source": [
    "## Sol 3\n",
    "def split_join(st):\n",
    "    split = st.split()\n",
    "    print(\"Splited string: \",split)\n",
    "    join  = ' '.join(split)\n",
    "    print(\"string joined is: \",join)\n",
    "    \n",
    "split_join(st)"
   ]
  },
  {
   "cell_type": "code",
   "execution_count": 12,
   "id": "35f2f5fd",
   "metadata": {},
   "outputs": [
    {
     "data": {
      "text/plain": [
       "['1', '0']"
      ]
     },
     "execution_count": 12,
     "metadata": {},
     "output_type": "execute_result"
    }
   ],
   "source": [
    "## Sol 4\n",
    "def binary_string(a):\n",
    "    s=set(a)\n",
    "    bin=[]\n",
    "    for i in s:\n",
    "        if i in ['0','1']:\n",
    "            bin.append(i)\n",
    "    \n",
    "    return bin\n",
    "\n",
    "binary_string('07asfdfs1')"
   ]
  },
  {
   "cell_type": "code",
   "execution_count": 14,
   "id": "3b6a5b4b",
   "metadata": {},
   "outputs": [
    {
     "name": "stdout",
     "output_type": "stream",
     "text": [
      "m\n",
      "i\n",
      "b\n",
      "l\n",
      "u\n"
     ]
    }
   ],
   "source": [
    "## Sol 5\n",
    "st1='Deshabandu Muttiah Muralitharan'\n",
    "st2='ryan ten doeschate'\n",
    "\n",
    "s2=set(st2.lower())\n",
    "s1=list(set(st1.lower())) \n",
    "\n",
    "for i in s1:\n",
    "    if i not in s2:\n",
    "        print(i)"
   ]
  },
  {
   "cell_type": "code",
   "execution_count": 15,
   "id": "61d20ded",
   "metadata": {},
   "outputs": [
    {
     "name": "stdout",
     "output_type": "stream",
     "text": [
      "Duplicate characters are:  ['a', 'u', 't', 'a', 'h', ' ', 'M', 'u', 'a', 'i', 't', 'h', 'a', 'r', 'a', 'n']\n"
     ]
    }
   ],
   "source": [
    "## Sol 6\n",
    "char = []\n",
    "duplicate = []\n",
    "for i in st1:\n",
    "    if i  not in char:\n",
    "        char.append(i)\n",
    "    else:\n",
    "        duplicate.append(i)\n",
    "print(\"Duplicate characters are: \" ,duplicate)"
   ]
  },
  {
   "cell_type": "code",
   "execution_count": 16,
   "id": "aed446b9",
   "metadata": {},
   "outputs": [
    {
     "data": {
      "text/plain": [
       "\"the special characters in this string is['@', '#', '%', '^', '$']\""
      ]
     },
     "execution_count": 16,
     "metadata": {},
     "output_type": "execute_result"
    }
   ],
   "source": [
    "## Sol 7\n",
    "spl_char = '[@_!#$%^&*()<>?/\\|}{~:]'\n",
    "def check_spl(st):\n",
    "    sp2=[]\n",
    "    for i in st:\n",
    "        if i in spl_char:\n",
    "            sp2.append(i)\n",
    "            \n",
    "    return 'the special characters in this string is' + str(sp2)\n",
    "\n",
    "\n",
    "check_spl('@#%^$utSa')           "
   ]
  },
  {
   "cell_type": "code",
   "execution_count": 17,
   "id": "6a292c79",
   "metadata": {},
   "outputs": [
    {
     "data": {
      "text/plain": [
       "'the special characters in this string is[]'"
      ]
     },
     "execution_count": 17,
     "metadata": {},
     "output_type": "execute_result"
    }
   ],
   "source": [
    "check_spl(st1)"
   ]
  },
  {
   "cell_type": "code",
   "execution_count": null,
   "id": "595d1ed8",
   "metadata": {},
   "outputs": [],
   "source": []
  }
 ],
 "metadata": {
  "kernelspec": {
   "display_name": "Python 3 (ipykernel)",
   "language": "python",
   "name": "python3"
  },
  "language_info": {
   "codemirror_mode": {
    "name": "ipython",
    "version": 3
   },
   "file_extension": ".py",
   "mimetype": "text/x-python",
   "name": "python",
   "nbconvert_exporter": "python",
   "pygments_lexer": "ipython3",
   "version": "3.7.4"
  }
 },
 "nbformat": 4,
 "nbformat_minor": 5
}
