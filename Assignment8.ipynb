{
 "cells": [
  {
   "cell_type": "markdown",
   "id": "21029a40",
   "metadata": {},
   "source": [
    "##Sol 1\n",
    "No PyInputPlus library is not availble with core python it needs to be installed using pip"
   ]
  },
  {
   "cell_type": "markdown",
   "id": "8d2b1f5f",
   "metadata": {},
   "source": [
    "##Sol 2\n",
    "Pyinputplus library is generally imported pyinputplus as pypi because we need to call package modules again and again so we use alias for better readability and convenience"
   ]
  },
  {
   "cell_type": "markdown",
   "id": "790347f9",
   "metadata": {},
   "source": [
    "##Sol 3 inputInt() function Accepts an integer value. This also takes additional parameters min, max, greaterThan and lessThan for bounds. And it always returns an int.\n",
    "\n",
    "Whereas inputFloat() function Accepts a floating-point numeric value. this also takes additional min, max, greaterThan and lessThan parameters. and always returns a float."
   ]
  },
  {
   "cell_type": "code",
   "execution_count": 2,
   "id": "1a28c946",
   "metadata": {},
   "outputs": [
    {
     "name": "stdout",
     "output_type": "stream",
     "text": [
      "Enter a number: 100\n",
      "Number must be at maximum 99.\n",
      "Enter a number: 99\n",
      "99\n"
     ]
    }
   ],
   "source": [
    "##Sol 4\n",
    "import pyinputplus as pyip\n",
    "wholenumber = pyip.inputInt(prompt='Enter a number: ', min=0, max=99)\n",
    "print(wholenumber)"
   ]
  },
  {
   "cell_type": "markdown",
   "id": "034e1d93",
   "metadata": {},
   "source": [
    "##Sol 5\n",
    "We can use allowRegexes and blockRegexes keyword arguments to take list of regular expression strings to determine what the pyinputplus function will reject or accept valid input"
   ]
  },
  {
   "cell_type": "markdown",
   "id": "73b58cb0",
   "metadata": {},
   "source": [
    "##Sol 6\n",
    "It will throw two exceptions Validation exception(because blank values is not allowed we need to set blank = True) \n",
    "and Retry limit Exception we have specified the maximum limit we can use deault value to prevent this"
   ]
  },
  {
   "cell_type": "markdown",
   "id": "140856e2",
   "metadata": {},
   "source": [
    "##Sol 7 The function will return hello since it is stored as default value"
   ]
  },
  {
   "cell_type": "code",
   "execution_count": null,
   "id": "b32f6b67",
   "metadata": {},
   "outputs": [],
   "source": []
  }
 ],
 "metadata": {
  "kernelspec": {
   "display_name": "Python 3 (ipykernel)",
   "language": "python",
   "name": "python3"
  },
  "language_info": {
   "codemirror_mode": {
    "name": "ipython",
    "version": 3
   },
   "file_extension": ".py",
   "mimetype": "text/x-python",
   "name": "python",
   "nbconvert_exporter": "python",
   "pygments_lexer": "ipython3",
   "version": "3.7.4"
  }
 },
 "nbformat": 4,
 "nbformat_minor": 5
}
