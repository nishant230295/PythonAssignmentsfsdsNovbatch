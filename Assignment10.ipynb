{
 "cells": [
  {
   "cell_type": "markdown",
   "id": "8a9f6b23",
   "metadata": {},
   "source": [
    "##Sol 1\n",
    "shutil.copy() method is used to copy the contents of a file from one file to another file/folder, it primary takes two arguments src,dest, src represents the file to be copied where as destination refers to the file/folder to where the src data should be copied, if dest is a folder name the src with exact name will be copied to the dest folder, if its a file then the contents of src will be copied to dest where dest retains it name.\n",
    "\n",
    "shutil.copytree() function is used to copy the entire contents of a folder to other folder. it also takes two arguments src & dest, it copies all the content recursively and stores it in dest. the important catch here is dest must not exist prior to this and it will be created during the copy operation. Permissions and times of directories are copied with shutil.copystat() and individual files are copied using shutil.copy2() by default which can be modified using copy_function attribute."
   ]
  },
  {
   "cell_type": "markdown",
   "id": "e9f4f38b",
   "metadata": {},
   "source": [
    "##Sol 2\n",
    "os.rename() function is used which takes two arguments src and dest src is old name while dest is new name"
   ]
  },
  {
   "cell_type": "markdown",
   "id": "ca3fc197",
   "metadata": {},
   "source": [
    "##Sol 3 \n",
    "it is similar to delete using recyclebin and permanently delete \n",
    "\n",
    "shutil module function shutil.rmtree() permanently delets a file while send2trash deleted file can be recovered from trash folder"
   ]
  },
  {
   "cell_type": "markdown",
   "id": "3ff31f20",
   "metadata": {},
   "source": [
    "##Sol 4\n",
    "ZipFile Module provides a method called as zipfile.ZipFile() to read and write to zipFiles. it takes arugments lile filename and mode etc zipfile.ZipFile('filename', mode = 'r')"
   ]
  },
  {
   "cell_type": "code",
   "execution_count": 2,
   "id": "f52da771",
   "metadata": {},
   "outputs": [
    {
     "name": "stdout",
     "output_type": "stream",
     "text": [
      "Folder Name ➞ D:\\Full stack Data Science\\ml\\Machine Learning Module 1\\linear regression\\lec\\LinearRegression-master\\LinearRegressionTillCloud\n",
      "\n",
      "Sub Folders ➞ ['static', 'templates']\n",
      "\n",
      "Files ➞ ['adjr.PNG', 'adjr2.PNG', 'Admission_Prediction.csv', 'Advertising.csv', 'app.yaml', 'cor.PNG', 'cre_pro.PNG', 'dashboard.PNG', 'elasticNet.PNG', 'fileForDoc.py', 'finalized_model.pickle', 'final_snap.PNG', 'flask_flow.PNG', 'folder_structure.PNG', 'generalEquation.PNG', 'GradientDescent.gif', 'iam.PNG', 'L1.PNG', 'Linear Regression.ipynb', 'LinearGraph.png', 'main.py', 'matrix1.PNG', 'minima.PNG', 'minima2.png', 'MLApplicationFlow.jpg', 'MLApplicationFlow_bold.png', 'MLApplicationFlow_col.png', 'multicollinearity_flow.PNG', 'multicollinearity_pic.PNG', 'new_m.PNG', 'partialDerivatives.PNG', 'PolynomialGraph.png', 'Position_Salaries.csv', 'Procfile', 'region_select.PNG', 'requirements.txt', 'residual.png', 'ridge.PNG', 'ridge_vs_lasso.PNG', 'RSquared.png', 'RSS.PNG', 'RSS_reg.PNG', 'select_project.PNG', 'setup.PNG', 'sumOfResiduals.PNG', 'testingPipeline.jpg', 'testing_pipeline.PNG', 'TrainingPipeline.jpg', 'TSS.PNG', 'TSS2.PNG', 'tutorial.PNG']\n",
      "\n",
      "Files copied successfully from D:\\Full stack Data Science\\ml\\Machine Learning Module 1\\linear regression\\lec\\LinearRegression-master\\LinearRegressionTillCloud to C:\\Users\\friez\\Dummy Destination\n",
      "Folder Name ➞ D:\\Full stack Data Science\\ml\\Machine Learning Module 1\\linear regression\\lec\\LinearRegression-master\\LinearRegressionTillCloud\\static\n",
      "\n",
      "Sub Folders ➞ ['css']\n",
      "\n",
      "Files ➞ []\n",
      "\n",
      "Files copied successfully from D:\\Full stack Data Science\\ml\\Machine Learning Module 1\\linear regression\\lec\\LinearRegression-master\\LinearRegressionTillCloud to C:\\Users\\friez\\Dummy Destination\n",
      "Folder Name ➞ D:\\Full stack Data Science\\ml\\Machine Learning Module 1\\linear regression\\lec\\LinearRegression-master\\LinearRegressionTillCloud\\static\\css\n",
      "\n",
      "Sub Folders ➞ []\n",
      "\n",
      "Files ➞ ['main.css', 'style.css']\n",
      "\n",
      "Files copied successfully from D:\\Full stack Data Science\\ml\\Machine Learning Module 1\\linear regression\\lec\\LinearRegression-master\\LinearRegressionTillCloud to C:\\Users\\friez\\Dummy Destination\n",
      "Folder Name ➞ D:\\Full stack Data Science\\ml\\Machine Learning Module 1\\linear regression\\lec\\LinearRegression-master\\LinearRegressionTillCloud\\templates\n",
      "\n",
      "Sub Folders ➞ []\n",
      "\n",
      "Files ➞ ['base.html', 'index.html', 'results.html']\n",
      "\n",
      "Files copied successfully from D:\\Full stack Data Science\\ml\\Machine Learning Module 1\\linear regression\\lec\\LinearRegression-master\\LinearRegressionTillCloud to C:\\Users\\friez\\Dummy Destination\n"
     ]
    }
   ],
   "source": [
    "import os\n",
    "import shutil\n",
    "\n",
    "def search_and_copy(source,destination,extensions):\n",
    "    source = os.path.abspath(source)\n",
    "    destination = os.path.abspath(destination)\n",
    "    for foldername, subfolder, filenames in os.walk(source):\n",
    "        print(f'Folder Name ➞ {foldername}',end='\\n\\n')\n",
    "        print(f'Sub Folders ➞ {subfolder}',end='\\n\\n')\n",
    "        print(f'Files ➞ {filenames}',end='\\n\\n')\n",
    "        for filename in filenames:\n",
    "            fileName,extension = os.path.splitext(filename)\n",
    "            if extension in extensions:\n",
    "                targetFile = foldername+os.path.sep+fileName+extension\n",
    "                shutil.copy(targetFile, destination)\n",
    "        print(f'Files copied successfully from {source} to {destination}')\n",
    "    \n",
    "extensions = ['.pdf','.jpg','.ipynb']\n",
    "source = 'D:\\Full stack Data Science\\ml\\Machine Learning Module 1\\linear regression\\lec\\LinearRegression-master\\LinearRegressionTillCloud'\n",
    "destination = 'Dummy Destination'\n",
    "search_and_copy(source, destination, extensions)"
   ]
  },
  {
   "cell_type": "code",
   "execution_count": null,
   "id": "c0e0ba16",
   "metadata": {},
   "outputs": [],
   "source": []
  }
 ],
 "metadata": {
  "kernelspec": {
   "display_name": "Python 3 (ipykernel)",
   "language": "python",
   "name": "python3"
  },
  "language_info": {
   "codemirror_mode": {
    "name": "ipython",
    "version": 3
   },
   "file_extension": ".py",
   "mimetype": "text/x-python",
   "name": "python",
   "nbconvert_exporter": "python",
   "pygments_lexer": "ipython3",
   "version": "3.7.4"
  }
 },
 "nbformat": 4,
 "nbformat_minor": 5
}
